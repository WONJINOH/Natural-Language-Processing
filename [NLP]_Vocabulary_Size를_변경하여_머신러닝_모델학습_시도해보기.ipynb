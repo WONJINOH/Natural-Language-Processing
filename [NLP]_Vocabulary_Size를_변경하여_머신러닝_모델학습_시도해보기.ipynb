{
  "nbformat": 4,
  "nbformat_minor": 0,
  "metadata": {
    "colab": {
      "name": " [NLP] Vocabulary Size를 변경하여 머신러닝 모델학습 시도해보기.ipynb",
      "provenance": [],
      "collapsed_sections": []
    },
    "kernelspec": {
      "name": "python3",
      "display_name": "Python 3"
    },
    "language_info": {
      "name": "python"
    }
  },
  "cells": [
    {
      "cell_type": "markdown",
      "source": [
        "# [NLP] Vocabulary Size를 변경하여 머신러닝 모델학습 시도해보기"
      ],
      "metadata": {
        "id": "byTnvIa7LTWR"
      }
    },
    {
      "cell_type": "markdown",
      "source": [
        "| 평가문항 | 상세기준 |\n",
        "| :---: | :---: |\n",
        "| 1. 분류 모델의 accuracy가 기준 이상 높게 나왔는가? | 3가지 단어 개수에 대해 8가지 머신러닝 기법을 적용하여 그중 최적의 솔루션을 도출하였다. |\n",
        "| 2. 분류 모델의 F1 score가 기준 이상 높게 나왔는가? | Vocabulary size에 따른 각 머신러닝 모델의 성능변화 추이를 살피고, 해당 머신러닝 알고리즘의 특성에 근거해 원인을 분석하였다. |\n",
        "| 3. 딥러닝 모델을 활용해 성능이 비교 및 확인되었는가? | 동일한 데이터셋과 전처리 조건으로 딥러닝 모델의 성능과 비교하여 결과에 따른 원인을 분석하였다. |"
      ],
      "metadata": {
        "id": "BKS_YEHoLXKQ"
      }
    },
    {
      "cell_type": "markdown",
      "source": [
        ""
      ],
      "metadata": {
        "id": "peYrD_7-LYKG"
      }
    },
    {
      "cell_type": "code",
      "source": [
        "from tensorflow.keras.datasets import reuters\n",
        "import matplotlib.pyplot as plt\n",
        "import seaborn as sns\n",
        "import numpy as np\n",
        "import pandas as pd\n",
        "from tensorflow import keras\n",
        "from sklearn.feature_extraction.text import CountVectorizer\n",
        "from sklearn.feature_extraction.text import TfidfTransformer"
      ],
      "metadata": {
        "id": "YzKbDqdkECfv"
      },
      "execution_count": 89,
      "outputs": []
    },
    {
      "cell_type": "markdown",
      "source": [
        "## (1) 단어 10000개 사용하여 모델 비교\n",
        "\n",
        "num_words는 이 데이터에서 빈도수 기준으로 상위 몇 번째 단어까지 사용할 것인지 조절함.\n",
        "\n",
        "빈도수가 많은 순서대로 나열했을 때, num_words의 인자로 준 정숫값만큼의 단어를 사용하고 나머지 단어는 전부 로 처리하는 원리"
      ],
      "metadata": {
        "id": "CSJLKg6hLmzQ"
      }
    },
    {
      "cell_type": "code",
      "source": [
        "# (x_train, y_train),(x_test,y_test) = reuters.load_data(num_words = 10000, test_split = 0.2 )"
      ],
      "metadata": {
        "id": "SqN9r2Q2Ljl5"
      },
      "execution_count": null,
      "outputs": []
    },
    {
      "cell_type": "code",
      "source": [
        "# print('훈련 샘플 수 : {}'.format(len(x_train)))\n",
        "# print('테스트 샘플 수 : {}'.format(len(x_test)))"
      ],
      "metadata": {
        "id": "Eq3-UHDXLj3y"
      },
      "execution_count": null,
      "outputs": []
    },
    {
      "cell_type": "code",
      "source": [
        "# num_classes = max(y_train) +1\n",
        "# print('클래스의 수: {}'.format(num_classes))"
      ],
      "metadata": {
        "id": "w4nHiZNuLj87"
      },
      "execution_count": 88,
      "outputs": []
    },
    {
      "cell_type": "code",
      "source": [
        "# print('훈련용 뉴스의 최대 길이 :{}'.format(max(len(i)for i in x_train)))\n",
        "# print('훈련용 뉴스의 평균 길이 :{}'.format(sum(map(len, x_train))/len(x_train)))\n",
        "\n",
        "# plt.hist([len(s) for s in x_train], bins=50)  #bins : 막대(bins)의 갯수\n",
        "# plt.xlabel('length of samples')\n",
        "# plt.ylabel('number of samples')\n",
        "# plt.show()"
      ],
      "metadata": {
        "id": "9rjP7rvtLkE4"
      },
      "execution_count": null,
      "outputs": []
    },
    {
      "cell_type": "code",
      "source": [
        "# word_index = reuters.get_word_index(path='reuters_word_index.json')"
      ],
      "metadata": {
        "id": "QobkrBa9LkLL"
      },
      "execution_count": null,
      "outputs": []
    },
    {
      "cell_type": "code",
      "source": [
        "# for index, token in enumerate((\"<pad>\", \"<sos>\", \"<unk>\")):\n",
        "#     index_to_word[index]=token"
      ],
      "metadata": {
        "id": "HV50ypLwLkgn"
      },
      "execution_count": null,
      "outputs": []
    },
    {
      "cell_type": "code",
      "source": [
        "# print(' '.join([index_to_word[index] for index in x_train[3]]))# 빈칸에다가 join시킴"
      ],
      "metadata": {
        "id": "KPNOuuzxMEWm"
      },
      "execution_count": null,
      "outputs": []
    },
    {
      "cell_type": "code",
      "source": [
        "# decoded = []\n",
        "# for i in range(len(x_train)):\n",
        "#     t = ' '.join([index_to_word[index] for index in x_train[i]])\n",
        "#     decoded.append(t)\n",
        "    \n",
        "# x_train= decoded\n",
        "\n",
        "# print(len(x_train))"
      ],
      "metadata": {
        "id": "DcOG3FQvMEco"
      },
      "execution_count": null,
      "outputs": []
    },
    {
      "cell_type": "code",
      "source": [
        "# decoded = []\n",
        "# for i in range(len(x_test)):\n",
        "#     t = ' '.join([index_to_word[index] for index in x_test[i]])\n",
        "#     decoded.append(t)\n",
        "    \n",
        "# x_test= decoded\n",
        "\n",
        "# print(len(x_test))"
      ],
      "metadata": {
        "id": "c8NDsz9FMEkT"
      },
      "execution_count": null,
      "outputs": []
    },
    {
      "cell_type": "code",
      "source": [
        "# dtmvector = CountVectorizer()\n",
        "# x_train_dtm = dtmvector.fit_transform(x_train)\n",
        "# print(x_train_dtm.shape)"
      ],
      "metadata": {
        "id": "A26_WU97MEta"
      },
      "execution_count": null,
      "outputs": []
    },
    {
      "cell_type": "code",
      "source": [
        "# tfidf_transformer = TfidfTransformer()\n",
        "# tfidfv = tfidf_transformer.fit_transform(x_train_dtm)\n",
        "# print(tfidfv.shape)"
      ],
      "metadata": {
        "id": "BsXNbv-kME0O"
      },
      "execution_count": null,
      "outputs": []
    },
    {
      "cell_type": "code",
      "source": [
        "# mod, cb, lr, lsvc, tree_, forest, grbt, voting_classifier = train_ml(tfidfv, y_train, tfidfv_test, y_test)"
      ],
      "metadata": {
        "id": "wJVTcXPwMSBz"
      },
      "execution_count": null,
      "outputs": []
    },
    {
      "cell_type": "markdown",
      "source": [
        "## (2) 단어 5000개 사용하여 모델 비교"
      ],
      "metadata": {
        "id": "xbTwjSXIM3vN"
      }
    },
    {
      "cell_type": "code",
      "source": [
        "(x_train_5k, y_train_5k), (x_test_5k, y_test_5k) = reuters.load_data(num_words=5000, test_split=0.2)"
      ],
      "metadata": {
        "colab": {
          "base_uri": "https://localhost:8080/"
        },
        "id": "N3RPRj71EEjK",
        "outputId": "6d5a3234-b2d8-4080-9892-c698774a8844"
      },
      "execution_count": 2,
      "outputs": [
        {
          "output_type": "stream",
          "name": "stdout",
          "text": [
            "Downloading data from https://storage.googleapis.com/tensorflow/tf-keras-datasets/reuters.npz\n",
            "2113536/2110848 [==============================] - 0s 0us/step\n",
            "2121728/2110848 [==============================] - 0s 0us/step\n"
          ]
        }
      ]
    },
    {
      "cell_type": "code",
      "source": [
        "word_index = reuters.get_word_index(path='reuters_word_index.json')"
      ],
      "metadata": {
        "colab": {
          "base_uri": "https://localhost:8080/"
        },
        "id": "8Gg7_hkDEFxV",
        "outputId": "590ab27e-dea9-449c-92ef-7b66510c8511"
      },
      "execution_count": 3,
      "outputs": [
        {
          "output_type": "stream",
          "name": "stdout",
          "text": [
            "Downloading data from https://storage.googleapis.com/tensorflow/tf-keras-datasets/reuters_word_index.json\n",
            "557056/550378 [==============================] - 0s 0us/step\n",
            "565248/550378 [==============================] - 0s 0us/step\n"
          ]
        }
      ]
    },
    {
      "cell_type": "code",
      "source": [
        "index_to_word = { index + 3 : word for word, index in word_index.items()} # items는 key와 value값을 가져옴."
      ],
      "metadata": {
        "id": "IDKE17htEGvs"
      },
      "execution_count": 4,
      "outputs": []
    },
    {
      "cell_type": "code",
      "source": [
        "for index, token in enumerate((\"<pad>\", \"<sos>\", \"<unk>\")):\n",
        "    index_to_word[index]=token"
      ],
      "metadata": {
        "id": "Ot_bxlvdEjNW"
      },
      "execution_count": 8,
      "outputs": []
    },
    {
      "cell_type": "code",
      "source": [
        "decoded = []\n",
        "for i in range(len(x_train_5k)):\n",
        "    t = ' '.join([index_to_word[index] for index in x_train_5k[i]])\n",
        "    decoded.append(t)\n",
        "\n",
        "x_train_5k = decoded"
      ],
      "metadata": {
        "id": "wrwMzIO5Ebgz"
      },
      "execution_count": 9,
      "outputs": []
    },
    {
      "cell_type": "code",
      "source": [
        "decoded = []\n",
        "for i in range(len(x_test_5k)):\n",
        "    t = ' '.join([index_to_word[index] for index in x_test_5k[i]])\n",
        "    decoded.append(t)\n",
        "\n",
        "x_test_5k = decoded"
      ],
      "metadata": {
        "id": "s_Lswlw3EI3k"
      },
      "execution_count": 10,
      "outputs": []
    },
    {
      "cell_type": "code",
      "source": [
        "dtmvector = CountVectorizer()\n",
        "x_train_dtm_5k = dtmvector.fit_transform(x_train_5k)\n",
        "print(x_train_dtm_5k.shape)"
      ],
      "metadata": {
        "colab": {
          "base_uri": "https://localhost:8080/"
        },
        "id": "kKppGIqMEs27",
        "outputId": "afd09150-42de-403c-d4e4-a73ae9041f44"
      },
      "execution_count": 12,
      "outputs": [
        {
          "output_type": "stream",
          "name": "stdout",
          "text": [
            "(8982, 4867)\n"
          ]
        }
      ]
    },
    {
      "cell_type": "code",
      "source": [
        "tfidf_transformer = TfidfTransformer()\n",
        "tfidfv_5k = tfidf_transformer.fit_transform(x_train_dtm_5k)\n",
        "print(tfidfv_5k.shape)"
      ],
      "metadata": {
        "colab": {
          "base_uri": "https://localhost:8080/"
        },
        "id": "9S88QTOtEuVs",
        "outputId": "26eef43d-1110-4df5-b297-ec7acee8709f"
      },
      "execution_count": 13,
      "outputs": [
        {
          "output_type": "stream",
          "name": "stdout",
          "text": [
            "(8982, 4867)\n"
          ]
        }
      ]
    },
    {
      "cell_type": "code",
      "source": [
        "x_test_dtm_5k = dtmvector.transform(x_test_5k) \n",
        "tfidfv_test_5k = tfidf_transformer.transform(x_test_dtm_5k)"
      ],
      "metadata": {
        "id": "tIEBWriuEyH7"
      },
      "execution_count": 14,
      "outputs": []
    },
    {
      "cell_type": "markdown",
      "source": [
        "## (3) 단어 1000개 사용하여 모델 비교"
      ],
      "metadata": {
        "id": "JDEPuWsiN0g4"
      }
    },
    {
      "cell_type": "code",
      "source": [
        "# (x_train_1k, y_train_1k), (x_test_1k, y_test_1k) = reuters.load_data(num_words=1000, test_split=0.2)"
      ],
      "metadata": {
        "id": "Sh0OvxfDNxxP"
      },
      "execution_count": 90,
      "outputs": []
    },
    {
      "cell_type": "code",
      "source": [
        "# decoded = []\n",
        "# for i in range(len(x_train_1k)):\n",
        "#     t = ' '.join([index_to_word[index] for index in x_train_1k[i]])\n",
        "#     decoded.append(t)\n",
        "\n",
        "# x_train_1k = decoded"
      ],
      "metadata": {
        "id": "88ydpELbOE3w"
      },
      "execution_count": 91,
      "outputs": []
    },
    {
      "cell_type": "code",
      "source": [
        "# decoded = []\n",
        "# for i in range(len(x_test_1k)):\n",
        "#     t = ' '.join([index_to_word[index] for index in x_test_1k[i]])\n",
        "#     decoded.append(t)\n",
        "\n",
        "# x_test_1k = decoded"
      ],
      "metadata": {
        "id": "Y-DvfgSENyEA"
      },
      "execution_count": 92,
      "outputs": []
    },
    {
      "cell_type": "code",
      "source": [
        "# dtmvector = CountVectorizer()\n",
        "# x_train_dtm_1k = dtmvector.fit_transform(x_train_1k)\n",
        "# print(x_train_dtm_1k.shape)"
      ],
      "metadata": {
        "id": "MKwwELDNNyQF"
      },
      "execution_count": 93,
      "outputs": []
    },
    {
      "cell_type": "code",
      "source": [
        "# tfidf_transformer = TfidfTransformer()\n",
        "# tfidfv_1k = tfidf_transformer.fit_transform(x_train_dtm_1k)\n",
        "# print(tfidfv_1k.shape)"
      ],
      "metadata": {
        "id": "7RsEjhi0NyVh"
      },
      "execution_count": 94,
      "outputs": []
    },
    {
      "cell_type": "code",
      "source": [
        "# x_test_dtm_1k = dtmvector.transform(x_test_1k)\n",
        "# tfidfv_test_1k = tfidf_transformer.transform(x_test_dtm_1k)"
      ],
      "metadata": {
        "id": "l2Y4WDv6OM5M"
      },
      "execution_count": 95,
      "outputs": []
    },
    {
      "cell_type": "code",
      "source": [
        "# mod_1k, cb_1k, lr_1k, lsvc_1k, tree_1k, forest_1k, grbt_1k, voting_classifier_1k = train_ml(tfidfv_1k, y_train_1k, tfidfv_test_1k, y_test_1k)"
      ],
      "metadata": {
        "id": "RyY90f22OM_R"
      },
      "execution_count": 96,
      "outputs": []
    },
    {
      "cell_type": "markdown",
      "source": [
        "### 단어 갯수별 분류모델 평가\n",
        "\n",
        "(1) 10,000개 : 보팅이 제일 높음\n",
        "\n",
        "- 나이브 베이즈 정확도: 0.6567230632235085\n",
        "- CNB 정확도: 0.7707034728406055\n",
        "- 로지스틱 회귀 정확도: 0.8076580587711487\n",
        "- SVM 정확도: 0.7640249332146037\n",
        "- 결정 트리 정확도: 0.6202137132680321\n",
        "- 랜덤 포레스트 정확도: 0.674087266251113\n",
        "- 그래디언트 부스팅 트리 정확도: 0.7662511130899377\n",
        "- 보팅 정확도: 0.8116651825467498\n",
        "\n",
        "(2) 5,000개 - 보팅이 제일 높음\n",
        "\n",
        "- 나이브 베이즈 정확도: 0.6731967943009796\n",
        "- CNB 정확도: 0.7707034728406055\n",
        "- 로지스틱 회귀 정확도: 0.8058771148708815\n",
        "- SVM 정확도: 0.7653606411398041\n",
        "- 결정 트리 정확도: 0.6179875333926982\n",
        "- 랜덤 포레스트 정확도: 0.701246660730187\n",
        "- 그래디언트 부스팅 트리 정확도: 0.767586821015138\n",
        "- 보팅 정확도: 0.8161175422974176\n",
        "\n",
        "(3) 1,000개 - 보팅이 제일 높음\n",
        "\n",
        "- 나이브 베이즈 정확도: 0.6856634016028496\n",
        "- CNB 정확도: 0.7346393588601959\n",
        "- 로지스틱 회귀 정확도: 0.780053428317008\n",
        "- SVM 정확도: 0.7217275155832591\n",
        "- 결정 트리 정확도: 0.6179875333926982\n",
        "- 랜덤 포레스트 정확도: 0.707479964381122\n",
        "- 그래디언트 부스팅 트리 정확도: 0.7453250222617988\n",
        "- 보팅 정확도: 0.784060552092609"
      ],
      "metadata": {
        "id": "5DwWFyV6Oht6"
      }
    },
    {
      "cell_type": "markdown",
      "source": [
        "# 머신 모델 설계 및 학습"
      ],
      "metadata": {
        "id": "ib8uewfmOWZp"
      }
    },
    {
      "cell_type": "code",
      "source": [
        "from sklearn.naive_bayes import MultinomialNB #다항분포 나이브 베이즈 모델\n",
        "from sklearn.linear_model import LogisticRegression, SGDClassifier\n",
        "from sklearn.naive_bayes import ComplementNB\n",
        "from sklearn.tree import DecisionTreeClassifier\n",
        "from sklearn.ensemble import RandomForestClassifier\n",
        "from sklearn.ensemble import GradientBoostingClassifier\n",
        "from sklearn.ensemble import VotingClassifier\n",
        "from sklearn.svm import LinearSVC\n",
        "from sklearn.metrics import accuracy_score #정확도 계산\n",
        "from sklearn.metrics import classification_report\n",
        "from sklearn.metrics import confusion_matrix"
      ],
      "metadata": {
        "id": "PKfg8mG8E0Ol"
      },
      "execution_count": 15,
      "outputs": []
    },
    {
      "cell_type": "code",
      "source": [
        "def train_ml(tfidtfidfv_5k, y_train_5k, tfidfv_test_5k, y_test_5k):\n",
        "    # 나이브 베이즈 분류기 \n",
        "    mod = MultinomialNB()\n",
        "    mod.fit(tfidtfidfv_5k, y_train_5k)\n",
        "    \n",
        "    mod_predicted = mod.predict(tfidfv_test_5k) #테스트 데이터에 대한 예측\n",
        "    print(\"나이브 베이즈 정확도:\", accuracy_score(y_test_5k, mod_predicted)) #예측값과 실제값 비교\n",
        "    \n",
        "    # CNB\n",
        "    cb = ComplementNB()\n",
        "    cb.fit(tfidtfidfv_5k, y_train_5k)\n",
        "    \n",
        "    cb_predicted = cb.predict(tfidfv_test_5k) #테스트 데이터에 대한 예측\n",
        "    print(\"CNB 정확도:\", accuracy_score(y_test_5k, cb_predicted)) #예측값과 실제값 비교\n",
        "    \n",
        "    # 로지스틱 회귀 \n",
        "    lr = LogisticRegression(C=10000, penalty='l2')\n",
        "    lr.fit(tfidtfidfv_5k, y_train_5k)\n",
        "\n",
        "    lr_predicted = lr.predict(tfidfv_test_5k) #테스트 데이터에 대한 예측\n",
        "    print(\"로지스틱 회귀 정확도:\", accuracy_score(y_test_5k, lr_predicted)) #예측값과 실제값 비교\n",
        "    \n",
        "    # 선형 서포트 벡터 머신 \n",
        "    lsvc = LinearSVC(C=1000, penalty='l1', max_iter=500, dual=False)\n",
        "    lsvc.fit(tfidtfidfv_5k, y_train_5k)\n",
        "    \n",
        "    lsvc_predicted = lsvc.predict(tfidfv_test_5k) #테스트 데이터에 대한 예측\n",
        "    print(\"SVM 정확도:\", accuracy_score(y_test_5k, lsvc_predicted)) #예측값과 실제값 비교\n",
        "    \n",
        "    # 결정 트리(Decision Tree) \n",
        "    tree = DecisionTreeClassifier(max_depth=10, random_state=0)\n",
        "    tree.fit(tfidtfidfv_5k, y_train_5k)\n",
        "    \n",
        "    tree_predicted = tree.predict(tfidfv_test_5k) #테스트 데이터에 대한 예측\n",
        "    print(\"결정 트리 정확도:\", accuracy_score(y_test_5k, tree_predicted)) #예측값과 실제값 비교\n",
        "    \n",
        "    # 랜덤 포레스트(Random Forest)\n",
        "    forest = RandomForestClassifier(n_estimators=5, random_state=0)\n",
        "    forest.fit(tfidtfidfv_5k, y_train_5k)\n",
        "    \n",
        "    forest_predicted = forest.predict(tfidfv_test_5k) #테스트 데이터에 대한 예측\n",
        "    print(\"랜덤 포레스트 정확도:\", accuracy_score(y_test_5k, forest_predicted)) #예측값과 실제값 비교\n",
        "    \n",
        "    # 그래디언트 부스팅 트리(GradientBoostingClassifier)\n",
        "    grbt = GradientBoostingClassifier(random_state=0, verbose=3) # verbose=3\n",
        "    grbt.fit(tfidtfidfv_5k, y_train_5k)\n",
        "\n",
        "    grbt_predicted = grbt.predict(tfidfv_test_5k) #테스트 데이터에 대한 예측\n",
        "    print(\"그래디언트 부스팅 트리 정확도:\", accuracy_score(y_test_5k, grbt_predicted)) #예측값과 실제값 비교\n",
        "    \n",
        "    # 보팅(Voting)\n",
        "    voting_classifier = VotingClassifier(estimators=[\n",
        "         ('lr', LogisticRegression(C=10000, penalty='l2')),\n",
        "        ('cb', ComplementNB()),\n",
        "        ('grbt', GradientBoostingClassifier(random_state=0))\n",
        "        ], voting='soft', n_jobs=-1)\n",
        "    voting_classifier.fit(tfidtfidfv_5k, y_train_5k)\n",
        "    \n",
        "    voting_classifier_predicted = voting_classifier.predict(tfidfv_test_5k) #테스트 데이터에 대한 예측\n",
        "    print(\"보팅 정확도:\", accuracy_score(y_test_5k, voting_classifier_predicted)) #예측값과 실제값 비교\n",
        "    \n",
        "    return mod, cb, lr, lsvc, tree, forest, grbt, voting_classifier"
      ],
      "metadata": {
        "id": "oYjfIDJ8E2oO"
      },
      "execution_count": 50,
      "outputs": []
    },
    {
      "cell_type": "code",
      "source": [
        "#- Complement Naive Bayes Classifier\n",
        "mod = MultinomialNB()\n",
        "\n",
        "#- Complement Naive Bayes Classifier\n",
        "cb = ComplementNB()\n",
        "\n",
        "#- Logistic Regression\n",
        "lr = LogisticRegression(C=10000, penalty='l2')\n",
        "\n",
        " # 선형 서포트 벡터 머신 \n",
        "lsvc = LinearSVC(C=1000, penalty='l1', max_iter=500, dual=False)\n",
        "\n",
        "# 랜덤 포레스트(Random Forest)\n",
        "forest = RandomForestClassifier(n_estimators=5, random_state=0)\n",
        "\n",
        "#- Gradient Boosting Classifier\n",
        "grbt = GradientBoostingClassifier(random_state=0) #- verbose=3\n",
        "\n",
        "#- soft voting\n",
        "voting_classifier = VotingClassifier(estimators=[\n",
        "    ('lr', LogisticRegression(C=10000, penalty='l2')),\n",
        "    ('cb', ComplementNB()),\n",
        "    ('grbt', GradientBoostingClassifier(random_state=0))\n",
        "], voting='soft', n_jobs=-1)"
      ],
      "metadata": {
        "id": "k316P5dI1F4z"
      },
      "execution_count": 53,
      "outputs": []
    },
    {
      "cell_type": "code",
      "source": [
        "def learnMLmodel(model, tfidfv_5k, y_train_5k, tfidfv_test_5k, y_test_5k):\n",
        "    \n",
        "    #- 학습\n",
        "    model.fit(tfidfv_5k, y_train_5k) \n",
        "    \n",
        "    #- 테스트 데이터에 대한 예측\n",
        "    predicted = model.predict(tfidfv_test_5k)\n",
        "    \n",
        "    #- 예측값과 실제값 비교\n",
        "    accuracy = accuracy_score(y_test_5k, predicted)\n",
        "    print(\"\\n%s 의 정확도는 %.4f 입니다.\"%(model,accuracy))\n",
        "    \n",
        "    # test_idx = int(input(\"몇 번째 샘플을 예측하길 원하시나요? : \"))\n",
        "    test_idx = 1\n",
        "    test_txt = tfidfv_test_5k[test_idx]\n",
        "    real_label = y_test_5k[test_idx]\n",
        "    pred_label = model.predict(tfidfv_test_5k[test_idx])\n",
        "    if real_label == pred_label:\n",
        "        print(f\"정답입니다!!!\\n실제값 : {real_label}\\n예측값 : {pred_label}\")\n",
        "    else:\n",
        "        print(f\"오답입니다.\\n실제값 : {real_label}\\n예측값 : {pred_label}\")\n",
        "    \n",
        "    probability = model.predict_proba(tfidfv_test_5k[test_idx])[0]\n",
        "    predProb(model, probability)\n",
        "    \n",
        "    return predicted"
      ],
      "metadata": {
        "id": "Z0IIXXrgg-VU"
      },
      "execution_count": 55,
      "outputs": []
    },
    {
      "cell_type": "code",
      "source": [
        "from keras.layers import Embedding, Dropout\n",
        "from tensorflow.keras.utils import to_categorical\n",
        "from tensorflow.keras.preprocessing.sequence import pad_sequences"
      ],
      "metadata": {
        "id": "EsNU-7igGSs6"
      },
      "execution_count": 83,
      "outputs": []
    },
    {
      "cell_type": "code",
      "source": [
        "\n",
        "def predProb(model, probability):\n",
        "    plt.rcParams[\"figure.figsize\"] = (11,5)\n",
        "    plt.bar(model.classes_, probability)\n",
        "    plt.xlim(-1, 21)\n",
        "    plt.xticks(model.classes_)\n",
        "    plt.xlabel(\"Class\")\n",
        "    plt.ylabel(\"Probability\")\n",
        "    plt.show()\n",
        "\n",
        "def graph_confusion_matrix(model, tfidfv_test_5k, y_test_5k):\n",
        "    df_cm = pd.DataFrame(confusion_matrix(y_test_5k, model.predict(tfidfv_test_5k)))#, index=classes_name, columns=classes_name)\n",
        "    fig = plt.figure(figsize=(12,12))\n",
        "    heatmap = sns.heatmap(df_cm, annot=True, fmt=\"d\")\n",
        "    heatmap.yaxis.set_ticklabels(heatmap.yaxis.get_ticklabels(), rotation=0, ha='right', fontsize=12)\n",
        "    heatmap.xaxis.set_ticklabels(heatmap.xaxis.get_ticklabels(), rotation=45, ha='right', fontsize=12)\n",
        "    plt.ylabel('label')\n",
        "    plt.xlabel('predicted value')"
      ],
      "metadata": {
        "id": "25rXK5gC2uSj"
      },
      "execution_count": 62,
      "outputs": []
    },
    {
      "cell_type": "code",
      "source": [
        "#  #ComplementNB() 의 정확도는 0.7707 입니다.\n",
        "#  predicted = learnMLmodel(cb, tfidfv_5k, y_train_5k, tfidfv_test_5k, y_test_5k)\n",
        "#  print(classification_report(y_test_5k, predicted, zero_division=0))\n",
        "#  graph_confusion_matrix(cb, tfidfv_test_5k, y_test_5k) "
      ],
      "metadata": {
        "id": "GjeFB7YixQnu"
      },
      "execution_count": 70,
      "outputs": []
    },
    {
      "cell_type": "code",
      "source": [
        "#  #LogisticRegression(C=10000) 의 정확도는 0.8059 입니다.\n",
        "#  predicted = learnMLmodel(lr, tfidfv_5k, y_train_5k, tfidfv_test_5k, y_test_5k)\n",
        "#  print(classification_report(y_test_5k, predicted, zero_division=0))\n",
        "#  graph_confusion_matrix(lr, tfidfv_test_5k, y_test_5k) "
      ],
      "metadata": {
        "id": "Q71diwWN4yV3"
      },
      "execution_count": 72,
      "outputs": []
    },
    {
      "cell_type": "code",
      "source": [
        "#  # MultinomialNB() 의 정확도는 0.6732 입니다.\n",
        "#  predicted = learnMLmodel(mod, tfidfv_5k, y_train_5k, tfidfv_test_5k, y_test_5k)\n",
        "#  print(classification_report(y_test_5k, predicted, zero_division=0))\n",
        "#  graph_confusion_matrix(mod, tfidfv_test_5k, y_test_5k) "
      ],
      "metadata": {
        "id": "EJbS27Pj43y-"
      },
      "execution_count": 68,
      "outputs": []
    },
    {
      "cell_type": "code",
      "source": [
        "#  # LinearSVC() 의 정확도는 0.7052 입니다.\n",
        "#  predicted = learnMLmodel(lsvc, tfidfv_5k, y_train_5k, tfidfv_test_5k, y_test_5k)\n",
        "#  print(classification_report(y_test_5k, predicted, zero_division=0))\n",
        "#  graph_confusion_matrix(lsvc, tfidfv_test_5k, y_test_5k) "
      ],
      "metadata": {
        "id": "-iA83BzA434J"
      },
      "execution_count": 79,
      "outputs": []
    },
    {
      "cell_type": "code",
      "source": [
        "#  # RandomForestClassifier(n_estimators=5, random_state=0) 의 정확도는 0.7012 \n",
        "#  predicted = learnMLmodel(forest, tfidfv_5k, y_train_5k, tfidfv_test_5k, y_test_5k)\n",
        "#  print(classification_report(y_test_5k, predicted, zero_division=0))\n",
        "#  graph_confusion_matrix(forest, tfidfv_test_5k, y_test_5k) "
      ],
      "metadata": {
        "id": "Pa0Xkhv_6AzX"
      },
      "execution_count": 80,
      "outputs": []
    },
    {
      "cell_type": "code",
      "source": [
        "#  # GradientBoostingClassifier(random_state=0) 의 정확도는 0.7676 입니다.\n",
        "#  predicted = learnMLmodel(grbt, tfidfv_5k, y_train_5k, tfidfv_test_5k, y_test_5k)\n",
        "#  print(classification_report(y_test_5k, predicted, zero_division=0))\n",
        "#  graph_confusion_matrix(grbt, tfidfv_test_5k, y_test_5k) "
      ],
      "metadata": {
        "id": "MeAjT8b36BAX"
      },
      "execution_count": 81,
      "outputs": []
    },
    {
      "cell_type": "code",
      "source": [
        " # VotingClassifier 의 정확도는 0.8161  입니다.\n",
        " predicted = learnMLmodel(voting_classifier, tfidfv_5k, y_train_5k, tfidfv_test_5k, y_test_5k)\n",
        " print(classification_report(y_test_5k, predicted, zero_division=0))\n",
        " graph_confusion_matrix(voting_classifier, tfidfv_test_5k, y_test_5k) "
      ],
      "metadata": {
        "colab": {
          "base_uri": "https://localhost:8080/",
          "height": 1000
        },
        "id": "h78gE1E_6BEf",
        "outputId": "e79a79b6-ac06-4377-8dea-c29c2c538d2b"
      },
      "execution_count": 78,
      "outputs": [
        {
          "output_type": "stream",
          "name": "stdout",
          "text": [
            "\n",
            "VotingClassifier(estimators=[('lr', LogisticRegression(C=10000)),\n",
            "                             ('cb', ComplementNB()),\n",
            "                             ('grbt',\n",
            "                              GradientBoostingClassifier(random_state=0))],\n",
            "                 n_jobs=-1, voting='soft') 의 정확도는 0.8161 입니다.\n",
            "정답입니다!!!\n",
            "실제값 : 10\n",
            "예측값 : [10]\n"
          ]
        },
        {
          "output_type": "display_data",
          "data": {
            "text/plain": [
              "<Figure size 792x360 with 1 Axes>"
            ],
            "image/png": "[encoded data removed]"
          },
          "metadata": {
            "needs_background": "light"
          }
        },
        {
          "output_type": "stream",
          "name": "stdout",
          "text": [
            "              precision    recall  f1-score   support\n",
            "\n",
            "           0       0.90      0.75      0.82        12\n",
            "           1       0.80      0.77      0.79       105\n",
            "           2       0.71      0.85      0.77        20\n",
            "           3       0.92      0.94      0.93       813\n",
            "           4       0.82      0.88      0.85       474\n",
            "           5       0.33      0.20      0.25         5\n",
            "           6       0.93      0.93      0.93        14\n",
            "           7       0.67      0.67      0.67         3\n",
            "           8       0.72      0.68      0.70        38\n",
            "           9       0.81      0.84      0.82        25\n",
            "          10       0.93      0.90      0.92        30\n",
            "          11       0.67      0.70      0.68        83\n",
            "          12       0.60      0.46      0.52        13\n",
            "          13       0.68      0.62      0.65        37\n",
            "          14       0.12      0.50      0.20         2\n",
            "          15       0.67      0.44      0.53         9\n",
            "          16       0.74      0.74      0.74        99\n",
            "          17       0.57      0.67      0.62        12\n",
            "          18       0.72      0.65      0.68        20\n",
            "          19       0.73      0.68      0.71       133\n",
            "          20       0.61      0.49      0.54        70\n",
            "          21       0.66      0.78      0.71        27\n",
            "          22       0.50      0.14      0.22         7\n",
            "          23       0.57      0.67      0.62        12\n",
            "          24       0.75      0.63      0.69        19\n",
            "          25       0.96      0.74      0.84        31\n",
            "          26       0.88      0.88      0.88         8\n",
            "          27       0.67      0.50      0.57         4\n",
            "          28       0.44      0.40      0.42        10\n",
            "          29       0.50      0.75      0.60         4\n",
            "          30       0.62      0.42      0.50        12\n",
            "          31       0.75      0.69      0.72        13\n",
            "          32       1.00      0.80      0.89        10\n",
            "          33       0.71      1.00      0.83         5\n",
            "          34       1.00      0.43      0.60         7\n",
            "          35       1.00      0.50      0.67         6\n",
            "          36       0.45      0.45      0.45        11\n",
            "          37       0.67      1.00      0.80         2\n",
            "          38       0.50      0.33      0.40         3\n",
            "          39       0.25      0.20      0.22         5\n",
            "          40       0.80      0.40      0.53        10\n",
            "          41       0.67      0.50      0.57         8\n",
            "          42       0.75      1.00      0.86         3\n",
            "          43       0.71      0.83      0.77         6\n",
            "          44       1.00      0.80      0.89         5\n",
            "          45       1.00      1.00      1.00         1\n",
            "\n",
            "    accuracy                           0.82      2246\n",
            "   macro avg       0.71      0.66      0.66      2246\n",
            "weighted avg       0.82      0.82      0.81      2246\n",
            "\n"
          ]
        },
        {
          "output_type": "display_data",
          "data": {
            "text/plain": [
              "<Figure size 864x864 with 2 Axes>"
            ],
            "image/png": "[encoded data removed]"
          },
          "metadata": {
            "needs_background": "light"
          }
        }
      ]
    },
    {
      "cell_type": "code",
      "source": [
        "mod_5k, cb_5k, lr_5k, lsvc_5k, tree_5k, forest_5k, grbt_5k, voting_classifier_5k = train_ml(tfidfv_5k, y_train_5k, tfidfv_test_5k, y_test_5k)"
      ],
      "metadata": {
        "colab": {
          "base_uri": "https://localhost:8080/"
        },
        "id": "hca2QVaxE6uK",
        "outputId": "144446c3-2881-42d7-c895-7c93c431c4c7"
      },
      "execution_count": 17,
      "outputs": [
        {
          "output_type": "stream",
          "name": "stdout",
          "text": [
            "나이브 베이즈 정확도: 0.6731967943009796\n",
            "CNB 정확도: 0.7707034728406055\n"
          ]
        },
        {
          "output_type": "stream",
          "name": "stderr",
          "text": [
            "/usr/local/lib/python3.7/dist-packages/sklearn/linear_model/_logistic.py:818: ConvergenceWarning: lbfgs failed to converge (status=1):\n",
            "STOP: TOTAL NO. of ITERATIONS REACHED LIMIT.\n",
            "\n",
            "Increase the number of iterations (max_iter) or scale the data as shown in:\n",
            "    https://scikit-learn.org/stable/modules/preprocessing.html\n",
            "Please also refer to the documentation for alternative solver options:\n",
            "    https://scikit-learn.org/stable/modules/linear_model.html#logistic-regression\n",
            "  extra_warning_msg=_LOGISTIC_SOLVER_CONVERGENCE_MSG,\n"
          ]
        },
        {
          "output_type": "stream",
          "name": "stdout",
          "text": [
            "로지스틱 회귀 정확도: 0.8058771148708815\n"
          ]
        },
        {
          "output_type": "stream",
          "name": "stderr",
          "text": [
            "/usr/local/lib/python3.7/dist-packages/sklearn/svm/_base.py:1208: ConvergenceWarning: Liblinear failed to converge, increase the number of iterations.\n",
            "  ConvergenceWarning,\n"
          ]
        },
        {
          "output_type": "stream",
          "name": "stdout",
          "text": [
            "SVM 정확도: 0.7680320569902048\n",
            "결정 트리 정확도: 0.6179875333926982\n",
            "랜덤 포레스트 정확도: 0.701246660730187\n",
            "      Iter       Train Loss   Remaining Time \n",
            "         1           1.4697           17.50m\n",
            "         2     2131099.0239           17.23m\n",
            "         3 113352934366748750033493137947714414201794552363528671409179356940992512.0000           17.33m\n",
            "         4 645005367195105573487290209089081189090170195029150070319832395667206596719018218881024.0000           17.09m\n",
            "         5 443067299530301659980374363525949995629695549691559890285869350923592723545213280554158712204202745088665306932510573934053386280801140736.0000           16.88m\n",
            "         6 443067299530301659980374363525949995629695549691559890285869350923592723545213280554158712204202745088665306932510573934053386280801140736.0000           16.73m\n",
            "         7 443067299530301659980374363525949995629695549691559890285869350923592723545213280554158712204202745088665306932510573934053386280801140736.0000           16.55m\n",
            "         8 443067299530301659980374363525949995629695549691559890285869350923592723545213280554158712204202745088665306932510573934053386280801140736.0000           16.36m\n",
            "         9 443067299530301659980374363525949995629695549691559890285869350923592723545213280554158712204202745088665306932510573934053386280801140736.0000           16.15m\n",
            "        10 443067299530301659980374363525949995629695549691559890285869350923592723545213280554158712204202745088665306932510573934053386280801140736.0000           15.96m\n",
            "        11 443067299530301659980374363525949995629695549691559890285869350923592723545213280554158712204202745088665306932510573934053386280801140736.0000           15.80m\n",
            "        12 443067299530301659980374363525949995629695549691559890285869350923592723545213280554158712204202745088665306932510573934053386280801140736.0000           15.63m\n",
            "        13 443067299530301659980374363525949995629695549691559890285869350923592723545213280554158712204202745088665306932510573934053386280801140736.0000           15.44m\n",
            "        14 443067299530301659980374363525949995629695549691559890285869350923592723545213280554158712204202745088665306932510573934053386280801140736.0000           15.26m\n",
            "        15 443067299530301659980374363525949995629695549691559890285869350923592723545213280554158712204202745088665306932510573934053386280801140736.0000           15.07m\n",
            "        16 443067299530301659980374363525949995629695549691559890285869350923592723545213280554158712204202745088665306932510573934053386280801140736.0000           14.88m\n",
            "        17 443067299530301659980374363525949995629695549691559890285869350923592723545213280554158712204202745088665306932510573934053386280801140736.0000           14.72m\n",
            "        18 443067299530301659980374363525949995629695549691559890285869350923592723545213280554158712204202745088665306932510573934053386280801140736.0000           14.55m\n",
            "        19 443067299530301659980374363525949995629695549691559890285869350923592723545213280554158712204202745088665306932510573934053386280801140736.0000           14.36m\n",
            "        20 443067299530301659980374363525949995629695549691559890285869350923592723545213280554158712204202745088665306932510573934053386280801140736.0000           14.18m\n",
            "        21 443067299530301659980374363525949995629695549691559890285869350923592723545213280554158712204202745088665306932510573934053386280801140736.0000           13.99m\n",
            "        22 443067299530301659980374363525949995629695549691559890285869350923592723545213280554158712204202745088665306932510573934053386280801140736.0000           13.81m\n",
            "        23 443067299530301659980374363525949995629695549691559890285869350923592723545213280554158712204202745088665306932510573934053386280801140736.0000           13.65m\n",
            "        24 443067299530301659980374363525949995629695549691559890285869350923592723545213280554158712204202745088665306932510573934053386280801140736.0000           13.47m\n",
            "        25 443067299530301659980374363525949995629695549691559890285869350923592723545213280554158712204202745088665306932510573934053386280801140736.0000           13.30m\n",
            "        26 443067299530301659980374363525949995629695549691559890285869350923592723545213280554158712204202745088665306932510573934053386280801140736.0000           13.13m\n",
            "        27 443067299530302073140354857431324340576763070173459783038796203599354776450710327057778234898793885831921831754563603678560901920400080896.0000           12.96m\n",
            "        28 443067299530302073140354857431324340576763070173459783038796203599354776450710327057778234898793885831921831754563603678560901920400080896.0000           12.79m\n",
            "        29 443067299530302073140354857431324340576763070173459783038796203599354776450710327057778234898793885831921831754563603678560901920400080896.0000           12.61m\n",
            "        30 443067299530302073140354857431324340576763070173459783038796203599354776450710327057778234898793885831921831754563603678560901920400080896.0000           12.43m\n",
            "        31 443067299530302073140354857431324340576763070173459783038796203599354776450710327057778234898793885831921831754563603678560901920400080896.0000           12.25m\n",
            "        32 443067299530302073140354857431324340576763070173459783038796203599354776450710327057778234898793885831921831754563603678560901920400080896.0000           12.07m\n",
            "        33 443067299530302073140354857431324340576763070173459783038796203599354776450710327057778234898793885831921831754563603678560901920400080896.0000           11.91m\n",
            "        34 443067299530302073140354857431324340576763070173459783038796203599354776450710327057778234898793885831921831754563603678560901920400080896.0000           11.73m\n",
            "        35 443067299530302073140354857431324340576763070173459783038796203599354776450710327057778234898793885831921831754563603678560901920400080896.0000           11.55m\n",
            "        36 443067299530302073140354857431324340576763070173459783038796203599354776450710327057778234898793885831921831754563603678560901920400080896.0000           11.37m\n",
            "        37 443067299530302073140354857431324340576763070173459783038796203599354776450710327057778234898793885831921831754563603678560901920400080896.0000           11.27m\n",
            "        38 443067299530302073140354857431324340576763070173459783038796203599354776450710327057778234898793885831921831754563603678560901920400080896.0000           11.09m\n",
            "        39 443067299530302073140354857431324340576763070173459783038796203599354776450710327057778234898793885831921831754563603678560901920400080896.0000           10.90m\n",
            "        40 443067299530302073140354857431324340576763070173459783038796203599354776450710327057778234898793885831921831754563603678560901920400080896.0000           10.73m\n",
            "        41 443067299530302073140354857431324340576763070173459783038796203599354776450710327057778234898793885831921831754563603678560901920400080896.0000           10.54m\n",
            "        42 443067299530302073140354857431324340576763070173459783038796203599354776450710327057778234898793885831921831754563603678560901920400080896.0000           10.36m\n",
            "        43 443067299530302073140354857431324340576763070173459783038796203599354776450710327057778234898793885831921831754563603678560901920400080896.0000           10.17m\n",
            "        44 443067299530302073140354857431324340576763070173459783038796203599354776450710327057778234898793885831921831754563603678560901920400080896.0000            9.99m\n",
            "        45 443067299530302073140354857431324340576763070173459783038796203599354776450710327057778234898793885831921831754563603678560901920400080896.0000            9.81m\n",
            "        46 443067299530302073140354857431324340576763070173459783038796203599354776450710327057778234898793885831921831754563603678560901920400080896.0000            9.63m\n",
            "        47 443067299530302073140354857431324340576763070173459783038796203599354776450710327057778234898793885831921831754563603678560901920400080896.0000            9.45m\n",
            "        48 443067299530302073140354857431324340576763070173459783038796203599354776450710327057778234898793885831921831754563603678560901920400080896.0000            9.27m\n",
            "        49 443067299530302073140354857431324340576763070173459783038796203599354776450710327057778234898793885831921831754563603678560901920400080896.0000            9.09m\n",
            "        50 443067299530302073140354857431324340576763070173459783038796203599354776450710327057778234898793885831921831754563603678560901920400080896.0000            8.91m\n",
            "        51 443067299530302073140354857431324340576763070173459783038796203599354776450710327057778234898793885831921831754563603678560901920400080896.0000            8.73m\n",
            "        52 443067299530302073140354857431324340576763070173459783038796203599354776450710327057778234898793885831921831754563603678560901920400080896.0000            8.55m\n",
            "        53 443067299530302073140354857431324340576763070173459783038796203599354776450710327057778234898793885831921831754563603678560901920400080896.0000            8.37m\n",
            "        54 443067299530302073140354857431324340576763070173459783038796203599354776450710327057778234898793885831921831754563603678560901920400080896.0000            8.19m\n",
            "        55 443067299530302073140354857431324340576763070173459783038796203599354776450710327057778234898793885831921831754563603678560901920400080896.0000            8.01m\n",
            "        56 443067299530302073140354857431324340576763070173459783038796203599354776450710327057778234898793885831921831754563603678560901920400080896.0000            7.84m\n",
            "        57 443067299530302073140354857431324340576763070173459783038796203599354776450710327057778234898793885831921831754563603678560901920400080896.0000            7.66m\n",
            "        58 443067299530302073140354857431324340576763070173459783038796203599354776450710327057778234898793885831921831754563603678560901920400080896.0000            7.49m\n",
            "        59 443067299530302073140354857431324340576763070173459783038796203599354776450710327057778234898793885831921831754563603678560901920400080896.0000            7.31m\n",
            "        60 443067299530302073140354857431324340576763070173459783038796203599354776450710327057778234898793885831921831754563603678560901920400080896.0000            7.13m\n",
            "        61 443067299530302073140354857431324340576763070173459783038796203599354776450710327057778234898793885831921831754563603678560901920400080896.0000            6.95m\n",
            "        62 443067299530302073140354857431324340576763070173459783038796203599354776450710327057778234898793885831921831754563603678560901920400080896.0000            6.77m\n",
            "        63 443067299530302073140354857431324340576763070173459783038796203599354776450710327057778234898793885831921831754563603678560901920400080896.0000            6.59m\n",
            "        64 443067299530302073140354857431324340576763070173459783038796203599354776450710327057778234898793885831921831754563603678560901920400080896.0000            6.41m\n",
            "        65 443067299530302073140354857431324340576763070173459783038796203599354776450710327057778234898793885831921831754563603678560901920400080896.0000            6.23m\n",
            "        66 443067299530302073140354857431324340576763070173459783038796203599354776450710327057778234898793885831921831754563603678560901920400080896.0000            6.05m\n",
            "        67 443067299530302073140354857431324340576763070173459783038796203599354776450710327057778234898793885831921831754563603678560901920400080896.0000            5.87m\n",
            "        68 443067299530302073140354857431324340576763070173459783038796203599354776450710327057778234898793885831921831754563603678560901920400080896.0000            5.69m\n",
            "        69 443067299530302073140354857431324340576763070173459783038796203599354776450710327057778234898793885831921831754563603678560901920400080896.0000            5.51m\n",
            "        70 443067299530302073140354857431324340576763070173459783038796203599354776450710327057778234898793885831921831754563603678560901920400080896.0000            5.33m\n",
            "        71 443067299530302073140354857431324340576763070173459783038796203599354776450710327057778234898793885831921831754563603678560901920400080896.0000            5.15m\n",
            "        72 443067299530302073140354857431324340576763070173459783038796203599354776450710327057778234898793885831921831754563603678560901920400080896.0000            4.97m\n",
            "        73 443067299530302073140354857431324340576763070173459783038796203599354776450710327057778234898793885831921831754563603678560901920400080896.0000            4.80m\n",
            "        74 443067299530302073140354857431324340576763070173459783038796203599354776450710327057778234898793885831921831754563603678560901920400080896.0000            4.62m\n",
            "        75 443067299530302073140354857431324340576763070173459783038796203599354776450710327057778234898793885831921831754563603678560901920400080896.0000            4.44m\n",
            "        76 443067299530302073140354857431324340576763070173459783038796203599354776450710327057778234898793885831921831754563603678560901920400080896.0000            4.26m\n",
            "        77 443067299530302073140354857431324340576763070173459783038796203599354776450710327057778234898793885831921831754563603678560901920400080896.0000            4.08m\n",
            "        78 443067299530302073140354857431324340576763070173459783038796203599354776450710327057778234898793885831921831754563603678560901920400080896.0000            3.90m\n",
            "        79 443067299530302073140354857431324340576763070173459783038796203599354776450710327057778234898793885831921831754563603678560901920400080896.0000            3.73m\n",
            "        80 443067299530302073140354857431324340576763070173459783038796203599354776450710327057778234898793885831921831754563603678560901920400080896.0000            3.55m\n",
            "        81 443067299530302073140354857431324340576763070173459783038796203599354776450710327057778234898793885831921831754563603678560901920400080896.0000            3.37m\n",
            "        82 443067299530302073140354857431324340576763070173459783038796203599354776450710327057778234898793885831921831754563603678560901920400080896.0000            3.20m\n",
            "        83 443067299530302073140354857431324340576763070173459783038796203599354776450710327057778234898793885831921831754563603678560901920400080896.0000            3.02m\n",
            "        84 443067299530302073140354857431324340576763070173459783038796203599354776450710327057778234898793885831921831754563603678560901920400080896.0000            2.84m\n",
            "        85 443067299530302073140354857431324340576763070173459783038796203599354776450710327057778234898793885831921831754563603678560901920400080896.0000            2.67m\n",
            "        86 443067299530302073140354857431324340576763070173459783038796203599354776450710327057778234898793885831921831754563603678560901920400080896.0000            2.49m\n",
            "        87 443067299530302073140354857431324340576763070173459783038796203599354776450710327057778234898793885831921831754563603678560901920400080896.0000            2.31m\n",
            "        88 443067299530302073140354857431324340576763070173459783038796203599354776450710327057778234898793885831921831754563603678560901920400080896.0000            2.13m\n",
            "        89 443067299530302073140354857431324340576763070173459783038796203599354776450710327057778234898793885831921831754563603678560901920400080896.0000            1.95m\n",
            "        90 443067299530302073140354857431324340576763070173459783038796203599354776450710327057778234898793885831921831754563603678560901920400080896.0000            1.78m\n",
            "        91 443067299530302073140354857431324340576763070173459783038796203599354776450710327057778234898793885831921831754563603678560901920400080896.0000            1.60m\n",
            "        92 443067299530302073140354857431324340576763070173459783038796203599354776450710327057778234898793885831921831754563603678560901920400080896.0000            1.42m\n",
            "        93 443067299530302073140354857431324340576763070173459783038796203599354776450710327057778234898793885831921831754563603678560901920400080896.0000            1.24m\n",
            "        94 443067299530302073140354857431324340576763070173459783038796203599354776450710327057778234898793885831921831754563603678560901920400080896.0000            1.07m\n",
            "        95 443067299530302073140354857431324340576763070173459783038796203599354776450710327057778234898793885831921831754563603678560901920400080896.0000           53.26s\n",
            "        96 443067299530302073140354857431324340576763070173459783038796203599354776450710327057778234898793885831921831754563603678560901920400080896.0000           42.60s\n",
            "        97 443067299530302073140354857431324340576763070173459783038796203599354776450710327057778234898793885831921831754563603678560901920400080896.0000           31.94s\n",
            "        98 443067299530302073140354857431324340576763070173459783038796203599354776450710327057778234898793885831921831754563603678560901920400080896.0000           21.29s\n",
            "        99 443067299530302073140354857431324340576763070173459783038796203599354776450710327057778234898793885831921831754563603678560901920400080896.0000           10.64s\n",
            "       100 443067299530302073140354857431324340576763070173459783038796203599354776450710327057778234898793885831921831754563603678560901920400080896.0000            0.00s\n",
            "그래디언트 부스팅 트리 정확도: 0.767586821015138\n",
            "보팅 정확도: 0.8161175422974176\n"
          ]
        }
      ]
    },
    {
      "cell_type": "code",
      "source": [
        "# #toarray() : array로 변환\n",
        "\n",
        "# tfidfv_5k_arr=tfidfv_5k.toarray()\n",
        "# tfidfv_5k_dense = tfidfv_5k.todense()\n",
        "# tfidfv_test_5k_arr = tfidfv_test_5k.toarray()\n",
        "# tfidfv_test_5k_dense = tfidfv_test_5k.todense()"
      ],
      "metadata": {
        "id": "W1FnieAvE9Fj"
      },
      "execution_count": 84,
      "outputs": []
    },
    {
      "cell_type": "code",
      "source": [
        "vocab_size = 5000\n",
        "word_vector_dim = 128\n",
        "\n",
        "model_lstm = keras.Sequential()\n",
        "model_lstm.add(keras.layers.Embedding(vocab_size, word_vector_dim))\n",
        "model_lstm.add(keras.layers.LSTM(128))   \n",
        "model_lstm.add(keras.layers.Dropout(0.1))\n",
        "model_lstm.add(keras.layers.Dense(46, activation='softmax')) \n",
        "\n",
        "model_lstm.summary()"
      ],
      "metadata": {
        "colab": {
          "base_uri": "https://localhost:8080/"
        },
        "id": "4qnqr4riFAhp",
        "outputId": "8cf231d3-8aee-4129-8796-af4eca4cdd0c"
      },
      "execution_count": 19,
      "outputs": [
        {
          "output_type": "stream",
          "name": "stdout",
          "text": [
            "Model: \"sequential\"\n",
            "_________________________________________________________________\n",
            " Layer (type)                Output Shape              Param #   \n",
            "=================================================================\n",
            " embedding (Embedding)       (None, None, 128)         640000    \n",
            "                                                                 \n",
            " lstm (LSTM)                 (None, 128)               131584    \n",
            "                                                                 \n",
            " dropout (Dropout)           (None, 128)               0         \n",
            "                                                                 \n",
            " dense (Dense)               (None, 46)                5934      \n",
            "                                                                 \n",
            "=================================================================\n",
            "Total params: 777,518\n",
            "Trainable params: 777,518\n",
            "Non-trainable params: 0\n",
            "_________________________________________________________________\n"
          ]
        }
      ]
    },
    {
      "cell_type": "code",
      "source": [
        "model_lstm.compile(optimizer='adam',\n",
        "                  loss='sparse_categorical_crossentropy',\n",
        "                  metrics=['accuracy'])"
      ],
      "metadata": {
        "id": "7W05W4F7FGOK"
      },
      "execution_count": 20,
      "outputs": []
    },
    {
      "cell_type": "code",
      "source": [
        "es = keras.callbacks.EarlyStopping(monitor='val_loss', mode='min', verbose=1, patience=3)\n",
        "mc = keras.callbacks.ModelCheckpoint('best_model.h5', monitor='val_acc', mode='max', verbose=1, save_best_only=True)"
      ],
      "metadata": {
        "id": "YvU9jy7oFHvO"
      },
      "execution_count": 21,
      "outputs": []
    },
    {
      "cell_type": "code",
      "source": [
        "epochs=20\n",
        "batch_size=64\n",
        "\n",
        "history_LSTM2 = model_lstm.fit(tfidfv_5k_arr,\n",
        "                    y_train_5k,\n",
        "                    epochs=epochs,\n",
        "                    batch_size=batch_size,\n",
        "                    validation_split= 0.2,\n",
        "                    callbacks=  [es, mc],\n",
        "                    verbose=1)"
      ],
      "metadata": {
        "colab": {
          "base_uri": "https://localhost:8080/"
        },
        "id": "s7YqU1G9FJL1",
        "outputId": "09e707f8-99c0-4a39-d453-6d8ce253c455"
      },
      "execution_count": 22,
      "outputs": [
        {
          "output_type": "stream",
          "name": "stdout",
          "text": [
            "Epoch 1/20\n",
            "113/113 [==============================] - ETA: 0s - loss: 2.5501 - accuracy: 0.3399 WARNING:tensorflow:Can save best model only with val_acc available, skipping.\n",
            "113/113 [==============================] - 1594s 14s/step - loss: 2.5501 - accuracy: 0.3399 - val_loss: 2.4232 - val_accuracy: 0.3450\n",
            "Epoch 2/20\n",
            "113/113 [==============================] - ETA: 0s - loss: 2.4285 - accuracy: 0.3466 WARNING:tensorflow:Can save best model only with val_acc available, skipping.\n",
            "113/113 [==============================] - 1587s 14s/step - loss: 2.4285 - accuracy: 0.3466 - val_loss: 2.4178 - val_accuracy: 0.3450\n",
            "Epoch 3/20\n",
            "113/113 [==============================] - ETA: 0s - loss: 2.4252 - accuracy: 0.3478 WARNING:tensorflow:Can save best model only with val_acc available, skipping.\n",
            "113/113 [==============================] - 1588s 14s/step - loss: 2.4252 - accuracy: 0.3478 - val_loss: 2.4171 - val_accuracy: 0.3450\n",
            "Epoch 4/20\n",
            "113/113 [==============================] - ETA: 0s - loss: 2.4198 - accuracy: 0.3525 WARNING:tensorflow:Can save best model only with val_acc available, skipping.\n",
            "113/113 [==============================] - 1584s 14s/step - loss: 2.4198 - accuracy: 0.3525 - val_loss: 2.4139 - val_accuracy: 0.3450\n",
            "Epoch 5/20\n",
            "113/113 [==============================] - ETA: 0s - loss: 2.4227 - accuracy: 0.3506 WARNING:tensorflow:Can save best model only with val_acc available, skipping.\n",
            "113/113 [==============================] - 1601s 14s/step - loss: 2.4227 - accuracy: 0.3506 - val_loss: 2.4106 - val_accuracy: 0.3450\n",
            "Epoch 6/20\n",
            "113/113 [==============================] - ETA: 0s - loss: 2.4184 - accuracy: 0.3530 WARNING:tensorflow:Can save best model only with val_acc available, skipping.\n",
            "113/113 [==============================] - 1619s 14s/step - loss: 2.4184 - accuracy: 0.3530 - val_loss: 2.4078 - val_accuracy: 0.3450\n",
            "Epoch 7/20\n",
            "113/113 [==============================] - ETA: 0s - loss: 2.4153 - accuracy: 0.3528 WARNING:tensorflow:Can save best model only with val_acc available, skipping.\n",
            "113/113 [==============================] - 1604s 14s/step - loss: 2.4153 - accuracy: 0.3528 - val_loss: 2.4066 - val_accuracy: 0.3450\n",
            "Epoch 8/20\n",
            "113/113 [==============================] - ETA: 0s - loss: 2.4200 - accuracy: 0.3528 WARNING:tensorflow:Can save best model only with val_acc available, skipping.\n",
            "113/113 [==============================] - 1660s 15s/step - loss: 2.4200 - accuracy: 0.3528 - val_loss: 2.4101 - val_accuracy: 0.3450\n",
            "Epoch 9/20\n",
            "113/113 [==============================] - ETA: 0s - loss: 2.4168 - accuracy: 0.3524 WARNING:tensorflow:Can save best model only with val_acc available, skipping.\n",
            "113/113 [==============================] - 1624s 14s/step - loss: 2.4168 - accuracy: 0.3524 - val_loss: 2.4073 - val_accuracy: 0.3450\n",
            "Epoch 10/20\n",
            "113/113 [==============================] - ETA: 0s - loss: 2.4164 - accuracy: 0.3531 WARNING:tensorflow:Can save best model only with val_acc available, skipping.\n",
            "113/113 [==============================] - 1624s 14s/step - loss: 2.4164 - accuracy: 0.3531 - val_loss: 2.4102 - val_accuracy: 0.3450\n",
            "Epoch 10: early stopping\n"
          ]
        }
      ]
    },
    {
      "cell_type": "code",
      "source": [
        "def plot_history(vocab_size, history_dict):\n",
        "    train_acc = history_dict['accuracy']\n",
        "    train_loss = history_dict['loss']\n",
        "    val_acc = history_dict['val_accuracy']\n",
        "    val_loss = history_dict['val_loss']\n",
        "    \n",
        "    epochs = range(1, len(train_acc) + 1)\n",
        "    plt.plot(epochs, train_loss)\n",
        "    plt.plot(epochs, train_acc)\n",
        "    plt.plot(epochs, val_loss)\n",
        "    plt.plot(epochs, val_acc)\n",
        "    plt.legend(['train_loss', 'train_accuracy', 'val_loss', 'val_accuracy'],loc='center right')\n",
        "    plt.title(f'LSTM_vocabsize={vocab_size}')\n",
        "    plt.show()"
      ],
      "metadata": {
        "id": "ptiO7yVuFLQ6"
      },
      "execution_count": 36,
      "outputs": []
    },
    {
      "cell_type": "code",
      "source": [
        "history_lstm_dict = history_LSTM2.history"
      ],
      "metadata": {
        "id": "crj4AMZ3YbcU"
      },
      "execution_count": 37,
      "outputs": []
    },
    {
      "cell_type": "code",
      "source": [
        "plot_history(5000, history_lstm_dict)"
      ],
      "metadata": {
        "colab": {
          "base_uri": "https://localhost:8080/",
          "height": 281
        },
        "id": "3pFYG-ZQYn9_",
        "outputId": "21142a6b-6a81-4c7c-d142-578b126e6732"
      },
      "execution_count": 44,
      "outputs": [
        {
          "output_type": "display_data",
          "data": {
            "text/plain": [
              "<Figure size 432x288 with 1 Axes>"
            ],
            "image/png": "[encoded data removed]"
          },
          "metadata": {
            "needs_background": "light"
          }
        }
      ]
    },
    {
      "cell_type": "markdown",
      "source": [
        "# Report\n",
        "\n",
        "- 단어에 DTM, TD-IDF를 적용하여봄. \n",
        "- 8가지의 모델중 Voting 모델이 가장 높은 F1 score를 보였으며\n",
        "5000단어에서 높은 점수를 보였음.\n",
        "- 5000단어를 밀집벡트로 바꾸어 LSTM으로 훈련시켜보았으나, 모델 설계가 잘못되었는지 아주 형편없이 나옴.\n",
        "- 그냥...word2vector를 사용하는 것이 더 편하고 좋은 것으로 보임.."
      ],
      "metadata": {
        "id": "QdVf04ciO5Lc"
      }
    },
    {
      "cell_type": "code",
      "source": [
        ""
      ],
      "metadata": {
        "id": "wwDcwn4oPqCD"
      },
      "execution_count": null,
      "outputs": []
    }
  ]
}
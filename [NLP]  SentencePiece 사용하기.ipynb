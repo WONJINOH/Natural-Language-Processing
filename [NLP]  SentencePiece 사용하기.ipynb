{
 "cells": [
  {
   "cell_type": "markdown",
   "id": "09ef6b85",
   "metadata": {},
   "source": [
    "# SentencePiece 사용하기"
   ]
  },
  {
   "cell_type": "markdown",
   "id": "b1300019",
   "metadata": {},
   "source": [
    "| 평가문항 | 상세기준 |\n",
    "| :---: | :---: |\n",
    "| 1. SentencePiece를 이용하여 모델을 만들기까지의 과정이 정상적으로 진행되었는가? | 코퍼스 분석, 전처리, SentencePiece 적용, 토크나이저 구현 및 동작이 빠짐없이 진행되었는가? |\n",
    "| 2. SentencePiece를 통해 만든 Tokenizer가 자연어처리 모델과 결합하여 동작하는가? | SentencePiece 토크나이저가 적용된 Text Classifier 모델이 정상적으로 수렴하여 80% 이상의 test accuracy가 확인되었다. |\n",
    "| 3. SentencePiece의 성능을 다각도로 비교분석하였는가? | SentencePiece 토크나이저를 활용했을 때의 성능을 다른 토크나이저 혹은 SentencePiece의 다른 옵션의 경우와 비교하여 분석을 체계적으로 진행하였다. |"
   ]
  },
  {
   "cell_type": "code",
   "execution_count": 1,
   "id": "569d9d7c",
   "metadata": {},
   "outputs": [],
   "source": [
    "import os\n",
    "\n",
    "import matplotlib.pyplot as plt\n",
    "import tensorflow as tf\n",
    "import numpy as np\n",
    "import konlpy\n",
    "\n",
    "%matplotlib inline"
   ]
  },
  {
   "cell_type": "code",
   "execution_count": 2,
   "id": "242d4c43",
   "metadata": {},
   "outputs": [
    {
     "name": "stdout",
     "output_type": "stream",
     "text": [
      "fatal: destination path 'nsmc' already exists and is not an empty directory.\r\n"
     ]
    }
   ],
   "source": [
    "!git clone https://github.com/e9t/nsmc.git"
   ]
  },
  {
   "cell_type": "code",
   "execution_count": 3,
   "id": "46a36861",
   "metadata": {},
   "outputs": [
    {
     "data": {
      "text/plain": [
       "['raw',\n",
       " 'ratings_train.txt',\n",
       " 'README.md',\n",
       " 'ratings.txt',\n",
       " 'synopses.json',\n",
       " '.git',\n",
       " 'ratings_test.txt',\n",
       " 'code']"
      ]
     },
     "execution_count": 3,
     "metadata": {},
     "output_type": "execute_result"
    }
   ],
   "source": [
    "os.listdir('nsmc')"
   ]
  },
  {
   "cell_type": "markdown",
   "id": "c85d8d0a",
   "metadata": {},
   "source": [
    "## Step 1. 데이터 불러오기"
   ]
  },
  {
   "cell_type": "code",
   "execution_count": 4,
   "id": "0ccf7f75",
   "metadata": {
    "scrolled": true
   },
   "outputs": [
    {
     "data": {
      "text/html": [
       "<div>\n",
       "<style scoped>\n",
       "    .dataframe tbody tr th:only-of-type {\n",
       "        vertical-align: middle;\n",
       "    }\n",
       "\n",
       "    .dataframe tbody tr th {\n",
       "        vertical-align: top;\n",
       "    }\n",
       "\n",
       "    .dataframe thead th {\n",
       "        text-align: right;\n",
       "    }\n",
       "</style>\n",
       "<table border=\"1\" class=\"dataframe\">\n",
       "  <thead>\n",
       "    <tr style=\"text-align: right;\">\n",
       "      <th></th>\n",
       "      <th>id</th>\n",
       "      <th>document</th>\n",
       "      <th>label</th>\n",
       "    </tr>\n",
       "  </thead>\n",
       "  <tbody>\n",
       "    <tr>\n",
       "      <th>0</th>\n",
       "      <td>8112052</td>\n",
       "      <td>어릴때보고 지금다시봐도 재밌어요ㅋㅋ</td>\n",
       "      <td>1</td>\n",
       "    </tr>\n",
       "    <tr>\n",
       "      <th>1</th>\n",
       "      <td>8132799</td>\n",
       "      <td>디자인을 배우는 학생으로, 외국디자이너와 그들이 일군 전통을 통해 발전해가는 문화산...</td>\n",
       "      <td>1</td>\n",
       "    </tr>\n",
       "    <tr>\n",
       "      <th>2</th>\n",
       "      <td>4655635</td>\n",
       "      <td>폴리스스토리 시리즈는 1부터 뉴까지 버릴께 하나도 없음.. 최고.</td>\n",
       "      <td>1</td>\n",
       "    </tr>\n",
       "    <tr>\n",
       "      <th>3</th>\n",
       "      <td>9251303</td>\n",
       "      <td>와.. 연기가 진짜 개쩔구나.. 지루할거라고 생각했는데 몰입해서 봤다.. 그래 이런...</td>\n",
       "      <td>1</td>\n",
       "    </tr>\n",
       "    <tr>\n",
       "      <th>4</th>\n",
       "      <td>10067386</td>\n",
       "      <td>안개 자욱한 밤하늘에 떠 있는 초승달 같은 영화.</td>\n",
       "      <td>1</td>\n",
       "    </tr>\n",
       "  </tbody>\n",
       "</table>\n",
       "</div>"
      ],
      "text/plain": [
       "         id                                           document  label\n",
       "0   8112052                                어릴때보고 지금다시봐도 재밌어요ㅋㅋ      1\n",
       "1   8132799  디자인을 배우는 학생으로, 외국디자이너와 그들이 일군 전통을 통해 발전해가는 문화산...      1\n",
       "2   4655635               폴리스스토리 시리즈는 1부터 뉴까지 버릴께 하나도 없음.. 최고.      1\n",
       "3   9251303  와.. 연기가 진짜 개쩔구나.. 지루할거라고 생각했는데 몰입해서 봤다.. 그래 이런...      1\n",
       "4  10067386                        안개 자욱한 밤하늘에 떠 있는 초승달 같은 영화.      1"
      ]
     },
     "execution_count": 4,
     "metadata": {},
     "output_type": "execute_result"
    }
   ],
   "source": [
    "import pandas as pd\n",
    "naver_df = pd.read_table(\"nsmc/\"+\"ratings.txt\")\n",
    "\n",
    "naver_df.head()"
   ]
  },
  {
   "cell_type": "code",
   "execution_count": 5,
   "id": "7b989c76",
   "metadata": {
    "scrolled": true
   },
   "outputs": [
    {
     "name": "stdout",
     "output_type": "stream",
     "text": [
      "데이터 개수 : 200000\n"
     ]
    }
   ],
   "source": [
    "print('데이터 개수 :', len(naver_df))"
   ]
  },
  {
   "cell_type": "markdown",
   "id": "55d99c31",
   "metadata": {},
   "source": [
    "## 중복데이터 및 결측치 처리"
   ]
  },
  {
   "cell_type": "code",
   "execution_count": 6,
   "id": "d64d2836",
   "metadata": {},
   "outputs": [],
   "source": [
    "origin_len = len(naver_df)"
   ]
  },
  {
   "cell_type": "code",
   "execution_count": 7,
   "id": "42af3765",
   "metadata": {},
   "outputs": [
    {
     "data": {
      "text/plain": [
       "id          0\n",
       "document    8\n",
       "label       0\n",
       "dtype: int64"
      ]
     },
     "execution_count": 7,
     "metadata": {},
     "output_type": "execute_result"
    }
   ],
   "source": [
    "naver_df.isnull().sum()"
   ]
  },
  {
   "cell_type": "code",
   "execution_count": 8,
   "id": "26d15bce",
   "metadata": {},
   "outputs": [
    {
     "name": "stdout",
     "output_type": "stream",
     "text": [
      "<bound method NDFrame._add_numeric_operations.<locals>.sum of            id  document  label\n",
      "0       False     False  False\n",
      "1       False     False  False\n",
      "2       False     False  False\n",
      "3       False     False  False\n",
      "4       False     False  False\n",
      "...       ...       ...    ...\n",
      "199995  False     False  False\n",
      "199996  False     False  False\n",
      "199997  False     False  False\n",
      "199998  False     False  False\n",
      "199999  False     False  False\n",
      "\n",
      "[199992 rows x 3 columns]>\n"
     ]
    }
   ],
   "source": [
    "naver_df = naver_df.dropna(how='any')\n",
    "print(naver_df.isnull().sum)"
   ]
  },
  {
   "cell_type": "code",
   "execution_count": 9,
   "id": "9e973ab9",
   "metadata": {},
   "outputs": [
    {
     "name": "stdout",
     "output_type": "stream",
     "text": [
      "결측치 제거 후 데이터 개수 : 199992\n"
     ]
    }
   ],
   "source": [
    "print('결측치 제거 후 데이터 개수 :', len(naver_df))  "
   ]
  },
  {
   "cell_type": "code",
   "execution_count": 10,
   "id": "34190901",
   "metadata": {},
   "outputs": [],
   "source": [
    "cleaned_corpus = naver_df.drop_duplicates(['document']) "
   ]
  },
  {
   "cell_type": "code",
   "execution_count": 11,
   "id": "667fd700",
   "metadata": {},
   "outputs": [
    {
     "name": "stdout",
     "output_type": "stream",
     "text": [
      "중복 제거 후 데이터 개수 : 194543\n"
     ]
    }
   ],
   "source": [
    "print('중복 제거 후 데이터 개수 :', len(cleaned_corpus))"
   ]
  },
  {
   "cell_type": "code",
   "execution_count": 12,
   "id": "b765986a",
   "metadata": {},
   "outputs": [
    {
     "name": "stdout",
     "output_type": "stream",
     "text": [
      "전처리 전 데이터 개수 : 200000\n",
      "전처리 후 데이터 개수 : 194543\n",
      "전처리 후 남은 데이터 양(%) 97.2715\n"
     ]
    }
   ],
   "source": [
    "print('전처리 전 데이터 개수 :', origin_len)\n",
    "print('전처리 후 데이터 개수 :', len(cleaned_corpus)) \n",
    "print('전처리 후 남은 데이터 양(%)', (len(cleaned_corpus)/origin_len)*100)"
   ]
  },
  {
   "cell_type": "code",
   "execution_count": 13,
   "id": "dc0b45e6",
   "metadata": {},
   "outputs": [
    {
     "data": {
      "text/html": [
       "<div>\n",
       "<style scoped>\n",
       "    .dataframe tbody tr th:only-of-type {\n",
       "        vertical-align: middle;\n",
       "    }\n",
       "\n",
       "    .dataframe tbody tr th {\n",
       "        vertical-align: top;\n",
       "    }\n",
       "\n",
       "    .dataframe thead th {\n",
       "        text-align: right;\n",
       "    }\n",
       "</style>\n",
       "<table border=\"1\" class=\"dataframe\">\n",
       "  <thead>\n",
       "    <tr style=\"text-align: right;\">\n",
       "      <th></th>\n",
       "      <th>id</th>\n",
       "      <th>document</th>\n",
       "      <th>label</th>\n",
       "    </tr>\n",
       "  </thead>\n",
       "  <tbody>\n",
       "    <tr>\n",
       "      <th>0</th>\n",
       "      <td>8112052</td>\n",
       "      <td>어릴때보고 지금다시봐도 재밌어요ㅋㅋ</td>\n",
       "      <td>1</td>\n",
       "    </tr>\n",
       "    <tr>\n",
       "      <th>1</th>\n",
       "      <td>8132799</td>\n",
       "      <td>디자인을 배우는 학생으로, 외국디자이너와 그들이 일군 전통을 통해 발전해가는 문화산...</td>\n",
       "      <td>1</td>\n",
       "    </tr>\n",
       "    <tr>\n",
       "      <th>2</th>\n",
       "      <td>4655635</td>\n",
       "      <td>폴리스스토리 시리즈는 1부터 뉴까지 버릴께 하나도 없음.. 최고.</td>\n",
       "      <td>1</td>\n",
       "    </tr>\n",
       "    <tr>\n",
       "      <th>3</th>\n",
       "      <td>9251303</td>\n",
       "      <td>와.. 연기가 진짜 개쩔구나.. 지루할거라고 생각했는데 몰입해서 봤다.. 그래 이런...</td>\n",
       "      <td>1</td>\n",
       "    </tr>\n",
       "    <tr>\n",
       "      <th>4</th>\n",
       "      <td>10067386</td>\n",
       "      <td>안개 자욱한 밤하늘에 떠 있는 초승달 같은 영화.</td>\n",
       "      <td>1</td>\n",
       "    </tr>\n",
       "  </tbody>\n",
       "</table>\n",
       "</div>"
      ],
      "text/plain": [
       "         id                                           document  label\n",
       "0   8112052                                어릴때보고 지금다시봐도 재밌어요ㅋㅋ      1\n",
       "1   8132799  디자인을 배우는 학생으로, 외국디자이너와 그들이 일군 전통을 통해 발전해가는 문화산...      1\n",
       "2   4655635               폴리스스토리 시리즈는 1부터 뉴까지 버릴께 하나도 없음.. 최고.      1\n",
       "3   9251303  와.. 연기가 진짜 개쩔구나.. 지루할거라고 생각했는데 몰입해서 봤다.. 그래 이런...      1\n",
       "4  10067386                        안개 자욱한 밤하늘에 떠 있는 초승달 같은 영화.      1"
      ]
     },
     "execution_count": 13,
     "metadata": {},
     "output_type": "execute_result"
    }
   ],
   "source": [
    "cleaned_corpus.head()"
   ]
  },
  {
   "cell_type": "code",
   "execution_count": 14,
   "id": "fc352ece",
   "metadata": {},
   "outputs": [],
   "source": [
    "naver_review = cleaned_corpus['document']"
   ]
  },
  {
   "cell_type": "code",
   "execution_count": 15,
   "id": "fc564ce2",
   "metadata": {},
   "outputs": [
    {
     "name": "stdout",
     "output_type": "stream",
     "text": [
      "문장의 최단 길이: 1\n",
      "문장의 최장 길이: 142\n",
      "문장의 평균 길이: 36\n"
     ]
    },
    {
     "name": "stderr",
     "output_type": "stream",
     "text": [
      "/tmp/ipykernel_31/1743548021.py:19: DeprecationWarning: `np.int` is a deprecated alias for the builtin `int`. To silence this warning, use `int` by itself. Doing this will not modify any behavior and is safe. When replacing `np.int`, you may wish to use e.g. `np.int64` or `np.int32` to specify the precision. If you wish to review your current use, check the release note link for additional information.\n",
      "Deprecated in NumPy 1.20; for more details and guidance: https://numpy.org/devdocs/release/1.20.0-notes.html#deprecations\n",
      "  sentence_length = np.zeros((max_len), dtype=np.int)\n"
     ]
    },
    {
     "data": {
      "image/png": "[encoded data removed]",
      "text/plain": [
       "<Figure size 432x288 with 1 Axes>"
      ]
     },
     "metadata": {
      "needs_background": "light"
     },
     "output_type": "display_data"
    }
   ],
   "source": [
    "min_len = 999\n",
    "max_len = 0\n",
    "sum_len = 0\n",
    "\n",
    "for sen in naver_review:\n",
    "    length = len(sen)\n",
    "    if min_len > length: \n",
    "        min_len = length\n",
    "        \n",
    "    if max_len < length: \n",
    "        max_len = length\n",
    "    \n",
    "    sum_len += length\n",
    "\n",
    "print(\"문장의 최단 길이:\", min_len)\n",
    "print(\"문장의 최장 길이:\", max_len)\n",
    "print(\"문장의 평균 길이:\", sum_len // len(naver_review))\n",
    "\n",
    "sentence_length = np.zeros((max_len), dtype=np.int)\n",
    "\n",
    "for sen in naver_review:\n",
    "    sentence_length[len(sen)-1] += 1\n",
    "\n",
    "plt.bar(range(max_len), sentence_length, width=1.0)\n",
    "plt.title(\"Sentence Length Distribution\")\n",
    "plt.show()"
   ]
  },
  {
   "cell_type": "code",
   "execution_count": 16,
   "id": "de06d870",
   "metadata": {},
   "outputs": [
    {
     "name": "stdout",
     "output_type": "stream",
     "text": [
      "내가 남자라그런가 이거 겁나 긴장감있고 흥미진진하던데..ㄷㄷ 나만그런가워낙에 격투씬을 좋아해서.ㅋㅋㅋ 그냥 아무생각없이 집에서 스마트티비로 봐서 재밌었나봄 이거 뭔영화인지도 모르고 암살에 나온 이정재 있길래 걍봄 ㅋㅋ 하여튼 너무 재밌게 봤음\n",
      "줄리아 로버츠의 웃음은 정말 보는 사람을 기쁘게 해준다. 웃음 하나로 기쁨과 슬픔을 표현할 수 있는 배우..전통을 깨고 여성의 새로운 삶을 살으라고 영화는 보여주는 데 영화에서는 전통을 완전히 벗어나야 한다는 것만을 강조하는 것 같아 아쉽다.\n",
      "평점 왜 이렇게 낮아요??? 영화 대박인데...진짜....ㅋㅋㅋ 와.. 어떻게 이런상상을 해서 이런 영화를... 대박대박.. ㅠ 생각지못한 반전.. 처음엔 반신반의하면서 봤는데.. 최고내요...ㄷㄷㄷ 근데 금발 여주는 중반에 좀 짜증나긴했음ㅋ\n",
      "큰 기대 안하고 띄엄띄엄 보다가 집중해서 봤네요!! 저는 잘봤습니다. 액션도 뛰어나고 아슬아슬한 장면들을 극복해 가는게 나름 잼있었어요!! 마지막에 여자 박사가 살았는지 죽었는지가 안나와서 좀 아쉽네요..그래도 딸은 살렸으니 다행스럽다는 ㅎㅎ\n",
      "누군가는 잃고, 누군가는 벌고, 또 누군가는 죽는 게임. 그리고 끊임없이 반복되는 삶과 기억의 굴레. 하지만 시작할 때부터 영화는 이미 심각했고, 지루했다. 다 본 후 생각해보니 그럴 수밖에 없었겠다 싶다. 넓고 얕은 재미, 길고 깊은 여운.\n",
      "영화내용은 사실별거 없지만 보고나면 생각을 많이하게 되는 영화임. 재미있기도 하고, 결론은 무엇이냐 하면 빨갱이들이 아무것도 모르는 사람들 선동해서 비참한 결과를 낳게 한다는 내용임. 복수심에 불타는 이북출신들도 나오는데 다 역사적인 사실임.\n",
      "고등학교때 보고 지금에서 생각난 영화 참~그땐 눈물 콧물 흘리면서 봤는데짐 보면 나올라나.. 하긴 세월이 많이 흘렀지 아마 짐 시대하곤 스토리자체가 뻔하니깐 하지만 지금도 잊혀지지않는장면은 주인공이 공부하는장면과하늘도 갈라놓지 못한 그들의사랑\n",
      "오스카는 흔히 볼수있는 아들이자 장난끼 많은 오빠 그리고 항상 미안해하는 남편. 감정이 앞서서 문제를 만들수도 있지만 언제나 마음은 내 가족, 내 사랑인 그 한사람. 정말 거지같은 상황속에서도 사랑이라는 한 단어로 살아남으려는 자를 짖밟았다.\n",
      "올타쿠나커플때문에 다시 우결 보게됬어여제가 소은이같은 성격이라 너무공감되고 설레여~소은씨는 드센게 아니라 남자를 잘 맞춰주고 흡수하는 스펀지같은 여자에요^^그리고 재림씨 자기마음을 다 말해주는 재림씨 너무짱~~~정말 오빠,아빠, 애기같은 매력\n",
      "오히려 평점 조작같은데.. 감독이 충무로 미움 삿을수도 있다는 생각까지 든다...한국영화 별로 좋아하진않지만.. 이영화가 이렇게까지 평점낮을만큼 재미없진 않다. 이정도 평점의 다른 영화같지않은 영화들과 비교할때 이 평점은 이해가 되질 않는다.\n",
      "이루어 질수 없기에 더욱 너무나 애절하고 안타까운 야하기만 한게 아니라 너무나 아름다운 영상. 그리고 소녀를 사랑하는 마음을 이룰 수 없는 중국인 청년의 안타깝고 애절한 눈빛. 소녀와 여인의 경계에 있는 제인마치도 너무나 묘하게 잘 어울린다.\n",
      "구작보다 묵시록적이고 웅장해짐. 아스카의 심리묘사가얇아지고 당위성이 부족해지는등의 단점이 있음에도 불구하고 현세대최고의 애니메이션중 하나임. 특히 영상미는 TVA판을 압도하고도 남을정도. 사골이아닌 새로운 스토리가 추가됫는데 굉장히 만족스러움\n",
      "오카다 마사키는 풋풋한 멜로에 정말 잘어울리는듯하다. 뭔가 첫사랑같은 느낌? 설레는 느낌을 주는 배우. 일본 멜로의 잔잔함이 이 영화에서도 드러난다. 청소년의 학업과 사랑 사이에서의 갈등도 무각본인만큼 자연스레 연기하여서 더욱 공감하며 봤다.\n",
      "이병우 작곡가의 곡들이 담긴 영화를 볼 때마다 느끼지만,이렇게 공포영화 음악을 아름답고 절묘하게 만드는 작곡가는 잘 없는 것 같다.한국 공포영화의 특징은 배경과 어우러지는 음악적 요소인데,이 작곡가가 어떻게 보면 그 처음이라고 볼 수 있겠다.\n",
      "지금 알고 있는걸 그때도 알았더라면... 내 가슴이 말하는 것에 더 자주 귀 기울였으리라더 즐겁게 살고 덜 고민했으리라사랑에 더 열중하고 그 결말에 대해선 덜 걱정했으리라.. 설령 그것이 실패로 끝난다 해도.... 웅... 너무 늙어서 봤다~\n",
      "인종차별과 불평등은 미국만의 문제가 아니다. 영웅적인 지도자가 아니라 서로 도와주려는 사람들의 연대감이 역사를 바꾼다는 것을 매우 사실적으로 보여준 영화다. 새로 알게 된 사실은 FBI가 킴 목사의 일거수일투족을 샅샅이 감시하고 있었다는 것.\n",
      "난 남자고 저 딸의 아비라면 저 김윤진 역보다 더 한 것도 할 수 있고 그 어미니의 아들입장이라면 저보다 더 한 것도 할 수 있다.. 평만보면 다들 공자시구만ㅋㅋㅋ 과연 정말 저 둘의 배역 중 하나의 입장이 된다면 그렇게 냉정할 수 있을까..\n",
      "뻔하고 진부하지만 그로인해 더 편안하고 행복한 결말. 나에게 있어 한국영화를 다시보게 만든 영화. 30대인 지금. 영화의 개봉 당시 10년 전으로 돌아가서 나의 무지개를 찾고 싶다.ps : 여태 본 영화중에 카메라에 빛을 가장 잘 담은 작품.\n",
      "This movie wowed and shocked me! 대학시절 과학사를 들었어도 이렇게 포괄적이고 모든 분야를 넘나드는 이해력을 갖을 수는 없었는 데. 융합적 사고의 총체! 초등학교에서 부터 대학교에 이르기까지 교양필수로 강추. 초강추.\n",
      "그저그런 로맨틱 코미디가 아닙니다~로맨틱 코미디도 프랑스에서 만들면 이렇게 멋진 영화가 나오는 군요 ㅋㅋ 문화를 주도해 나갔던 유럽인들의 풍속사를 잘 재현해 내었네요~ 코디디는 기본이구요! 이놈의 망할 제목때문에 안 뜬 영화 같습니다. -_-\n",
      "윤재문보다 인구아재의 딸과 마누라가 더 얄밉더라 고기만두사왔는데 휙 지나치는장면, 그동안 깡패짓으로번돈 잘써놓고선 한번도 떳떳한적없었다고말하는 마눌년 송강호가 울먹이면서 당신은 이러면안되지 라고할땐 울컥했다범죄영화가아니라 가장영화 아버지영화다\n",
      "같은 영화를 본다고 해도 내가 느낀 내가 받은 영향은 분명다르다. 이런 영화는 항상 뭔가 열어놓았기에,. 한 번씩 다시 보면 지난날의 나 혹은 앞으로의 나를 볼 수 있기도 하다., 또한 모든 아픔의 극복은 스스로 할 수 있게 놔두는게 좋다.,\n",
      "난 중국영화를 좋아하지만 천녀유혼은 5번밖에 안봤다. 어릴때라 영화에 대해 무지해서 명절때 누나가 보는걸 따라봤다. 하지만 20대가 되고나서 그시절 왜 장국영, 왕조현이 넘사벽인지 이영화를 보고 느꼈다. 왕조현 장국영은 아시아최고라 생각한다.\n",
      "스크린 너머로 배려심이라곤 없는 감독을 만나 개고생하는 두 여배우의 고통이 느껴졌다. 예술의 완성도가 꼭 극단으로 몰아부쳐야 완성되는가. 레아세이두의 말대로 존중만 해줬어도 진짜 완벽한 작품이 나오지 않았을까. 배우들의 노고때문에 10점이다.\n",
      "정말 미친듯 웃을 수 있어요~ 몰랐던 역사적 사실도 알게되고~출연자분 스텝분들 고생 많으시겠어요제 8의 멤버 이윤상님 나오실 때마다 웃겨요연기력에 감탄도 하게되고그리고 역시 정말 장동민 최고!!!시즌2 2번째 촬영에 콩이 또 나와서 즐겁습니다\n",
      "범죄없는세상 외치면서 그런사람들이 더하네 칭찬은 고래도 춤추게 한다 성지고 고생했다 한마디면 되는걸 한번도 못놀아본 사람 처럼 클럽,술 마신거 가지고 좀그러네 그건 뒷풀이야 방식이 다른것 뿐이지 자라나는 새싹 밟지말고 자신부터 돌아보고 잘하자\n",
      "연출력이 상당히 돋보이는 작품이다. 할배가 할매를 질식사 시킬 줄은 꿈에도 예측 못했다. 정말로충격적인 장면이었다. 할매가 나중에 어떻게 인생이 마감 할까? 내가 짐작하는바가 있었는데 갑자기 자기손으로할매를 보내다니...씁씁하기 그지 없었다.\n",
      "상당히 오래만든 만화임에도 잘만들었고 철학적 잔인함 여러성적 표현 이것은 다분한 우리 인생을 묘사하고 있다 베르세르크야 말로 우리 무뎌진 머리를 환상속에 빠져들게 만든다 판타지의 최고봉 애니를 적당하게 봐왔지만 이보다 나은 애니는 첮기 힘들다\n",
      "처음엔 정신이 피폐해진것같아 불쾌했다. 막연히 걱정하지만 넘겨버릴법한 범죄상황을 실감나고 섬세하게 묘사한 감독이 대단하다... 박진감은 넘치지만 억지상황이 난무해 문단속의 중요성을 잊게 한 불사여인의 비현실 영화 '숨바꼭질'이 문득 생각난다.\n",
      "수작이라고 평가한다. 보는 내내 긴장감과 궁금증을 유발하는 내용이며, 공포감과 스릴도 공존한다. 배우들의 연기도 전혀 위화감 없이 흘러간다. 다만 후속편은 굉장히 유치해졌으므로, 후속편은 보지 않는 걸 추천한다. 전 작품의 질까지 떨어뜨린다.\n",
      "역시 토이스토리. 재미있고 감동적일 뿐 아니라 현재만을 생각하는 21세기에 사는 우리에게 향수를 느끼게 하고 가끔은 잠시 모든 일을 내려놓고 어렸을 때 가지고 놀았던 장난감들을 생각하며 추억에 젖는 것도 나쁘지 않겠다고 생각하게 하는 영화다.\n",
      "감독님! 상업영화로 평가받고 싶지 않으면 혼자 영원히 습작하세요~ 가족끼리 친구끼리 오순도순 화기애애한거 스스로도 상업성에어 자유로울수 없으면서 쿨한척 하지맙시다. 그런상처 두려우면 투자받지도 마시고 학생들 데리고 작품전같은거 하시면 됩니다.\n",
      "부모님...특히 시부모님이 홍보관가서 사기당했다고 하소연하시는 분들~~~이 영화 꼭 좀 보셨으면좋겠어요..저도반성많이했네요...ㅜㅜ...솔직히 사회나와서 가정도 꾸리고하다보면 자기부모한테 소홀해지는사람많자나요~너무어르신들만 탓할수없을거같아요.\n",
      "요즘들어 다시보니 참 좋은영화다.길용의오토바이 뒤에 타며 고향얘기하는 신은경.참 슬프고 그림같은장면.길용역의 한정현씨라는분은 여기서 주연으로 나오는데 참 역할과 잘어울린다는 생각이.그이후의 작품은 거의 무술단역이고 더 비중있는 모습봤음 아깝네\n",
      "이 영화보면서 재미업다는 사람들은 역사좀 알아라영화에서 왜5.16을등장시키고 최규식 왜거론하는지 알지도못하니 그러지.. 한 남자의 인생을통해서 그시대적 상황을 알수있고 또 제목처럼 한남자가 그런상황에 맞춰 어뜩해 살았는지.. 보는 내내짠햇다.\n",
      "선라이즈 보고 이어서 봤는데 몰입감은 선셋이 좀더 좋은거 같고 작품성은 선라이즈가 나은듯 렛미싱유~♪ 3편 평점보다가 내용을 좀 알아버려서 아쉬움이.. 평점 안보고 볼껄... 사랑을 추억하는 영화 설레임 연애 애틋함이 느껴지는 좋은 영화였다.\n",
      "최근 보기드문 가족영화인 것 같아요!!보수적인 나도 애들의 천진스러운 생각과 가족에 대한 애듯한 사랑의 표현들에 나도 모르게 눈가에 눈물이 주르르 흐르더라고요! 다셋 ,여섯번정도..,저는 시사회에 두번 봤는데 , 두번째는 아들하고 함께봤어요!\n",
      "외모가 부각되어, 단순히 외모가 흉해서 몬스터인 줄 알았다. 그녀는 몬스터가 되었다. 점점 살인을 정당화해가는 모습이 이미 몬스터가 되었단 증거가. 하지만, 그녀를 그렇게 만든 몬스터가 있지 않았다면, 그녀도 이런 삶을 보내진 않았을 것이다.\n",
      "정말 재미있어요!!! 정말로정말로!!레나정은 딸을 빼앗기고 서인철박사가 집사?한테 주고키웠더니 나중엔 알게되서 레나정이 엄마가되고 TNC그룹 장남이 레나정과 결혼하고 장남의 동생인 박재준과 레나저의 딸과 결혼하고? 복잡하지만 재미있어요!!~~\n",
      "한국 영화 보면서 일케 웃어본적 몇년만인거 같네요 ㅋㅋㅋ 뭐 사람들 클라라 벗는 거만 생각하고 봤다가 실망해서 평점 1 주고 햇더만 전 원래 클라라 누군지 잘 몰라서 그냥 영화만 봣는대 웃겨서 ㅋㅋㅋ 팬티 입고 축구장간거에서 빵 터졋다는 ㅋㅋ\n",
      "지금 이 10점은 시즌 1을 위한것에 불과하다. PD도 대단했고, 그때 출연했던 강호동, 이승기, 은지원, 김종민, MC몽, 김C 등 호흡이 척척 맞았다. 물론 지금 안 맞는건 아니지만서도 웬지 모르게 시즌 1이 무척이나 그리운건 나 뿐인가?\n",
      "Mary Hopkin 의 Voyage of the Moon 이 흐르며 새하얀 커피잔에 커피와 독약이 함께 녹는다. 흠 잡을 곳이 없는 멋진 드라마.. 흡사 히가시노게이고 소설의 마무리를 보는 것 같았다. 죽어가는 채령의 모습은 오래 기억될듯.\n",
      "타계하신 배우,윤인자 님께서 주연으로 열연을 보여주신 당시 우리 영화로는 보기드문 수작이라고 기억합니다.오래전, 극장에서 본 영화라서 기억은 가물 대지만 ,전편에 잔잔하게 흐르는 음악도 좋았었구요...윤인자 님의호연이 참,좋았다고 생각합니다.\n",
      "쑨원의 삶을통해 신해혁명의 의미를 되새기고, 중국의역사를 알기쉽게 전달해준 감명깊은 영화였다., 공산당이라고 까는사람들은 중국이 원래는 공산당이 아니었다는사실을알아야한다. 신해혁명은, 청나라에대항해 한족이 일으킨혁명이며 공산당과는전혀상관이없다\n",
      "6점대는 아닌거 같다..곽경택영화는 항상 부담스럽긴 한데.. 겉멋 보다는 툭툭 던지는 욕설 섞인 구수한 사투리의 강한남성영화인거 같다. 출현 배우의 능력을 최대한 끌어내는 감독. 취향은 아니지만 영상 음악 나무랄데 없고 항상 대작스멜이 난다.\n",
      "마고가 루와 그의 가족과 있을때 중간중간 보여줬던 묘한 표정들 .. 외로워보이기도 하고 체념하는듯해보이기도 했는데 결국 마고가 루를 떠났던건 채워지지않는 외로움이 있어서가 아닐까 싶어요. 하지만 새로운 사랑도 이 외로움을 채워주지못한것같아요.\n",
      "오랜만에 보는 서부극.소재도 독특하고 음악역시 특이하게 가스펠을 편곡해서 썼는데, 색다르네. 배역도 좋았고,개인적으로 제프 브리짓스의 가래낀 목소리싫어하는데,헤일리스테인벨트 보는 맛에 참을 수 있었네. 오랜만에 보는 코엔형제작품, 강추합니다.\n",
      "최민식씨가 소주 한잔 하면서 우는장면에서뭐랄까... 아이들을 지키고 싶어하는 선생님의 모습을. 우리 아버지의 모습을. 또 점점 나이가 들어가면서 약해져가는 내 모습을 보는것 같아. 같이 울고 같이 힘내게 되네요. 위로 받았습니다. 감사합니다.\n",
      "인간이 '목적하'에 복제 인간을 만들어 낸다면 현실 가능성 있는 얘기 같다. 복제인간 관점에서 해피엔딩을 바라고 만족감을 바란다면 비추나 힘없고 나약한 그들의 존엄성도 동등히 존중받아야 하는 영혼을 가진 존재란 걸 느끼며 괜찮게 본 영화였다.\n",
      "창업을 꿈꾸는가! 좋은 아이템이 있어 사업을 하려하는가!! 그렇다면 기를 쓰고 이 영활 보기바란다!! 그 멀고 험한 여정에 스승이 될것이요 지침서가 될것이다... 혹은 단념에 도움이 될지도... 참 오랜만에 박장대소하며 본 독립영활세~~~ ★\n",
      "초등학생때 우연히 엄마 가곡집에서 가사를 보고 비디오를 빌려 본 사운드 오브 뮤직은 고등학생때까지?일년에 두번씩 꼭 챙겨보는 인생영화가 되었다. 아름다운 노래소리와 연출들.. 영화의 모든 ost가 이렇게 좋을수 있을까? 볼때마다 소름이 돋는다\n",
      "아주 개만도 못한 인간찌질이들이 악플다네ㅋㅋ 난 잼있게봤는데...영화는 말그대로 그냥 재미있으면 그만인거지..ㅋㅋㅋㅋ 이영화 악플달고 ㅈㄹ 하는 개 만도 못한 인간 찌질이 막장 인생들아.....ㅋㅋ 그냥 목 메러가라 OO 버려라 그냥 ㅋㅋㅋㅋ\n",
      "이영화를 우연히 보게 되고난후 난 너무 아름다웠다. 제작년 추석 TV에서 틀어준 봄여름가을겨울을 우연히 술이 꺤 직후 보게 되었고 난 아름다운 충격에 휩쌓였다. 그런데 그것도 김기덕의 영화였다. 난 이제 알았다. 김기덕은 대단하다는 것을...\n",
      "I am that I am. WHO MADE MAN'S MOUTH? WHO MADE THE DEAF, THE MUTE, THE SEEING OR THE BLIND? DID NOT I? NOW GO! you shall DO MY WONDERS!\n",
      "이 영화를 몇 번이고 보면 볼수록, 하나의 문장이 머릿속에서 떠나질 않았다. 한국은 관객을 위한 영화가 없다. 제발 우리나라 영화가 같잖은 억지눈물샘만 자극하는 돈만 보는 거지같은 거 그만하고 이 영화의 반 정도만 되는 영화를 만들길 바란다.\n",
      "한국 애니메이션을 진심으로 응원합니다. 박신혜씨는 억양이며 말투가 너무 어색하던데 아마 본인도 그 어색함을 느꼈을 듯. 반대로 송창의씨는 정말 자연스럽더군요. 성우인줄 알았는데 영화정보를 보고 알았네요. 오랜만에 보는 한국적인 애니메이션영화.\n",
      "아무도 지킬 생각도 없는 번들어진 규범과 규칙 따위가 대체 무슨 소용이 있나. 다들 기품있고 우아한 척 하지만 기실은 상-놈들이랑 하등 다를 바 없던 우리의 잘나신 나으리들이여. 영화의 모든 것을 장악하고 통제해낸 위대한 르누아르에게 경배를!\n",
      "오랜만에 영화보고 울었다.자이언트가 어디서 무슨목적으로 지구에 왔는진 중요하지 않다. 자이언트는 올바른 길을 선택했고 슈퍼맨이 되었다. 결국 상황이 어떻든 내가 옳은 판단을 하면 되는거다. 이렇다 변명따위 필요없이 나는 내가 선택한대로 된다.\n",
      "영어 잘 못 하는 분들이나 Skype 이용 안 해본 사람한테는 재미 없을 겁니다. 하지만, 연출, 플롯, 영상 등 작품성으로 보면 아주 훌륭한 작품입니다. SNS를 이용하는 모두가 꼭 반드시 봐야 된다고 생각합니다. 친구들한테도 추천해주세요.\n",
      "이 영화에 나오는 잔인한 부분은 시각적으로 자극을 줄려고 만든 것이 아니라 영화가 전달하고자 하는 부분들을깊게 나타내기 위한 요소로 느껴져서 너무 좋앗습니다. 고통이 가지는 의미 전쟁의 참혹함.. 마지막 부분의 여운은 정말.... 최고네요ㅜㅜ\n",
      "잠수함이 부상할때 나오는 마초적인 음악은 정말 남자의 가슴을 흥분시킨다. 잠수함이라는 특수한 공간의 폐쇄성을 지극히 사실적으로 살린 수작 중의 수작!!! 아무리 헐리웃의 CG특수효과가 대단하다하지만 아날로그의 감성을 절대 이길 수는 없지...\n",
      "생각보다 재밌는데 왜 평점이 낮은지 이해가 안된다. 박하선의 연기가 일품이고....특히 여고생연기, 음치흉내내는것 등등 박하선의 매력에 푹~ 빠지게 만드는 그런 영화다....요즘 유머코드와 안맞아서 흥행실패한지는 모르겠지만....암튼 재밌음.\n",
      "브로드웨이에서 직접 보고 영화로 또 봤지만 역시 최고의 감동! 말이필요없네요!! 연출도 훌륭했고 영화는 또 영화만의 매력이 있고 황홀한 음악과 화려한 볼거리로 가득했던 The Phantom of the opera!! Phantastic!!!!\n",
      "신랄하게 주고받는 악담도 재치터지고 가끔씩 폐부를 찌르는 교훈이라고 해야하나 느낀점이라고해야하나 그런것도 감탄을 하게 만듦무엇보다 인물이 너무 생생해서 좋다대사하나하나에 그인물이 물씬 물씬 느껴진다굉장히 생동감있는- 색채가 화려한 대사들이었다\n",
      "28일후는 단순한 좀비영화가 아니라 인간의 본성이 무엇인지, 그리고 집단적 폭력과 비합리적인 권위가 얼마나 위험한 것인지(심지어 좀비보다도)를 보여주려고 한 영화다. 조지 로매오의 살아있는 시체들의 밤과 더불어 좀비 영화의 명작이라고 생각함.\n",
      "Com-아끼고 아껴보던.. 정말.. 명작.. 주옥같은 그 당시 노래와.. 소품들.. 그리고.. 기대치 않았던.. 신인배우들의 연기력... 깨알같던.. 까메오 출연과.. 실타래 풀리는 듯한 스토리가.. 회를 거듭할수록 기대하게 하는 명작 드라마\n",
      "1박2일 시즌1은 그야말로 레전드라 할 수 있겠다. 구성, 출연진, 패턴, 시간대, 조합 등등 모든것이 최고였고, 시청률 역시 40%는 그냥 쉽게쉽게 찍었었지...강호동, 이수근, 은지원, 김종민 참 대단했지...MC몽 병역연기사건이후 하락세\n",
      "인격의 다양한 면을 감각적으로 표현한 멋진 작품. 차안에서의 하가안과 고지위의 동행장면과 마지막에 겁쟁이를 한번더 추악하게 만든 장면 등에서 눈에 보이는 것 이상의 디테일한 세상을 가시적으로 전달하여 상황을 더 인상적이게 표현한 것이 좋았다.\n",
      "작품성, 현실성으로 승부해야 할 다큐무비였다. 한국에 수입되며 상어나오는 B급 여름 스릴러처럼 마케팅해 커플들이 껴안을생각으로 영화관 갔다가 뒤통수 맞으니 환불이나 요청하지. 조난에 대한 현실성은 10점을 줘도 아깝지 않은 안타까운 수작이다.\n",
      "무지한 사람들이 보기에는 덜떨어진 패러디물, 하지만 자세히 찾아보면 사회풍자와 멋드러지게 잘꾸며진 외면 내부에 숨겨진 추악한 부분을 들춰낸다는 깊은 메세지를 담은 영화. 무작정 3류코미디영화라고 생각한다고 본다면 그사람에겐 더이상해줄말이없다.\n",
      "뭐 역사를 다룬영화니 역사왜곡이느니 어쩌구하는 인간들많다 근데 영화는 영화일뿐이고전쟁중에서의 시점은 스파르타시점이니 그 시점에서의 페르시아가 그렇게보인다는 식으로 꾸민건데(적군이고 스파르타 입장이니) 그냥 영화로봐라 영화로 무슨 역사공부하냐?\n",
      "맨 마지막... 강렬했다. 특히 마지막 장면. 어째 슌지는 꼭 자살해서 죽을것 같더라니 ㅠㅠ 우리는 모두 각시탈이고 이 나라의 영웅이다. 우리나라 정말 만세다!! 이번 드라마로 많은 걸 생각한듯.. 교훈과 아쉬움과 뭉클함을 남기고 끝났구나ㅠㅠ\n",
      "장가위감독은 천재다. 대사도 많지 않으면서 관객에게 많은 생각을 하게해준다. 양조위, 장만옥의 연기 또한 일품이다.이 영화를 열번정도 보았는데 다시봐도 질리지 않는 영화로 내겐 고전이 되었다. 음악도 감미롭고, 카메라 워크도 좋았고, 영상미도\n",
      "개인적으로는 에밀리 브론떼의 폭풍의 언덕, 유진 오닐의 밤의로의 기로 같은 작품을 떠올리게 하는 김기덕 감독 식 시나리오의 작품. 이번 작품 또한 오래 오래 생각할 부분이 많을 것 같다. 각본도, 연기도 정말 좋다. 긴장을 놓지 못하고 봤다.\n",
      "독창적이고 종교적 색채(?)가 짙은 영화이지만、맨 프롬 어스와 같이 많은 것을 생각하게 해주는 영화입니다。종교에 대한 생각 자체가 신이 아닌 믿음으로 정의 된다면 상당히 얻어 갈 수 있는 교훈적인 영화이지요~참、좋은 시간이었습니다。강력추천！！\n",
      "이 영화를 단순히 스시에 대한 다큐라고 보지 않으셨으면 합니다ㅋ 일부 전문가들은 이 영화의 전개 등이 뻔하다고 생각 하지만. 이는 감독의 의도를 생각하지 못한 짧은 생각인것 같습니다. 자신의 삶을 이 영화를 거울 삼아 되돌아 보셨으면 합니다.\n",
      "토시오와 가야코가 나와서 무조건 죽이고 다니는, 별 스토리 없는 기존의 주온보다 오히려 더 좋았다. 탄탄한 스토리, 드라마성을 지닌... 새로운 주온으로 거듭날 가능성이 보인다. 좀 안타깝기도 하고 애처롭기도 했다. 꼬마애가 철권날릴때 멋있어\n",
      "난 이런 병맛 같은 영화가 좋다. 매력있는 캐릭터의 집합소이며 어디로 튈 지 모르는 인물들과 스토리에 빠져 들어감. 휘몰아치는 이야기 전개 아니라서 좋고 흔하디 흔한 악역과 갈등 뭐 이런 거 없어서 식상하지 않음. 웃긴데 뭔가 안 웃겨서 좋음\n",
      "톰행크스의 샤프하고차분한연기가 굿.아울러 영화시작과 끝부분에나오는<street of philadelpia>와 <philadelpia>음악은 화룡점정<나는당신의사상에 반대한다.하지만당신이 그사상때문에 탄압을 받는다면 나는당신의편에서서 싸울것이다\n",
      "90년대는 홍콩영화계에 전성기라고 해도 과언이 아닌 시절이죠 그시절에 최고의 여배우들 세명이 나왔던 영화 스토리는 약해도 이러한 영화에 스토리를 찾는 것이 어불성설이지만 진짜 대박이였던 영화 그영화를 다시 리마스터링으로 볼수가 있다니 놀랍네요\n",
      "연기도 스토리도 최괴입니다. 몰입도도 굉장해거 영화애서 눈을 뗄수 없었습니다. 이번 영화로 영국의 역사에도 관심이 생겼네요. 그리고 배우들 연기도 정말 굉장했습니다. 야망에 찬 삶보다는 역시 소박하지만 행복한게 최고라는 생각을 가지게 되었네요\n",
      "케이블tv 에서 우연히 잠깐보고 재미있어 1000원이나 주고 다운받아 보는 중인데, 무한도전이나 개그콘서트도 수준낮다 무시하고 안보는 저이지만 이건 대놓고 코메디인데도 대사들이 인간 본성을 솔직히 드러내 화통하고 재미있습니다. 꼭 한번 보세요\n",
      "극초반에는 다소 억지스러운 설정이다 싶었는데 중반이후부터는 완전 몰입해서 봤습니다. 원작 보다 훌륭한 완성도 그리고 이범수, 정려원의 열연, 열정에 박수 갈채를 보내드리고 싶었고 너무 극전개가 탄탄했고 재미있어서 눈을 뗄 수 없었던 것 같아요\n",
      "내인생 최고의 드라마 라는 수식어가 당연한 최고의 걸작이었다.드라마 끝난지가 5개월이 다 되어가는데도 계속 반복해서 보고있다..매번 흠뻑 빠져서..스토리도 감동이었고 최영장군의 이민호는 최고의 캐스팅이었다.요즘세상 보기드문 감동드라마 신의!!\n",
      "레미제라블을보고, 스위니토드는 생각보다 배우들급이 낮았구나 싶었는데 다시보니 진정한 걸작이다. 가위손 이후 팀버튼과 조니뎁의 시너지가 가장 잘 발현된 작품! 음울한 런던을 표현한 미술에, 손드하임의 탁월한 음악. 주제표현까지 완벽한 잔혹동화!\n",
      "참신하긴해. 헨젤과 그레텔 오누이 가 또 이젠 대한민국으로와갖고, 마녀사냥 접고 일찐 학생들 사냥해주었으면 좋겠다.헨젤과 그레텔이 마녀사냥 때 했던것처럼,,석궁과 총탄으로 일찐 학생들을 송송 벌집 내줬으면 좋겠구나.헨젤과그레텔-일찐학생 사냥꾼\n",
      "이뮤지컬영화에 왜 이렇게 빠졌는지 나도잘 모르겠다. 수도 없이 봐서 이제 내가 이영화를 총 몇번 봤는지 기억도 안난다. 40~50번 정도 본거 같다. 열정 그래 이영화를 보면 열정이 살아 난다. 삶이 힘들때마다 내게 열정을 불어넣어준 \"렌트\"\n",
      "누가 그랬다 20살의 남자는 임신을 보고도 섹스 하는 상상만하지만....자식을 키운 남자는 임산부가 아름답게 보인다고..영화에게 몇년전에 느낀거 보다 더 많은것이 느껴진다..보면 볼수록...나이가 들수록... 좋은 영화다. 현실속의 사랑이..\n",
      "개인적으로, 굉장한 걸작이란 생각이 든다. 여자가 강간을 당했다고 진술한 이유에 대해 논란이 많은데, '문화충격'으로 인한 심리적 여파와 영국인들의 텃세, 강압에 의해 어쩔 수 없이 거짓말한거라고 생각한다. 어찌되었든 최고의 걸작 중 하나..\n",
      "영화를 보면서 모든 화장을 마친 완벽한 여자의 모습과 화장을 지운 여자의 모습을 보는 것 같았다. 그만큼 반전의 느낌이 정말 강했다. 완벽하다고만 생각했는데 생각지도 못한 반전에 놀랐고 그 반전에 담겨있는 내용과 그 내용 풀이가 정말 좋았다.\n",
      "배우 이민호와 김희선의 어울리지 않을것 같은 어울림이 묘한 매력으로 다가오는 신의 ^^ 타임스립드라마의 최고봉이라 할 수 있답니다. 잔잔하게 애잔한 신의의 매력으로 풍덩 빠져보심이 어떨런지 ^^ 내인생 최고의 드라마였습니다. 적극 추천합니다.\n",
      "햇살님 평보고 너무 어이없어서 로그인하네요.역겨우면 영화를 보지 말지 그러셨어요.? 아니 애초부터 동성애에 대해 편견을 가지고 있는 분이라면 차라리 영화보지말지 굳이 감상평까지 친절하게 남겨주시네요ㅋ입장바꿔생각해봐요이렇게까지욕먹을껀아니라생각함\n",
      "사람들 절반이, 잘못알고있는데ㅋㅋ 진화촉진제 맞은 인간들이 바로 돌연변이 된게 아니라... 진화촉진제 맞은 인간들이ㅡ 후손남기고 극한환경에ㅡ 맞게끔 900년걸쳐서 진화한건데;;; 전자로 생각하면 진짜 평점 낮을수밖에ㅋ기자/평론가들 태반일거임ㅋ\n",
      "아시아권을넘어 세계적 예인(藝人)으로 살다간 \"그\" 가 가고 난 후에도 지금까지 난 그를 동시대 사람으로 늘 그리워하기에 혹시 내가 그의 흔적 무엇인가를 놓쳤을까봐 찾아보고 또 찾아본다. 그리고 지금 놓쳤던 그의 흔적 유성어를 지금 보고있다.\n",
      "이 영화 재미있게 본 분들은 이 영화 제작기 다큐인 \" Hearts of Darkness : A Filmmaker's Apocalypse\" 라는 다큐를 보세요. 또 다른 재미를 느끼실 수 있을 겁니다. 한글자막도 있으니 검색해서 찾아 보시길.\n",
      "다양성을 인정하지 못한다면, 이 불쾌한 영화가 싫을 수도 있다. 하지만 당신이 이 영화 속 인물들 때문에 역겨움을 느꼈다면, 아마 제작진의 의도는 거의 성공적으로 당신에게 먹힌것 일 거라고 생각한다.. 이 영화, 블랙코미디 영화라고 써있던데.\n",
      "단순히 겉모양만 흉내낸 것이 아닌 진짜 성찰이 있는 캐릭터들이 마치 톱니바퀴처럼 완벽하게 맞아 돌아간다. 다른 영화를 볼 때, '과연 내가 이런 영화를 만들 수 있을까?' 라는 생각을 하게 되는데 이 영화는 감히 그런 발상조차 할 수 없었다.\n",
      "님을 생각하면 너무 가슴 아프다... 일년 후 박사가 다시 왔을때... 님이 기뻐하며 안기는 그 모습만 생각하면 가슴이 아파 미치겠다...그리곤 다시 오지 않았지...인간의 잔인함... 님을 생각하면 가슴아프고...미안하고... 너무괴롭다..\n",
      "마지막까지 로맨틱한 사랑을 꿈꾸는 젊은 청춘들..허나 나같은 청춘의 마지막 기로에서도 아직까지 영원불멸 로맨틱을 꿈꾼다.. 이 영화는 점점 현실이 되어가서 실망을 안겨줄것 같다가도 그러나 영원불멸한 사랑은 꼭 존재한다는것을 가르쳐주었다 : )\n",
      "도심속에 꽉찬 머리속을 비우는 느낌이 좋다대사도 그리 많지 않고 잔잔하면서 서정적인 풍광작은집 외벽 이곳 저곳 벗겨진 페인트가 세월의 자연스러움을 보여준다이국적이지만 동양적 시각으로 앵글에 담겨진 하와이가너무나 아름답게 내눈을 편안하게 해준다\n",
      "사운드며 조승우의 보컬이 너무 좋았다.하지만 가장 좋았던겄은 별로 좋아하지 않았던신민아~♡그녀의 인생연기. 화면이(감독이 암흑기를 표현했겠지만)더 아름다웠을듯.좋아하는 감독님이 추억의 가요로 리머이크를 잘 해준다면 오백만 이상 자신해요~^^)\n"
     ]
    }
   ],
   "source": [
    "def check_sentence_with_length(raw, length):\n",
    "    count = 0\n",
    "    \n",
    "    for sen in raw:\n",
    "        if len(sen) == length:\n",
    "            print(sen)\n",
    "            count += 1\n",
    "            if count > 100: return \n",
    "\n",
    "check_sentence_with_length(naver_review, 135)"
   ]
  },
  {
   "cell_type": "code",
   "execution_count": 17,
   "id": "d4e04274",
   "metadata": {
    "scrolled": false
   },
   "outputs": [
    {
     "name": "stdout",
     "output_type": "stream",
     "text": [
      "Outlier Index: 2\n",
      "Outlier Index: 3\n",
      "Outlier Index: 4\n",
      "Outlier Index: 5\n",
      "Outlier Index: 6\n",
      "Outlier Index: 7\n",
      "Outlier Index: 8\n",
      "Outlier Index: 9\n",
      "Outlier Index: 10\n",
      "Outlier Index: 11\n",
      "Outlier Index: 12\n",
      "Outlier Index: 13\n",
      "Outlier Index: 14\n",
      "Outlier Index: 15\n",
      "Outlier Index: 16\n",
      "Outlier Index: 17\n",
      "Outlier Index: 18\n",
      "Outlier Index: 19\n",
      "Outlier Index: 20\n",
      "Outlier Index: 21\n",
      "Outlier Index: 22\n",
      "Outlier Index: 23\n",
      "Outlier Index: 24\n",
      "Outlier Index: 25\n",
      "Outlier Index: 26\n",
      "Outlier Index: 27\n",
      "Outlier Index: 28\n",
      "Outlier Index: 29\n",
      "Outlier Index: 30\n",
      "Outlier Index: 31\n",
      "Outlier Index: 32\n",
      "Outlier Index: 33\n",
      "Outlier Index: 34\n",
      "Outlier Index: 35\n",
      "Outlier Index: 36\n",
      "Outlier Index: 37\n",
      "Outlier Index: 38\n",
      "Outlier Index: 39\n",
      "Outlier Index: 40\n",
      "Outlier Index: 41\n",
      "Outlier Index: 42\n",
      "Outlier Index: 43\n",
      "Outlier Index: 44\n",
      "Outlier Index: 45\n",
      "Outlier Index: 46\n",
      "Outlier Index: 47\n",
      "Outlier Index: 48\n",
      "Outlier Index: 49\n",
      "Outlier Index: 50\n",
      "Outlier Index: 51\n",
      "Outlier Index: 52\n",
      "Outlier Index: 53\n",
      "Outlier Index: 54\n",
      "Outlier Index: 55\n",
      "Outlier Index: 56\n",
      "Outlier Index: 57\n",
      "Outlier Index: 58\n",
      "Outlier Index: 59\n",
      "Outlier Index: 60\n",
      "Outlier Index: 61\n",
      "Outlier Index: 62\n",
      "Outlier Index: 63\n",
      "Outlier Index: 64\n",
      "Outlier Index: 65\n",
      "Outlier Index: 66\n",
      "Outlier Index: 67\n",
      "Outlier Index: 68\n",
      "Outlier Index: 69\n",
      "Outlier Index: 70\n",
      "Outlier Index: 71\n",
      "Outlier Index: 72\n",
      "Outlier Index: 73\n",
      "Outlier Index: 74\n",
      "Outlier Index: 75\n",
      "Outlier Index: 76\n",
      "Outlier Index: 77\n",
      "Outlier Index: 78\n",
      "Outlier Index: 79\n",
      "Outlier Index: 80\n",
      "Outlier Index: 81\n",
      "Outlier Index: 82\n",
      "Outlier Index: 83\n",
      "Outlier Index: 84\n",
      "Outlier Index: 85\n",
      "Outlier Index: 86\n",
      "Outlier Index: 87\n",
      "Outlier Index: 88\n",
      "Outlier Index: 89\n",
      "Outlier Index: 90\n",
      "Outlier Index: 91\n",
      "Outlier Index: 92\n",
      "Outlier Index: 93\n",
      "Outlier Index: 94\n",
      "Outlier Index: 95\n",
      "Outlier Index: 96\n",
      "Outlier Index: 97\n",
      "Outlier Index: 98\n",
      "Outlier Index: 99\n",
      "Outlier Index: 100\n",
      "Outlier Index: 101\n",
      "Outlier Index: 102\n",
      "Outlier Index: 103\n",
      "Outlier Index: 104\n",
      "Outlier Index: 105\n",
      "Outlier Index: 106\n",
      "Outlier Index: 107\n",
      "Outlier Index: 108\n",
      "Outlier Index: 109\n",
      "Outlier Index: 110\n",
      "Outlier Index: 111\n",
      "Outlier Index: 112\n",
      "Outlier Index: 113\n",
      "Outlier Index: 114\n",
      "Outlier Index: 115\n",
      "Outlier Index: 116\n",
      "Outlier Index: 117\n",
      "Outlier Index: 118\n",
      "Outlier Index: 119\n",
      "Outlier Index: 120\n",
      "Outlier Index: 121\n",
      "Outlier Index: 122\n",
      "Outlier Index: 123\n",
      "Outlier Index: 124\n",
      "Outlier Index: 125\n",
      "Outlier Index: 126\n",
      "Outlier Index: 127\n",
      "Outlier Index: 128\n",
      "Outlier Index: 129\n",
      "Outlier Index: 130\n",
      "Outlier Index: 131\n",
      "Outlier Index: 132\n",
      "Outlier Index: 133\n",
      "Outlier Index: 134\n",
      "Outlier Index: 135\n",
      "Outlier Index: 136\n",
      "Outlier Index: 137\n",
      "Outlier Index: 138\n",
      "Outlier Index: 139\n",
      "Outlier Index: 140\n"
     ]
    }
   ],
   "source": [
    "# sentence_length[문장 길이] = 갯수 \n",
    "# idx = 문장길이 , _sum = 해당 문장 길이인 문장의 개수 \n",
    "\n",
    "for idx, _sum in enumerate(sentence_length):\n",
    "    # 문장의 수가 135 초과하는 문장 길이를 추출\n",
    "    if _sum > 135:\n",
    "        print(\"Outlier Index:\", idx+1)"
   ]
  },
  {
   "cell_type": "code",
   "execution_count": 18,
   "id": "586666f0",
   "metadata": {},
   "outputs": [
    {
     "name": "stdout",
     "output_type": "stream",
     "text": [
      "굿\n",
      "핡\n",
      "휴\n",
      "시\n",
      "ㅋ\n",
      "ㅇ\n",
      "‥\n",
      "O\n",
      "갑\n",
      "ㅎ\n",
      ".\n",
      "올\n",
      "헷\n",
      "g\n",
      "♥\n",
      "짱\n",
      "ㅆ\n",
      "굳\n",
      "잼\n",
      "ㅁ\n",
      "?\n",
      "애\n",
      "흠\n",
      "!\n",
      "찜\n",
      "b\n",
      ",\n",
      "1\n",
      "9\n",
      "♬\n",
      "ㅗ\n",
      "ㄳ\n",
      "ㄴ\n",
      "호\n",
      "a\n",
      "d\n",
      "f\n",
      "음\n",
      "헐\n",
      "캬\n",
      "린\n",
      "업\n",
      "乃\n",
      "ㅠ\n",
      ";\n",
      "·\n",
      "k\n",
      "움\n",
      "ㄱ\n",
      "쩜\n",
      "-\n",
      "군\n",
      "ㅉ\n",
      "훗\n",
      "z\n",
      "쨩\n",
      "뿌\n",
      "♡\n",
      "하\n",
      "h\n",
      "ㅍ\n",
      "꽉\n",
      "토\n",
      "귯\n",
      "아\n",
      "오\n",
      "ㅣ\n",
      "봐\n",
      "웅\n",
      "네\n",
      "ㅂ\n",
      "꿈\n",
      "헉\n",
      "와\n",
      "뻑\n",
      "걍\n",
      "헝\n",
      "우\n",
      "즛\n",
      "풉\n",
      "4\n",
      "쀍\n",
      "ㄹ\n",
      "삼\n",
      "쒯\n",
      "즐\n",
      "함\n",
      "0\n",
      "진\n",
      "악\n",
      "풋\n",
      "쩝\n",
      "욜\n",
      "ㄷ\n",
      "흐\n",
      "싫\n",
      "ㅜ\n",
      "잏\n",
      "허\n",
      "엿\n",
      "쉣\n"
     ]
    }
   ],
   "source": [
    "check_sentence_with_length(naver_review, 1)"
   ]
  },
  {
   "cell_type": "code",
   "execution_count": 19,
   "id": "33c7d02e",
   "metadata": {},
   "outputs": [
    {
     "name": "stdout",
     "output_type": "stream",
     "text": [
      "내용이너무좋아요.ㅎ\n",
      "뀰잼이다뀰잼이라구여\n",
      "13살이엇냐?...\n",
      "알파치노 연기때문에\n",
      "이물감. 시 같았다\n",
      "매력적인 영화...\n",
      "이거 재밌는데...\n",
      ".겁쟁이페달보고싶다\n",
      "한국 영화치고 좋다\n",
      "정말 멋진 결말!ㅎ\n",
      "너무 잘 봣어요..\n",
      "도라에몽 최고~!!\n",
      "정말 재밋내요..굿\n",
      "너무끔찍하네요ㅜㅜㅜ\n",
      "유지태 너무 멌있다\n",
      "진짜..쩔지..ㅜㅜ\n",
      "개꿀재밋다뿌잉최고임\n",
      "박보영 나와서 추천\n",
      "그냥 재밌습니다^^\n",
      "카이키는차캤습니다.\n",
      "이거왜청불임????\n",
      "소재가 새로웠던..\n",
      "이거완전 추전!~~\n",
      "1236547890\n",
      "평점이왜이래....\n",
      "조용하고 잔잔한영화\n",
      "왜안 저스티스리그요\n",
      "영화의매력에빠졌어요\n",
      "피터팬너무좋아요ㅠㅠ\n",
      "엄청재밌어요정의성굳\n",
      "계속 울었다..ㅜㅜ\n",
      "재밋다 그외는 없고\n",
      "재미나요~귀여워요~\n",
      "내가본한국최고의애니\n",
      "인간은 자유의 노예\n",
      "만세!!!!짱재밌음\n",
      "아날로그적 감성..\n",
      "완전 재밌다 ㅋㅋㅋ\n",
      "유덕화아저씨잘생겼다\n",
      "통일호 화장실 강추\n",
      "구르재매맴잼잼잼잼젬\n",
      "아직까지도 여운이.\n",
      "스크림보다 재밌네!\n",
      "좋았다.(열자..)\n",
      "지극히 붉은 영화.\n",
      "이거죠~이거!!!!\n",
      "여운이너무많이남아요\n",
      "스티브잡스가생각나요\n",
      "제시카 알바 좋아요\n",
      "정말 잘 만든 사극\n",
      "나쁘지많은않은...\n",
      "재밌네 이거 ㅋㅋㅋ\n",
      "난 너무 재밌엇음~\n",
      "보.고.싶.다.!!\n",
      "즐겁게 볼수있었던!\n",
      "Very good!\n",
      "여자 걸그룹이 이쁨\n",
      "7.32 라니 ㅋㅋ\n",
      "전편 다보고싶다..\n",
      "좋다~~ 사랑스러운\n",
      "진짜감동이다감동이야\n",
      "나는 재미있게 봤다\n",
      "애니의새로운 개척점\n",
      "감동이 있는 이야기\n",
      "재미있게 봤어요^^\n",
      "가나다라마바사아자차\n",
      "좋아요정말좋아요정말\n",
      "엄청재밌어요꼭보세요\n",
      "정말 잘 만들어졌음\n",
      "넝쿨째굴러온당신짱!\n",
      "야하지만 좀 재밌다\n",
      "정말대단한거같다는ㅋ\n",
      "굿굿굿굿굯굿굿굿귯귯\n",
      "이것도 꽤 명작이지\n",
      "최고의 영화중 한편\n",
      "잔잔한 멋이 있네요\n",
      "겁나재밌었음!!!!\n",
      "내인생최고의액션영화\n",
      "감동의 물결....\n",
      "볼만함~재밋음~굿굿\n",
      "정말재밌게잘봤습니다\n",
      "장근석존잘박신혜존예\n",
      "솔직히 재밌다 ㅋㅋ\n",
      "늘 감동이었네요..\n",
      "배울점이많은영화ㅋㅋ\n",
      "일주일만에 다봣다.\n",
      "재미있게 본 영화~\n",
      "멋지고 감동적이다.\n",
      "너무 좋은 영화예요\n",
      "이영아 넘 이뻐^^\n",
      "붉은매다시보고싶다.\n",
      "웨스턴무비의 교과서\n",
      "가슴이 시리네요..\n",
      "말이 필요없네요..\n",
      "정말 잘 만든 영화\n",
      "잼있다ㅎㅎ다시봐야지\n",
      "감동스토리.....\n",
      "느낄수 있는 영화!\n",
      "완전 재미있게 봤다\n",
      "잼이잇어용꼭보새용잼\n",
      "좋은데 왠지 슬프다\n"
     ]
    }
   ],
   "source": [
    "check_sentence_with_length(naver_review, 10)"
   ]
  },
  {
   "cell_type": "code",
   "execution_count": 20,
   "id": "0600e11a",
   "metadata": {},
   "outputs": [
    {
     "name": "stdout",
     "output_type": "stream",
     "text": [
      "Data Size: 194543\n",
      "문장의 최단 길이: 1\n",
      "문장의 최장 길이: 142\n",
      "문장의 평균 길이: 36\n"
     ]
    },
    {
     "name": "stderr",
     "output_type": "stream",
     "text": [
      "/tmp/ipykernel_31/925258780.py:18: DeprecationWarning: `np.int` is a deprecated alias for the builtin `int`. To silence this warning, use `int` by itself. Doing this will not modify any behavior and is safe. When replacing `np.int`, you may wish to use e.g. `np.int64` or `np.int32` to specify the precision. If you wish to review your current use, check the release note link for additional information.\n",
      "Deprecated in NumPy 1.20; for more details and guidance: https://numpy.org/devdocs/release/1.20.0-notes.html#deprecations\n",
      "  sentence_length = np.zeros((max_len), dtype=np.int)\n"
     ]
    },
    {
     "data": {
      "image/png": "[encoded data removed]",
      "text/plain": [
       "<Figure size 432x288 with 1 Axes>"
      ]
     },
     "metadata": {
      "needs_background": "light"
     },
     "output_type": "display_data"
    }
   ],
   "source": [
    "min_len = 999\n",
    "max_len = 0\n",
    "sum_len = 0\n",
    "\n",
    "cleaned_corpus = list(set(naver_review))  # set를 사용해서 중복을 제거\n",
    "print(\"Data Size:\", len(naver_review)) \n",
    "\n",
    "for sen in naver_review:\n",
    "    length = len(sen)\n",
    "    if min_len > length: min_len = length\n",
    "    if max_len < length: max_len = length\n",
    "    sum_len += length\n",
    "    \n",
    "print(\"문장의 최단 길이:\", min_len)\n",
    "print(\"문장의 최장 길이:\", max_len)\n",
    "print(\"문장의 평균 길이:\", sum_len // len(cleaned_corpus))\n",
    "\n",
    "sentence_length = np.zeros((max_len), dtype=np.int)\n",
    "\n",
    "for sen in naver_review:   # 중복이 제거된 코퍼스 기준\n",
    "    sentence_length[len(sen)-1] += 1\n",
    "\n",
    "plt.bar(range(max_len), sentence_length, width=1.0)\n",
    "plt.title(\"Sentence Length Distribution\")\n",
    "plt.show()"
   ]
  },
  {
   "cell_type": "code",
   "execution_count": 21,
   "id": "6f95c56c",
   "metadata": {},
   "outputs": [],
   "source": [
    "def below_threshold_len(max_len, nested_list):\n",
    "    cnt = 0\n",
    "    for s in nested_list:\n",
    "        if(len(s) <= max_len):\n",
    "            cnt = cnt + 1\n",
    "    print('전체 샘플 중 길이가 %s 이하인 샘플의 비율: %s'%(max_len, (cnt / len(nested_list))*100))"
   ]
  },
  {
   "cell_type": "code",
   "execution_count": 22,
   "id": "5f00e3a8",
   "metadata": {},
   "outputs": [
    {
     "name": "stdout",
     "output_type": "stream",
     "text": [
      "전체 샘플 중 길이가 36 이하인 샘플의 비율: 66.08616090016089\n",
      "전체 샘플 중 길이가 140 이하인 샘플의 비율: 99.99948597482305\n",
      "전체 샘플 중 길이가 70 이하인 샘플의 비율: 88.66523082300571\n",
      "전체 샘플 중 길이가 50 이하인 샘플의 비율: 82.05640912291884\n",
      "전체 샘플 중 길이가 60 이하인 샘플의 비율: 85.86739178484962\n"
     ]
    }
   ],
   "source": [
    "below_threshold_len(36, naver_review)  # 평균\n",
    "below_threshold_len(140, naver_review)  # 최장 \n",
    "below_threshold_len(70, naver_review)  # 중앙값\n",
    "below_threshold_len(50, naver_review)  \n",
    "below_threshold_len(60, naver_review) "
   ]
  },
  {
   "cell_type": "code",
   "execution_count": 23,
   "id": "c4a26890",
   "metadata": {
    "scrolled": true
   },
   "outputs": [
    {
     "name": "stderr",
     "output_type": "stream",
     "text": [
      "/tmp/ipykernel_31/3128022684.py:23: DeprecationWarning: `np.int` is a deprecated alias for the builtin `int`. To silence this warning, use `int` by itself. Doing this will not modify any behavior and is safe. When replacing `np.int`, you may wish to use e.g. `np.int64` or `np.int32` to specify the precision. If you wish to review your current use, check the release note link for additional information.\n",
      "Deprecated in NumPy 1.20; for more details and guidance: https://numpy.org/devdocs/release/1.20.0-notes.html#deprecations\n",
      "  sentence_length = np.zeros((max_len), dtype=np.int)\n"
     ]
    },
    {
     "data": {
      "image/png": "[encoded data removed]",
      "text/plain": [
       "<Figure size 432x288 with 1 Axes>"
      ]
     },
     "metadata": {
      "needs_background": "light"
     },
     "output_type": "display_data"
    }
   ],
   "source": [
    "max_len = 60   \n",
    "min_len = 0\n",
    "\n",
    "# 길이 조건에 맞는 문장만 선택합니다.\n",
    "\n",
    "filtered_corpus = [s for s in cleaned_corpus if (len(s) < max_len)]\n",
    "\n",
    "\n",
    "filtered_corpus = [] \n",
    "filtered_label = []  \n",
    "for row, label in zip(naver_df['document'], naver_df['label']):    \n",
    "    if (len(row) < max_len):     \n",
    "        filtered_corpus.append(row)  \n",
    "        filtered_label.append(label)   \n",
    "        \n",
    "# 2. # 데이터프레임 조건부 슬라이싱 \n",
    "train_data = cleaned_corpus[cleaned_corpus['document'].str.len() < max_len]   \n",
    "\n",
    "\n",
    "\n",
    "sentence_length = np.zeros((max_len), dtype=np.int)\n",
    "\n",
    "for sen in train_data['document']:\n",
    "    sentence_length[len(sen)-1] += 1\n",
    "\n",
    "plt.bar(range(max_len), sentence_length, width=1.0)\n",
    "plt.title(\"Sentence Length Distribution\")\n",
    "plt.show()"
   ]
  },
  {
   "cell_type": "code",
   "execution_count": 24,
   "id": "36782f13",
   "metadata": {},
   "outputs": [
    {
     "name": "stdout",
     "output_type": "stream",
     "text": [
      "전처리 전 데이터 개수 : 199992\n",
      "전처리 후 데이터 개수 : 166401\n",
      "전처리 후 남은 데이터 양(%) 83.20382815312612\n"
     ]
    }
   ],
   "source": [
    "print('전처리 전 데이터 개수 :', len(naver_df))\n",
    "print('전처리 후 데이터 개수 :', len(train_data))\n",
    "print('전처리 후 남은 데이터 양(%)', (len(train_data)/len(naver_df))*100)"
   ]
  },
  {
   "cell_type": "markdown",
   "id": "98fac239",
   "metadata": {},
   "source": [
    "## Step 2. SentencePiece 모델 학습\n",
    "\n",
    "- SentencePiece는 마지막 vocab size가 고정된 segmentation model을 학습한다.\n",
    "- 센텐스피스는 미등록 어휘(OOV:Out-of-Vocabulary) 대응한 어휘 모델을 생성 하기 위해 입력 문장(unicode 가정)을 받아 언어에 의존하지 않은 서브 워드 모델을 학습할 수 있다. (토크나이저이면서 디토크나이저인 이유는 인코딩과 디코딩 처리를 하기 때문)\n",
    "- raw text로부터 바로 학습할 수 있을 정도로 빠르고, 중국어와 일본어같이 띄어쓰기가 없는 언어의 tokenizer와 detokenizer에 효과적이다.\n",
    "- 센텐스피스는 사전 토큰화 작업 없이 단어 분리 토큰화를 수행하므로 언어에 종속되지 않는다. 센텐스피스는 BPE와 unigram이라는 2개의 서브워드 분리 알고리즘을 사용하여 말뭉치 그대로 집어 넣어 단어 분리 토큰화를 수행한다.\n",
    "- input sequence를 Unicode character의 sequence로 취급하므로, 공백문자 또한 일반적인 symbol로 취급된다. 이를 basic token으로 명시적으로 취급하기 위해, SetencePiece는 공백문자를 meta symbol “▁” (U+2581)로 escape한다\n",
    "\n",
    "\n",
    "\n",
    "\n",
    "#### Parameter\n",
    "--input: 한 라인 당 한 문장을 갖는 corpus로 raw file. Tokenizer, normalizer, preprocessor를 실행할 필요가 없음. default로 Unicode NFKC로 normalize 함. comma-separated로 파일 리스트를 넣을 수 있음.\n",
    "\n",
    "\n",
    "--model_prefix: 모델 이름에 붙는 prefix. <model_name>.model와 <model_name>.vocab가 생성.\n",
    "\n",
    "\n",
    "--vocab_size: vocabulary size, e.g., 8000, 16000, or 32000\n",
    "\n",
    "\n",
    "--character_coverage: 모델에 의해 cover할 character의 양. 일어나 중어 같은 rich character set은 0.9995가 좋은 결과를 내고, 그 외 character set이 작은 언어는 1.0이 좋음.\n",
    "\n",
    "\n",
    "--model_type: 모델 타입. unigram (default), bpe, char, or word 중 선택. word을 선택할 경우 반드시 pretokenized 되야 함."
   ]
  },
  {
   "cell_type": "code",
   "execution_count": 25,
   "id": "899807a2",
   "metadata": {},
   "outputs": [
    {
     "name": "stderr",
     "output_type": "stream",
     "text": [
      "sentencepiece_trainer.cc(177) LOG(INFO) Running command: --input=/aiffel/aiffel/sp_tokenizer/data/korean-english-park.train.ko.temp --model_prefix=kor_spm_bpe_16k --vocab_size=8000\n",
      "sentencepiece_trainer.cc(77) LOG(INFO) Starts training with : \n",
      "trainer_spec {\n",
      "  input: /aiffel/aiffel/sp_tokenizer/data/korean-english-park.train.ko.temp\n",
      "  input_format: \n",
      "  model_prefix: kor_spm_bpe_16k\n",
      "  model_type: UNIGRAM\n",
      "  vocab_size: 8000\n",
      "  self_test_sample_size: 0\n",
      "  character_coverage: 0.9995\n",
      "  input_sentence_size: 0\n",
      "  shuffle_input_sentence: 1\n",
      "  seed_sentencepiece_size: 1000000\n",
      "  shrinking_factor: 0.75\n",
      "  max_sentence_length: 4192\n",
      "  num_threads: 16\n",
      "  num_sub_iterations: 2\n",
      "  max_sentencepiece_length: 16\n",
      "  split_by_unicode_script: 1\n",
      "  split_by_number: 1\n",
      "  split_by_whitespace: 1\n",
      "  split_digits: 0\n",
      "  treat_whitespace_as_suffix: 0\n",
      "  allow_whitespace_only_pieces: 0\n",
      "  required_chars: \n",
      "  byte_fallback: 0\n",
      "  vocabulary_output_piece_score: 1\n",
      "  train_extremely_large_corpus: 0\n",
      "  hard_vocab_limit: 1\n",
      "  use_all_vocab: 0\n",
      "  unk_id: 0\n",
      "  bos_id: 1\n",
      "  eos_id: 2\n",
      "  pad_id: -1\n",
      "  unk_piece: <unk>\n",
      "  bos_piece: <s>\n",
      "  eos_piece: </s>\n",
      "  pad_piece: <pad>\n",
      "  unk_surface:  ⁇ \n",
      "}\n",
      "normalizer_spec {\n",
      "  name: nmt_nfkc\n",
      "  add_dummy_prefix: 1\n",
      "  remove_extra_whitespaces: 1\n",
      "  escape_whitespaces: 1\n",
      "  normalization_rule_tsv: \n",
      "}\n",
      "denormalizer_spec {}\n",
      "trainer_interface.cc(329) LOG(INFO) SentenceIterator is not specified. Using MultiFileSentenceIterator.\n",
      "trainer_interface.cc(178) LOG(INFO) Loading corpus: /aiffel/aiffel/sp_tokenizer/data/korean-english-park.train.ko.temp\n",
      "trainer_interface.cc(385) LOG(INFO) Loaded all 166401 sentences\n",
      "trainer_interface.cc(400) LOG(INFO) Adding meta_piece: <unk>\n",
      "trainer_interface.cc(400) LOG(INFO) Adding meta_piece: <s>\n",
      "trainer_interface.cc(400) LOG(INFO) Adding meta_piece: </s>\n",
      "trainer_interface.cc(405) LOG(INFO) Normalizing sentences...\n",
      "trainer_interface.cc(466) LOG(INFO) all chars count=4456346\n",
      "trainer_interface.cc(477) LOG(INFO) Done: 99.95% characters are covered.\n",
      "trainer_interface.cc(487) LOG(INFO) Alphabet size=1757\n",
      "trainer_interface.cc(488) LOG(INFO) Final character coverage=0.9995\n",
      "trainer_interface.cc(520) LOG(INFO) Done! preprocessed 166401 sentences.\n",
      "unigram_model_trainer.cc(139) LOG(INFO) Making suffix array...\n",
      "unigram_model_trainer.cc(143) LOG(INFO) Extracting frequent sub strings...\n",
      "unigram_model_trainer.cc(194) LOG(INFO) Initialized 259231 seed sentencepieces\n",
      "trainer_interface.cc(526) LOG(INFO) Tokenizing input sentences with whitespace: 166401\n",
      "trainer_interface.cc(537) LOG(INFO) Done! 299024\n",
      "unigram_model_trainer.cc(489) LOG(INFO) Using 299024 sentences for EM training\n",
      "unigram_model_trainer.cc(505) LOG(INFO) EM sub_iter=0 size=133231 obj=15.2993 num_tokens=704018 num_tokens/piece=5.28419\n",
      "unigram_model_trainer.cc(505) LOG(INFO) EM sub_iter=1 size=123592 obj=14.2332 num_tokens=708495 num_tokens/piece=5.73253\n",
      "unigram_model_trainer.cc(505) LOG(INFO) EM sub_iter=0 size=92647 obj=14.3375 num_tokens=738443 num_tokens/piece=7.9705\n",
      "unigram_model_trainer.cc(505) LOG(INFO) EM sub_iter=1 size=92490 obj=14.2808 num_tokens=739558 num_tokens/piece=7.99609\n",
      "unigram_model_trainer.cc(505) LOG(INFO) EM sub_iter=0 size=69363 obj=14.525 num_tokens=777154 num_tokens/piece=11.2042\n",
      "unigram_model_trainer.cc(505) LOG(INFO) EM sub_iter=1 size=69356 obj=14.4611 num_tokens=777231 num_tokens/piece=11.2064\n",
      "unigram_model_trainer.cc(505) LOG(INFO) EM sub_iter=0 size=52017 obj=14.7347 num_tokens=813479 num_tokens/piece=15.6387\n",
      "unigram_model_trainer.cc(505) LOG(INFO) EM sub_iter=1 size=52016 obj=14.6716 num_tokens=813478 num_tokens/piece=15.639\n",
      "unigram_model_trainer.cc(505) LOG(INFO) EM sub_iter=0 size=39012 obj=14.9733 num_tokens=852393 num_tokens/piece=21.8495\n",
      "unigram_model_trainer.cc(505) LOG(INFO) EM sub_iter=1 size=39012 obj=14.9071 num_tokens=852399 num_tokens/piece=21.8497\n",
      "unigram_model_trainer.cc(505) LOG(INFO) EM sub_iter=0 size=29259 obj=15.2443 num_tokens=892454 num_tokens/piece=30.5019\n",
      "unigram_model_trainer.cc(505) LOG(INFO) EM sub_iter=1 size=29259 obj=15.1755 num_tokens=892500 num_tokens/piece=30.5034\n",
      "unigram_model_trainer.cc(505) LOG(INFO) EM sub_iter=0 size=21944 obj=15.5466 num_tokens=933792 num_tokens/piece=42.5534\n",
      "unigram_model_trainer.cc(505) LOG(INFO) EM sub_iter=1 size=21944 obj=15.472 num_tokens=933826 num_tokens/piece=42.555\n",
      "unigram_model_trainer.cc(505) LOG(INFO) EM sub_iter=0 size=16458 obj=15.8733 num_tokens=976437 num_tokens/piece=59.329\n",
      "unigram_model_trainer.cc(505) LOG(INFO) EM sub_iter=1 size=16458 obj=15.7907 num_tokens=976489 num_tokens/piece=59.3322\n",
      "unigram_model_trainer.cc(505) LOG(INFO) EM sub_iter=0 size=12343 obj=16.2298 num_tokens=1022280 num_tokens/piece=82.8227\n",
      "unigram_model_trainer.cc(505) LOG(INFO) EM sub_iter=1 size=12343 obj=16.1286 num_tokens=1022300 num_tokens/piece=82.8243\n",
      "unigram_model_trainer.cc(505) LOG(INFO) EM sub_iter=0 size=9257 obj=16.6144 num_tokens=1072108 num_tokens/piece=115.816\n",
      "unigram_model_trainer.cc(505) LOG(INFO) EM sub_iter=1 size=9257 obj=16.5068 num_tokens=1072283 num_tokens/piece=115.835\n",
      "unigram_model_trainer.cc(505) LOG(INFO) EM sub_iter=0 size=8800 obj=16.5917 num_tokens=1081479 num_tokens/piece=122.895\n",
      "unigram_model_trainer.cc(505) LOG(INFO) EM sub_iter=1 size=8800 obj=16.572 num_tokens=1081721 num_tokens/piece=122.923\n",
      "trainer_interface.cc(615) LOG(INFO) Saving model: kor_spm_bpe_16k.model\n",
      "trainer_interface.cc(626) LOG(INFO) Saving vocabs: kor_spm_bpe_16k.vocab\n"
     ]
    }
   ],
   "source": [
    "import sentencepiece as spm\n",
    "import os\n",
    "temp_file = os.getenv('HOME')+'/aiffel/sp_tokenizer/data/korean-english-park.train.ko.temp'\n",
    "\n",
    "vocab_size = 8000\n",
    "\n",
    "with open(temp_file, 'w') as f:\n",
    "    for row in train_data['document']:   # 이전 스텝에서 정제했던 corpus를 활용\n",
    "        f.write(str(row) + '\\n')\n",
    "\n",
    "# vocab size=8000, model_type=unigram\n",
    "spm.SentencePieceTrainer.Train(\n",
    "    '--input={} --model_prefix=kor_spm_bpe_16k --vocab_size={}'.format(temp_file, vocab_size)    \n",
    ")\n"
   ]
  },
  {
   "cell_type": "code",
   "execution_count": 26,
   "id": "98cc8238",
   "metadata": {},
   "outputs": [
    {
     "name": "stdout",
     "output_type": "stream",
     "text": [
      "-rw-r--r-- 1 root root 375096 Mar 18 15:24 kor_spm_unigram_8k.model\n",
      "-rw-r--r-- 1 root root 144435 Mar 18 15:24 kor_spm_unigram_8k.vocab\n",
      "ls: cannot access 'kor_spm_unigram_4k*': No such file or directory\n",
      "ls: cannot access 'kor_spm_unigram_16k*': No such file or directory\n",
      "-rw-r--r-- 1 root root 370378 Mar 18 04:02 kor_spm_bpe_8k.model\n",
      "-rw-r--r-- 1 root root 115580 Mar 18 04:02 kor_spm_bpe_8k.vocab\n",
      "-rw-r--r-- 1 root root 375093 Mar 19 00:42 kor_spm_bpe_16k.model\n",
      "-rw-r--r-- 1 root root 144435 Mar 19 00:42 kor_spm_bpe_16k.vocab\n"
     ]
    }
   ],
   "source": [
    "!ls -l kor_spm_unigram_8k*\n",
    "!ls -l kor_spm_unigram_4k*\n",
    "!ls -l kor_spm_unigram_16k*\n",
    "!ls -l kor_spm_bpe_8k*\n",
    "!ls -l kor_spm_bpe_16k*"
   ]
  },
  {
   "cell_type": "code",
   "execution_count": 27,
   "id": "09d718f0",
   "metadata": {},
   "outputs": [
    {
     "data": {
      "text/html": [
       "<div>\n",
       "<style scoped>\n",
       "    .dataframe tbody tr th:only-of-type {\n",
       "        vertical-align: middle;\n",
       "    }\n",
       "\n",
       "    .dataframe tbody tr th {\n",
       "        vertical-align: top;\n",
       "    }\n",
       "\n",
       "    .dataframe thead th {\n",
       "        text-align: right;\n",
       "    }\n",
       "</style>\n",
       "<table border=\"1\" class=\"dataframe\">\n",
       "  <thead>\n",
       "    <tr style=\"text-align: right;\">\n",
       "      <th></th>\n",
       "      <th>0</th>\n",
       "      <th>1</th>\n",
       "    </tr>\n",
       "  </thead>\n",
       "  <tbody>\n",
       "    <tr>\n",
       "      <th>0</th>\n",
       "      <td>&lt;unk&gt;</td>\n",
       "      <td>0.00000</td>\n",
       "    </tr>\n",
       "    <tr>\n",
       "      <th>1</th>\n",
       "      <td>&lt;s&gt;</td>\n",
       "      <td>0.00000</td>\n",
       "    </tr>\n",
       "    <tr>\n",
       "      <th>2</th>\n",
       "      <td>&lt;/s&gt;</td>\n",
       "      <td>0.00000</td>\n",
       "    </tr>\n",
       "    <tr>\n",
       "      <th>3</th>\n",
       "      <td>▁</td>\n",
       "      <td>-3.27463</td>\n",
       "    </tr>\n",
       "    <tr>\n",
       "      <th>4</th>\n",
       "      <td>.</td>\n",
       "      <td>-3.47852</td>\n",
       "    </tr>\n",
       "    <tr>\n",
       "      <th>5</th>\n",
       "      <td>..</td>\n",
       "      <td>-4.24637</td>\n",
       "    </tr>\n",
       "    <tr>\n",
       "      <th>6</th>\n",
       "      <td>▁영화</td>\n",
       "      <td>-4.42651</td>\n",
       "    </tr>\n",
       "    <tr>\n",
       "      <th>7</th>\n",
       "      <td>이</td>\n",
       "      <td>-4.44480</td>\n",
       "    </tr>\n",
       "    <tr>\n",
       "      <th>8</th>\n",
       "      <td>...</td>\n",
       "      <td>-4.48456</td>\n",
       "    </tr>\n",
       "    <tr>\n",
       "      <th>9</th>\n",
       "      <td>가</td>\n",
       "      <td>-4.71341</td>\n",
       "    </tr>\n",
       "  </tbody>\n",
       "</table>\n",
       "</div>"
      ],
      "text/plain": [
       "       0        1\n",
       "0  <unk>  0.00000\n",
       "1    <s>  0.00000\n",
       "2   </s>  0.00000\n",
       "3      ▁ -3.27463\n",
       "4      . -3.47852\n",
       "5     .. -4.24637\n",
       "6    ▁영화 -4.42651\n",
       "7      이 -4.44480\n",
       "8    ... -4.48456\n",
       "9      가 -4.71341"
      ]
     },
     "execution_count": 27,
     "metadata": {},
     "output_type": "execute_result"
    }
   ],
   "source": [
    "vocab_list = pd.read_csv('kor_spm_bpe_16k.vocab', sep='\\t', header=None)\n",
    "vocab_list[:10]"
   ]
  },
  {
   "cell_type": "code",
   "execution_count": 28,
   "id": "d127f048",
   "metadata": {},
   "outputs": [
    {
     "name": "stdout",
     "output_type": "stream",
     "text": [
      "subword의 개수 : 7774\n"
     ]
    },
    {
     "data": {
      "text/html": [
       "<div>\n",
       "<style scoped>\n",
       "    .dataframe tbody tr th:only-of-type {\n",
       "        vertical-align: middle;\n",
       "    }\n",
       "\n",
       "    .dataframe tbody tr th {\n",
       "        vertical-align: top;\n",
       "    }\n",
       "\n",
       "    .dataframe thead th {\n",
       "        text-align: right;\n",
       "    }\n",
       "</style>\n",
       "<table border=\"1\" class=\"dataframe\">\n",
       "  <thead>\n",
       "    <tr style=\"text-align: right;\">\n",
       "      <th></th>\n",
       "      <th>0</th>\n",
       "      <th>1</th>\n",
       "    </tr>\n",
       "  </thead>\n",
       "  <tbody>\n",
       "    <tr>\n",
       "      <th>1796</th>\n",
       "      <td>▁훨</td>\n",
       "      <td>-9.39465</td>\n",
       "    </tr>\n",
       "    <tr>\n",
       "      <th>2627</th>\n",
       "      <td>▁안됨</td>\n",
       "      <td>-9.74119</td>\n",
       "    </tr>\n",
       "    <tr>\n",
       "      <th>3325</th>\n",
       "      <td>▁전설의</td>\n",
       "      <td>-9.96349</td>\n",
       "    </tr>\n",
       "    <tr>\n",
       "      <th>5641</th>\n",
       "      <td>▁대박이다</td>\n",
       "      <td>-10.59400</td>\n",
       "    </tr>\n",
       "    <tr>\n",
       "      <th>845</th>\n",
       "      <td>h</td>\n",
       "      <td>-8.76420</td>\n",
       "    </tr>\n",
       "    <tr>\n",
       "      <th>5924</th>\n",
       "      <td>봤네</td>\n",
       "      <td>-10.69010</td>\n",
       "    </tr>\n",
       "    <tr>\n",
       "      <th>2328</th>\n",
       "      <td>▁찍은</td>\n",
       "      <td>-9.62319</td>\n",
       "    </tr>\n",
       "    <tr>\n",
       "      <th>6040</th>\n",
       "      <td>40</td>\n",
       "      <td>-10.71710</td>\n",
       "    </tr>\n",
       "    <tr>\n",
       "      <th>1091</th>\n",
       "      <td>▁버</td>\n",
       "      <td>-8.98071</td>\n",
       "    </tr>\n",
       "    <tr>\n",
       "      <th>2882</th>\n",
       "      <td>꾸</td>\n",
       "      <td>-9.83187</td>\n",
       "    </tr>\n",
       "  </tbody>\n",
       "</table>\n",
       "</div>"
      ],
      "text/plain": [
       "          0         1\n",
       "1796     ▁훨  -9.39465\n",
       "2627    ▁안됨  -9.74119\n",
       "3325   ▁전설의  -9.96349\n",
       "5641  ▁대박이다 -10.59400\n",
       "845       h  -8.76420\n",
       "5924     봤네 -10.69010\n",
       "2328    ▁찍은  -9.62319\n",
       "6040     40 -10.71710\n",
       "1091     ▁버  -8.98071\n",
       "2882      꾸  -9.83187"
      ]
     },
     "execution_count": 28,
     "metadata": {},
     "output_type": "execute_result"
    }
   ],
   "source": [
    "print('subword의 개수 :', len(vocab_list))\n",
    "vocab_list.sample(10)"
   ]
  },
  {
   "cell_type": "code",
   "execution_count": 54,
   "id": "bbece90b",
   "metadata": {},
   "outputs": [],
   "source": [
    "def test_performance(model):\n",
    "    s = spm.SentencePieceProcessor()\n",
    "    s.Load(model)\n",
    "\n",
    "    # SentencePiece를 활용한 sentence -> encoding\n",
    "    tokensIDs = s.EncodeAsIds('영화 존잼 한번더 볼꺼임..')\n",
    "    print(tokensIDs)\n",
    "\n",
    "    # SentencePiece를 활용한 sentence -> encoded pieces\n",
    "    print(s.SampleEncodeAsPieces('영화 존잼 한번더 볼꺼임..',1, 0.0))\n",
    "\n",
    "    # SentencePiece를 활용한 encoding -> sentence 복원\n",
    "    print(s.DecodeIds(tokensIDs))"
   ]
  },
  {
   "cell_type": "code",
   "execution_count": 55,
   "id": "2f09d8ac",
   "metadata": {
    "scrolled": false
   },
   "outputs": [
    {
     "name": "stdout",
     "output_type": "stream",
     "text": [
      "kor_spm_unigram_8k\n",
      "[6, 6560, 5609, 184, 659, 109, 5]\n",
      "['▁영화', '▁존잼', '▁한번더', '▁볼', '꺼', '임', '..']\n",
      "영화 존잼 한번더 볼꺼임..\n",
      "kor_spm_bpe_8k\n",
      "[5, 337, 6421, 5428, 88, 6718, 6401, 3]\n",
      "['▁영화', '▁존', '잼', '▁한번더', '▁볼', '꺼', '임', '..']\n",
      "영화 존잼 한번더 볼꺼임..\n",
      "kor_spm_bpe_16k\n",
      "[6, 6560, 5609, 184, 659, 109, 5]\n",
      "['▁영화', '▁존잼', '▁한번더', '▁볼', '꺼', '임', '..']\n",
      "영화 존잼 한번더 볼꺼임..\n"
     ]
    }
   ],
   "source": [
    "print('kor_spm_unigram_8k')\n",
    "test_performance(model='kor_spm_unigram_8k.model')\n",
    "\n",
    "\n",
    "print('kor_spm_bpe_8k')\n",
    "test_performance(model='kor_spm_bpe_8k.model')\n",
    "\n",
    "print('kor_spm_bpe_16k')\n",
    "test_performance(model='kor_spm_bpe_16k.model')"
   ]
  },
  {
   "cell_type": "markdown",
   "id": "3148e117",
   "metadata": {},
   "source": [
    "### Step 3. Tokenizer 함수 작성\n",
    "\n",
    "1) 매개변수로 토큰화된 문장의 list를 전달하는 대신 온전한 문장의 list 를 전달함.\n",
    "\n",
    "2) 생성된 vocab 파일을 읽어와 { <word> : <idx> } 형태를 가지는 word_index 사전과 { <idx> : <word>} 형태를 가지는 index_word 사전을 생성하고 함께 반환함.\n",
    "\n",
    "3) 리턴값인 tensor 는 앞의 함수와 동일하게 토큰화한 후 Encoding된 문장임. 따라서 바로 학습에 사용할 수 있게 Padding 처리해줘야됨."
   ]
  },
  {
   "cell_type": "code",
   "execution_count": 31,
   "id": "8a4c86bb",
   "metadata": {},
   "outputs": [],
   "source": [
    "def sp_tokenize(s, corpus, spm):\n",
    "\n",
    "    tensor = []\n",
    "\n",
    "    for sen in corpus:\n",
    "        tensor.append(s.EncodeAsIds(sen))\n",
    "\n",
    "    with open(\"./{}.vocab\".format(spm), 'r') as f: \n",
    "        vocab = f.readlines()\n",
    "\n",
    "    word_index = {}\n",
    "    index_word = {}\n",
    "\n",
    "    for idx, line in enumerate(vocab):\n",
    "        word = line.split(\"\\t\")[0]\n",
    "\n",
    "        word_index.update({idx:word})\n",
    "        index_word.update({word:idx})\n",
    "\n",
    "    tensor = tf.keras.preprocessing.sequence.pad_sequences(tensor, padding='pre', maxlen=max_len)\n",
    "\n",
    "    return tensor, word_index, index_word"
   ]
  },
  {
   "cell_type": "code",
   "execution_count": 46,
   "id": "e17d5d18",
   "metadata": {},
   "outputs": [
    {
     "name": "stdout",
     "output_type": "stream",
     "text": [
      "[[   0    0    0    0    0    0    0    0    0    0    0    0    0    0\n",
      "     0    0    0    0    0    0    0    0    0    0    0    0    0    0\n",
      "     0    0    0    0    0    0    0    0    0    0    0    0    0    0\n",
      "     0    0    0    0    0    0    0    0    0    0    0    0  517 3252\n",
      "    14 1097 2572    4]\n",
      " [   0    0    0    0    0    0    0    0    0    0    0    0    0    0\n",
      "     0    0    0    0    0    0    0    0    0    0    0    0    0    0\n",
      "     0    0    0    0    0    0    0    0    0    0    0    0    0    0\n",
      "     0    0    0    0    0    0    0    0    0 1592 2168  228  544    9\n",
      "   280 7921  756    8]]\n",
      "{0: '<unk>', 1: '<s>', 2: '</s>', 3: '▁', 4: '.', 5: '..', 6: '▁영화', 7: '이', 8: '...', 9: '가', 10: '의', 11: '도', 12: '는', 13: ',', 14: '을', 15: '다', 16: '에', 17: '은', 18: '?', 19: '지', 20: '고', 21: '!', 22: '한', 23: '▁너무', 24: '▁정말', 25: '만', 26: '를', 27: '~', 28: '▁이', 29: '로', 30: '▁진짜', 31: '영화', 32: '나', 33: '게', 34: '어', 35: '기', 36: '과', 37: '점', 38: '네', 39: '리', 40: '라', 41: '아', 42: '인', 43: '!!', 44: '....', 45: '요', 46: '하고', 47: '▁1', 48: '▁아', 49: '▁왜', 50: '▁잘', 51: '으로', 52: '▁안', 53: '▁이런', 54: '들', 55: '서', 56: '와', 57: '▁더', 58: '에서', 59: '▁그', 60: '자', 61: '해', 62: '스', 63: '▁수', 64: '▁다', 65: '▁그냥', 66: '네요', 67: '거', 68: '▁10', 69: '음', 70: '▁본', 71: '▁드라마', 72: '하는', 73: '▁평점', 74: '수', 75: '하', 76: '함', 77: '야', 78: '니', 79: '시', 80: '면', 81: '▁보고', 82: '하다', 83: '▁최고', 84: '▁ᄏᄏ', 85: '▁최고의', 86: '▁연기', 87: '이다', 88: '대', 89: '▁이거', 90: '▁내', 91: '사', 92: '지만', 93: '▁완전', 94: '▁쓰레기', 95: '▁좀', 96: '여', 97: '▁봤는데', 98: '미', 99: '▁한', 100: '진', 101: '▁없다', 102: '하게', 103: '보다', 104: '▁참', 105: 'ᄏᄏ', 106: '우', 107: '!!!', 108: '▁영화를', 109: '임', 110: '주', 111: '▁없는', 112: '냐', 113: '▁이건', 114: '드', 115: '보', 116: '▁이게', 117: '데', 118: '일', 119: '▁못', 120: '▁내가', 121: '▁2', 122: '^^', 123: '안', 124: '▁개', 125: '▁나', 126: '할', 127: '▁스토리', 128: '▁난', 129: '구', 130: '▁영화는', 131: '▁좋은', 132: '듯', 133: '성', 134: 'ᄏ', 135: '▁영화가', 136: '상', 137: '~~', 138: '정', 139: '▁다시', 140: '는데', 141: '▁평점이', 142: '던', 143: '▁이렇게', 144: '장', 145: '▁역시', 146: '▁3', 147: '▁보는', 148: '마', 149: '▁있는', 150: '적', 151: '려', 152: '까지', 153: '들이', 154: '중', 155: '트', 156: '치', 157: '▁재밌게', 158: '신', 159: '▁넘', 160: '▁재미', 161: '러', 162: '부', 163: ';;', 164: '보고', 165: '해서', 166: '질', 167: '히', 168: '전', 169: '개', 170: '▁말', 171: '1', 172: '오', 173: '▁감동', 174: '▁뭐', 175: '▁보', 176: '▁별로', 177: '▁작품', 178: '화', 179: '분', 180: '??', 181: '건', 182: '랑', 183: '때', 184: '▁볼', 185: '용', 186: '2', 187: '▁것', 188: '▁많이', 189: '세', 190: '▁ᄏᄏᄏ', 191: '▁전', 192: '원', 193: '▁하', 194: '▁아깝다', 195: '물', 196: '▁별', 197: '년', 198: '▁오', 199: '▁꼭', 200: '했다', 201: '▁지', 202: '내', 203: '비', 204: '진짜', 205: '소', 206: '▁감독', 207: '▁마지막', 208: 'ᅲᅲ', 209: '인데', 210: '그', 211: '▁명작', 212: '▁또', 213: '감', 214: '▁저', 215: '▁무', 216: ';', 217: '▁액션', 218: '▁하나', 219: '▁이야기', 220: '것', 221: 'ᄏᄏᄏ', 222: '▁시간', 223: '적인', 224: '▁ᄏ', 225: '▁기대', 226: '급', 227: '▁짱', 228: '▁ᅲᅲ', 229: '본', 230: '▁주', 231: '무', 232: '하지', 233: '▁가장', 234: '어요', 235: '습니다', 236: '디', 237: '편', 238: '▁김', 239: '영', 240: '같은', 241: '▁ᅳᅳ', 242: '▁사랑', 243: '줄', 244: '▁만든', 245: '식', 246: '▁중', 247: \"'\", 248: '너무', 249: '입니다', 250: '말', 251: '더', 252: '남', 253: '제', 254: '군', 255: '▁하는', 256: '▁생각', 257: '없는', 258: '▁좋다', 259: '▁지금', 260: '▁보면', 261: '▁무슨', 262: '▁말이', 263: '긴', 264: '좀', 265: '라고', 266: '당', 267: 'ᅲ', 268: '▁한국', 269: '▁없고', 270: '드라마', 271: '호', 272: '선', 273: '▁재밌다', 274: '란', 275: '르', 276: '동', 277: '▁사', 278: '▁미', 279: '조', 280: '▁고', 281: '작', 282: '▁아니', 283: '▁유', 284: '▁와', 285: '바', 286: '▁좋아', 287: '부터', 288: '▁할', 289: '크', 290: '▁대', 291: '걸', 292: '▁정', 293: '▁어', 294: '▁일', 295: '3', 296: '▁처음', 297: '린', 298: '정말', 299: '▁일본', 300: '된', 301: '타', 302: '▁비', 303: '두', 304: '유', 305: '▁배우', 306: ')', 307: '▁조', 308: '에게', 309: ',,', 310: '▁ᄒᄒ', 311: '울', 312: '▁그리고', 313: '심', 314: '씨', 315: '▁마', 316: '래', 317: '▁다른', 318: 'ᅳᅳ', 319: '연', 320: '▁내용', 321: '모', 322: '▁영화다', 323: '▁봤다', 324: '▁코미디', 325: '▁알', 326: '있는', 327: '▁느낌', 328: '▁끝까지', 329: '운', 330: '위', 331: '▁재미있게', 332: '노', 333: '▁최악', 334: '이나', 335: '레', 336: '▁재미없다', 337: '난', 338: '▁거', 339: '한다', 340: '준', 341: '죠', 342: '연기', 343: '▁자', 344: '루', 345: '▁돈', 346: '▁연출', 347: '▁대박', 348: '명', 349: '류', 350: '▁두', 351: '▁봐도', 352: '으면', 353: '었다', 354: '▁이걸', 355: '▁솔직히', 356: '판', 357: '▁최악의', 358: '▁굿', 359: '▁있다', 360: '저', 361: '▁때', 362: '▁구', 363: '▁아주', 364: '프', 365: '▁제', 366: '길', 367: '워', 368: '▁시', 369: '▁같은', 370: '▁반', 371: '잘', 372: '으', 373: '합니다', 374: '▁뭔가', 375: '-', 376: '살', 377: '간', 378: '▁기', 379: '때문에', 380: '▁모', 381: '▁우', 382: '▁여자', 383: '▁이영화', 384: '들의', 385: '경', 386: '라는', 387: '봤는데', 388: '▁모두', 389: '티', 390: '하나', 391: '생', 392: '없다', 393: '했던', 394: '▁신', 395: '▁해', 396: '발', 397: '실', 398: \"▁'\", 399: '단', 400: '▁후', 401: '점도', 402: '▁내용이', 403: '애', 404: '인가', 405: '▁한번', 406: '희', 407: '하네', 408: '▁추천', 409: '번', 410: '든', 411: '되는', 412: '▁스', 413: '님', 414: '날', 415: '짱', 416: '즈', 417: 'ᄒᄒ', 418: '▁남', 419: '~~~', 420: '▁4', 421: '▁애', 422: '▁전혀', 423: '▁0', 424: '▁부', 425: '재', 426: '▁공포', 427: '▁사람', 428: '박', 429: '▁하지만', 430: '▁그래도', 431: '국', 432: '▁아니다', 433: '피', 434: '볼', 435: '▁아름다운', 436: '구나', 437: '♥', 438: '하지만', 439: '▁딱', 440: '형', 441: '!!!!', 442: '▁소', 443: '▁대한', 444: '시간', 445: '되', 446: '민', 447: '▁줄', 448: '▁보기', 449: '엔', 450: '림', 451: '반', 452: '▁배우들', 453: '파', 454: '▁실망', 455: '▁7', 456: '(', 457: '▁만들어', 458: '하면', 459: '따', 460: '▁재밌어요', 461: '▁5', 462: '▁끝', 463: '▁계속', 464: '방', 465: 'ᅳ', 466: '인지', 467: '10', 468: '겠다', 469: '관', 470: 'ᄒ', 471: '▁전개', 472: '▁우리', 473: '▁봤', 474: '▁같다', 475: '터', 476: '▁스릴러', 477: '처럼', 478: '겨', 479: '점이', 480: '▁만드는', 481: '▁이제', 482: '지는', 483: '▁장', 484: '▁8', 485: '▁인생', 486: '이랑', 487: '▁제일', 488: '카', 489: '까', 490: '면서', 491: '▁보다', 492: '없이', 493: '▁내내', 494: '▁많은', 495: '▁9', 496: '다니', 497: '▁이상', 498: '▁아닌', 499: '등', 500: '▁보다가', 501: '달', 502: '▁연기가', 503: '▁되', 504: '생각', 505: '공', 506: '▁어떻게', 507: '문', 508: '차', 509: '5', 510: '▁이해', 511: '▁나오는', 512: '들은', 513: '▁박', 514: '▁아까운', 515: '▁재미도', 516: '▁OO', 517: '▁나는', 518: '▁공', 519: '▁아니라', 520: '▁조금', 521: '▁반전', 522: '▁않고', 523: '키', 524: '▁않는', 525: '년대', 526: '▁현실', 527: '▁ᄏᄏᄏᄏ', 528: '하네요', 529: '▁최고다', 530: '이라', 531: '▁않은', 532: ';;;', 533: '▁싶다', 534: '▁강', 535: '▁재밌', 536: '▁시간이', 537: '▁건', 538: '왜', 539: '▁아직도', 540: '▁음악', 541: '▁듯', 542: '▁여운이', 543: '▁내용도', 544: '▁배', 545: '▁엄청', 546: 'd', 547: '▁속', 548: '~!', 549: '지도', 550: '현', 551: '며', 552: '▁장면', 553: '망', 554: '토', 555: '▁수준', 556: '▁인', 557: '▁남는', 558: '▁재', 559: '▁연기도', 560: '못', 561: '▁애니', 562: '▁감독이', 563: '▁오랜만에', 564: '▁모든', 565: '▁영화라고', 566: '스토리', 567: '후', 568: '뿐', 569: 'ᅮᅮ', 570: '▁결말', 571: '녀', 572: '▁뻔한', 573: '▁^^', 574: 'o', 575: '코', 576: '▁주인공', 577: '▁요즘', 578: '보는', 579: '▁나름', 580: '▁기억', 581: '▁절대', 582: '4', 583: '▁피', 584: '▁불', 585: '재밌', 586: '▁바', 587: '▁근데', 588: '져', 589: '▁공포영화', 590: '▁눈', 591: '???', 592: '▁가족', 593: '속', 594: '▁노', 595: '▁연기력', 596: '태', 597: '▁욕', 598: '쳐', 599: '체', 600: '넘', 601: '▁남자', 602: '점은', 603: '▁걍', 604: '▁지루한', 605: '\"', 606: '보면', 607: '석', 608: '▁날', 609: '▁울', 610: 'ᄏᄏᄏᄏ', 611: '▁나도', 612: '▁ᅲ', 613: '배', 614: '▁성', 615: '▁좋고', 616: '것도', 617: '참', 618: '▁OOO', 619: 't', 620: '않', 621: '▁봤습니다', 622: '론', 623: '▁개봉', 624: '최고', 625: '▁영화입니다', 626: '▁한국영화', 627: '감동', 628: '이란', 629: '다가', 630: '▁때문에', 631: '인듯', 632: '▁원', 633: '▁제목', 634: '정도', 635: '▁진심', 636: '▁B', 637: '구만', 638: 'e', 639: '▁멋진', 640: '니까', 641: '▁없', 642: '역', 643: '▁좋았다', 644: '▁졸작', 645: '▁재밌는', 646: '▁지루하고', 647: '▁봤던', 648: '어서', 649: '극', 650: '▁시리즈', 651: '▁스토리가', 652: '죽', 653: '산', 654: '▁수작', 655: '▁막장', 656: '7', 657: '▁미국', 658: '한테', 659: '꺼', 660: '▁만들', 661: '▁초', 662: '▁그런', 663: '▁쓰', 664: '▁허', 665: '▁차라리', 666: '▁지루함', 667: '좋', 668: '해요', 669: '▁여', 670: '6', 671: '▁파', 672: '▁주는', 673: ',,,', 674: '/', 675: '움', 676: '없', 677: '▁제대로', 678: '▁가슴', 679: '포', 680: '8', 681: '평점', 682: '▁되는', 683: '금', 684: '▁재미가', 685: '▁심', 686: '매', 687: '했는데', 688: '▁강추', 689: '잼', 690: '던데', 691: '▁괜찮은', 692: '버', 693: '▁싶은', 694: '▁도대체', 695: '▁보세요', 696: '▁눈물', 697: '▁없음', 698: '였다', 699: '▁재밌음', 700: '▁몇', 701: '하기', 702: '▁지루하다', 703: '절', 704: '▁있', 705: '▁원작', 706: '▁진', 707: '더라', 708: '▁뭘', 709: '이라는', 710: '봄', 711: '▁감독의', 712: '봤다', 713: '▁머', 714: '▁영', 715: '▁걸', 716: '회', 717: '▁좋아요', 718: '▁나오', 719: '▁우리나라', 720: '봐', 721: '▁서', 722: '▁소재', 723: '▁알바', 724: '▁긴장감', 725: '격', 726: '▁20', 727: '▁공감', 728: '▁나온', 729: '▁발', 730: '▁죽', 731: '▁기분', 732: '▁봤어요', 733: '악', 734: '▁스토리도', 735: '▁기억에', 736: '▁좋아하는', 737: '▁않', 738: '▁후회', 739: '알', 740: '▁졸', 741: '▁영화의', 742: '려고', 743: '먹', 744: '▁아니고', 745: '▁예', 746: '배우', 747: '스트', 748: '예', 749: '이고', 750: '▁시작', 751: '이네', 752: '잡', 753: '사랑', 754: '집', 755: '▁그저', 756: '니다', 757: '는게', 758: '▁6', 759: '▁세', 760: '▁뭔', 761: '▁시나리오', 762: '▁정도', 763: '근', 764: '▁인간', 765: '▁매', 766: '▁맞', 767: '▁동', 768: '그냥', 769: '▁보면서', 770: '▁영상', 771: '탄', 772: '▁망', 773: '▁ᄒ', 774: '이야', 775: '학', 776: '난다', 777: '적으로', 778: '▁마지막에', 779: '▁억지', 780: '▁잼', 781: '▁보는내내', 782: '해도', 783: '재미', 784: '▁웃', 785: '직', 786: '강', 787: '업', 788: '▁극장에서', 789: '밖에', 790: '▁연', 791: '감독', 792: '불', 793: '사람', 794: '종', 795: '점대', 796: '작품', 797: '건지', 798: '있다', 799: '▁될', 800: 'ᅮ', 801: '리는', 802: 'a', 803: '▁코믹', 804: '▁함께', 805: '▁애니메이션', 806: '▁ᅮᅮ', 807: '대로', 808: '▁표현', 809: '는거', 810: '주는', 811: '▁존나', 812: '력', 813: '투', 814: '릴', 815: '▁캐릭터', 816: '천', 817: 's', 818: '머', 819: '▁하고', 820: '▁만화', 821: '었는데', 822: '▁대사', 823: '케', 824: '이런', 825: '창', 826: '중에', 827: '양', 828: '뭐', 829: '행', 830: '테', 831: '▁\"', 832: '▁행복', 833: '▁봐야', 834: '라도', 835: '봤', 836: '버린', 837: '▁잠', 838: '이라고', 839: '맨', 840: '▁배우들의', 841: '능', 842: '▁모르겠다', 843: '승', 844: '▁생', 845: '었던', 846: '▁막', 847: '설', 848: '교', 849: '았', 850: '▁영화에', 851: '▁걸작', 852: '▁제발', 853: '▁이해가', 854: '▁못한', 855: '김', 856: '▁캐스팅', 857: '▁필요', 858: '▁살', 859: '액션', 860: '슨', 861: '돈', 862: '증', 863: '▁노래', 864: '글', 865: '장면', 866: '▁오늘', 867: '▁호', 868: '만큼', 869: '▁된', 870: '봐도', 871: '▁좋', 872: '▁지루', 873: '+', 874: '▁더빙', 875: '환', 876: '▁토', 877: '▁큰', 878: '▁선', 879: '▁사실', 880: '▁재미없음', 881: 'i', 882: '군요', 883: '이상', 884: '▁예술', 885: '짐', 886: '▁재미있다', 887: '너', 888: '▁별점', 889: '보단', 890: '▁감', 891: '씬', 892: '▁정신', 893: '름', 894: '▁매우', 895: '했', 896: '열', 897: '레이', 898: '▁최', 899: '계', 900: '락', 901: '▁베', 902: '싶', 903: '▁유치', 904: '▁그만', 905: '▁영화로', 906: '▁감동이', 907: 'g', 908: '▁어설픈', 909: '했음', 910: '▁쓰레기영화', 911: '▁성룡', 912: '▁사람들', 913: '▁결국', 914: '끼', 915: '▁잔잔한', 916: '된다', 917: '쓰레기', 918: '통', 919: '완전', 920: '▁아이', 921: '▁감동적인', 922: '▁노잼', 923: '▁않다', 924: '▁있었', 925: '▁어떤', 926: '▁개인적으로', 927: '▁차', 928: '▁미친', 929: '▁웃기', 930: '▁들', 931: '▁영화네요', 932: '▁재밌고', 933: '평', 934: '▁타', 935: '▁꽤', 936: '▁가슴이', 937: '▁-', 938: '법', 939: '갈', 940: '▁영화중', 941: '▁몰입도', 942: '▁안되는', 943: '▁매력', 944: '이지만', 945: '권', 946: '▁마음이', 947: '▁분위기', 948: '▁화', 949: '영화는', 950: '돌', 951: '는지', 952: '을까', 953: '▁치', 954: '맞', 955: '담', 956: '별', 957: '▁뭐야', 958: '▁눈물이', 959: '▁똥', 960: '▁없이', 961: '▁간만에', 962: '이네요', 963: '쓰', 964: '▁기억이', 965: '▁재미있는', 966: '▁아무리', 967: '들을', 968: '거야', 969: '▁보지', 970: '▁위한', 971: '▁결말이', 972: '▁볼만', 973: '점을', 974: '▁상', 975: '▁너무나', 976: '기는', 977: '▁극', 978: '▁않는다', 979: '아니', 980: '수가', 981: '좋아', 982: '▁웃음', 983: '만들', 984: '▁길', 985: '▁연기는', 986: '▁명', 987: '▁준', 988: '기도', 989: '▁재미있어요', 990: '▁없었다', 991: '▁단', 992: '인줄', 993: '었', 994: '었음', 995: '▁당', 996: '▁생각보다', 997: '블', 998: '슬', 999: '색', 1000: '하면서', 1001: '훈', 1002: '▁재미없', 1003: '▁허접', 1004: '느', 1005: '▁재밌네요', 1006: '른', 1007: '▁평', 1008: '▁특히', 1009: '▁너', 1010: '빠', 1011: '9', 1012: '또', 1013: '▁야', 1014: '▁내용은', 1015: '▁없어', 1016: '▁음', 1017: '▁마음', 1018: '에도', 1019: '병', 1020: '▁대체', 1021: '나요', 1022: '온', 1023: '왕', 1024: '>', 1025: '▁총', 1026: '▁있고', 1027: '▁엔딩', 1028: '▁볼만한', 1029: '순', 1030: '짜', 1031: '▁아쉽다', 1032: '▁애들', 1033: '이지', 1034: '내용', 1035: '이거', 1036: '▁잼있', 1037: '초', 1038: '▁누가', 1039: '▁따라', 1040: '침', 1041: '▁재밋', 1042: '▁갈수록', 1043: '땜에', 1044: '할수', 1045: '향', 1046: '▁자체', 1047: '이었다', 1048: '▁스릴', 1049: '▁경', 1050: '브', 1051: '▁설정', 1052: '▁백', 1053: '▁중국', 1054: '▁나왔', 1055: '▁꿀잼', 1056: '▁점수', 1057: '플', 1058: '▁천', 1059: '▁밖에', 1060: '뻔', 1061: '▁시즌', 1062: '칠', 1063: '앗', 1064: '▁훨씬', 1065: '▁출연', 1066: '▁구성', 1067: '주의', 1068: 'y', 1069: '▁로맨스', 1070: '▁하나도', 1071: 'h', 1072: '▁재미없는', 1073: '진다', 1074: '▁재미는', 1075: '년이', 1076: '▁생각이', 1077: '▁영화관에서', 1078: '▁영상미', 1079: '언', 1080: '나는', 1081: '-_-', 1082: '결', 1083: '~!!', 1084: '▁카', 1085: 'ᄋ', 1086: '존', 1087: '건가', 1088: '출', 1089: '▁올', 1090: '겠', 1091: '▁같이', 1092: '▁감동도', 1093: '▁싶', 1094: '새', 1095: '었어요', 1096: '기를', 1097: '▁먹', 1098: '났', 1099: '▁다큐', 1100: '리고', 1101: '▁문제', 1102: '입', 1103: '▁보게', 1104: '였', 1105: '▁진정한', 1106: '거지', 1107: '완', 1108: '라면', 1109: '▁사람이', 1110: '▁발연기', 1111: '했지만', 1112: '▁적', 1113: '▁찍', 1114: '막', 1115: '▁한다', 1116: '▁그나마', 1117: '짓', 1118: '▁약', 1119: '▁장난', 1120: '올', 1121: '추', 1122: '▁좋은데', 1123: '▁ᅳ', 1124: '▁그래서', 1125: '▁잡', 1126: '편이', 1127: '느낌', 1128: '0', 1129: '▁힘', 1130: '▁첨', 1131: '▁당시', 1132: '수준', 1133: '▁물', 1134: '외', 1135: '▁얼마나', 1136: '▁몰', 1137: '▁관객', 1138: '약', 1139: '▁의미', 1140: '▁그렇게', 1141: '범', 1142: '됨', 1143: '▁찾아', 1144: '친', 1145: '▁느낌이', 1146: '각', 1147: '잇', 1148: '먼', 1149: '▁약간', 1150: '▁주연', 1151: '재미있', 1152: 'D', 1153: '▁이런영화', 1154: '▁오래', 1155: '소리', 1156: '▁전쟁', 1157: '♡', 1158: '▁맘에', 1159: '았다', 1160: '슴', 1161: '백', 1162: '린다', 1163: '▁뿐', 1164: '이야기', 1165: '▁실', 1166: '_', 1167: '여자', 1168: '▁같', 1169: '복', 1170: '▁드', 1171: '▁안되', 1172: '▁배경', 1173: '기에', 1174: '술', 1175: '▁아무', 1176: '▁많', 1177: '욕', 1178: '▁뭐지', 1179: '▁외', 1180: '▁영화였다', 1181: '보니', 1182: '▁역', 1183: '하며', 1184: '▁멜로', 1185: '▁존', 1186: '이건', 1187: '덕', 1188: '찍', 1189: '▁어느', 1190: '다고', 1191: '▁간', 1192: '▁것이', 1193: '웃', 1194: '▁알고', 1195: '기대', 1196: '별로', 1197: '있', 1198: '▁들어', 1199: '베', 1200: '▁친구', 1201: '▁준다', 1202: '될', 1203: '▁봐', 1204: '처', 1205: '▁포스터', 1206: '합', 1207: '기만', 1208: '치고', 1209: 'k', 1210: '렸', 1211: '대박', 1212: '▁30', 1213: '▁보여주는', 1214: '▁위', 1215: '▁입', 1216: '▁위해', 1217: '▁생각하게', 1218: '더니', 1219: '최악', 1220: '▁메', 1221: '▁재밌는데', 1222: '허', 1223: '해라', 1224: '없음', 1225: '해야', 1226: '해지는', 1227: '빈', 1228: '▁살아', 1229: '라서', 1230: '▁분', 1231: '▁같아요', 1232: '▁전부', 1233: '였음', 1234: '▁네이버', 1235: '▁비디오', 1236: '듯한', 1237: '▁좋은영화', 1238: '▁여주인공', 1239: '▁다시봐도', 1240: '▁감성', 1241: '▁있을', 1242: '▁상당히', 1243: '퍼', 1244: '잔', 1245: '없고', 1246: '▁추', 1247: '표', 1248: '메', 1249: '▁추억', 1250: '▁절', 1251: '▁아님', 1252: '▁봤음', 1253: '어야', 1254: '▁뭐냐', 1255: '▁힘들', 1256: '익', 1257: '▁CG', 1258: '▁스토리는', 1259: 'OO', 1260: '길래', 1261: '▁헐', 1262: '갑', 1263: '▁이딴', 1264: '놈', 1265: '졌', 1266: '▁찾', 1267: '▁따', 1268: '▁있을까', 1269: '스러운', 1270: '▁감정', 1271: '▁좋네요', 1272: '▁감동을', 1273: '습', 1274: '▁중간에', 1275: '보기', 1276: '▁만들었', 1277: '▁어릴때', 1278: '했어요', 1279: '▁바로', 1280: '같', 1281: '▁영화임', 1282: '하는데', 1283: '▁따뜻한', 1284: '▁열', 1285: '▁데', 1286: '▁산', 1287: '▁옛날', 1288: '년전', 1289: '▁이것도', 1290: '▁갈', 1291: '▁TV', 1292: '만한', 1293: '영화가', 1294: '▁봐라', 1295: '▁낫다', 1296: '▁엄마', 1297: '련', 1298: '편은', 1299: '낮', 1300: '▁변', 1301: '께', 1302: '▁낮은', 1303: '커', 1304: '▁너무너무', 1305: 'b', 1306: '▁주고', 1307: '▁여기', 1308: '혜', 1309: '▁모습', 1310: '을때', 1311: '▁역사', 1312: '▁아까움', 1313: '▁크', 1314: '▁종', 1315: '엇', 1316: '▁빠져', 1317: '▁버', 1318: '▁뒤', 1319: '▁이영화를', 1320: '료', 1321: '척', 1322: '▁어디서', 1323: '▁평가', 1324: '▁악', 1325: '▁각본', 1326: '럽', 1327: '▁글', 1328: '~~~~', 1329: '▁손', 1330: '링', 1331: '▁없네', 1332: '▁존재', 1333: '월', 1334: '▁배우들이', 1335: '▁높', 1336: '▁대단한', 1337: '▁언제', 1338: '겠지', 1339: '▁더럽게', 1340: '▁아까워', 1341: '▁충격', 1342: '명작', 1343: 'f', 1344: '▁재밌었다', 1345: '▁생각을', 1346: '▁꿈', 1347: '▁요', 1348: '▁판타지', 1349: '▁지루해', 1350: '삼', 1351: '▁마음에', 1352: '▁레', 1353: '놓고', 1354: '▁비해', 1355: '재밋', 1356: '▁끝나', 1357: '▁나이', 1358: '나오', 1359: '▁아직', 1360: '▁연기를', 1361: 'ᄉ', 1362: '▁높은', 1363: '▁줄거리', 1364: '▁나올', 1365: '▁감동적이', 1366: '▁아이들', 1367: '▁한마디로', 1368: '채', 1369: '지루', 1370: '▁봐서', 1371: '치는', 1372: '광', 1373: '록', 1374: '▁포', 1375: '▁집중', 1376: '▁90', 1377: '눈', 1378: '▁시대', 1379: '^', 1380: '▁봄', 1381: '션', 1382: '써', 1383: '들어', 1384: '▁코', 1385: '▁된다', 1386: 'p', 1387: '▁재미없어', 1388: '▁몰입', 1389: '▁봤지만', 1390: '나오는', 1391: '라니', 1392: '스럽다', 1393: '▁나와서', 1394: '▁초딩', 1395: '햇', 1396: '▁흠', 1397: '▁몸', 1398: '적이', 1399: '▁게', 1400: '▁그대로', 1401: 'u', 1402: '▁ᄍᄍ', 1403: '숙', 1404: '아서', 1405: '▁숨', 1406: '추천', 1407: '▁다들', 1408: '▁비교', 1409: '영화중', 1410: '▁어디', 1411: '▁으', 1412: '▁짜증', 1413: '▁리', 1414: '▁좋음', 1415: '▁평점을', 1416: '한영화', 1417: '▁놀', 1418: '▁얘기', 1419: '▁뭐가', 1420: '▁번', 1421: '시리즈', 1422: '굿', 1423: '낸', 1424: '▁굉장히', 1425: '▁여주', 1426: '▁슬픈', 1427: '이라도', 1428: '거냐', 1429: '▁M', 1430: '▁원작을', 1431: '▁새로운', 1432: '끝', 1433: '▁여배우', 1434: '▁훌륭한', 1435: '▁영화도', 1436: '▁복', 1437: '▁영화인데', 1438: '%', 1439: '으나', 1440: '▁대해', 1441: '▁100', 1442: '▁머리', 1443: 'm', 1444: '귀', 1445: 'r', 1446: '튼', 1447: '▁딸', 1448: '▁소리', 1449: '▁그닥', 1450: '▁휴', 1451: '▁윤', 1452: 'l', 1453: '▁깨', 1454: '▁삼류', 1455: '▁그리', 1456: '▁병맛', 1457: '거리', 1458: '영화를', 1459: '▁부족', 1460: '한거', 1461: '▁세계', 1462: '▁패', 1463: '씩', 1464: '▁재미있', 1465: '런', 1466: '▁다음', 1467: '받', 1468: '▁코메디', 1469: '▁극장판', 1470: '▁했다', 1471: '▁흥행', 1472: '잖아', 1473: '▁했는데', 1474: '배우들', 1475: '▁그러', 1476: '▁얼굴', 1477: '모르', 1478: '▁거의', 1479: '▁팬', 1480: '할때', 1481: '고싶다', 1482: '▁목소리', 1483: '▁혼자', 1484: '▁첫', 1485: '▁장르', 1486: '간다', 1487: '▁빨리', 1488: '하자', 1489: '▁두번', 1490: '▁대단', 1491: '▁방', 1492: '▁재밌어', 1493: '속에', 1494: '▁어렸을때', 1495: '좋은', 1496: '품', 1497: '셨', 1498: '에는', 1499: '오빠', 1500: '찬', 1501: '틀', 1502: '▁작가', 1503: '것이', 1504: '▁않았', 1505: '듬', 1506: '청', 1507: '효', 1508: '▁처음부터', 1509: '이라니', 1510: 'w', 1511: '시대', 1512: '▁편', 1513: '▁장면이', 1514: '윤', 1515: '▁하다', 1516: '조차', 1517: '▁연출력', 1518: '재미없', 1519: '▁일본영화', 1520: '혹', 1521: '▁엄청난', 1522: '▁양', 1523: '곡', 1524: '특', 1525: '혀', 1526: '▁암', 1527: '▁재밌었어요', 1528: '▁안된다', 1529: '▁별루', 1530: '▁흥미진진', 1531: '▁감독님', 1532: '벌', 1533: '봐라', 1534: '▁작', 1535: '분들', 1536: '도없고', 1537: '하냐', 1538: '▁킬링타임용', 1539: '▁누구', 1540: '▁돌', 1541: '만으로도', 1542: '▁실화', 1543: '▁유치한', 1544: '만든', 1545: '다시', 1546: '▁어린', 1547: '▁왕', 1548: '................', 1549: '남자', 1550: '▁예상', 1551: ':', 1552: '▁맛', 1553: '▁바보', 1554: '다는', 1555: '▁먹먹', 1556: '▁제작', 1557: '▁돌아', 1558: '▁좋았어요', 1559: '딩', 1560: '▁나의', 1561: '졌다', 1562: '이에요', 1563: '독', 1564: '좋다', 1565: '▁저질', 1566: '땐', 1567: '봐서', 1568: '▁평점에', 1569: '재밌게', 1570: '▁사회', 1571: '▁태', 1572: '▁나와', 1573: '한데', 1574: '▁질', 1575: '▁삼', 1576: '건데', 1577: '▁재미있고', 1578: '▁tv', 1579: '겟', 1580: '▁생각해', 1581: '▁80', 1582: '▁제가', 1583: '▁의도', 1584: '▁느', 1585: '리가', 1586: '▁속편', 1587: '▁화면', 1588: '▁교훈', 1589: '▁것을', 1590: '▁(', 1591: '같다', 1592: '▁그러나', 1593: '억', 1594: '츠', 1595: '이게', 1596: '▁만점', 1597: '▁궁금', 1598: '▁같은데', 1599: '염', 1600: '▁충분히', 1601: '목', 1602: '▁대작', 1603: '▁현', 1604: '▁순', 1605: '▁나온다', 1606: '▁밀', 1607: '껏', 1608: '▁진실', 1609: '세요', 1610: '▁만족', 1611: '근데', 1612: '▁끌', 1613: '는건', 1614: '▁항상', 1615: '점준다', 1616: '▁-_-', 1617: '▁만들지', 1618: '▁그런지', 1619: '▁짜', 1620: '스럽', 1621: '▁망작', 1622: '▁계', 1623: '▁있어', 1624: '탈', 1625: '▁완벽한', 1626: '괴', 1627: '쉬', 1628: '야지', 1629: '▁뻔', 1630: '▁액션영화', 1631: '아깝다', 1632: '패', 1633: '▁유머', 1634: '▁이영화는', 1635: '▁이정도', 1636: '거다', 1637: '네여', 1638: '처음', 1639: '▁삶', 1640: '마지막', 1641: '했습니다', 1642: '▁허무', 1643: '▁저런', 1644: '▁스타일', 1645: '본다', 1646: '년도', 1647: '▁통', 1648: '반전', 1649: '쪽', 1650: '철', 1651: '▁책', 1652: '▁유쾌한', 1653: '▁아버지', 1654: '▁ᄒᄒᄒ', 1655: '▁힘든', 1656: '▁돈주고', 1657: '에요', 1658: '▁상황', 1659: '주세요', 1660: '곤', 1661: '같이', 1662: '이라면', 1663: '겠지만', 1664: '을듯', 1665: '그리고', 1666: '▁예전에', 1667: '렌', 1668: '▁무조건', 1669: '▁불륜', 1670: '▁자체가', 1671: '꼬', 1672: '했으면', 1673: '였는데', 1674: '으니', 1675: '이냐', 1676: '왔', 1677: '줘', 1678: '사람들', 1679: '▁프랑스', 1680: '적이고', 1681: '학교', 1682: '애들', 1683: '▁영화보다', 1684: '웃음', 1685: '▁이름', 1686: '일까', 1687: '▁재미없고', 1688: '▁전형적인', 1689: '▁알았다', 1690: '▁초반', 1691: '노잼', 1692: '▁졸라', 1693: '▁보니', 1694: '▁사람들이', 1695: '▁못하는', 1696: '▁예고편', 1697: '▁훌륭', 1698: '음악', 1699: '엉', 1700: '▁리메이크', 1701: '킹', 1702: '졸', 1703: '강추', 1704: '▁성우', 1705: '????', 1706: 'c', 1707: '에선', 1708: '▁교', 1709: '▁왜이리', 1710: '풍', 1711: '▁골', 1712: '쩌', 1713: '▁주제', 1714: '놈들', 1715: '▁달', 1716: '▁하지', 1717: '필', 1718: '▁매력적인', 1719: '지금', 1720: '▁있었다', 1721: '▁낮', 1722: '~^^', 1723: '▁화이팅', 1724: '▁디', 1725: '▁결', 1726: '▁여운', 1727: '최고의', 1728: '▁아이들이', 1729: '▁믿고', 1730: '보다는', 1731: '성이', 1732: '기가', 1733: '▁봤네요', 1734: '애니', 1735: '▁잘못', 1736: '많이', 1737: '내가', 1738: '▁나만', 1739: '▁좋겠다', 1740: 'n', 1741: '▁ᄏᄏᄏᄏᄏ', 1742: '▁대단하다', 1743: '▁시절', 1744: '한번', 1745: '▁점점', 1746: '맛', 1747: '▁바라', 1748: '▁개그', 1749: '▁돈이', 1750: '리스', 1751: '▁도저히', 1752: '▁없어서', 1753: '▁반전이', 1754: '▁자연', 1755: '▁그것', 1756: '하시', 1757: '휴', 1758: '준다', 1759: '▁액션도', 1760: '구요', 1761: '▁지금까지', 1762: '▁b', 1763: '▁관', 1764: '묘', 1765: '다면', 1766: 'x', 1767: '▁저는', 1768: '싸', 1769: '▁사람은', 1770: '꼭', 1771: '▁소설', 1772: '▁이런게', 1773: '▁귀여운', 1774: '▁없을', 1775: '▁나쁜', 1776: '▁천재', 1777: '▁내인생', 1778: '▁믿', 1779: 'ᅲᅲᅲ', 1780: '▁아오', 1781: '영화다', 1782: '▁감독은', 1783: '▁이런거', 1784: '됬', 1785: '여서', 1786: '▁자기', 1787: '들에게', 1788: '겠네', 1789: '▁것도', 1790: '▁부족한', 1791: '점짜리', 1792: '▁그래픽', 1793: '--', 1794: '전개', 1795: '변', 1796: '정도로', 1797: '그런', 1798: '▁아쉬운', 1799: '▁괜히', 1800: '▁아쉽', 1801: '웠', 1802: '▁최악이다', 1803: '▁써', 1804: '▁말도', 1805: '▁이상한', 1806: '▁명작이다', 1807: '나라', 1808: ';;;;', 1809: '팬', 1810: '▁않아', 1811: '▁터', 1812: '겁', 1813: '▁지금봐도', 1814: '많', 1815: '들도', 1816: '▁알게', 1817: '▁정도로', 1818: '얼', 1819: '▁괜찮', 1820: '실망', 1821: '잉', 1822: '▁SF', 1823: '▁청춘', 1824: '봐야', 1825: '오는', 1826: '▁극장', 1827: '▁자꾸', 1828: '것을', 1829: '나서', 1830: '▁있지만', 1831: '겹', 1832: '끔', 1833: '도록', 1834: '▁전편', 1835: '걸까', 1836: '랄', 1837: '▁알았', 1838: '였습니다', 1839: '▁작품성', 1840: '▁문', 1841: '연출', 1842: '떨어', 1843: '▁떠', 1844: '▁성장', 1845: '▁감동적이고', 1846: '▁로맨틱', 1847: '▁이런걸', 1848: '▁가는', 1849: '▁굳', 1850: '▁주인공이', 1851: '▁잘만든', 1852: '▁투', 1853: '▁좀비', 1854: '▁좋았음', 1855: '▁그래', 1856: '역시', 1857: '▁담', 1858: '놀', 1859: '재미없다', 1860: '▁자신', 1861: '▁아름답다', 1862: '▁사랑을', 1863: '▁유치하고', 1864: 'v', 1865: '어도', 1866: '밀', 1867: 'ᄂ', 1868: '▁독', 1869: '킬', 1870: '▁설', 1871: '▁모르고', 1872: '하긴', 1873: '누', 1874: 'ᅲᅲᅲᅲ', 1875: '▁상상', 1876: '시절', 1877: '▁가치', 1878: '▁볼수', 1879: '▁웃겨', 1880: '징', 1881: '옥', 1882: '▁싸', 1883: '뜨', 1884: '암', 1885: '년에', 1886: '▁되어', 1887: '▁감상', 1888: 'ᄀ', 1889: '픈', 1890: ',,,,', 1891: 'ᄅ', 1892: '▁확', 1893: 'T', 1894: '골', 1895: '▁댓글', 1896: '최', 1897: '▁일단', 1898: '▁19', 1899: '▁전작', 1900: '▁죽음', 1901: '인거', 1902: '▁없네요', 1903: '코미디', 1904: '▁상상력', 1905: '시키', 1906: '▁커', 1907: '▁이유', 1908: '▁범죄', 1909: '▁쳐', 1910: '주인공', 1911: '▁지루하지', 1912: '깔', 1913: '규', 1914: '▁갑자기', 1915: '견', 1916: '▁밑에', 1917: '▁엉성', 1918: '▁시간낭비', 1919: '▁ᄉᄇ', 1920: '▁이쁘', 1921: '▁순간', 1922: '▁긴', 1923: '답', 1924: '▁웃긴', 1925: '보다가', 1926: '▁200', 1927: '▁있어서', 1928: '▁보는데', 1929: '&', 1930: '▁아놔', 1931: '▁기대하고', 1932: '▁마무리', 1933: '빵', 1934: '▁선택', 1935: '났다', 1936: '롭', 1937: '필요', 1938: '▁중에', 1939: '▁짱짱', 1940: '▁집', 1941: '페', 1942: '//', 1943: '▁이것', 1944: '▁ost', 1945: '▁끝내', 1946: '▁허접한', 1947: '*', 1948: '쯤', 1949: '지않은', 1950: '▁우연히', 1951: '▁이리', 1952: '▁추억의', 1953: '셔', 1954: '량', 1955: 'E', 1956: '▁겁나', 1957: '▁더욱', 1958: '▁짜증나', 1959: 'ᄒᄒᄒ', 1960: '▁귀', 1961: '▁이번', 1962: '▁C', 1963: '▁완벽', 1964: '▁왠지', 1965: '▁보여주', 1966: '다운', 1967: '드는', 1968: '▁해도', 1969: '▁화려한', 1970: '▁신기', 1971: '▁재미있음', 1972: '▁니', 1973: '였어요', 1974: '▁노력', 1975: '▁대한민국', 1976: '▁느낄', 1977: '▁잘봤습니다', 1978: '▁유쾌', 1979: '▁국', 1980: '춘', 1981: '▁잼있게', 1982: '▁완성도', 1983: '▁황', 1984: '▁만드', 1985: '감이', 1986: '▁보고싶다', 1987: '깨', 1988: '딱', 1989: '아이', 1990: '▁소재는', 1991: '▁평점은', 1992: '재밌어요', 1993: '닥', 1994: '▁등', 1995: '▁관람', 1996: '▁아무것도', 1997: '▁흐', 1998: '▁영화였습니다', 1999: '▁무서운', 2000: '▁저도', 2001: '▁처음으로', 2002: '▁지금도', 2003: '하니', 2004: '▁역대', 2005: '▁느끼', 2006: '▁황당', 2007: '▁한계', 2008: '▁티', 2009: '▁미화', 2010: '▁슬프다', 2011: '갔', 2012: '짜리', 2013: '▁뭔지', 2014: '▁글쎄', 2015: '▁게임', 2016: '것같다', 2017: '▁슬', 2018: '▁해준', 2019: '되어', 2020: '▁꼬', 2021: '▁개연성', 2022: '▁훨', 2023: '▁브', 2024: '말이', 2025: '로서', 2026: '▁잔인하', 2027: '널', 2028: 'ᄆ', 2029: '쁘', 2030: '함이', 2031: 'ᄃ', 2032: '▁재밌습니다', 2033: '▁젤', 2034: '▁않을', 2035: '였던', 2036: '▁느끼게', 2037: '▁세상', 2038: '▁슬프', 2039: '앙', 2040: '▁이연걸', 2041: '잼있', 2042: '놓', 2043: '▁왜이렇게', 2044: '▁있음', 2045: '려서', 2046: '유치', 2047: '▁처', 2048: '▁재밌었음', 2049: '▁수준이', 2050: '▁새', 2051: '봉', 2052: '▁어이없', 2053: '풀', 2054: '▁안보', 2055: '▁전개가', 2056: '령', 2057: '힌', 2058: '▁액션이', 2059: '▁좋았는데', 2060: '▁흥미', 2061: '▁재미없네', 2062: '킨', 2063: '렸다', 2064: '▁배우가', 2065: '하세요', 2066: '▁연출이', 2067: '▁온', 2068: '▁읽', 2069: '결말', 2070: '만화', 2071: '함을', 2072: '되고', 2073: '내요', 2074: '보세요', 2075: '▁단순', 2076: '▁낭비', 2077: '▁신선', 2078: '없어', 2079: '▁자유', 2080: '재밌다', 2081: '▁가지고', 2082: '▁멋지다', 2083: '든다', 2084: '▁동화', 2085: '▁만나', 2086: '▁s', 2087: '타임', 2088: 'j', 2089: '▁원래', 2090: '▁영웅', 2091: '▁별로다', 2092: '줌', 2093: '▁재밌네', 2094: '엿', 2095: '스타', 2096: '홍', 2097: '▁했', 2098: '눈물', 2099: '▁영화중에', 2100: '버리', 2101: '▁재밌었는데', 2102: '▁멋있', 2103: '▁그녀', 2104: '들과', 2105: '▁그랬', 2106: '▁괴', 2107: '먹는', 2108: '보는데', 2109: '▁리얼', 2110: '▁알바들', 2111: '▁어릴적', 2112: '▁설명', 2113: '▁나를', 2114: '▁형', 2115: '▁싫다', 2116: '▁ᄃᄃ', 2117: '▁ᅮ', 2118: '▁모르는', 2119: '▁바람', 2120: '황', 2121: '▁섹시', 2122: '▁그림', 2123: '▁아깝', 2124: '▁쓴', 2125: '▁상영', 2126: '▁벌', 2127: '스런', 2128: '▁보여', 2129: '▁미치', 2130: '▁까', 2131: '▁필요없는', 2132: '멋', 2133: '일뿐', 2134: '있고', 2135: '▁보여준', 2136: '=', 2137: '▁재밌었', 2138: '하던', 2139: '탕', 2140: '점주는', 2141: '▁알았는데', 2142: '족', 2143: '▁알아', 2144: '▁맥', 2145: '▁참고', 2146: '▁생각나', 2147: '▁이후', 2148: '좋아요', 2149: '▁만들었다', 2150: '▁독특한', 2151: '마저', 2152: '▁무섭', 2153: '해주는', 2154: '싱', 2155: '벨', 2156: '▁각', 2157: '▁귀신', 2158: '▁충', 2159: '▁A', 2160: '▁시걸', 2161: '▁진부한', 2162: '▁입니다', 2163: '▁나에게', 2164: '▁그럭저럭', 2165: '▁깊은', 2166: '쇼', 2167: '쿠', 2168: '▁여전히', 2169: '▁편집', 2170: '는걸', 2171: '▁갑', 2172: '▁좋았습니다', 2173: '▁분명', 2174: '하라', 2175: '▁느껴지는', 2176: '마음', 2177: '▁클', 2178: '는것', 2179: '수록', 2180: '▁앞으로', 2181: '▁감사', 2182: '▁답답', 2183: '빨', 2184: '▁아닌가', 2185: '▁그때', 2186: '▁복수', 2187: '끄', 2188: '그래도', 2189: '책', 2190: '팔', 2191: '▁어이없는', 2192: '▁봐야할', 2193: '보게', 2194: '▁이미', 2195: '▁싫어', 2196: '▁우울', 2197: '▁필요없다', 2198: '짝', 2199: '활', 2200: '▁것은', 2201: '했고', 2202: '▁광', 2203: '▁인간의', 2204: '에겐', 2205: '▁지나', 2206: '▁성공', 2207: '가서', 2208: '▁것이다', 2209: '것이다', 2210: '▁빠지', 2211: '▁수가', 2212: '▁느껴', 2213: '▁인정', 2214: '동안', 2215: '▁받', 2216: '▁않음', 2217: '▁인상깊', 2218: '▁전체적으로', 2219: '▁눈이', 2220: '지마라', 2221: '만으로', 2222: '▁아름답고', 2223: '▁없었', 2224: '람', 2225: '없네', 2226: '▁멀', 2227: '▁보지마세요', 2228: '▁귀엽고', 2229: '▁보고나서', 2230: '하는게', 2231: '▁감사합니다', 2232: '▁살인', 2233: '떡', 2234: '▁결혼', 2235: '▁재밋게', 2236: '▁억지로', 2237: '▁않았다', 2238: '립', 2239: '▁비추', 2240: '가지', 2241: '▁여성', 2242: '십', 2243: '▁이젠', 2244: '들아', 2245: '▁음악이', 2246: '▁애들이', 2247: '었으면', 2248: '▁답', 2249: '만들어', 2250: '▁후반부', 2251: '땅', 2252: '▁이영화가', 2253: '▁가끔', 2254: '▁평론가', 2255: '▁사람들은', 2256: '▁눈을', 2257: '이면', 2258: '봤음', 2259: '▁성인', 2260: '욱', 2261: '▁재미있었다', 2262: '잊', 2263: '▁사랑이', 2264: '봣', 2265: '전에', 2266: '▁매력이', 2267: 'ᅡ', 2268: '껄', 2269: '롱', 2270: '▁아빠', 2271: '▁예쁜', 2272: '▁빠', 2273: '이제', 2274: '찌', 2275: '응', 2276: '▁듯한', 2277: '▁호러', 2278: 'O', 2279: '▁볼만함', 2280: '급영화', 2281: '▁재미있네요', 2282: '▁잊혀지지', 2283: '▁있는데', 2284: '아주', 2285: '▁늘', 2286: '▁철', 2287: '나와', 2288: '▁홍', 2289: '▁너무나도', 2290: '릭', 2291: '▁프로', 2292: '좌', 2293: '▁어찌', 2294: '▁처음이다', 2295: '▁불편', 2296: '▁이정도면', 2297: 'ᄍᄍ', 2298: '▁취향', 2299: '모습', 2300: '.......', 2301: '▁재밋다', 2302: '버려', 2303: '누나', 2304: '▁질질', 2305: '▁영화라', 2306: '▁스케일', 2307: '드라', 2308: '재밌음', 2309: '자가', 2310: '가족', 2311: '시켜', 2312: '▁창', 2313: '▁스토리에', 2314: '▁마라', 2315: '을텐데', 2316: '▁둘', 2317: '▁보시길', 2318: '▁이하', 2319: '▁비슷', 2320: '톤', 2321: '▁몸매', 2322: '인이', 2323: '언니', 2324: '▁남는다', 2325: '때마다', 2326: '예요', 2327: '........', 2328: '분이', 2329: '잃', 2330: '▁낚', 2331: '▁캐', 2332: '▁어렸을', 2333: '폰', 2334: '▁신선한', 2335: '려는', 2336: '놓은', 2337: '▁이야기를', 2338: '▁고전', 2339: '거임', 2340: 'ᄏᄏᄏᄏᄏ', 2341: '부분', 2342: '▁영화냐', 2343: '▁키', 2344: '▁지루하', 2345: '▁볼만하다', 2346: '▁회', 2347: '▁언', 2348: '룡', 2349: '▁킬링타임', 2350: '▁평생', 2351: '엄', 2352: '곳', 2353: '▁마음을', 2354: '로운', 2355: '송', 2356: '▁전달', 2357: '끼리', 2358: '클', 2359: '릿', 2360: '▁그게', 2361: '▁해주는', 2362: '세계', 2363: '▁홍콩', 2364: '▁트', 2365: '▁임', 2366: '점준', 2367: '▁그다지', 2368: '▁진행', 2369: '▁소름', 2370: '▁추천합니다', 2371: '폭', 2372: '▁S', 2373: '▁액션은', 2374: 'S', 2375: '남는', 2376: '하는거', 2377: '년전에', 2378: '▁맞는', 2379: '▁목', 2380: '▁쵝오', 2381: '▁메세지', 2382: '▁흥미롭', 2383: '▁죽는', 2384: '짜증', 2385: '▁똑같', 2386: '올라', 2387: '버렸다', 2388: '아닌', 2389: '손', 2390: '봤어요', 2391: '시간이', 2392: '▁좋았', 2393: '▁보이', 2394: '▁보는게', 2395: '있게', 2396: '득', 2397: 'ᄏᄏᄏᄏᄏᄏᄏᄏᄏ', 2398: '해준', 2399: '▁깊이', 2400: '한듯', 2401: '▁있나', 2402: '▁노출', 2403: '버렸', 2404: '▁사랑스러운', 2405: '♥♥', 2406: '▁다소', 2407: '▁떠나', 2408: '▁아니지만', 2409: '▁본다', 2410: '▁그렇고', 2411: '충', 2412: 'A', 2413: '▁그런가', 2414: '짧', 2415: '냥', 2416: '▁안나오', 2417: '새끼', 2418: '갔다', 2419: '▁싶어', 2420: '영상', 2421: '▁역시나', 2422: '▁기분이', 2423: '@', 2424: '▁볼거리', 2425: '▁기대를', 2426: '내는', 2427: '▁꺼', 2428: '▁낫', 2429: '▁순수한', 2430: '거같다', 2431: '▁짜증나는', 2432: '뒤', 2433: '▁표', 2434: '▁급', 2435: '▁미소', 2436: '무슨', 2437: '▁아저씨', 2438: '▁여자들', 2439: '▁죄', 2440: '▁섹스', 2441: '▁표절', 2442: '▁말고', 2443: '▁가볍게', 2444: '사람이', 2445: '▁같음', 2446: '▁무지', 2447: '번째', 2448: 'an', 2449: '▁어색한', 2450: 'C', 2451: '▁풀어', 2452: '▁지루해서', 2453: '▁OST', 2454: '▁없나', 2455: '하여', 2456: '나올', 2457: 'P', 2458: '턴', 2459: '▁감탄', 2460: '▁잔잔하고', 2461: '▁하면', 2462: '몰', 2463: '알바', 2464: '▁금', 2465: '▁일상', 2466: '▁15', 2467: '웃기', 2468: '뜻', 2469: '▁저예산', 2470: '한다면', 2471: '겟다', 2472: '▁슬프고', 2473: '었지만', 2474: '뿌', 2475: '마다', 2476: '▁보고싶', 2477: '▁볼만하', 2478: '▁한편', 2479: '했어', 2480: '▁몇번을', 2481: '개도', 2482: '▁보기엔', 2483: '▁독립영화', 2484: '지고', 2485: '코드', 2486: '▁후반', 2487: '▁비슷한', 2488: '율', 2489: '▁높다', 2490: '볼만', 2491: '빡', 2492: '영화의', 2493: '▁해서', 2494: '▁용서', 2495: '하다니', 2496: '▁봤었는데', 2497: '▁+', 2498: '▁벗', 2499: '▁할말이', 2500: '버리고', 2501: '나온', 2502: '쓴', 2503: '▁누', 2504: '▁무서워', 2505: '`', 2506: 'R', 2507: '▁조폭', 2508: '있었', 2509: '▁티비에서', 2510: '안되', 2511: '있어', 2512: '혼', 2513: '▁생각나는', 2514: '▁이어', 2515: '▁평범한', 2516: '▁에로', 2517: '▁짠', 2518: '드리', 2519: '▁good', 2520: '▁먼저', 2521: '지마', 2522: '▁현재', 2523: '▁등장', 2524: '했네', 2525: '▁보지마', 2526: '소재', 2527: '본영화', 2528: '되지', 2529: '▁권', 2530: '편보다', 2531: '▁돌려', 2532: '▁캐릭터들', 2533: '념', 2534: '괜찮', 2535: '▁디즈니', 2536: '인의', 2537: '▁모습이', 2538: '인간', 2539: 'ᄃᄃ', 2540: '▁관심', 2541: '▁좋았던', 2542: '보면서', 2543: '▁희망', 2544: '▁연기력이', 2545: '▁사극', 2546: '왔다', 2547: '▁같네요', 2548: '그러', 2549: '▁유치하다', 2550: '▁됐', 2551: '▁이건뭐', 2552: '이렇게', 2553: '것은', 2554: '▁찍은', 2555: '거나', 2556: '▁아닌듯', 2557: '▁슬픔', 2558: '따위', 2559: '▁빼', 2560: '▁전기세', 2561: '▁방송', 2562: '▁시사회', 2563: '▁특유의', 2564: '▁올해', 2565: '평점이', 2566: '▁재미를', 2567: '흐', 2568: '▁명작이', 2569: '▁이야기가', 2570: '▁출', 2571: '랜', 2572: '었습니다', 2573: '압', 2574: '스러움', 2575: '▁싫', 2576: '▁생애', 2577: '▁I', 2578: '▁빈', 2579: '▁과거', 2580: '▁이러', 2581: '▁당신', 2582: '온다', 2583: '했을', 2584: '▁옛날에', 2585: '아님', 2586: '던가', 2587: '▁작품이', 2588: '하구', 2589: '▁언제나', 2590: '▁세상에', 2591: '▁있다는', 2592: '▁합니다', 2593: '총', 2594: '자들', 2595: '▁끝난', 2596: '▁심심', 2597: '▁삶을', 2598: '▁실패', 2599: '웠다', 2600: '▁미래', 2601: '▁참신', 2602: '▁뮤지컬', 2603: '늘', 2604: '▁지난', 2605: '▁용', 2606: '▁했지만', 2607: '▁드는', 2608: '▁갖', 2609: '▁미드', 2610: '▁매력적', 2611: '다른', 2612: '▁시트콤', 2613: '더만', 2614: '▁모르겠', 2615: '▁아나', 2616: '으면서', 2617: '▁유치함', 2618: '▁좋습니다', 2619: '▁뒷', 2620: '면서도', 2621: '친구', 2622: '▁몰입감', 2623: '▁무섭다', 2624: '▁남주', 2625: '제목', 2626: '▁먼', 2627: '▁샤', 2628: '수도', 2629: 'er', 2630: '▁팔', 2631: '▁확실히', 2632: '봅니다', 2633: '▁살짝', 2634: '▁드럽게', 2635: '▁어이가', 2636: 'or', 2637: '▁나가', 2638: '▁썩', 2639: '▁찡', 2640: '▁어린이', 2641: '됐', 2642: '▁우와', 2643: '▁예전', 2644: '▁딴', 2645: '더군요', 2646: '▁시선', 2647: '▁청', 2648: '▁놓', 2649: '돼', 2650: '▁;;', 2651: '▁나라', 2652: 'ᄇ', 2653: '덤', 2654: '죄', 2655: '엘', 2656: '▁의리', 2657: '▁식상', 2658: '성을', 2659: '▁함', 2660: '▁그린', 2661: '▁끝나고', 2662: '▁덜', 2663: '▁멋', 2664: '▁해피엔딩', 2665: '▁돋', 2666: '▁귀엽', 2667: '▁싸이코', 2668: '스가', 2669: '나와서', 2670: '▁뜨', 2671: '육', 2672: '니깐', 2673: '▁메시지', 2674: '힘', 2675: 'M', 2676: '주고', 2677: '▁어쩔', 2678: '▁엉성한', 2679: '▁페', 2680: '▁루', 2681: '한건', 2682: '할듯', 2683: '▁있었던', 2684: '줄이야', 2685: '▁중반', 2686: '20', 2687: '▁시원', 2688: '▁이유가', 2689: 'V', 2690: '공포', 2691: '▁쓰래기', 2692: '▁춤', 2693: '▁아들', 2694: '굴', 2695: '뉴', 2696: '▁힐링', 2697: '▁기대안하고', 2698: '았던', 2699: '높', 2700: '▁볼수록', 2701: '형님', 2702: 'B', 2703: '▁믿을', 2704: '시다', 2705: '▁빛', 2706: '▁아깝지', 2707: '▁이쁜', 2708: '▁대충', 2709: '인생', 2710: '▁우정', 2711: '▁쩐다', 2712: '텔', 2713: '▁싸구려', 2714: '▁압권', 2715: '▁그의', 2716: '▁재미있었어요', 2717: '▁시시', 2718: '슈', 2719: '▁그들의', 2720: '▁중간', 2721: '▁정서', 2722: '기분', 2723: '▁현대', 2724: '▁cg', 2725: '▁되게', 2726: 'L', 2727: '▁아름다움', 2728: 'ᅵ', 2729: '▁범인', 2730: '▁어색', 2731: '▁볼때마다', 2732: '가슴', 2733: '▁나왔으면', 2734: '▁표정', 2735: '스릴러', 2736: '▁영화지만', 2737: '하면서도', 2738: '▁이때', 2739: '말고', 2740: '▁시청률', 2741: '▁난다', 2742: '▁더이상', 2743: '▁재미없어요', 2744: '▁인물', 2745: '▁좋았고', 2746: '▁인생의', 2747: '▁왜케', 2748: '▁ᅲᅲᅲ', 2749: '웅', 2750: '무비', 2751: '▁짝퉁', 2752: '일이', 2753: '▁넘어', 2754: '까진', 2755: '▁쇼', 2756: '닝', 2757: '나옴', 2758: '▁긴장', 2759: '▁외국', 2760: '▁보았', 2761: '▁극치', 2762: '▁폭', 2763: '▁보고싶은', 2764: '▁감동과', 2765: '세기', 2766: '해주', 2767: '연기가', 2768: '기억', 2769: '▁얼', 2770: '▁방금', 2771: '▁풍', 2772: '끝나', 2773: '▁와우', 2774: '▁느와르', 2775: '▁연애', 2776: '▁민', 2777: '끌', 2778: '봣는데', 2779: '▁높아', 2780: '▁실제', 2781: '▁이거보고', 2782: '▁제목이', 2783: '▁영화관', 2784: '케이', 2785: '▁꽝', 2786: '시는', 2787: '어지는', 2788: '▁틀', 2789: '▁부분', 2790: '▁여자가', 2791: '기엔', 2792: '이뻐', 2793: '받은', 2794: '봐요', 2795: '▁만들어진', 2796: '▁아닌데', 2797: '▁필', 2798: '내용이', 2799: '▁초반에', 2800: '▁하게', 2801: '는건지', 2802: '▁아니면', 2803: '▁요소', 2804: '지않는', 2805: '▁빌려', 2806: '▁웃기고', 2807: 'ᄏᄏᄏᄏᄏᄏᄏᄏᄏᄏᄏᄏᄏᄏᄏᄏ', 2808: '오히려', 2809: '▁와닿', 2810: '▁연기에', 2811: '▁보러', 2812: '▁괴물', 2813: '텐데', 2814: '▁봤다가', 2815: '헤', 2816: '한국', 2817: '▁생각없이', 2818: '취', 2819: '둘', 2820: '▁동물', 2821: '개봉', 2822: '▁취', 2823: '머리', 2824: '랬', 2825: '▁탄탄한', 2826: '▁말로', 2827: '면에서', 2828: '▁귀여워', 2829: '중의', 2830: '▁엘', 2831: '▁진심으로', 2832: '11', 2833: '▁청소년', 2834: '▁있다면', 2835: '▁ᄋ', 2836: '▁베스트', 2837: '있음', 2838: '있는데', 2839: '▁옛', 2840: '중에서', 2841: '▁오버', 2842: '▁웃김', 2843: '장난', 2844: '▁월', 2845: '캐', 2846: '▁접', 2847: '▁그런데', 2848: '▁스타', 2849: '▁영화에요', 2850: '▁분들', 2851: '▁사는', 2852: '▁12', 2853: '▁안됨', 2854: '▁감동적', 2855: '▁떨어지는', 2856: '▁굿굿', 2857: '보자', 2858: '▁어른', 2859: '▁듣', 2860: '▁드라마를', 2861: '쏘', 2862: '댄', 2863: '▁눈빛', 2864: '▁따뜻해지는', 2865: '프로', 2866: '▁뛰어난', 2867: '던지', 2868: '감동적', 2869: '▁<', 2870: '▁코난', 2871: '▁안하고', 2872: '▁이쁘다', 2873: '▁설레', 2874: '▁사이', 2875: '▁느낄수', 2876: '진심', 2877: '▁찍어', 2878: '▁친', 2879: '▁무비', 2880: '▁고생', 2881: '▁다큐멘터리', 2882: '▁열정', 2883: '▁심리', 2884: '작가', 2885: '▁화가', 2886: '오글', 2887: '▁게이', 2888: '흑', 2889: '옹', 2890: '므', 2891: '넹', 2892: '▁주성치', 2893: '속에서', 2894: '▁촬영', 2895: '▁핵', 2896: '▁종교', 2897: '▁무서웠', 2898: '▁단연', 2899: '▁영화보고', 2900: '▁뛰어', 2901: '내용도', 2902: '▁반개도', 2903: '첨', 2904: '접', 2905: '았음', 2906: '▁송', 2907: '젤', 2908: '▁관계', 2909: '▁다르', 2910: '▁헛', 2911: '▁어제', 2912: '보이', 2913: '▁아닐까', 2914: '▁음악도', 2915: '▁나중에', 2916: '▁할말', 2917: '▁꼴', 2918: '항', 2919: '힐', 2920: '었어', 2921: '▁느낀', 2922: '르는', 2923: '▁해주', 2924: '▁독특', 2925: '센스', 2926: '나고', 2927: '▁폭력', 2928: '계의', 2929: '▁짓', 2930: '▁보이는', 2931: '▁경찰', 2932: '만드는', 2933: 'ᅲᅮ', 2934: '점주', 2935: '아쉬', 2936: '▁앞', 2937: 'N', 2938: '▁부분이', 2939: '솔', 2940: '떄', 2941: '삭', 2942: '▁헐리웃', 2943: '▁좋을', 2944: '▁진리', 2945: '으론', 2946: '▁지루했다', 2947: '좋고', 2948: '▁킬링타임용으로', 2949: '님의', 2950: '생활', 2951: '슬퍼', 2952: '스터', 2953: '인가요', 2954: '콜', 2955: '▁로그인', 2956: '▁레전드', 2957: '걸로', 2958: '▁남을', 2959: '▁과연', 2960: '상을', 2961: '찾', 2962: '인것', 2963: '▁처음엔', 2964: '점수', 2965: '▁붙', 2966: '흔', 2967: '▁병', 2968: '▁푹', 2969: '북', 2970: '잠', 2971: '맘', 2972: '▁환상', 2973: '▁카메라', 2974: '▁개판', 2975: '▁그럼', 2976: '▁서로', 2977: '용으로', 2978: '▁죽여', 2979: '▁벌써', 2980: '▁에휴', 2981: '▁영화이다', 2982: '틴', 2983: '영화라고', 2984: '▁울었다', 2985: '▁울었', 2986: '▁즐겁게', 2987: '▁유쾌하고', 2988: '▁빌', 2989: '▁든다', 2990: '▁소녀', 2991: '▁그렇다', 2992: '▁a', 2993: '리를', 2994: '▁매력있', 2995: '▁나서', 2996: '▁반전도', 2997: '▁재미잇', 2998: '▁안타깝다', 2999: '▁망한', 3000: '▁주인공들', 3001: '짱짱', 3002: '표현', 3003: '▁삶의', 3004: '순간', 3005: '와서', 3006: '▁형편없', 3007: '▁맨', 3008: '▁있지', 3009: '▁마세요', 3010: '신이', 3011: '▁생생', 3012: '시간에', 3013: '▁지루할', 3014: '봤던', 3015: '!!!!!', 3016: '▁소재가', 3017: '▁봤으면', 3018: '▁케', 3019: '▁보길', 3020: '▁d', 3021: '▁여기서', 3022: '있네', 3023: '...........', 3024: '▁쫌', 3025: '▁맘', 3026: 'OOO', 3027: 'I', 3028: '▁이제야', 3029: '▁T', 3030: 're', 3031: '극장', 3032: '빼고', 3033: '▁명품', 3034: '▁스토리와', 3035: '▁꾸', 3036: '▁포장', 3037: '▁티비', 3038: '했으나', 3039: '함과', 3040: '꿀잼', 3041: '▁나은', 3042: 'ᄌ', 3043: '떠', 3044: '흥', 3045: '▁정말로', 3046: 'ᄏᄏᄏᄏᄏᄏᄏᄏᄏᄏᄏᄏᄏ', 3047: '▁흘러', 3048: '▁아는', 3049: '흡', 3050: '값', 3051: '▁70', 3052: ']', 3053: '▁007', 3054: '▁위대한', 3055: '▁헐리우드', 3056: '▁마이클', 3057: '▁인기', 3058: '▁평이', 3059: '스타일', 3060: '▁씨', 3061: '▁남아', 3062: '매력', 3063: '▁끝나는', 3064: '▁이런영화가', 3065: '..........', 3066: '계속', 3067: '되네요', 3068: '시킨', 3069: '▁합', 3070: '았습니다', 3071: '▁왜이래', 3072: '▁노답', 3073: '▁죄다', 3074: '가지고', 3075: '▁팬이', 3076: '▁인생을', 3077: '협', 3078: '▁꼽', 3079: '탁', 3080: '▁즐거운', 3081: '▁의외로', 3082: '▁힘들다', 3083: '▁멋있다', 3084: '긴한데', 3085: '친다', 3086: '▁만큼', 3087: '▁근', 3088: '▁40', 3089: '것같', 3090: '▁한데', 3091: '나게', 3092: '메이', 3093: '▁포기', 3094: '봤지만', 3095: '▁잼나', 3096: '폐', 3097: '이해', 3098: '▁마치', 3099: '명이', 3100: '깎', 3101: '▁불쾌', 3102: '▁가서', 3103: '▁레알', 3104: '▁말할', 3105: '▁재밌던데', 3106: '▁지나치', 3107: '▁프로그램', 3108: '꾸', 3109: '▁잊지', 3110: '▁부족하다', 3111: '▁헤', 3112: '▁평범', 3113: '그래', 3114: '▁운', 3115: '▁모습을', 3116: '▁쓰레기다', 3117: '▁전에', 3118: '▁장면은', 3119: '같네', 3120: '.........', 3121: '▁시대를', 3122: '멘', 3123: '▁야한', 3124: '이런영화', 3125: '▁찍었', 3126: '▁발로', 3127: '▁연속', 3128: '▁잼있다', 3129: '▁음악과', 3130: '▁다행', 3131: '▁법', 3132: '편의', 3133: '▁오랜만', 3134: '▁빨', 3135: '▁내려', 3136: '▁죽어', 3137: '▁스토리를', 3138: '▁포르노', 3139: '였어', 3140: '▁c', 3141: '▁사기', 3142: '▁능력', 3143: '▁쥐', 3144: '▁나왔다', 3145: '것만', 3146: '아니다', 3147: '하는지', 3148: '뛰', 3149: '팅', 3150: '▁마이너스', 3151: '▁뭉클', 3152: '▁되었다', 3153: '▁학교에서', 3154: '▁무섭지도', 3155: '▁군대', 3156: '했는지', 3157: '들만', 3158: '▁남기', 3159: '막장', 3160: '스의', 3161: '▁사랑과', 3162: '▁괜찮은데', 3163: '▁했던', 3164: '그렇', 3165: '▁잔', 3166: '▁신선하고', 3167: 'on', 3168: '▁있네요', 3169: '콩', 3170: '택', 3171: '▁없지만', 3172: '▁견자단', 3173: '(?)', 3174: '▁무엇보다', 3175: '▁무엇을', 3176: '▁있어요', 3177: '▁올리', 3178: '▁최강', 3179: '▁어휴', 3180: '▁공감이', 3181: '▁사람을', 3182: '▁드라마가', 3183: '▁건지', 3184: '시키는', 3185: '▁현실적인', 3186: '연기도', 3187: '소재를', 3188: '▁펑펑', 3189: '좋음', 3190: '▁뻔하고', 3191: '▁괜찮았', 3192: '▁광고', 3193: '현실', 3194: '▁나옴', 3195: '▁사랑에', 3196: '▁ᄋᄋ', 3197: '▁정치', 3198: '▁잼없', 3199: '퀴', 3200: '낼', 3201: '땡', 3202: '느라', 3203: '방송', 3204: '▁굳이', 3205: '▁앤', 3206: '▁악역', 3207: '▁특이', 3208: '▁단순한', 3209: '▁영국', 3210: '▁소재로', 3211: '자는', 3212: '▁연기와', 3213: '▁본영화', 3214: '이유', 3215: '▁ᄏᄏᄏᄏᄏᄏ', 3216: '으며', 3217: '▁이기', 3218: '▁고민', 3219: '안에', 3220: '▁산으로', 3221: '▁낮아서', 3222: '되서', 3223: '대가', 3224: '▁모든게', 3225: 'st', 3226: '▁울고', 3227: '▁퀄리티', 3228: '▁퇴', 3229: '어라', 3230: '구성', 3231: '▁솔직', 3232: '점이다', 3233: '▁어려운', 3234: '▁그려', 3235: '쓸', 3236: '▁눈물을', 3237: '답답', 3238: '스러', 3239: '▁식', 3240: '▁자막', 3241: '▁통쾌', 3242: '▁같습니다', 3243: '부족', 3244: '▁다시한번', 3245: '특히', 3246: '슬프', 3247: '▁신파', 3248: '▁동생', 3249: '▁무시', 3250: '▁만든다', 3251: '▁배우의', 3252: '▁밥', 3253: '영화임', 3254: '감을', 3255: '쁜', 3256: '티비', 3257: '▁기본', 3258: '▁살아있', 3259: '▁뇌', 3260: '▁중간중간', 3261: '정이', 3262: '▁사건', 3263: '▁이해하기', 3264: '했나', 3265: '▁이쁘고', 3266: '▁느끼는', 3267: '멸', 3268: '▁찝찝', 3269: '▁필름', 3270: '▁민망', 3271: '▁어머니', 3272: '몽', 3273: '▁역대급', 3274: '▁캬', 3275: '아요', 3276: '나온다', 3277: '끝까지', 3278: '▁곳', 3279: '영화로', 3280: '▁죽이', 3281: '▁웃음이', 3282: '▁자극', 3283: '▁몰입이', 3284: '▁이따위', 3285: '▁빵점', 3286: '▁차이', 3287: '▁논', 3288: '같음', 3289: '▁비극', 3290: '▁적당', 3291: '~!!!', 3292: '였지만', 3293: '대사', 3294: '▁둘다', 3295: '▁무협', 3296: '붕', 3297: '털', 3298: '포인트', 3299: '▁색다른', 3300: '▁흥미로운', 3301: '▁시간가는줄', 3302: '▁웃기지도', 3303: '쥐', 3304: '딸', 3305: '▁점수를', 3306: '하지마라', 3307: '▁최고입니다', 3308: '하려고', 3309: '▁출연진', 3310: '정신', 3311: '▁재밌을', 3312: '▁질리지', 3313: '들고', 3314: '▁내용을', 3315: '▁이유는', 3316: '▁안돼', 3317: '하하', 3318: '리지', 3319: '▁여러', 3320: '▁쩝', 3321: '▁달리', 3322: '▁웃기다', 3323: '000', 3324: '▁하네요', 3325: '장면이', 3326: '먹고', 3327: '얻', 3328: '?!', 3329: '▁젊은', 3330: '▁긴장감도', 3331: '▁점수가', 3332: '많은', 3333: '▁보았다', 3334: '.............', 3335: '▁홍콩영화', 3336: '▁어렵', 3337: '▁영화였어요', 3338: '▁이래', 3339: '▁나오지', 3340: '았는데', 3341: '▁안타깝', 3342: '만큼은', 3343: '에대한', 3344: '더라구요', 3345: '▁제작비', 3346: '▁결과', 3347: '노래', 3348: '수없는', 3349: '하기만', 3350: '짜증나', 3351: '▁현실성', 3352: '▁명작입니다', 3353: '감독이', 3354: '▁빼고는', 3355: '신고', 3356: '것들', 3357: '▁최근', 3358: '▁진부', 3359: '▁내가본', 3360: '로써', 3361: '녕', 3362: '왔는데', 3363: '▁오글거리', 3364: '▁핵노잼', 3365: '▁리뷰', 3366: '▁흔한', 3367: '▁충격적', 3368: '하더라', 3369: '▁물론', 3370: '▁불쌍', 3371: '력이', 3372: '셈', 3373: '샤', 3374: '▁제작진', 3375: '사이', 3376: '받고', 3377: '▁시간을', 3378: 'in', 3379: '영화라', 3380: '▁기대했는데', 3381: '▁없지', 3382: '오오', 3383: '▁미모', 3384: '님이', 3385: '사람은', 3386: '학생', 3387: '한게', 3388: '▁좋지만', 3389: '▁시리즈중', 3390: '▁못하고', 3391: '얘기', 3392: '▁쓰레기같은', 3393: '▁많다', 3394: '▁필요없', 3395: '▁봣', 3396: '▁발전', 3397: '▁콩', 3398: '벽', 3399: '틱', 3400: '몬', 3401: '▁비주얼', 3402: '▁어린시절', 3403: '▁아쉬웠', 3404: '▁변태', 3405: '▁이것이', 3406: '▁사랑이야기', 3407: '▁훈훈', 3408: '▁줌', 3409: '▁남녀', 3410: '끈', 3411: '▁홍보', 3412: '엇다', 3413: '▁올려', 3414: '▁프', 3415: '평가', 3416: '▁진정', 3417: '자나', 3418: '하려', 3419: '▁[', 3420: 'ar', 3421: '▁해야', 3422: '▁봣는데', 3423: '더라면', 3424: '▁아줌마', 3425: '험', 3426: '겠음', 3427: '▁문화', 3428: '따라', 3429: '혁', 3430: '편도', 3431: '하던데', 3432: '례', 3433: '뽕', 3434: '쥬', 3435: '▁더러운', 3436: '해주세요', 3437: '▁달라', 3438: '▁좀더', 3439: '똥', 3440: '▁섬', 3441: '▁말을', 3442: '▁늘어', 3443: '무엇', 3444: '설정', 3445: '▁50', 3446: '겨울', 3447: 'it', 3448: '▁거지', 3449: '새롭', 3450: '▁국내', 3451: '▁잼잇', 3452: '▁승', 3453: '▁못했다', 3454: '▁과정', 3455: '▁칼', 3456: '▁f', 3457: '해진다', 3458: '재미없음', 3459: '수있는', 3460: '▁한마디', 3461: '▁순수', 3462: '▁있습니다', 3463: '에서도', 3464: '▁멍청한', 3465: '▁당시에', 3466: '▁끝이', 3467: '▁혼', 3468: '▁슈퍼', 3469: '컬', 3470: '밝', 3471: 'K', 3472: '▁열심히', 3473: '▁크리스마스', 3474: '혈', 3475: '▁채널', 3476: '▁발견', 3477: '▁상처', 3478: '▁잔인한', 3479: '▁찌질', 3480: '▁행', 3481: '▁조합', 3482: '▁분노', 3483: '▁짐', 3484: '▁검', 3485: '▁야동', 3486: '공감', 3487: '▁개인', 3488: '▁좋아할', 3489: '착', 3490: '캐릭터', 3491: '▁형님', 3492: '웨', 3493: '치곤', 3494: '▁보니까', 3495: '째', 3496: '뭐야', 3497: '▁하루', 3498: '닌', 3499: '었지', 3500: '젠', 3501: '야할', 3502: '▁좋아서', 3503: '▁받아', 3504: '▁나오고', 3505: '▁가진', 3506: '▁케이블', 3507: '▁지루하게', 3508: '시고', 3509: '텐', 3510: '놨', 3511: '▁사랑은', 3512: '떼', 3513: '롤', 3514: '▁전문가', 3515: '식이', 3516: '▁주인공의', 3517: '▁같아', 3518: '▁개뿔', 3519: '▁흐름', 3520: '▁많아', 3521: '하시는', 3522: '▁달달', 3523: 'ing', 3524: '▁악당', 3525: '했네요', 3526: '집니다', 3527: '▁돌아가', 3528: '▁보인다', 3529: '▁이럴', 3530: '▁역할', 3531: '▁퍼', 3532: '몇', 3533: '▁괜찮다', 3534: '▁심장', 3535: '▁싶네요', 3536: '만의', 3537: '▁지구', 3538: '아쉽', 3539: '▁즐기', 3540: '▁죽는줄', 3541: '없는영화', 3542: '▁감동적이다', 3543: '▁손발이', 3544: '▁아이가', 3545: '▁놀라', 3546: '▁어릴', 3547: '▁꽃', 3548: '겠네요', 3549: '▁십', 3550: '▁낮다', 3551: '▁전설의', 3552: '자의', 3553: '▁보자', 3554: 'ᅥ', 3555: '칙', 3556: '팀', 3557: '▁무언가', 3558: '▁잊을수', 3559: '▁되었', 3560: '▁희생', 3561: '▁뜬금없', 3562: '▁결말은', 3563: '▁통해', 3564: '야한다', 3565: '▁북한', 3566: 'G', 3567: '멍', 3568: '하하하', 3569: '▁끝났', 3570: '즘', 3571: '할수있', 3572: '▁저렇게', 3573: '▁되지', 3574: 'is', 3575: '▁뒤로', 3576: '▁잔잔', 3577: '쩔', 3578: '이였다', 3579: '균', 3580: '뽀', 3581: '★', 3582: '▁젠장', 3583: '▁방법', 3584: '▁잊을', 3585: '▁졸리', 3586: '▁전설', 3587: '시길', 3588: '려면', 3589: '▁떠나서', 3590: '▁받았', 3591: '겠어요', 3592: '넣', 3593: '▁낮네', 3594: '한다는', 3595: '▁예쁘', 3596: '버림', 3597: '▁받을', 3598: '▁어쩌', 3599: '▁끊', 3600: '▁O', 3601: '▁좋았을', 3602: '란다', 3603: '적은', 3604: '▁한국인', 3605: '▁훈훈한', 3606: '▁잭', 3607: '▁크게', 3608: '▁있게', 3609: '▁아까울', 3610: '▁재미없게', 3611: '줍니다', 3612: '▁좋았으나', 3613: '왔습니다', 3614: '▁편견', 3615: '▁기다리', 3616: '▁봤더니', 3617: '도아니고', 3618: '▁장르가', 3619: '원작', 3620: '▁11', 3621: '▁재미있습니다', 3622: '▁빼고', 3623: '▁박수를', 3624: '▁아마', 3625: '▁그렇지', 3626: '좋아하는', 3627: '▁원작의', 3628: '▁결말도', 3629: '하지도', 3630: '축', 3631: '▁한심', 3632: '▁밑', 3633: '▁표현한', 3634: '해진', 3635: '▁한참', 3636: '▁가능', 3637: '식으로', 3638: '아무', 3639: '▁보긴', 3640: '잖', 3641: '▁사랑하는', 3642: '▁미안', 3643: '▁지루하기', 3644: '▁웬', 3645: '▁볼게', 3646: '▁친구들', 3647: '▁비디오로', 3648: '▁없어요', 3649: '▁쓸', 3650: '고싶은', 3651: '▁초등학생', 3652: '▁카리스마', 3653: '▁이제서야', 3654: '하는것', 3655: '▁보고나면', 3656: '♥♥♥', 3657: '▁보기에', 3658: '▁낚였다', 3659: '▁의미를', 3660: '▁중에서', 3661: '▁채', 3662: '▁못한다', 3663: '▁멋지', 3664: '▁드라마는', 3665: '▁인간이', 3666: '스럽고', 3667: '▁주기', 3668: '▁생각합니다', 3669: '▁나오면', 3670: '흠', 3671: '새끼들', 3672: '시즌', 3673: '▁그렇', 3674: '▁자신의', 3675: '엄마', 3676: '▁오바', 3677: '잔인', 3678: '▁간다', 3679: '이었음', 3680: '▁떨어지', 3681: '씨가', 3682: '점정도', 3683: '시작', 3684: '▁반성', 3685: '윈', 3686: '▁연예인', 3687: '▁바꿔', 3688: '▁한번쯤', 3689: '▁연결', 3690: '▁씁쓸', 3691: '▁아련', 3692: '▁일품', 3693: '▁감동의', 3694: '▁주말', 3695: '▁묻', 3696: '떨', 3697: '▁멍청', 3698: 'bb', 3699: '▁전쟁영화', 3700: '▁없었던', 3701: '▁아쉽네요', 3702: '!!!!!!!!!!!', 3703: '▁의심', 3704: '대단', 3705: '었네', 3706: '♥♥♥♥', 3707: '▁연출도', 3708: '▁왠', 3709: '확', 3710: '▁덕분에', 3711: '▁재미없었다', 3712: '▁중요한', 3713: '이자', 3714: '▁추억이', 3715: '▁최고였다', 3716: '▁영화에서', 3717: '▁엉망', 3718: '보는내내', 3719: '에서는', 3720: '▁지금은', 3721: '▁가족영화', 3722: '빙', 3723: '있나', 3724: '▁넘치는', 3725: '틈', 3726: '▁18', 3727: 'H', 3728: '긋', 3729: '무서움', 3730: '▁풍경', 3731: '▁13', 3732: '점줌', 3733: '▁몇번', 3734: '▁시도', 3735: '▁무척', 3736: '▁나쁘지', 3737: '▁누구나', 3738: '▁아니야', 3739: '감독의', 3740: '▁신경', 3741: '▁이후로', 3742: '쓰레기영화', 3743: '▁안습', 3744: '▁이런영화를', 3745: '찰', 3746: '▁폴', 3747: '▁가면', 3748: '▁학교', 3749: '▁ᄏᄏᄏᄏᄏᄏᄏ', 3750: '즐', 3751: '허접', 3752: '▁모르', 3753: '▁찌', 3754: '졸작', 3755: '쟁이', 3756: '않는', 3757: '관계', 3758: '섭', 3759: '▁관한', 3760: '▁더불어', 3761: '▁쉽게', 3762: '▁묘사', 3763: '▁맨날', 3764: '▁아픔', 3765: '▁안나', 3766: '▁진지', 3767: '지네요', 3768: '지루함', 3769: '▁양심', 3770: '▁여름', 3771: '▁우주', 3772: '▁빼면', 3773: '감독님', 3774: '▁보고싶어', 3775: '으로서', 3776: '쉽', 3777: '▁뜻', 3778: '뭔가', 3779: '이며', 3780: '이라서', 3781: '▁제로', 3782: '▁찬', 3783: '나왔', 3784: '▁색', 3785: '스러워', 3786: '지도않고', 3787: '하려는', 3788: '▁에로영화', 3789: '되면', 3790: '밥', 3791: '▁히', 3792: '▁투자', 3793: '편을', 3794: '봤어', 3795: '▁안되고', 3796: '▁갔', 3797: '▁끄', 3798: '▁남자가', 3799: '▁쿠', 3800: '베이', 3801: '껴', 3802: '럭', 3803: '▁본거', 3804: '▁싶지', 3805: '▁영화라는', 3806: '제발', 3807: '지않고', 3808: '하기도', 3809: '▁외모', 3810: '았어요', 3811: '속의', 3812: '▁있으', 3813: '▁영화인듯', 3814: '▁허세', 3815: '▁않게', 3816: '보구', 3817: '▁공부', 3818: '▁낮지', 3819: '사는', 3820: '브라', 3821: 'ᄋᄋ', 3822: '하지마', 3823: '없어서', 3824: '덜', 3825: '▁이유를', 3826: '몰입', 3827: '보고싶', 3828: '연기력', 3829: '▁또한', 3830: '드립니다', 3831: '▁조잡', 3832: '▁남자의', 3833: '▁보게되', 3834: '농', 3835: '셀', 3836: '뮤', 3837: '렁', 3838: '▁소소한', 3839: '▁아직까지', 3840: '▁히어로', 3841: '▁감흥', 3842: '▁그저그런', 3843: '자체가', 3844: '▁시각', 3845: '▁있구나', 3846: '▁이래서', 3847: '▁낚시', 3848: '있냐', 3849: '▁필요한', 3850: '▁영어', 3851: '▁먹고', 3852: 'es', 3853: '▁아픈', 3854: '편에', 3855: '▁작은', 3856: '▁보지마라', 3857: '▁그녀의', 3858: '놔', 3859: '▁최고임', 3860: '한것', 3861: '머니', 3862: '아깝', 3863: '▁사랑의', 3864: '▁많았', 3865: '▁행복한', 3866: 'me', 3867: '▁공포물', 3868: '후회', 3869: '님들', 3870: '재밌어', 3871: '뭔', 3872: '헌', 3873: '컷', 3874: '렷', 3875: 'z', 3876: '▁어처구니', 3877: '▁김기덕', 3878: '▁모험', 3879: '빨리', 3880: '▁못하다', 3881: '아니라', 3882: '▁하는데', 3883: '대는', 3884: '었나', 3885: '▁색감', 3886: '공포영화', 3887: '로는', 3888: '▁볼수있', 3889: '▁착', 3890: '▁집에서', 3891: '▁아쉬움', 3892: '▁몰라도', 3893: '보여', 3894: '▁희', 3895: '▁멍', 3896: '..^^', 3897: '렉', 3898: '▁현실적이', 3899: '그리', 3900: '▁탈', 3901: '▁이해할', 3902: 'F', 3903: '▁망치', 3904: '▁낮아', 3905: '웃김', 3906: '적이다', 3907: '▁놈', 3908: '▁풀', 3909: 'ᄒᄒᄒᄒ', 3910: '냈', 3911: '워서', 3912: '챙', 3913: '톱', 3914: '▁아름다웠', 3915: '▁the', 3916: '▁극장가서', 3917: '안됨', 3918: '겠습니다', 3919: '▁최초', 3920: '▁다룬', 3921: '일본', 3922: '가능한', 3923: '했을까', 3924: '▁봐도봐도', 3925: '▁진부하고', 3926: '▁ᄀ', 3927: '▁기대이상', 3928: '아까운', 3929: '▁있으면', 3930: '▁훌륭하다', 3931: '▁재미도없고', 3932: '▁명화', 3933: '▁착한', 3934: '▁비하면', 3935: 'en', 3936: '▁잼나게', 3937: '▁배우들도', 3938: '버리는', 3939: '년도에', 3940: '져서', 3941: '▁딱히', 3942: '▁불쌍하다', 3943: '▁재미와', 3944: '할까', 3945: '▁안보고', 3946: '▁척', 3947: '돋', 3948: '▁애기', 3949: '▁안맞', 3950: '▁식상한', 3951: '▁즐겁', 3952: '검', 3953: '▁진수', 3954: '▁잘만들었', 3955: '▁못해', 3956: '▁인간들', 3957: '륜', 3958: '찮', 3959: '둔', 3960: '▁에피소드', 3961: '▁특수효과', 3962: '▁왠만하면', 3963: '▁외계인', 3964: '▁떨어진다', 3965: '▁아까웠다', 3966: '▁알수', 3967: '까지는', 3968: '▁상업', 3969: '▁봤을까', 3970: '▁용기', 3971: '▁잼있어요', 3972: '자를', 3973: '▁에이', 3974: '▁최소', 3975: '▁:', 3976: '▁보여준다', 3977: '▁생각한다', 3978: '▁죽을', 3979: '고싶어', 3980: '기위해', 3981: '▁부르', 3982: '▁가지', 3983: '▁여행', 3984: '보고싶다', 3985: '▁한심한', 3986: '▁조작', 3987: '..;;', 3988: '▁신비', 3989: '스럽게', 3990: '▁않지만', 3991: '▁작품이다', 3992: '지말고', 3993: '▁판', 3994: '▁만들고', 3995: '▁야구', 3996: '▁싶은데', 3997: '보셈', 3998: '▁우리가', 3999: '낀', 4000: '꾼', 4001: '핑', 4002: '헬', 4003: '▁불구하고', 4004: '100', 4005: '▁좋아하는데', 4006: '▁바꾸', 4007: '▁D', 4008: '▁가슴을', 4009: '▁전율', 4010: '▁반담', 4011: '했었', 4012: '▁기억나는', 4013: '▁^', 4014: '보소', 4015: '▁잘봤어요', 4016: '적이지', 4017: '▁재밋어요', 4018: '▁장면에서', 4019: '▁느낌을', 4020: '▁감히', 4021: '사회', 4022: '살아', 4023: '▁없는데', 4024: '▁되고', 4025: '▁노래가', 4026: '버릴', 4027: '▁재미있었', 4028: '▁밋밋', 4029: '▁아침', 4030: '▁다만', 4031: '센', 4032: '만이', 4033: '빌', 4034: '빛', 4035: '▁보지말', 4036: '▁재미있어', 4037: '닮', 4038: '는구나', 4039: '섹', 4040: '▁블랙', 4041: '괜', 4042: '컨', 4043: '닷', 4044: '▁고양이', 4045: '봤네요', 4046: '▁말아먹', 4047: '뻔한', 4048: '배경', 4049: '▁것들', 4050: '실력', 4051: '▁재밌다고', 4052: '▁만남', 4053: '▁설마', 4054: '지를', 4055: '랄까', 4056: '▁답답한', 4057: '▁ᄌ', 4058: '▁보통', 4059: '▁조카', 4060: '▁못할', 4061: '▁엄', 4062: '▁그립다', 4063: '했지', 4064: '▁G', 4065: '-_-;', 4066: '▁포스', 4067: '▁뭐라', 4068: '▁정말이지', 4069: '▁소름이', 4070: '▁맹', 4071: '<', 4072: '큰', 4073: '▁워', 4074: '▁기독교', 4075: '델', 4076: '핀', 4077: '▁후속작', 4078: '▁이런건', 4079: '▁니콜', 4080: '▁아역', 4081: '년만에', 4082: '▁영원히', 4083: '▁행동', 4084: '▁아이돌', 4085: '▁오래된', 4086: '▁탑', 4087: '▁의문', 4088: '때매', 4089: '▁만든거', 4090: '▁고통', 4091: '▁떨', 4092: '▁악마', 4093: '▁지나도', 4094: '▁전체', 4095: '▁삶에', 4096: '베리', 4097: '▁시청', 4098: '하군', 4099: '▁뭘까', 4100: '자체', 4101: '레스', 4102: '점대는', 4103: '줘야', 4104: '간의', 4105: '▁심하게', 4106: '▁아름답', 4107: '▁하는지', 4108: '▁남자들', 4109: '▁조화', 4110: '내고', 4111: '씨의', 4112: '▁보시', 4113: '▁좀비영화', 4114: '▁가져', 4115: '▁유명', 4116: '우리', 4117: '▁만든영화', 4118: '▁눈에', 4119: '절대', 4120: '앤', 4121: '개그', 4122: '엑', 4123: '▁DVD', 4124: '^-^', 4125: '닉', 4126: '쿨', 4127: '▁로봇', 4128: '▁기다려', 4129: '관람', 4130: '웃겨', 4131: '▁특별한', 4132: '▁힘이', 4133: '세상', 4134: '▁귀엽다', 4135: '▁끌어', 4136: '▁좋았지만', 4137: '▁케이블에서', 4138: '무섭', 4139: '억지', 4140: '전쟁', 4141: '▁넣', 4142: '것인가', 4143: '▁오락', 4144: '▁자살', 4145: '기에는', 4146: 'ᄋᄋᄋ', 4147: '▁노래도', 4148: '▁잼있음', 4149: '▁잤다', 4150: '씬은', 4151: '▁가득', 4152: '▁볼수있는', 4153: '▁같아서', 4154: '버전', 4155: '▁말하는', 4156: '▁가슴에', 4157: '보니까', 4158: '잇는', 4159: '스키', 4160: '럼', 4161: '우스', 4162: '만듬', 4163: '배우가', 4164: '옴', 4165: '▁봤네', 4166: '▁참신한', 4167: '와는', 4168: '▁로버트', 4169: '▁심형래', 4170: '▁패러디', 4171: '▁제이슨', 4172: '▁느껴진다', 4173: '빠지', 4174: '더빙', 4175: '▁지켜', 4176: '▁크리스', 4177: '▁넌', 4178: '▁나에겐', 4179: '▁이미지', 4180: '▁됨', 4181: '▁조절', 4182: '▁클레멘타인', 4183: '▁괜찮음', 4184: '건만', 4185: '▁최고의영화', 4186: '▁내용인지', 4187: '▁동안', 4188: '▁맞아', 4189: '▁코미디영화', 4190: '하는영화', 4191: '▁빠진', 4192: '▁말하고', 4193: '▁싶어요', 4194: '저리', 4195: '▁꿈을', 4196: '▁재미없어서', 4197: '영화인데', 4198: '▁살려', 4199: '▁완전히', 4200: '▁철학', 4201: '▁니들', 4202: '명의', 4203: '년작', 4204: '▁괜찮았다', 4205: '해야지', 4206: 'ᄏᄏᄏᄏᄏᄏᄏᄏᄏᄏᄏᄏ', 4207: '▁있다니', 4208: '주고싶', 4209: 'ᄎ', 4210: '▁왤케', 4211: '탓', 4212: '▁교과서', 4213: '▁아류작', 4214: '꼴', 4215: '▁만들면', 4216: '▁겨우', 4217: '겁니다', 4218: '▁짜증난다', 4219: '보지', 4220: '▁열연', 4221: '굳굳', 4222: '아까워', 4223: '으려', 4224: '▁헤어', 4225: '같은영화', 4226: '▁분위기가', 4227: '▁새벽에', 4228: '▁삼류영화', 4229: '영화입니다', 4230: '리아', 4231: '▁할까', 4232: '▁주기도', 4233: '▁보다니', 4234: '거라', 4235: '하신', 4236: 'ᅮᅮᅮ', 4237: '었을', 4238: '▁m', 4239: '거리는', 4240: '▁예쁘고', 4241: '어디', 4242: '했다는', 4243: '하고싶은', 4244: '른다', 4245: '▁자식', 4246: '▁라는', 4247: '▁이런영화는', 4248: '오래', 4249: '액', 4250: '▁안타까운', 4251: '곰', 4252: '찐', 4253: '▁인내심', 4254: '▁내생에', 4255: '어여', 4256: '촌', 4257: '밤', 4258: '▁두번째', 4259: '▁엔딩이', 4260: '▁정의', 4261: '▁따뜻하고', 4262: '^^*', 4263: '▁이딴걸', 4264: '▁기술', 4265: '후에', 4266: '그래서', 4267: '▁웃고', 4268: '▁사람의', 4269: '하는건', 4270: '▁별로임', 4271: '올리', 4272: '엔딩', 4273: '▁소장', 4274: '▁본듯', 4275: '좋은영화', 4276: '▁도전', 4277: '▁나오네', 4278: '▁중요', 4279: '▁가치가', 4280: '▁뛰어나', 4281: '믿', 4282: '▁구성이', 4283: '▁잇', 4284: '▁캐릭터가', 4285: '▁여러분', 4286: '하기엔', 4287: '▁최대', 4288: '글자', 4289: 'as', 4290: '칸', 4291: 'J', 4292: '룩', 4293: '▁피해자', 4294: '▁어째', 4295: '주기', 4296: '냈다', 4297: '▁전투', 4298: '아저씨', 4299: '차라리', 4300: '키드', 4301: '▁강력', 4302: '봣다', 4303: '▁신선하', 4304: '▁그당시', 4305: '▁최근에', 4306: '▁겉', 4307: '▁톰', 4308: '▁드립니다', 4309: '▁돼', 4310: '햇다', 4311: '▁들었', 4312: '▁초딩때', 4313: '하겠다', 4314: '▁느꼈', 4315: '▁시간아깝다', 4316: '나가는', 4317: '▁풍자', 4318: '져요', 4319: '됐다', 4320: '▁본다면', 4321: '▁쩔어', 4322: '▁재밌어서', 4323: '▁속에', 4324: 'al', 4325: '▁예쁘다', 4326: '▁맞지', 4327: '▁대사가', 4328: '▁다르다', 4329: '자리', 4330: '늦', 4331: '▁러닝타임', 4332: '▁박중훈', 4333: '싼', 4334: '▁아이디어', 4335: '▁어설프고', 4336: '았지만', 4337: '▁놀라운', 4338: '▁쩔', 4339: '▁국민', 4340: '▁디워', 4341: '쓰는', 4342: '▁방영', 4343: '이걸', 4344: '▁선생님', 4345: '▁여운을', 4346: '▁운명', 4347: '▁아까운영화', 4348: '▁많은걸', 4349: '▁ᄏᄏᄏᄏᄏᄏᄏᄏ', 4350: '멜로', 4351: '얘', 4352: '▁보내', 4353: '▁뿐이다', 4354: '▁못함', 4355: '▁다운', 4356: '▁죽이는', 4357: '버스', 4358: '▁밤', 4359: '▁인상', 4360: '▁포스터가', 4361: '긴하지만', 4362: '▁푸', 4363: '▁이상하게', 4364: '▁생각하는', 4365: '▁좋아해서', 4366: '▁즐', 4367: '▁눈물나', 4368: '▁관객을', 4369: '▁누군가', 4370: '~~!!', 4371: '굳', 4372: '▁잤', 4373: '▁원작에', 4374: '▁장면들', 4375: '▁평점보고', 4376: '묵', 4377: '뚱', 4378: '딜', 4379: '랭', 4380: '▁제니퍼', 4381: '▁깔끔하', 4382: '▁개봉한', 4383: '▁달콤', 4384: '▁잠깐', 4385: '▁잔혹', 4386: '▁거짓말', 4387: '▁좋겠어요', 4388: '▁화려하', 4389: '▁사진', 4390: '맹', 4391: '춤', 4392: '비디오', 4393: '헐', 4394: '▁몰입해서', 4395: '▁정도의', 4396: '멋있', 4397: '쩐다', 4398: '낫', 4399: '▁영상이', 4400: '▁끼', 4401: '▁응', 4402: '▁으리', 4403: '▁이상의', 4404: 'ut', 4405: '했었는데', 4406: '아까', 4407: '▁슈', 4408: '인건', 4409: '▁단편', 4410: '▁쉬', 4411: '~~~~~~~', 4412: '▁W', 4413: '나올때', 4414: '▁살다살다', 4415: '▁주윤발', 4416: '부끄럽', 4417: '▁끔찍', 4418: '▁즐거웠', 4419: '손가락', 4420: '▁바뀌', 4421: '▁4.44', 4422: '▁검색', 4423: '▁할머니', 4424: '▁이런류', 4425: '▁만들었는지', 4426: '▁세상을', 4427: '▁재밌지', 4428: '▁만한', 4429: '▁우리는', 4430: '배우들의', 4431: '▁다시는', 4432: '지말자', 4433: '▁개노잼', 4434: '꽃', 4435: '화이팅', 4436: '아직도', 4437: '얼굴', 4438: '▁볼만했다', 4439: '▁만들다니', 4440: '주면', 4441: '▁F', 4442: '치고는', 4443: '▁그럴', 4444: '재미있어요', 4445: '소설', 4446: '▁본지', 4447: '▁촌스럽', 4448: '었는지', 4449: '99', 4450: '트리', 4451: '!!!!!!!!!!!!!!!!', 4452: '흘', 4453: 'ᄏᄏᄏᄏᄏᄏᄏ', 4454: '문화', 4455: '어이없', 4456: '▁가볍', 4457: '점부터', 4458: '▁술', 4459: '▁우리의', 4460: '▁개성', 4461: '▁단지', 4462: '쩜', 4463: '30', 4464: '▁어렵다', 4465: '▁시리즈는', 4466: '▁제목만', 4467: '으니까', 4468: '랫', 4469: 'U', 4470: '욤', 4471: '▁가벼운', 4472: '쭉', 4473: '▁무엇인지', 4474: '▁잔뜩', 4475: '▁1,2', 4476: '▁해라', 4477: '▁비현실적', 4478: '▁sf', 4479: '▁생각하고', 4480: '▁다섯', 4481: '▁믿고보는', 4482: '▁=', 4483: '▁안맞는', 4484: '▁들어가', 4485: '▁하늘', 4486: '▁고마', 4487: '같아', 4488: '▁무술', 4489: '▁아쉽지만', 4490: '▁있어야', 4491: '▁매력을', 4492: '▁p', 4493: '갈수록', 4494: '▁없습니다', 4495: '▁먼가', 4496: '나오네', 4497: '▁돋보이는', 4498: '아까웠', 4499: '▁여전', 4500: '▁한국에서', 4501: '잡고', 4502: '었고', 4503: '▁명작을', 4504: '▁조연', 4505: '▁평론가들', 4506: '럴', 4507: '씀', 4508: '는거야', 4509: '모두', 4510: '14', 4511: '아까움', 4512: '못해', 4513: '바닥', 4514: '▁끈', 4515: '▁하는거', 4516: '▁만들기', 4517: '▁내면', 4518: '왓', 4519: '콘', 4520: '▁따로', 4521: '숭', 4522: '롯', 4523: '▁dvd', 4524: '쪼', 4525: '층', 4526: '특별', 4527: '▁귀여움', 4528: '▁교육', 4529: '▁흑인', 4530: '▁하나하나', 4531: '▁있네', 4532: 'ᄏᄏᄏᄏᄏᄏᄏᄏ', 4533: '▁응원', 4534: '▁영상과', 4535: '앞', 4536: '것같은', 4537: '만하다', 4538: '▁남네요', 4539: '▁개막장', 4540: '▁작가가', 4541: '▁연극', 4542: '▁나름대로', 4543: '재미있게', 4544: '▁울리는', 4545: '▁21', 4546: '▁꼬마', 4547: '▁ᄍᄍᄍ', 4548: '▁엿', 4549: '▁재미로', 4550: '▁영화라니', 4551: '갓', 4552: '▁모르게', 4553: '덕에', 4554: '관객', 4555: '포스터', 4556: '추억', 4557: '▁어디에', 4558: '▁엉성하고', 4559: '▁영원한', 4560: '하길', 4561: '좋았다', 4562: '▁망했', 4563: '드려', 4564: '▁사랑해요', 4565: '▁안본', 4566: '▁나랑', 4567: '보시길', 4568: '▁주연배우', 4569: '▁만들수', 4570: '▁군', 4571: '▁재밋음', 4572: '라곤', 4573: '웨이', 4574: '▁재미있는데', 4575: '씬이', 4576: '▁발상', 4577: '무시', 4578: '제로', 4579: '켜', 4580: '부분이', 4581: '▁작품을', 4582: '보이는', 4583: 'ad', 4584: '본사람', 4585: '▁답이', 4586: '▁그자체', 4587: '▁남아있', 4588: '재미없어', 4589: '장애', 4590: 'ᅮᅲ', 4591: '▁작품은', 4592: '▁오락영화', 4593: '문제', 4594: '▁라이', 4595: '놈이', 4596: '▁흥', 4597: '략', 4598: '높은', 4599: '읍', 4600: '▁짜임새', 4601: '▁장국영', 4602: '▁허술한', 4603: '▁뭥미', 4604: '▁유일하게', 4605: '▁이따구', 4606: '▁탄생', 4607: '▁허술하', 4608: '기까지', 4609: '▁은근히', 4610: '▁결코', 4611: '▁낙', 4612: '▁봤을때', 4613: '▁대표', 4614: '다큐', 4615: '바라', 4616: '▁욕망', 4617: '▁하품', 4618: '▁인물들', 4619: '▁ᄒᄒᄒᄒ', 4620: '▁소년', 4621: '▁않을까', 4622: '▁동심', 4623: '▁부모', 4624: '▁재밌었던', 4625: '▁수준의', 4626: '▁부실', 4627: '번은', 4628: '었네요', 4629: '▁테러', 4630: '▁반전은', 4631: '걍', 4632: '코믹', 4633: '▁나쁘', 4634: '어린', 4635: '낚', 4636: '▁유치해', 4637: '▁커플', 4638: '▁긴장감이', 4639: '▁매미', 4640: '▁편안', 4641: '▁망친', 4642: '▁어른들', 4643: '▁아이들과', 4644: '▁형사', 4645: '여주', 4646: '더라도', 4647: '게하는', 4648: '마지막에', 4649: 'X', 4650: '▁연출과', 4651: '딘', 4652: '▁스포츠', 4653: '뗄', 4654: '싹', 4655: '▁숨겨진', 4656: '▁내생애', 4657: '▁제임스', 4658: '▁즐겨', 4659: '▁때문', 4660: '▁멋졌', 4661: '▁담배', 4662: '▁갈등', 4663: '▁단어', 4664: '▁반복', 4665: '▁오랫만에', 4666: '▁돈을', 4667: '▁좋게', 4668: '▁울면서', 4669: '▁최고봉', 4670: '▁남겨', 4671: '안되는', 4672: '▁궁금하다', 4673: '읽', 4674: '▁강한', 4675: '려나', 4676: '휘', 4677: '논', 4678: '▁한편의', 4679: '▁놀랍다', 4680: '이름', 4681: '지않아', 4682: '▁넘게', 4683: '었을까', 4684: '지루해', 4685: '▁뽑', 4686: '▁수작이다', 4687: '▁자랑', 4688: '소름돋', 4689: '▁읽어', 4690: '점이상', 4691: 'ᄍ', 4692: '▁재미없을', 4693: '▁줘야', 4694: '▁거장', 4695: '▁느낌의', 4696: '▁난해하', 4697: '▁아깝고', 4698: '낭', 4699: '▁자주', 4700: '부작', 4701: '출연', 4702: '▁궁', 4703: '▁조아', 4704: '엠', 4705: 'ᅢ', 4706: '▁동성애', 4707: '▁유일한', 4708: '거같은데', 4709: '그만', 4710: '▁언제봐도', 4711: '▁만들었을까', 4712: '큐', 4713: '▁따뜻해', 4714: '▁인상적', 4715: '▁재미있었음', 4716: '▁축구', 4717: '▁멋있는', 4718: '▁잠이', 4719: '▁알려', 4720: '기전에', 4721: '▁막장드라마', 4722: '삶', 4723: '보는게', 4724: '▁썼', 4725: '▁괜찮네요', 4726: '~~^^', 4727: '잼씀', 4728: '푸', 4729: '쩝', 4730: '듣', 4731: '긴장감', 4732: '▁사랑합니다', 4733: '것만으로도', 4734: '▁생각함', 4735: '여운이', 4736: '갑니다', 4737: '▁있었지만', 4738: '▁잔잔하면서', 4739: '▁기대했', 4740: '▁봐야하는', 4741: '▁조용', 4742: '신분들', 4743: '▁틀어', 4744: '▁영화보면서', 4745: '류영화', 4746: '▁전편보다', 4747: '▁높게', 4748: '▁견', 4749: '▁원작이', 4750: '▁순수함', 4751: '▁돌리', 4752: '렵', 4753: '닿', 4754: '냄새', 4755: '삐', 4756: '▁러시아', 4757: '▁빵빵', 4758: '▁뭐하자는', 4759: '▁여러가지', 4760: '▁ᄃᄃᄃ', 4761: '▁내게', 4762: '▁재개봉', 4763: '▁남자주인공', 4764: '▁출연한', 4765: '▁인생에', 4766: '▁집에', 4767: '▁한명', 4768: '▁모르겠지만', 4769: '▁한개도', 4770: '▁허무한', 4771: '▁모르겠음', 4772: '내내', 4773: '▁199', 4774: '▁버리', 4775: '▁기대이하', 4776: '빠진', 4777: '맥', 4778: '▁영환데', 4779: '뇌', 4780: '▁생각나서', 4781: '▁찰', 4782: '▁못보겠다', 4783: '몸', 4784: '▁싶을', 4785: '▁지겹다', 4786: '▁알수있', 4787: '▁촌', 4788: '->', 4789: '구리', 4790: '▁영화인가', 4791: '노답', 4792: '나이', 4793: '존나', 4794: '줘도', 4795: '▁살린', 4796: '▁낮게', 4797: '▁휘', 4798: '▁죽은', 4799: '▁안봐도', 4800: '깝', 4801: '같지', 4802: '거면', 4803: '▁폐', 4804: '려다가', 4805: '▁보라', 4806: '쾌', 4807: '▁마이', 4808: '할뿐', 4809: '▁안볼', 4810: '뷰', 4811: '폼', 4812: '▁북', 4813: '땀', 4814: '▁조니뎁', 4815: '젖', 4816: '▁스스로', 4817: '▁폭풍', 4818: '▁경험', 4819: '▁깜', 4820: '▁돈아까워', 4821: '▁최고로', 4822: '보임', 4823: '사건', 4824: '▁일어나', 4825: '▁감각', 4826: '▁존경', 4827: '▁속았다', 4828: '▁탄탄', 4829: '빠져', 4830: '▁영혼', 4831: '후반', 4832: '줘서', 4833: '이딴', 4834: '▁봐야지', 4835: '▁마지막장면', 4836: '▁모든걸', 4837: '▁연기력도', 4838: '▁강렬한', 4839: '보여주', 4840: '▁영화인지', 4841: '▁없나요', 4842: '게임', 4843: '▁한국판', 4844: '없나', 4845: '벤', 4846: '벗', 4847: '▁수입', 4848: '최고다', 4849: '▁없냐', 4850: '▁남편', 4851: '▁정도면', 4852: '▁유명한', 4853: '▁제외', 4854: '▁않네요', 4855: '▁대화', 4856: '▁요리', 4857: '다는게', 4858: '하하하하', 4859: '▁이상해', 4860: '▁아니지', 4861: '거같아요', 4862: '▁뭐니', 4863: '▁모를', 4864: '▁주제가', 4865: '있어서', 4866: '같지만', 4867: '하진', 4868: '이후', 4869: '▁살고', 4870: '▁사랑해', 4871: '▁러브', 4872: '▁스티븐', 4873: '곱', 4874: '켄', 4875: '탱', 4876: '▁우려먹', 4877: '▁울컥', 4878: '보느니', 4879: '▁이뻐서', 4880: '▁싶었', 4881: '▁억지스러운', 4882: '▁남은', 4883: '▁살면서', 4884: '▁볼만합니다', 4885: '로드', 4886: '▁졸았', 4887: '▁속에서', 4888: '한다고', 4889: '▁들었다', 4890: '▁홀', 4891: '▁기회', 4892: '부러', 4893: '있습니다', 4894: '너무너무', 4895: '▁죽이고', 4896: '해야할', 4897: '어색', 4898: '▁본건데', 4899: '▁두고', 4900: '감정', 4901: '▁장난치', 4902: '▁축', 4903: '▁감동적이네요', 4904: '물을', 4905: '되었다', 4906: '▁못보겠', 4907: '▁많고', 4908: '▁벤', 4909: '귀엽', 4910: 'th', 4911: '▁갑니다', 4912: '▁열받', 4913: '▁:)', 4914: '극장에서', 4915: '외엔', 4916: '00', 4917: '조아', 4918: '조금', 4919: '닐', 4920: '▁얼마', 4921: '▁몽', 4922: '▁볼때', 4923: '▁아냐', 4924: 'ᅩ', 4925: '▁포스터만', 4926: '부터가', 4927: '팍', 4928: '▁블록버스터', 4929: '벼', 4930: '▁나레이션', 4931: '▁빨갱이', 4932: '▁우뢰매', 4933: '쟈', 4934: '▁이소룡', 4935: '▁스트레스', 4936: '▁다양한', 4937: '납니다', 4938: '▁작위적', 4939: '▁아우', 4940: '▁짧은', 4941: '▁손색', 4942: '▁여주인공이', 4943: '▁로코', 4944: '▁그지같', 4945: '▁대중', 4946: '▁길게', 4947: '▁하나로', 4948: '있었다', 4949: '90', 4950: '▁재능', 4951: '장면은', 4952: '▁소설을', 4953: '▁해석', 4954: '▁생각난다', 4955: '▁잘하고', 4956: '할수가', 4957: '▁보려고', 4958: '▁맛이', 4959: '▁난잡', 4960: '주연', 4961: '▁액션씬', 4962: '▁조선', 4963: '▁충분', 4964: '▁관객들', 4965: '▁영화보는', 4966: '어떻게', 4967: '둥이', 4968: '엄청', 4969: '커플', 4970: '재밋다', 4971: 'ᄏᄏᄏᄏᄏᄏ', 4972: '했더니', 4973: '때부터', 4974: '▁감정을', 4975: '▁생각하면', 4976: '▁당신은', 4977: '▁강렬', 4978: '▁불쌍한', 4979: '▁옥', 4980: '번을', 4981: '▁느껴졌', 4982: '▁그거', 4983: '80', 4984: '말이필요없', 4985: '엽', 4986: '칭', 4987: '▁명불허전', 4988: '앵', 4989: '▁웰메이드', 4990: '▁짜집기', 4991: '▁직접', 4992: '▁익숙', 4993: '▁암튼', 4994: '▁장난하냐', 4995: '▁감동적이에요', 4996: '▁감동은', 4997: '▁다신', 4998: '답니다', 4999: '▁여자주인공', 5000: '구석', 5001: '▁조낸', 5002: '▁보았습니다', 5003: '▁재밌게봤', 5004: '▁하아', 5005: '받는', 5006: '▁보다는', 5007: '것같아요', 5008: '▁무섭지', 5009: '▁내돈', 5010: '▁끝날', 5011: '다시보고싶', 5012: '▁알겠다', 5013: '▁알았네', 5014: '오브', 5015: '▁탐', 5016: '▁교훈을', 5017: '▁키스', 5018: '▁배우를', 5019: '▁기자', 5020: '재미도', 5021: '기억이', 5022: '▁멋지고', 5023: '으로써', 5024: '▁웃을', 5025: '▁나머지', 5026: '광구', 5027: '▁손에', 5028: '▁마리', 5029: '없었', 5030: '잤', 5031: '붙', 5032: '불쌍', 5033: '▁줄수', 5034: '▁열라', 5035: '▁풋풋', 5036: '딴', 5037: '도좋고', 5038: '그랬', 5039: '▁지겹', 5040: '▁어른이', 5041: '▁황당한', 5042: '스토리도', 5043: '▁슬픈영화', 5044: '같아서', 5045: '▁보기에는', 5046: '봤으면', 5047: '▁쩌는', 5048: '▁몰랐다', 5049: '▁뱀파이어', 5050: '곽', 5051: '똘', 5052: '▁you', 5053: '▁아놀드', 5054: '▁닥치고', 5055: '▁반드시', 5056: '▁동시에', 5057: '▁아프다', 5058: '▁알겠는데', 5059: '▁웃으면서', 5060: '▁적어도', 5061: '▁근래', 5062: '▁내용전개', 5063: '▁비밀', 5064: '▁괜찮았는데', 5065: '▁잔잔하게', 5066: '▁좋겠네요', 5067: '쳐서', 5068: '▁당연', 5069: '▁중독', 5070: '였으면', 5071: '▁변화', 5072: '▁별로고', 5073: '요소', 5074: '▁떠오르', 5075: '역사', 5076: '▁원조', 5077: '만족', 5078: '▁옷', 5079: '▁절정', 5080: '쟁', 5081: '받아', 5082: '주기도', 5083: '할것', 5084: '▁불러', 5085: '▁샘', 5086: '▁아깝네', 5087: '▁소재도', 5088: '▁프랑스영화', 5089: '▁새로', 5090: '같고', 5091: '겐', 5092: '있을', 5093: '뭘', 5094: '▁반전을', 5095: '▁갓', 5096: '▁주제를', 5097: '▁둘이', 5098: '아빠', 5099: '▁사상', 5100: '늙', 5101: '▁한국영화의', 5102: '▁영환', 5103: '▁만드네', 5104: '재미있다', 5105: '있어요', 5106: '볼수있', 5107: '▁않나', 5108: '▁없으면', 5109: '!!!!!!', 5110: '▁망쳐', 5111: '획', 5112: '윌', 5113: '앨', 5114: '옵', 5115: 'ᄁ', 5116: '▁홍상수', 5117: '▁역겨운', 5118: '▁평균', 5119: '▁말도안되는', 5120: '▁빼곤', 5121: '▁불편한', 5122: '▁그야말로', 5123: '학년', 5124: '▁집중해서', 5125: '분은', 5126: '요즘', 5127: '야겠다', 5128: '▁앞으로도', 5129: '▁머리가', 5130: '▁인상적이', 5131: '▁책을', 5132: '▁답답하고', 5133: '지마세요', 5134: '▁잠들', 5135: '▁싸움', 5136: '엇는데', 5137: '둥', 5138: '▁시간만', 5139: '겠어', 5140: '▁짜증이', 5141: '▁별하나', 5142: '하기에', 5143: '▁부부', 5144: '▁냉', 5145: '아버지', 5146: '▁대부분', 5147: '▁위해서', 5148: '▁쌍', 5149: '▁장진', 5150: '▁소재와', 5151: '보지마', 5152: '나오고', 5153: '▁잼있는', 5154: '▁어울리는', 5155: '▁포스터에', 5156: '▁생각으로', 5157: '갔는데', 5158: '이었습니다', 5159: '테러', 5160: '▁괜찮고', 5161: '벅', 5162: '밍', 5163: '띄', 5164: '▁아무생각없이', 5165: '▁짐캐리', 5166: '츄', 5167: '▁화장실', 5168: '컴', 5169: '쯧쯧', 5170: '▁희대의', 5171: '▁향연', 5172: '▁블랙코미디', 5173: '▁스텝', 5174: '못한', 5175: '▁집착', 5176: '갠적으로', 5177: '▁실험', 5178: '▁명대사', 5179: '▁오래전에', 5180: '▁만화책', 5181: '▁흔들', 5182: '▁60', 5183: '▁어쩜', 5184: '▁태어나서', 5185: '▁안본다', 5186: '▁대단하', 5187: '▁부모님', 5188: '▁암울', 5189: '▁아만다', 5190: '여행', 5191: '▁깍', 5192: '▁스릴도', 5193: '▁유럽', 5194: '▁개념', 5195: '거같음', 5196: '▁아름답게', 5197: '▁따뜻', 5198: '▁재난영화', 5199: '▁적당한', 5200: '▁재미있을', 5201: '셔서', 5202: '달아', 5203: '▁없었음', 5204: '▁프리', 5205: '지않다', 5206: '▁유치해서', 5207: '▁보며', 5208: '▁안간다', 5209: '▁다시보고', 5210: '▁뭐임', 5211: '▁점수는', 5212: '▁실제로', 5213: '▁그렇다고', 5214: '물로', 5215: '▁잘만들', 5216: '▁오브', 5217: '▁최고최고', 5218: '▁모르겠고', 5219: '썼', 5220: '찡', 5221: '분위기', 5222: '까요', 5223: '싸움', 5224: '느껴', 5225: '이었던', 5226: '▁믿기지', 5227: '▁필요한가', 5228: '▁명배우', 5229: '▁영화예요', 5230: '▁개연성이', 5231: '언제', 5232: '▁형제', 5233: '▁드라마중', 5234: '이러니', 5235: '장르', 5236: '측', 5237: '앉', 5238: '▁이병헌', 5239: '▁스크린', 5240: '▁사운드', 5241: '▁스타뎀', 5242: '▁소중한', 5243: '▁X', 5244: '▁배꼽', 5245: '▁어디가', 5246: '모든', 5247: '분만에', 5248: '았으면', 5249: '▁꼭보세요', 5250: '▁미안하다', 5251: '▁꿀', 5252: '▁공감할', 5253: '뭐냐', 5254: '▁추리', 5255: '▁말하고자', 5256: '▁성격', 5257: '▁괜찮았음', 5258: '▁하길래', 5259: '▁마니', 5260: '▁이해할수', 5261: '▁위트', 5262: '점만점에', 5263: '▁세번', 5264: 'le', 5265: '▁기대없이', 5266: '일듯', 5267: '▁책으로', 5268: '수밖에', 5269: '입장', 5270: '▁넘치', 5271: '▁어울리', 5272: '▁모르겟', 5273: '▁선물', 5274: '멋잇', 5275: '▁않은데', 5276: '▁놀랍', 5277: '▁그립', 5278: '▁전쟁의', 5279: '할만한', 5280: '▁웃었다', 5281: '19', 5282: '▁똑같은', 5283: '▁좋네', 5284: '왔어요', 5285: '젊', 5286: '꼈', 5287: '넬', 5288: '숀', 5289: '헉', 5290: '▁점수준것들', 5291: '깃', 5292: '▁디테일', 5293: '▁깡패', 5294: '▁브루스', 5295: '▁오글거려', 5296: '▁깜짝', 5297: 'ᅲᅲᅲᅲᅲᅲᅲᅲ', 5298: '▁보지마셈', 5299: '▁낭만', 5300: '▁모른다', 5301: '▁그림체', 5302: '▁첫사랑', 5303: '▁상영관', 5304: '▁데리고', 5305: '▁재미있었습니다', 5306: '지루하다', 5307: '▁적당히', 5308: '▁또다른', 5309: '▁절망', 5310: '▁깨닫게', 5311: '▁무리', 5312: '싫어', 5313: '나왓', 5314: '▁억지감동', 5315: '▁하나같이', 5316: '▁다행이다', 5317: '그러나', 5318: '▁결정', 5319: '▁순수하고', 5320: '않음', 5321: '▁귀여워요', 5322: '▁높아서', 5323: '▁정신병자', 5324: '▁몰라', 5325: '▁반전에', 5326: '▁우연', 5327: '▁쉽지', 5328: '스릴', 5329: '▁만들었나', 5330: '▁ᄡ', 5331: '▁비판', 5332: '▁명장면', 5333: '▁넘넘', 5334: '▁보게된', 5335: '선생', 5336: '▁인생영화', 5337: '▁재밋엇', 5338: '▁느꼈다', 5339: '12', 5340: '받아서', 5341: '차원', 5342: '숨', 5343: '▁그럴듯', 5344: '▁감동입니다', 5345: '홀', 5346: '섬', 5347: '때문', 5348: '나름', 5349: '당시', 5350: '▁때려', 5351: '방식', 5352: '안돼', 5353: '이랄까', 5354: '▁당신이', 5355: '▁관점', 5356: '소녀', 5357: '상태', 5358: '하고싶다', 5359: '덩', 5360: '밴', 5361: '▁네티즌', 5362: '▁해리포터', 5363: '껀', 5364: '둡', 5365: '▁도데체', 5366: '▁임창정', 5367: '▁제시카', 5368: '▁Good', 5369: '▁정우성', 5370: '줄알았', 5371: '▁어설프다', 5372: '▁할리우드', 5373: '였나', 5374: '▁케빈', 5375: '▁2000', 5376: '▁여러번', 5377: '▁이루어', 5378: '▁폭발', 5379: '▁추격', 5380: '▁멋져', 5381: '▁부럽', 5382: '▁내용과', 5383: '▁하지원', 5384: '▁어색하', 5385: '▁대해서', 5386: '꺼야', 5387: 'am', 5388: '▁산만하고', 5389: '▁감동받', 5390: '▁실감', 5391: '▁이딴영화', 5392: '▁막판에', 5393: '▁영화였음', 5394: '짜릿', 5395: '간만에', 5396: '▁말자', 5397: '▁갖고', 5398: '500', 5399: '▁받는', 5400: '사람들이', 5401: '맞는', 5402: '만큼이나', 5403: '▁만들어라', 5404: '▁실망스럽', 5405: '▁괜찮게', 5406: '▁대본', 5407: '▁웃기는', 5408: '보인다', 5409: '▁마음으로', 5410: '▁아들이', 5411: '▁본방사수', 5412: '▁효과', 5413: '▁의미가', 5414: '▁기적', 5415: '▁아래', 5416: '▁시청률이', 5417: '▁시도는', 5418: '렬', 5419: '▁최악의영화', 5420: '멜', 5421: '▁어디로', 5422: '임에도', 5423: '탑', 5424: '▁잘한다', 5425: '▁멋있어', 5426: '▁김치', 5427: 'll', 5428: '초반', 5429: '춰', 5430: '▁본인', 5431: '뢰', 5432: '▁아닙니다', 5433: '튜', 5434: '핫', 5435: '▁유덕화', 5436: '▁양아치', 5437: '▁드디어', 5438: '▁플롯', 5439: '▁호기심', 5440: '▁좋겠', 5441: '▁이름이', 5442: '▁2014', 5443: '▁기가', 5444: '▁다운받아', 5445: '▁즐길', 5446: '▁로빈', 5447: '▁사라지', 5448: '▁은근', 5449: '▁여자친구', 5450: '▁에효', 5451: '▁거북', 5452: '▁저평가', 5453: '좋은데', 5454: '▁로망', 5455: 'ᄀᄀ', 5456: '봣어요', 5457: '있지', 5458: '▁이만한', 5459: '▁연기자들', 5460: '봤습니다', 5461: '▁많아서', 5462: '▁답답하다', 5463: '▁독일', 5464: '▁유발', 5465: '▁바다', 5466: '▁인형', 5467: '▁삶이', 5468: '▁연인', 5469: '▁기대하지', 5470: '▁어이없다', 5471: '▁폐지', 5472: '▁기준', 5473: '소름', 5474: '▁돋보인', 5475: '▁진한', 5476: '▁충격적인', 5477: '▁낮네요', 5478: '없구', 5479: '▁잠시', 5480: '▁인생은', 5481: '▁멋진영화', 5482: '좋네요', 5483: '▁방식', 5484: '내용은', 5485: '▁음식', 5486: '▁잘만들었다', 5487: '상영', 5488: '▁얼굴이', 5489: '▁액션과', 5490: '신분', 5491: '▁희망을', 5492: '갖', 5493: '꿀', 5494: '▁앞에', 5495: '시나리오', 5496: '목소리', 5497: '▁그걸', 5498: '▁박수', 5499: '▁예술영화', 5500: '▁제작비가', 5501: '▁자극적', 5502: '주제', 5503: '닫', 5504: '▁킬링', 5505: '▁깔끔한', 5506: '▁임팩트', 5507: '▁타란티노', 5508: '▁터미네이터', 5509: '뱀', 5510: '▁배트맨', 5511: '▁오글오글', 5512: '▁감명깊게', 5513: '▁ᄌᄂ', 5514: '▁늦게', 5515: '▁흐르는', 5516: '▁착각', 5517: '▁꿈꾸', 5518: '▁당연히', 5519: '▁애들은', 5520: '혼자', 5521: '▁거품', 5522: '분동안', 5523: '▁엄마가', 5524: '▁멋져요', 5525: '▁짜증남', 5526: '▁재밋는', 5527: '▁해결', 5528: '▁있던', 5529: '▁씹', 5530: '▁신선함', 5531: '▁보았는데', 5532: '아닌가', 5533: '이예요', 5534: '동생', 5535: '▁매니아', 5536: '만들었냐', 5537: '먹은', 5538: '영환', 5539: '인물', 5540: '▁알았음', 5541: '▁말밖에', 5542: '▁좋아하지만', 5543: '지루하고', 5544: '▁남긴', 5545: '▁않아서', 5546: '▁죽었', 5547: '싫다', 5548: '▁매일', 5549: '뻔했다', 5550: '▁잼있네요', 5551: '▁괜찮아', 5552: '▁잊혀', 5553: '줄알았다', 5554: '옆', 5555: '구먼', 5556: '었구나', 5557: '갈때', 5558: '봐야지', 5559: '있으면', 5560: '▁약간의', 5561: '▁개봉했', 5562: '▁캐리', 5563: '▁보던', 5564: '▁아내', 5565: '보고있어요', 5566: '나왔으면', 5567: '못하는', 5568: '쯔', 5569: '갱', 5570: '밧', 5571: '▁아름다워', 5572: '▁어정쩡', 5573: '눌', 5574: '뭣', 5575: '▁2.22', 5576: '▁소중함을', 5577: '▁명성에', 5578: '▁겉멋', 5579: '▁말이필요없다', 5580: '▁아무런', 5581: '▁보여주고', 5582: '줄알았는데', 5583: '▁매력에', 5584: '▁따름', 5585: '놨네', 5586: 'ᄃᄃᄃ', 5587: '▁애잔', 5588: '▁개꿀잼', 5589: '오늘', 5590: '▁배역', 5591: '▁도망', 5592: '▁아니잖아', 5593: '▁말고는', 5594: '▁치유', 5595: '▁평화', 5596: '▁서울', 5597: '▁좋을듯', 5598: '맞추기', 5599: '▁이름을', 5600: '▁만점에', 5601: '▁아무도', 5602: '▁최고에요', 5603: '▁가고', 5604: '▁짜증나서', 5605: '사람들은', 5606: '▁시작해서', 5607: '▁풋풋한', 5608: '발연기', 5609: '▁한번더', 5610: '▁영구', 5611: '▁무섭게', 5612: '에대해', 5613: '▁뭐하나', 5614: '▁다운받', 5615: '▁간지', 5616: '▁심하다', 5617: '낫다', 5618: '작이라', 5619: '▁작품입니다', 5620: '거죠', 5621: '▁잡아', 5622: '▁작품이라', 5623: '▁재미없네요', 5624: '▁뻔하', 5625: '▁짜증만', 5626: '핵', 5627: '캐스팅', 5628: '도대체', 5629: '건가요', 5630: '빗', 5631: '덴', 5632: '퀄', 5633: 'ᄊ', 5634: '▁설득력', 5635: '▁스타워즈', 5636: '맴', 5637: '뻥', 5638: '찔', 5639: '▁이토록', 5640: '덩어리', 5641: '▁흑백', 5642: '▁박진감', 5643: '▁이해불가', 5644: '▁하정우', 5645: '▁도무지', 5646: '▁수면제', 5647: '▁무엇인가', 5648: '▁100%', 5649: '▁당황', 5650: '▁돈내고', 5651: '▁라스트', 5652: '▁좋으나', 5653: '▁위로', 5654: '편까지', 5655: '될듯', 5656: '▁빅', 5657: '겠죠', 5658: '▁여친', 5659: '누님', 5660: '▁대놓고', 5661: '▁사랑스럽다', 5662: '▁울었어요', 5663: '행복', 5664: '▁무료', 5665: '▁어우', 5666: '▁안보는게', 5667: '▁봤다면', 5668: '▁애매', 5669: '▁소름돋는', 5670: '긴했지만', 5671: '재밋음', 5672: '▁만들다', 5673: '▁전설이', 5674: '▁컸', 5675: '레기', 5676: '▁아니었다', 5677: '선수', 5678: '▁왜곡', 5679: '찾아', 5680: '것보다', 5681: '▁보겠다', 5682: '▁끝나서', 5683: '▁귀여', 5684: '▁가득한', 5685: '아까운영화', 5686: '▁없게', 5687: '▁소름끼치는', 5688: '▁짜증나게', 5689: 'un', 5690: '▁돼지', 5691: '▁싶었다', 5692: '▁잘생겼', 5693: '▁시청자', 5694: '▁장난아니', 5695: '▁답답해', 5696: '▁가정', 5697: '▁무섭고', 5698: '▁좋더라', 5699: '▁실망이다', 5700: '스틴', 5701: '▁코믹영화', 5702: '▁영원', 5703: '▁안될', 5704: '픽', 5705: '랍', 5706: '▁다시보니', 5707: '▁재난', 5708: '▁ᄒᄃᄃ', 5709: '빼곤', 5710: '꿈', 5711: '코메디', 5712: '뭉', 5713: '맑', 5714: '퉤', 5715: 'ᄐ', 5716: '쉐', 5717: '▁괜찬', 5718: '▁적절한', 5719: '▁하이틴', 5720: '▁기발한', 5721: '▁파리', 5722: '▁엽기', 5723: '▁불쌍해', 5724: '▁탈출', 5725: '▁로맨틱코미디', 5726: '▁몇몇', 5727: '▁흘리', 5728: '▁멋짐', 5729: '▁빛나는', 5730: '병맛', 5731: '▁내일', 5732: '▁자아', 5733: '▁개콘', 5734: '▁태국', 5735: '▁담은', 5736: '▁장난하나', 5737: '분짜리', 5738: '▁혹시나', 5739: '▁과장', 5740: '재밋어요', 5741: '당시엔', 5742: '허무', 5743: '▁재밌게봤어요', 5744: '▁처음에는', 5745: '자들의', 5746: '▁찾아볼', 5747: '▁친구랑', 5748: 'ck', 5749: '▁살아가는', 5750: '더군', 5751: '▁만화영화', 5752: '▁미녀', 5753: '▁꼭봐야', 5754: '였지', 5755: '▁손발', 5756: '▁첨이다', 5757: '▁조잡한', 5758: '너무좋아', 5759: '▁밤에', 5760: '~~~~~', 5761: '▁의지', 5762: '▁뭐여', 5763: '놈들은', 5764: '▁재밋어', 5765: '▁자세', 5766: '▁-_-;;', 5767: '되네', 5768: '▁여인', 5769: '줘야지', 5770: '▁실화를', 5771: '▁이것보다', 5772: '보긴', 5773: '▁터지', 5774: '해주고', 5775: '▁알파치노', 5776: '▁유치찬란', 5777: '▁컴퓨터', 5778: '랴', 5779: '뻑', 5780: '▁명복을', 5781: '▁떨어짐', 5782: '궁', 5783: '▁라이언', 5784: '▁바랍니다', 5785: '왠', 5786: '▁할아버지', 5787: '받았다', 5788: '▁판단', 5789: '▁모든것이', 5790: '▁빠르', 5791: '▁충분하다', 5792: '▁감동이다', 5793: '▁동양', 5794: '▁첨엔', 5795: '▁모욕', 5796: '▁주변', 5797: '라는걸', 5798: '▁기억난다', 5799: '▁부담', 5800: '▁마약', 5801: '▁역작', 5802: '했다면', 5803: '▁보고싶은데', 5804: '▁강추합니다', 5805: '전혀', 5806: '▁안나온다', 5807: '▁모르겠네', 5808: '지않는다', 5809: '▁독특하고', 5810: '▁보는거', 5811: '▁묻어', 5812: '▁귀여웠', 5813: '▁세상이', 5814: '▁시대의', 5815: '▁이거보다', 5816: '!!!!!!!!', 5817: '▁확인', 5818: '▁곧', 5819: '▁실수', 5820: '.,.,', 5821: '께요', 5822: '게만드는', 5823: '였고', 5824: 'ch', 5825: '▁머야', 5826: '▁또보고싶', 5827: '▁어쩔수', 5828: '미국', 5829: 'ᄃᄃᄃᄃ', 5830: '▁뻔뻔', 5831: '더스', 5832: '▁남는게', 5833: '겠는데', 5834: '무섭다', 5835: '▁아예', 5836: '기도하고', 5837: '객', 5838: '밋', 5839: '갠', 5840: '콤', 5841: '쿵', 5842: '▁웃겼다', 5843: '▁케릭터', 5844: '겻', 5845: '뜸', 5846: '븐', 5847: '캡', 5848: '▁놀랐다', 5849: '▁흡입력', 5850: '▁말그대로', 5851: '▁완젼', 5852: '▁완죤', 5853: '▁박보영', 5854: '▁드니로', 5855: '▁of', 5856: '▁혁명', 5857: '▁스파이', 5858: '흑흑', 5859: '▁상큼', 5860: '▁앞뒤', 5861: '▁배경음악', 5862: '▁담담', 5863: '▁부탁', 5864: '낭비', 5865: '▁마시길', 5866: '꼽', 5867: '▁대박이다', 5868: '솔직히', 5869: '▁담긴', 5870: '초딩', 5871: '예뻐', 5872: '▁잼없다', 5873: '▁사랑한다', 5874: '예술', 5875: '▁생각할', 5876: '▁거지같은', 5877: '▁어거지', 5878: '▁주온', 5879: '▁개연성도', 5880: '▁느껴지', 5881: '였구나', 5882: '~~~~~~', 5883: '▁망할', 5884: '▁생각했는데', 5885: '광고', 5886: '▁미스', 5887: '▁별로였다', 5888: '▁찾을', 5889: '표정', 5890: '▁배신', 5891: '▁멋있었', 5892: '▁세월이', 5893: '▁명연기', 5894: '▁찍는', 5895: '외에는', 5896: '비추', 5897: 'ce', 5898: '하는구나', 5899: '있네요', 5900: '할수있는', 5901: '▁빛을', 5902: '하시길', 5903: '▁막판', 5904: '▁멋있고', 5905: '웠던', 5906: '▁맞나', 5907: '▁답답함', 5908: '▁둘째치고', 5909: '됫', 5910: '렐', 5911: '셋', 5912: '▁신하균', 5913: '▁쓸데없이', 5914: '▁오프닝', 5915: '▁왕조현', 5916: '▁짬뽕', 5917: '겪', 5918: '▁자동차', 5919: '로버츠', 5920: '▁강동원', 5921: '▁비호감', 5922: '▁무거운', 5923: '▁첩보', 5924: '▁죄송', 5925: '▁이렇', 5926: '▁이것보단', 5927: '▁높지', 5928: '▁괜찮았던', 5929: '에비해', 5930: '평론가', 5931: '무서워', 5932: '▁무겁', 5933: '퇴', 5934: '!!!!!!!', 5935: '▁우왕', 5936: '▁게다가', 5937: 'ᅲᅲᅲᅲᅲ', 5938: '▁웃었', 5939: '▁생긴', 5940: '잭슨', 5941: '▁어이없음', 5942: '▁욕심', 5943: '▁싸우는', 5944: '드립', 5945: '알아', 5946: '보지마라', 5947: '▁약하다', 5948: '번이나', 5949: '▁이거보단', 5950: '▁그렇지만', 5951: '▁떨어지고', 5952: '터짐', 5953: '▁아쉬움이', 5954: '▁높네', 5955: '▁생명', 5956: '▁어색하고', 5957: '싶어서', 5958: '▁표현할', 5959: '▁듣고', 5960: '순수', 5961: '▁화끈', 5962: '삼류', 5963: '▁분들은', 5964: '빼', 5965: '시간동안', 5966: '▁짜증나고', 5967: '▁중국영화', 5968: '뚝', 5969: '앜', 5970: '켰', 5971: '▁언젠가', 5972: '▁원주율', 5973: '▁니콜라스', 5974: '점준것중', 5975: '▁몽환적', 5976: '▁컬트', 5977: '▁목숨', 5978: '▁택시', 5979: '▁좋지', 5980: '▁더러워', 5981: '▁예측', 5982: '밖엔', 5983: '▁먹칠', 5984: '▁말아야', 5985: '▁감동적입니다', 5986: '▁아닐', 5987: '▁개똥', 5988: '▁꽤나', 5989: '▁재미있었는데', 5990: '셨어요', 5991: '▁재밌었습니다', 5992: '▁감동적임', 5993: '밑', 5994: '▁일본인', 5995: '▁뭐라고', 5996: '▁스토리전개', 5997: '▁있었으면', 5998: '▁처음이네', 5999: '햇는데', 6000: '느끼', 6001: '미친', 6002: '없네요', 6003: '상황', 6004: '▁환상적인', 6005: '▁아깝네요', 6006: '순위', 6007: '하나하나가', 6008: '▁재미없었', 6009: '유발', 6010: '▁짱이다', 6011: '▁토니', 6012: '조연', 6013: '▁등장인물들', 6014: '▁살리', 6015: '▁살리지', 6016: '▁본격', 6017: '▁인상적인', 6018: '▁후하게', 6019: '유쾌하게', 6020: '▁한방', 6021: '▁정상', 6022: '▁빠졌', 6023: '▁역사를', 6024: '멈', 6025: '▁EBS', 6026: '^_^', 6027: '▁됩니다', 6028: '짤', 6029: '▁결론은', 6030: '▁공짜로', 6031: '▁베드신', 6032: '▁피아노', 6033: '▁미스캐스팅', 6034: '▁격투', 6035: '파이팅', 6036: '▁볼것', 6037: '▁극혐', 6038: '▁민폐', 6039: '▁에라이', 6040: '▁맞춰', 6041: '▁레옹', 6042: '▁생각해보게', 6043: '▁엄청나게', 6044: '▁재앙', 6045: '▁파괴', 6046: '▁되야', 6047: '▁중학생', 6048: '▁부활', 6049: '▁만들어낸', 6050: '▁흥분', 6051: '▁예능', 6052: '^^;', 6053: '▁살인마', 6054: '립니다', 6055: '브리', 6056: '▁화나', 6057: '랜드', 6058: '▁웃긴다', 6059: '정보', 6060: '▁대결', 6061: '비슷', 6062: '▁만났', 6063: '▁필요없음', 6064: '▁보았던', 6065: 'TV', 6066: '▁안보면', 6067: '▁생기', 6068: '▁역사상', 6069: '제일', 6070: '▁아파', 6071: '▁엉망이', 6072: '▁호구', 6073: '같아요', 6074: '볼까', 6075: '이후로', 6076: '답다', 6077: '▁찾아서', 6078: '▁철학적', 6079: '귀신', 6080: '는뎅', 6081: '밖', 6082: '아이들', 6083: '능력', 6084: '됐는데', 6085: '▁그만큼', 6086: '▁새벽', 6087: '▁싶다면', 6088: '좀비', 6089: '▁읽고', 6090: '하실', 6091: '▁갖다', 6092: '▁십점', 6093: '렀', 6094: '맺', 6095: '▁대통령', 6096: '▁빕니다', 6097: '▁애니매이션', 6098: '▁오그라드는', 6099: '램', 6100: '템', 6101: '▁즐거움', 6102: '젝', 6103: '▁섬뜩', 6104: '▁사투리', 6105: '▁킬러', 6106: '▁전성기', 6107: '▁말인가', 6108: '▁보아도', 6109: '▁소장하고', 6110: '▁낫겠다', 6111: '▁전체적인', 6112: '▁묘한', 6113: '▁말하려는', 6114: '▁진지하게', 6115: '▁재미나게', 6116: '▁드림', 6117: '여배우', 6118: '▁이은주', 6119: '▁중년', 6120: '▁않았던', 6121: '▁이상하고', 6122: '▁저급', 6123: '▁나을듯', 6124: '▁미국식', 6125: '▁최고라고', 6126: '▁해피', 6127: '▁잼나요', 6128: '하지말고', 6129: '각본', 6130: '▁go', 6131: '▁지루하네', 6132: '도있고', 6133: '▁기대했던', 6134: '▁나머지는', 6135: '▁재밋네요', 6136: '극히', 6137: '▁열자', 6138: '▁신화', 6139: 'ou', 6140: '▁충분한', 6141: 'ho', 6142: '▁많은데', 6143: '▁안나오는', 6144: '형제', 6145: '▁낚인', 6146: '▁진지한', 6147: '▁한시간', 6148: '▁벗어', 6149: '으려고', 6150: '봤네', 6151: '셔야', 6152: '!!!!!!!!!', 6153: '▁흉내', 6154: '▁야하지도', 6155: '엇음', 6156: '납', 6157: 'Y', 6158: '▁movie', 6159: '▁시종일관', 6160: '▁엉망진창', 6161: '몫', 6162: '썬', 6163: '캠', 6164: '퀸', 6165: '▁류승범', 6166: '밨', 6167: '▁아마추어', 6168: '▁박평식', 6169: '▁여러모로', 6170: '▁김희선', 6171: '▁섬세한', 6172: '▁평점조절', 6173: '▁김수현', 6174: '▁잊지못할', 6175: '점주기도', 6176: '▁돋보였', 6177: '땜시', 6178: '▁기획', 6179: '▁국산', 6180: '▁요새', 6181: '습니까', 6182: '것같은데', 6183: '▁잘못된', 6184: '▁재밌기만', 6185: '▁옛날영화', 6186: '▁보시면', 6187: '▁다운받아서', 6188: '▁보라고', 6189: '▁한심하다', 6190: '▁무엇이', 6191: '굿굿', 6192: '▁믿어', 6193: '▁수많은', 6194: '▁가수', 6195: '돌려', 6196: '▁언제까지', 6197: '▁그리워', 6198: '▁어쩌다', 6199: '▁또봐도', 6200: '로맨스', 6201: '범죄', 6202: '▁여배우들', 6203: '▁액션신', 6204: '예쁘', 6205: '그럼', 6206: '당신', 6207: 'us', 6208: '▁대학', 6209: '내놔', 6210: '▁볼만한데', 6211: '잖아요', 6212: '하니까', 6213: '▁밋밋한', 6214: '▁안봐서', 6215: '별루', 6216: '멋진', 6217: '못함', 6218: '50', 6219: '제작', 6220: '제대로', 6221: '▁머냐', 6222: '▁가히', 6223: '▁이딴거', 6224: '▁싫어하는', 6225: 'ed', 6226: '123', 6227: '▁상어', 6228: '재미있음', 6229: '았어', 6230: '부분은', 6231: '▁불가능', 6232: '신선', 6233: '그저', 6234: '부분에서', 6235: '▁이딴게', 6236: '거에요', 6237: '충격', 6238: '18', 6239: '▁재미있네', 6240: '▁마지막까지', 6241: '뎀', 6242: '훌', 6243: '풋', 6244: '쩡', 6245: '뚫', 6246: '렛', 6247: '뻣', 6248: '왈', 6249: '켓', 6250: '▁영웅본색', 6251: '▁포켓몬', 6252: '걷', 6253: '훗', 6254: '▁가까운', 6255: '▁그냥저냥', 6256: '▁데이빗', 6257: '▁전반적으로', 6258: '▁최민수', 6259: '▁감정이입', 6260: '▁한효주', 6261: '▁혐오', 6262: '▁비행기', 6263: '▁상관없', 6264: '▁그려낸', 6265: '><', 6266: '40', 6267: '하는건지', 6268: '▁잔인함', 6269: '▁난해한', 6270: '▁이도저도', 6271: '▁람보', 6272: '▁마지막엔', 6273: '점도아깝다', 6274: '▁대사들', 6275: '▁남성', 6276: '▁완벽하다', 6277: '낚였', 6278: '▁모방', 6279: '▁없군', 6280: '▁공유', 6281: '▁좋아하네요', 6282: '▁시작부터', 6283: '스탈', 6284: '애니메이션', 6285: '오랜만에', 6286: '▁다르게', 6287: '▁공간', 6288: '다시봐도', 6289: '쓰렉', 6290: '▁티비로', 6291: '▁만세', 6292: '좋겠다', 6293: '있던', 6294: '▁정작', 6295: '▁잔잔함', 6296: '몰라', 6297: 'ri', 6298: 'ne', 6299: '믿고', 6300: '앞에서', 6301: 'ma', 6302: '▁뻔하다', 6303: '▁현실감', 6304: '▁상대', 6305: '▁잊고', 6306: '같았', 6307: '효과', 6308: '보일', 6309: '▁정체', 6310: '▁의사', 6311: '동화', 6312: '감명깊', 6313: '돈아깝', 6314: '닭', 6315: '뚜', 6316: '깁', 6317: '▁뒤죽박죽', 6318: '▁디카프리오', 6319: '▁비쥬얼', 6320: '▁송강호', 6321: '▁오랫동안', 6322: '랩', 6323: '▁리얼리티', 6324: '▁엉뚱', 6325: '▁늑대', 6326: '▁농담', 6327: '▁왕가위', 6328: '▁후속편', 6329: '▁흥미로웠', 6330: '마누라', 6331: '▁장애인', 6332: '▁잃은', 6333: '▁살렸다', 6334: 'vs', 6335: '▁내취향', 6336: '▁사랑스럽고', 6337: '▁사람이라면', 6338: '▁탄탄하고', 6339: '▁목적', 6340: '▁마블', 6341: '▁불쌍해서', 6342: '▁no', 6343: '▁가족애', 6344: '▁못하네', 6345: '▁연기잘하', 6346: '▁미학', 6347: '▁준비', 6348: '▁에로물', 6349: '▁영화라지만', 6350: '▁않았지만', 6351: '▁오직', 6352: '있지만', 6353: '▁웃겨서', 6354: '곳이', 6355: '였다면', 6356: '귀여워', 6357: '아름다운', 6358: '줘요', 6359: '잘봤습니다', 6360: 'he', 6361: '▁아이유', 6362: '▁아련한', 6363: '▁to', 6364: '▁광기', 6365: '▁여자애', 6366: '여주인공', 6367: '답게', 6368: '▁우울한', 6369: '▁보고나니', 6370: '▁동감', 6371: '▁스릴러물', 6372: '▁OOOO', 6373: 'el', 6374: '▁자극적인', 6375: '♡♡♡', 6376: '중국', 6377: '보게되', 6378: 'il', 6379: '떤', 6380: '줍', 6381: '쿡', 6382: '륭', 6383: '▁인터넷', 6384: '및', 6385: '팽', 6386: '▁아기자기', 6387: '짙', 6388: '▁키아누', 6389: '▁두고두고', 6390: '▁나루토', 6391: '▁데뷔작', 6392: '▁빠순이', 6393: '▁다세포소녀', 6394: '▁이끌어', 6395: '▁쏘우', 6396: '▁위험', 6397: '▁좋았을텐데', 6398: '어수선', 6399: '▁슈퍼맨', 6400: '창있네', 6401: '▁호흡', 6402: '▁러브스토리', 6403: '▁관련', 6404: '▁돌아보게', 6405: '▁역쉬', 6406: '▁동영상', 6407: '▁고뇌', 6408: '▁시간아까워', 6409: '▁닮았', 6410: '▁마틴', 6411: '-.-', 6412: '▁담겨', 6413: '▁무협영화', 6414: '나보네', 6415: '▁채우', 6416: '▁나와야', 6417: '합시다', 6418: '▁서양', 6419: '▁웃다가', 6420: '▁어쩔수없', 6421: '▁지옥', 6422: '▁궁금해서', 6423: '▁울림', 6424: '▁앞서', 6425: '▁유행', 6426: '▁보고싶네요', 6427: '살때', 6428: '▁맛있', 6429: '▁나올까', 6430: '였네요', 6431: '▁슬프네요', 6432: '▁화끈한', 6433: '▁빈약한', 6434: '▁마지막회', 6435: '▁전라도', 6436: '▁재밌당', 6437: '15', 6438: '해지고', 6439: '▁벗어나', 6440: '옛날', 6441: '▁보여줘', 6442: ':)', 6443: '하잖아', 6444: '▁소화', 6445: '구역', 6446: '망작', 6447: '영활', 6448: '돈주고', 6449: '그렇게', 6450: '▁여신', 6451: '▁빈약', 6452: '렇', 6453: '걸작', 6454: '▁도시', 6455: '높아', 6456: '▁개잼', 6457: '끝내', 6458: '▁두시간', 6459: '▁액션물', 6460: '▁존스', 6461: '천원', 6462: '▁굿굿굿', 6463: '어설프', 6464: '뜬', 6465: '랙', 6466: '랏', 6467: '↓', 6468: '▁군더더기', 6469: '꽉', 6470: '뿜', 6471: '삘', 6472: '줫', 6473: '혔', 6474: '홈', 6475: '▁차승원', 6476: '▁차태현', 6477: '▁팝콘', 6478: '▁한석규', 6479: '스파이더맨', 6480: '▁흑역사', 6481: '▁말았어야', 6482: '▁멈추', 6483: '▁뛰어넘는', 6484: '▁원피스', 6485: '▁원숭이', 6486: '▁엠마', 6487: '▁록키', 6488: '▁허허', 6489: '▁환경', 6490: '나머진', 6491: '▁강아지', 6492: '▁도둑', 6493: '▁늙은', 6494: '▁왠만한', 6495: '▁찬양', 6496: '▁꺼져', 6497: '조심', 6498: '▁극복', 6499: '▁아쉬워요', 6500: '▁부족함', 6501: '자마자', 6502: '▁진부하다', 6503: '▁첨부터', 6504: '▁매력적이다', 6505: '▁음모', 6506: '▁반개', 6507: '▁느껴지지', 6508: '▁정석', 6509: '▁멋지게', 6510: '맥스', 6511: '▁모르겠네요', 6512: '▁잃었', 6513: '멀', 6514: '왜이래', 6515: '판타지', 6516: '0000', 6517: '부르', 6518: '못할', 6519: '바람', 6520: '▁다시보고싶은', 6521: '▁불안', 6522: '보니깐', 6523: '웃긴', 6524: '▁가야', 6525: '▁선정', 6526: '▁만난', 6527: 'ic', 6528: '-_', 6529: '▁의상', 6530: '졌음', 6531: '시리즈중', 6532: '▁스릴감', 6533: '자꾸', 6534: '▁짜증났', 6535: '첩', 6536: '쉴', 6537: '윽', 6538: '▁테이큰', 6539: '긔', 6540: '릇', 6541: '밉', 6542: '▁뒤늦게', 6543: '▁어설퍼', 6544: '뜯', 6545: '▁어두운', 6546: '랍니다', 6547: '▁배급사', 6548: '▁다니엘', 6549: '▁무간도', 6550: '▁무의미', 6551: '▁환장', 6552: '▁2012', 6553: '▁확실하', 6554: '▁환상적', 6555: '▁알려주는', 6556: '▁개그맨', 6557: '지못한', 6558: '특집', 6559: '▁피곤', 6560: '▁존잼', 6561: '▁아깝습니다', 6562: '▁최후', 6563: '▁싶었던', 6564: '▁감동적이었다', 6565: '▁재미없었음', 6566: '▁보는동안', 6567: '▁고독', 6568: '▁식상하다', 6569: '것같네요', 6570: '▁알바생', 6571: '▁제대로된', 6572: '겨운', 6573: '▁안나옴', 6574: 'ter', 6575: '▁인류', 6576: '▁놀란', 6577: '▁못하겠다', 6578: '▁있긴', 6579: '▁등장인물', 6580: '▁훈훈하고', 6581: '▁천사', 6582: '칼', 6583: '▁필요하다', 6584: '주려고', 6585: '▁욕먹', 6586: '죽을뻔', 6587: '보지마세요', 6588: '모르겠다', 6589: '버그', 6590: '▁so', 6591: '▁달려', 6592: '▁돋보이', 6593: '재미잇', 6594: '거같아', 6595: 'ro', 6596: '안된다', 6597: '▁정신병', 6598: '▁싸우', 6599: '룬', 6600: '▁보기싫', 6601: '▁다시보기', 6602: '낄', 6603: '흉', 6604: '킴', 6605: '펜', 6606: '▁스필버그', 6607: '▁슬펐다', 6608: '▁재발견', 6609: '▁트랜스포머', 6610: '덮', 6611: '▁사무라이', 6612: '잣', 6613: '▁다이하드', 6614: '▁김태희', 6615: '▁클래식', 6616: '툭', 6617: '▁스페인', 6618: '▁칭찬', 6619: '▁드래곤볼', 6620: '▁찬사를', 6621: '▁아바타', 6622: '▁일주일', 6623: '▁봐줄만', 6624: '▁깜놀', 6625: '▁크리스찬', 6626: '▁모자라', 6627: '▁첫번째', 6628: '▁새삼', 6629: '▁역량', 6630: '▁끼워', 6631: '페이스', 6632: '▁줄리아', 6633: 'se', 6634: '점만점', 6635: '▁원표', 6636: '▁또라이', 6637: '▁모독', 6638: '▁늙어', 6639: '▁무슨말이', 6640: '▁실사', 6641: '▁돈아깝다', 6642: '▁모르지만', 6643: '▁어쩌면', 6644: '▁흉내내', 6645: '▁의미있는', 6646: '▁소통', 6647: '학년때', 6648: '▁기존', 6649: '▁주고싶다', 6650: '▁아이들에게', 6651: '입니까', 6652: '▁마법', 6653: '▁감명', 6654: '▁작가님', 6655: '할수없는', 6656: '▁네이버평점', 6657: '▁미스터리', 6658: '▁지금보면', 6659: '▁낚이지', 6660: '▁소유', 6661: '▁재밋는데', 6662: '▁군인', 6663: '▁옆에', 6664: '폴', 6665: '덕분에', 6666: '쫌', 6667: '꽝', 6668: '무서운', 6669: '경찰', 6670: '▁개봉당시', 6671: '▁기억남', 6672: '▁진부함', 6673: '해야하나', 6674: '그자체', 6675: '▁거기에', 6676: '할정도로', 6677: '가는줄', 6678: '▁미스터', 6679: '▁산만하', 6680: '하거나', 6681: '뜬금', 6682: '▁선동', 6683: '혐', 6684: '솜', 6685: '엮', 6686: '옳', 6687: '턱', 6688: '▁구혜선', 6689: '▁박찬욱', 6690: '▁소피마르소', 6691: '▁송승헌', 6692: '궈', 6693: '믄', 6694: '▁설경구', 6695: '습니당', 6696: '▁징그러', 6697: '▁묵직', 6698: '▁빠져들게', 6699: '▁지겨워', 6700: '스러웠다', 6701: '▁안성기', 6702: '▁존경합니다', 6703: '▁잔잔하지만', 6704: '▁대표작', 6705: '▁억지스런', 6706: '▁시험', 6707: '▁씨발', 6708: '▁같았다', 6709: '▁제작자', 6710: 'la', 6711: '▁심각하게', 6712: '▁8.5', 6713: '▁동화같은', 6714: '▁볼만해요', 6715: '▁가짜', 6716: '▁늙었', 6717: '▁없구나', 6718: '▁재방', 6719: '▁부산', 6720: '자연스럽게', 6721: '▁잼없음', 6722: '▁기대된다', 6723: '▁강간', 6724: '▁좋아해요', 6725: '▁사람들에게', 6726: '▁그동안', 6727: '▁봤었다', 6728: '▁공연', 6729: '▁망쳐놓', 6730: '눈물흘', 6731: '▁가슴아프', 6732: '많은것을', 6733: '▁따뜻함', 6734: '▁알게되', 6735: '▁명작이네요', 6736: '▁재미있었던', 6737: '▁세상에서', 6738: '샘', 6739: '했을때', 6740: '선택', 6741: '넘치는', 6742: '앞으로', 6743: '아닌데', 6744: 'ᄍᄍᄍ', 6745: '▁초반부', 6746: '하겠습니다', 6747: '부분도', 6748: '▁혹시', 6749: '좋아하는데', 6750: '--;', 6751: '▁빠른', 6752: '뱅', 6753: '훼', 6754: '▁새록새록', 6755: '▁엑스맨', 6756: '☆', 6757: '셧', 6758: '숲', 6759: '썻', 6760: '쏴', 6761: '얀', 6762: '웩', 6763: '▁세련된', 6764: '▁양동근', 6765: '▁엄정화', 6766: '늬', 6767: '▁미스테리', 6768: '▁손예진', 6769: '▁한쿡영화', 6770: '▁직업', 6771: '▁7.5', 6772: '▁말이필요없는', 6773: '▁픽사', 6774: '▁이나영', 6775: '▁낮추', 6776: '▁과학', 6777: '▁돌려줘', 6778: '▁영광', 6779: '▁노튼', 6780: '줄알고', 6781: '▁한숨만', 6782: '▁향기', 6783: '▁없을까', 6784: '▁한동안', 6785: '말도안되', 6786: '▁레오', 6787: '▁말았다', 6788: '▁시체', 6789: '▁재미있어서', 6790: '▁두명', 6791: '보고나서', 6792: '▁편하게', 6793: '▁피식', 6794: '▁짧아', 6795: '탁월한', 6796: '▁안가는', 6797: 'very', 6798: '해줘서', 6799: '▁어색함', 6800: '아아아', 6801: '▁세월', 6802: '묻', 6803: '그래픽', 6804: 'CG', 6805: 'ᄉᄇ', 6806: '▁비극적', 6807: '▁팬들', 6808: '힘든', 6809: '▁훈훈하', 6810: '겠군', 6811: '결국', 6812: '싫', 6813: '▁않으', 6814: '자신을', 6815: '▁짝이', 6816: '아아아아', 6817: '▁한숨', 6818: '것처럼', 6819: '야말로', 6820: '봇', 6821: '띠', 6822: '▁과대평가', 6823: '▁드림웍스', 6824: '▁윌리엄', 6825: '쉣', 6826: '어쨌든', 6827: '캔', 6828: '▁레이첼', 6829: '▁오우삼', 6830: '▁되돌아', 6831: '▁클라스', 6832: '▁심오한', 6833: 'ᅩᅩ', 6834: '잘생김', 6835: '▁심지어', 6836: '▁간첩', 6837: '귀요미', 6838: '▁증말', 6839: '▁2015', 6840: '▁찢어', 6841: 'ᄂᄂ', 6842: '▁파격적', 6843: '▁기다렸', 6844: '▁일부러', 6845: '▁떨어져', 6846: '▁사이코', 6847: '▁복수극', 6848: '▁재탕', 6849: '▁좋겠습니다', 6850: '▁흘러가는', 6851: '▁지나친', 6852: '▁실패작', 6853: '▁남자라면', 6854: '▁백배', 6855: '▁보여줄', 6856: '보기엔', 6857: '▁지났', 6858: '▁처음본다', 6859: '▁힘들었다', 6860: '알바들', 6861: '▁나오다니', 6862: '▁미술', 6863: '▁마초', 6864: '▁모양', 6865: '오르는', 6866: '▁향수', 6867: '▁존내', 6868: '▁재밌게봤음', 6869: '▁드물', 6870: '않았다', 6871: '▁선동영화', 6872: '▁있어보이', 6873: '▁낚였네', 6874: '봣던', 6875: '큼', 6876: '만들엇', 6877: '제국', 6878: '▁승리', 6879: '▁좋구', 6880: '지루하지않', 6881: '어울리는', 6882: '첫', 6883: '닼ᄏᄏ', 6884: '얼마나', 6885: 'tv', 6886: '영웅', 6887: '성룡', 6888: '▁불쌍하', 6889: '겠는가', 6890: '▁놓치', 6891: '▁남자배우', 6892: '▁받아야', 6893: 'ost', 6894: '쎄', 6895: '핳', 6896: 'zzz', 6897: 'ᅦ', 6898: '▁기대됩니다', 6899: '▁팀버튼', 6900: '좆', 6901: '팩', 6902: '▁바탕으로', 6903: '▁권상우', 6904: '▁불면증', 6905: '▁떡밥', 6906: '▁윌리스', 6907: '▁흠잡을', 6908: '▁best', 6909: '▁전지현', 6910: '▁총체적', 6911: '▁젊음', 6912: '▁그럴싸', 6913: '▁슬퍼요', 6914: '▁별한개도', 6915: '▁미안해', 6916: '▁복잡하', 6917: '되었습니다', 6918: '▁놀라울', 6919: '▁발랄', 6920: '▁괜찮던데', 6921: '▁ᄅᄋ', 6922: '▁허탈', 6923: '센트', 6924: '▁들어간', 6925: '▁지루했음', 6926: '셨으면', 6927: '영환줄', 6928: '▁만날', 6929: '▁거짓', 6930: '▁히트', 6931: '▁애초', 6932: '▁적당하다', 6933: '▁유치하지만', 6934: '▁학생들', 6935: '▁서극', 6936: '▁2010', 6937: '▁실화라는', 6938: '▁무리수', 6939: '▁로마', 6940: '클럽', 6941: '심각', 6942: '낮아서', 6943: '▁넣어', 6944: '싶은데', 6945: '닼', 6946: '깐', 6947: '▁않으면', 6948: '옷', 6949: '마무리', 6950: '실패', 6951: '폭력', 6952: '것같음', 6953: '봣습니다', 6954: '▁없으니', 6955: '▁맞추', 6956: '▁오랜', 6957: '쯧', 6958: '쵝', 6959: '릅', 6960: '썰', 6961: '▁ocn', 6962: '▁KBS', 6963: '▁신데렐라', 6964: '▁안타까움', 6965: '▁오그라들', 6966: '▁파워레인저', 6967: '▁펭귄', 6968: '人', 6969: '끓', 6970: '넼', 6971: '뎁', 6972: '듦', 6973: '렘', 6974: '룰', 6975: '룸', 6976: '헨', 6977: '▁어우러진', 6978: '▁이탈리아', 6979: '겄', 6980: '펠', 6981: '▁여태까지', 6982: '▁김혜수', 6983: '▁캐릭', 6984: '▁스피드', 6985: '▁침묵', 6986: '▁큐브', 6987: '▁엉엉', 6988: '▁상당한', 6989: '▁누군지', 6990: '생겨서', 6991: '▁그들만의', 6992: '▁아까웠던', 6993: '▁예뻐서', 6994: '▁거부감', 6995: '▁슈렉', 6996: '▁사라져', 6997: '▁어설프게', 6998: '▁치밀하', 6999: '▁민족', 7000: '▁극단적', 7001: '▁풀어낸', 7002: '▁돈낭비', 7003: '▁등록', 7004: '▁패션', 7005: '십니다', 7006: '▁지브리', 7007: '▁독립', 7008: '▁지루했어요', 7009: '▁기념', 7010: '헤헤', 7011: '사람마다', 7012: '▁적극', 7013: '▁대실망', 7014: '▁법정', 7015: '쩔어', 7016: '▁비록', 7017: '▁경계', 7018: '▁연관', 7019: '죽는줄', 7020: '▁소소하', 7021: '▁실화라니', 7022: '▁어린이용', 7023: '원주고', 7024: '완벽하게', 7025: '뎅', 7026: '흥미를', 7027: '▁못하겠', 7028: '▁진정성', 7029: '재밋게봣', 7030: '200', 7031: '하려면', 7032: '취향', 7033: '탐', 7034: '좋았음', 7035: '▁초딩들', 7036: 'ol', 7037: '▁시간아깝', 7038: '▁알게된', 7039: '것일까', 7040: '▁인상적이었', 7041: '실화라', 7042: '둑', 7043: '▁빵터', 7044: '렴', 7045: '▁에드워드', 7046: '▁웃겼음', 7047: '▁일깨워주는', 7048: '▁호불호가', 7049: '▁홧팅', 7050: '▁흐지부지', 7051: '꽁', 7052: '덧', 7053: '엌', 7054: '웰', 7055: '졋', 7056: '훔', 7057: '▁못생겼', 7058: '▁쓸데없는', 7059: '▁소지섭', 7060: '배속으로', 7061: '▁임청하', 7062: '▁밝혀', 7063: '▁페이크', 7064: '▁의외의', 7065: '▁무서울', 7066: '▁성유리', 7067: '▁케이트', 7068: '▁블루', 7069: '▁0.5', 7070: '▁괴롭', 7071: '될까', 7072: '▁죽기전에', 7073: '▁중학교', 7074: '▁욕나온다', 7075: '▁각색', 7076: '점드림', 7077: 'gt', 7078: '▁대략', 7079: '▁상징', 7080: 'wo', 7081: '▁시간아까움', 7082: '▁197', 7083: '▁조용히', 7084: '▁말씀', 7085: '▁빠져들었', 7086: '▁반응', 7087: '▁재미있던데', 7088: '▁커피', 7089: '▁볼만했음', 7090: '▁간직', 7091: '▁초반엔', 7092: '되길', 7093: '▁소품', 7094: '▁얘들', 7095: '재미가없', 7096: '라이브', 7097: '▁더욱더', 7098: '▁인간적으로', 7099: '▁고인의', 7100: '▁신나는', 7101: 'ill', 7102: '작렬', 7103: '했어야', 7104: '재밌게봤습니다', 7105: '▁비교하면', 7106: '♡♡', 7107: '▁조연들', 7108: '▁형식', 7109: '▁가능성', 7110: '시청률', 7111: '썩', 7112: '킬링타임용', 7113: '시간낭비', 7114: '좋았어요', 7115: '제작비', 7116: '영환데', 7117: '밌', 7118: '졌으면', 7119: '삽', 7120: '취급', 7121: '킥', 7122: '뷔', 7123: '팝', 7124: '▁도라에몽', 7125: '꺄', 7126: '▁내러티브', 7127: '▁런닝타임', 7128: '▁엔딩크레딧', 7129: '▁용두사미', 7130: '▁파라노말', 7131: '▁프레디', 7132: '힛', 7133: '▁김민종', 7134: '▁힘내세요', 7135: '쇄', 7136: '▁주상욱', 7137: '▁흘렀', 7138: '▁가슴아픈', 7139: '▁깨달음', 7140: '▁외로움', 7141: '▁장동건', 7142: '▁지저분', 7143: '▁ᄇᄉ', 7144: '▁뉴욕', 7145: '▁엽문', 7146: '▁모자란', 7147: '▁예뻐요', 7148: '▁농구', 7149: '▁사라진', 7150: '▁미치도록', 7151: '▁흘렸', 7152: '▁방황', 7153: '▁미안하지만', 7154: '▁지났지만', 7155: '▁신나게', 7156: '있을까', 7157: '▁뭐랄까', 7158: '▁알려준', 7159: '▁넘어선', 7160: '▁물씬', 7161: '▁음향', 7162: '▁총알', 7163: '▁2003', 7164: '▁유령', 7165: '▁실망스러운', 7166: '▁못따라', 7167: '▁얻어', 7168: '▁울었습니다', 7169: '▁냉정', 7170: '더라고요', 7171: '▁다음편', 7172: '돋는다', 7173: '잼잇', 7174: '▁정체성', 7175: '▁소름끼치', 7176: '투성이', 7177: '▁정확', 7178: '만드네', 7179: '돈아까움', 7180: '나오는거', 7181: '명성을', 7182: '중간에', 7183: '매니아', 7184: '톰', 7185: '프로그램', 7186: '개인적으로', 7187: '우리나라', 7188: '왜이리', 7189: '철학', 7190: 'lt', 7191: '봤었는데', 7192: '젼', 7193: '▁300', 7194: 'q', 7195: '깡', 7196: '빤', 7197: '뼈', 7198: 'Z', 7199: '▁ebs', 7200: '▁리즈시절', 7201: '▁오글거림', 7202: '▁일베충', 7203: '쉰', 7204: '욬', 7205: '횽', 7206: '▁졸업작품', 7207: '▁맙시다', 7208: '▁양조위', 7209: '▁납득', 7210: '▁어차피', 7211: '▁웬만하면', 7212: '▁최민식', 7213: '▁정주행', 7214: '-0-', 7215: '▁멘탈', 7216: '끝날때까지', 7217: '▁보낸다', 7218: '▁유오성', 7219: '▁솔까', 7220: '▁불후의', 7221: '▁일반인', 7222: '▁도움이', 7223: '기승전', 7224: '▁거기서', 7225: '^.^', 7226: '▁사기꾼', 7227: 'bbbb', 7228: '▁서부영화', 7229: '▁재수없', 7230: '▁에로틱', 7231: '▁귀찮', 7232: '▁경의를', 7233: '▁어려웠', 7234: '▁색채', 7235: '▁내인생최고의', 7236: '▁언제쯤', 7237: '▁빠져드는', 7238: '▁성찰', 7239: '▁권력', 7240: '▁적나라', 7241: '▁만약', 7242: '????????', 7243: '싶었는데', 7244: '▁웃어야', 7245: '▁채워', 7246: '▁뻔하지만', 7247: '▁향한', 7248: '▁사나이', 7249: '2005', 7250: '현실적', 7251: '특유의', 7252: '▁주고싶은', 7253: '▁잼났', 7254: '평점이낮', 7255: '냄', 7256: '▁다세포', 7257: '드래곤', 7258: '꿨', 7259: '▁고맙습니다', 7260: '▁굉장한', 7261: '▁심리묘사', 7262: '▁아이언맨', 7263: '▁엉터리', 7264: '▁초등학교때', 7265: '▁크레딧', 7266: '닦', 7267: '댐', 7268: '빚', 7269: '뺏', 7270: '옮', 7271: '췄', 7272: '텅', 7273: '헝', 7274: '흰', 7275: '#', 7276: '▁끝판왕', 7277: '쇠', 7278: '▁마찬가지', 7279: '▁스티브', 7280: '▁황정민', 7281: '▁감성팔이', 7282: '▁색다르', 7283: '하셨습니다', 7284: '▁콤비', 7285: '▁이순신', 7286: '▁틀림없', 7287: '▁챙겨보', 7288: '▁온몸', 7289: '▁잔잔하니', 7290: '▁경쾌', 7291: '▁꺼버렸다', 7292: '▁용가리', 7293: '▁광팬', 7294: '▁감동적이었습니다', 7295: 'XX', 7296: '▁때우기', 7297: '▁열광', 7298: '▁재방송', 7299: '▁장혁', 7300: '▁아무튼', 7301: '▁지겨운', 7302: '▁쉬운', 7303: '▁제정신', 7304: '▁be', 7305: '▁어쩌라고', 7306: '▁2004', 7307: '▁혼란', 7308: '▁출발', 7309: '▁어쩌라는', 7310: '▁wa', 7311: '▁도통', 7312: '▁도중에', 7313: '▁기억될', 7314: '지말라', 7315: '이건뭐', 7316: '▁볼게없', 7317: '영화자체는', 7318: '질질끄', 7319: '▁커버', 7320: '영화관에서', 7321: '본것중', 7322: '씹', 7323: '캬', 7324: '느와르', 7325: '그나마', 7326: '댓글', 7327: '궁금', 7328: '유쾌', 7329: '뻐', 7330: '장르를', 7331: '▁기분좋은', 7332: '낌', 7333: '쏠', 7334: '쩍', 7335: '·', 7336: '▁MBC', 7337: '잎', 7338: '▁미야자키', 7339: '▁원맨쇼', 7340: '▁유치뽕짝', 7341: '▁잃어버린', 7342: '▁임권택', 7343: '됌', 7344: '▁컨셉', 7345: '▁송지효', 7346: '▁스타일리쉬', 7347: '켈', 7348: '▁팍팍', 7349: '▁한예슬', 7350: '▁충무로', 7351: '위원회', 7352: '▁떨어뜨', 7353: '▁뛰쳐', 7354: '▁닥터', 7355: '▁이정재', 7356: '▁스킵', 7357: '▁가까이', 7358: '▁황홀', 7359: '▁증명', 7360: '▁압도적', 7361: '선생님', 7362: '▁질질끌', 7363: '@@', 7364: '▁갖춘', 7365: '▁악몽', 7366: '▁억지스럽고', 7367: '▁과장된', 7368: '▁스릴있고', 7369: 'ᄉᄉ', 7370: '▁바랬', 7371: '▁휴먼', 7372: '▁빨간', 7373: '▁따분하', 7374: '▁추락', 7375: '별한개', 7376: '버젼', 7377: '▁중학교때', 7378: '흐흐', 7379: '▁어린아이', 7380: '힘들었', 7381: '팬이라', 7382: '▁걸렸', 7383: '페이지', 7384: '▁질리지않', 7385: '깍', 7386: '넌', 7387: '꽤', 7388: '뿔', 7389: '끗', 7390: 'ᆞ', 7391: '탠', 7392: 'ᅭ', 7393: '갇', 7394: '샌', 7395: '쏙', 7396: '엣', 7397: '됴', 7398: '멕', 7399: '얌', 7400: '펀', 7401: '빅', 7402: '낙', 7403: '잭', 7404: '섯', 7405: '즌', 7406: '믹', 7407: '댓', 7408: '펑', 7409: '뎌', 7410: '맷', 7411: '욜', 7412: '젬', 7413: '쬐', 7414: '펄', 7415: 'ᄑ', 7416: '쌓', 7417: '쑤', 7418: '찜', 7419: '톨', 7420: '픔', 7421: '깜', 7422: '긍', 7423: '。', 7424: '껍', 7425: '듀', 7426: '슐', 7427: '넷', 7428: '륙', 7429: '뀌', 7430: '꿔', 7431: '셉', 7432: '뉘', 7433: '곁', 7434: '녁', 7435: '럿', 7436: '즉', 7437: '쨩', 7438: '툰', 7439: '꼇', 7440: '댕', 7441: '둬', 7442: '륵', 7443: '뻘', 7444: '쿄', 7445: '흙', 7446: '밸', 7447: '뜩', 7448: '퉁', 7449: '겸', 7450: '꾹', 7451: '댈', 7452: '벙', 7453: '쌩', 7454: '썅', 7455: '쫙', 7456: '찝', 7457: '칩', 7458: '햄', 7459: '딕', 7460: '샷', 7461: '욧', 7462: 'W', 7463: '甲', 7464: '캅', 7465: '넋', 7466: '돕', 7467: '뒀', 7468: '쌈', 7469: '귓', 7470: '띵', 7471: '샹', 7472: '숫', 7473: '펴', 7474: '칫', 7475: '닙', 7476: '쪄', 7477: '乃', 7478: '췌', 7479: '콕', 7480: '텀', 7481: '핏', 7482: '릉', 7483: '묶', 7484: '짠', 7485: '률', 7486: '죤', 7487: '톡', 7488: '無', 7489: '뇨', 7490: '떳', 7491: '룹', 7492: '셜', 7493: '셰', 7494: '쌀', 7495: '엎', 7496: '젓', 7497: '핡', 7498: '쌔', 7499: '엥', 7500: '훨', 7501: '웬', 7502: '뭥', 7503: '쌤', 7504: '쵸', 7505: '헷', 7506: '힝', 7507: '꺅', 7508: '앳', 7509: '웁', 7510: '괘', 7511: '꼼', 7512: 'ᅣ', 7513: '찢', 7514: '맙', 7515: '○', 7516: '갤', 7517: '굵', 7518: '냅', 7519: '뤽', 7520: '솟', 7521: '쑈', 7522: '얕', 7523: '쟝', 7524: '홉', 7525: '꾀', 7526: '햐', 7527: '겜', 7528: '꽂', 7529: '붐', 7530: '셸', 7531: '갸', 7532: '놉', 7533: '뷁', 7534: '싯', 7535: '쪙', 7536: '킷', 7537: '팡', 7538: '깽', 7539: '눠', 7540: '퍽', 7541: '쌍', 7542: '둠', 7543: '텝', 7544: 'Q', 7545: '\\\\', 7546: '♬', 7547: '굼', 7548: '됀', 7549: '뺀', 7550: '뺐', 7551: '섰', 7552: '썽', 7553: '좁', 7554: '짚', 7555: '쳇', 7556: '촉', 7557: 'ᅧ', 7558: '돠', 7559: '냉', 7560: '끊', 7561: '뎈', 7562: '욯', 7563: '쨔', 7564: '롬', 7565: '밭', 7566: '웡', 7567: '윗', 7568: '윙', 7569: '짖', 7570: '짭', 7571: '킁', 7572: '딧', 7573: '읎', 7574: '탔', 7575: '휼', 7576: '볍', 7577: '뱃', 7578: '겅', 7579: '낱', 7580: '→', 7581: '늠', 7582: '덥', 7583: '뿅', 7584: '짬', 7585: '쳣', 7586: '괸', 7587: '뜰', 7588: '붓', 7589: '곸', 7590: '몹', 7591: '뽑', 7592: '[', 7593: '늑', 7594: '뭇', 7595: '$', 7596: '얔', 7597: '밈', 7598: '꺾', 7599: '넴', 7600: '빔', 7601: '빽', 7602: '씌', 7603: '얍', 7604: '퀼', 7605: '퉷', 7606: '댜', 7607: '슥', 7608: '푹', 7609: '헛', 7610: '걱', 7611: '첼', 7612: '퀘', 7613: '뛴', 7614: '샴', 7615: '욘', 7616: '큭', 7617: '’', 7618: '딥', 7619: '씽', 7620: '잰', 7621: '칵', 7622: '쿤', 7623: '쩐', 7624: '쨌', 7625: '힙', 7626: '헿', 7627: '뇬', 7628: '잴', 7629: '쫑', 7630: '횡', 7631: '눅', 7632: '룻', 7633: '좃', 7634: '텨', 7635: '풉', 7636: '훅', 7637: '겔', 7638: '촬', 7639: '붉', 7640: '쒸', 7641: '웹', 7642: '|', 7643: '핥', 7644: 'ᆪ', 7645: '“', 7646: '”', 7647: '떴', 7648: '멧', 7649: '뭍', 7650: '쏜', 7651: '욥', 7652: '챔', 7653: '퐁', 7654: '훤', 7655: '맬', 7656: '쒯', 7657: '끽', 7658: '잌', 7659: '곧', 7660: '첸', 7661: '곀', 7662: '꼐', 7663: '댔', 7664: '뵈', 7665: '뻗', 7666: '뿡', 7667: '숴', 7668: '툴', 7669: '팟', 7670: '♪', 7671: '꽈', 7672: '믓', 7673: '빰', 7674: '졷', 7675: '캣', 7676: '쿼', 7677: '팜', 7678: '융', 7679: '컹', 7680: '폄', 7681: '넝', 7682: '읭', 7683: '女', 7684: '뀨', 7685: '넉', 7686: '됏', 7687: '팰', 7688: '걔', 7689: '넥', 7690: '닛', 7691: '뿍', 7692: '웽', 7693: 'ᄈ', 7694: '死', 7695: '냠', 7696: '썹', 7697: '죵', 7698: '쨰', 7699: '콱', 7700: '쾅', 7701: '텍', 7702: '흣', 7703: '꿰', 7704: 'ᄡ', 7705: '밓', 7706: '짘', 7707: '찼', 7708: '뒈', 7709: '뤠', 7710: '멱', 7711: '作', 7712: '굽', 7713: '냔', 7714: '돔', 7715: '랖', 7716: '먀', 7717: '앰', 7718: '촤', 7719: '컸', 7720: '땜', 7721: '캉', 7722: '퀀', 7723: '꿍', 7724: '넛', 7725: '뤼', 7726: '벳', 7727: '샵', 7728: '왁', 7729: '졉', 7730: '찟', 7731: '챦', 7732: '펭', 7733: '}', 7734: '↑', 7735: '⌒', 7736: '盧', 7737: '넨', 7738: '볶', 7739: '뵙', 7740: '떵', 7741: '촐', 7742: '롸', 7743: '뽐', 7744: '뒷', 7745: '흫', 7746: '쿰', 7747: '혓', 7748: '갚', 7749: '렜', 7750: '륨', 7751: '뭄', 7752: '뮈', 7753: '샛', 7754: '옌', 7755: '캄', 7756: '컵', 7757: '햅', 7758: '휙', 7759: '{', 7760: '깅', 7761: '깟', 7762: '꺠', 7763: '놧', 7764: '뎃', 7765: '벵', 7766: '숑', 7767: '앟', 7768: '햏', 7769: '낍', 7770: '띨', 7771: '섀', 7772: '챈', 7773: '챠', 7774: '랗', 7775: '갘', 7776: '멌', 7777: '렙', 7778: '떙', 7779: '샨', 7780: '☞', 7781: '귯', 7782: '됄', 7783: '뒹', 7784: '딛', 7785: '셍', 7786: '숱', 7787: '쉿', 7788: '쎼', 7789: '읏', 7790: '잏', 7791: '졍', 7792: '쨉', 7793: '쭝', 7794: '킈', 7795: '팥', 7796: 'ᄄ', 7797: '有', 7798: '궤', 7799: '댁', 7800: '쎈', 7801: '쥴', 7802: '찹', 7803: '갉', 7804: '옄', 7805: '옼', 7806: '쫘', 7807: '굶', 7808: '뫼', 7809: '챘', 7810: '、', 7811: '옛', 7812: '겉', 7813: '킵', 7814: '봅', 7815: '컥', 7816: '랔', 7817: '끅', 7818: '뇽', 7819: '둣', 7820: '븅', 7821: '뺑', 7822: '윅', 7823: '쥰', 7824: '갯', 7825: '끙', 7826: '늪', 7827: '돗', 7828: '땃', 7829: '떔', 7830: '룽', 7831: '맄', 7832: '숏', 7833: '얗', 7834: '쩖', 7835: '쯩', 7836: '켁', 7837: '─', 7838: '갬', 7839: '好', 7840: '잦', 7841: '읔', 7842: 'し', 7843: 'ン', 7844: '슷', 7845: '킼', 7846: '퀵', 7847: '츈', 7848: '챤', 7849: '좇', 7850: '믈', 7851: '몆', 7852: '롹', 7853: '떽', 7854: '뉜', 7855: '꿇', 7856: '꼰', 7857: '껌', 7858: '텼', 7859: '촛', 7860: '쫀', 7861: '욀', 7862: '왘', 7863: '옅', 7864: '엊', 7865: '썪', 7866: '쌌', 7867: '쌉', 7868: '쉼', 7869: '숟', 7870: '냨', 7871: '故', 7872: '헥', 7873: '짴', 7874: '빴', 7875: '괭', 7876: '홥', 7877: '죨', 7878: '딪', 7879: '덱', 7880: '횟', 7881: '햌', 7882: '쮸', 7883: '줏', 7884: '앍', 7885: '뀜', 7886: '깼', 7887: '̄', 7888: '훑', 7889: '큽', 7890: '콥', 7891: '땟', 7892: '닠', 7893: '뀔', 7894: '휠', 7895: '츤', 7896: '쟤', 7897: '샐', 7898: '‘', 7899: '춥', 7900: '촘', 7901: '쁩', 7902: '뤘', 7903: '휩', 7904: '헠', 7905: '좔', 7906: '쁠', 7907: '뚤', 7908: '땔', 7909: '큘', 7910: '멎', 7911: '낰', 7912: '껑', 7913: '꺽', 7914: '긁', 7915: '헴', 7916: '쥔', 7917: '괞', 7918: '옜', 7919: '릎', 7920: '꿉', 7921: '픕', 7922: '얹', 7923: '쉘', 7924: '벡', 7925: '뮬', 7926: '꿋', 7927: '꽥', 7928: '낡', 7929: '핍', 7930: '탭', 7931: '쥑', 7932: '슌', 7933: '씻', 7934: '뺴', 7935: '녔', 7936: '깬', 7937: '펏', 7938: '켠', 7939: '얽', 7940: '쨋', 7941: '왼', 7942: '뱉', 7943: '뀐', 7944: '닳', 7945: '쫒', 7946: '뺨', 7947: '딨', 7948: '밟', 7949: '넓', 7950: '탤', 7951: '뭡', 7952: '앓', 7953: '샬', 7954: '샀', 7955: '쫓', 7956: '땠', 7957: '멤', 7958: '뤄', 7959: '썸', 7960: '푼', 7961: '쭈', 7962: '홧', 7963: '웍', 7964: '귄', 7965: '핸', 7966: '빕', 7967: '틋', 7968: '쫄', 7969: '웟', 7970: '팠', 7971: '펼', 7972: '낯', 7973: '얄', 7974: '콧', 7975: '쏟', 7976: '틸', 7977: '듭', 7978: '맡', 7979: '펙', 7980: '껐', 7981: '섞', 7982: '뻤', 7983: '왤', 7984: '튀', 7985: '퓨', 7986: '녹', 7987: '낳', 7988: '펐', 7989: '됩', 7990: '쁨', 7991: '씁', 7992: '굉', 7993: '쳤', 7994: '똑', 7995: '줬', 7996: '겼', 7997: '랐', 7998: '떻', 7999: '깊'}\n",
      "{'<unk>': 0, '<s>': 1, '</s>': 2, '▁': 3, '.': 4, '..': 5, '▁영화': 6, '이': 7, '...': 8, '가': 9, '의': 10, '도': 11, '는': 12, ',': 13, '을': 14, '다': 15, '에': 16, '은': 17, '?': 18, '지': 19, '고': 20, '!': 21, '한': 22, '▁너무': 23, '▁정말': 24, '만': 25, '를': 26, '~': 27, '▁이': 28, '로': 29, '▁진짜': 30, '영화': 31, '나': 32, '게': 33, '어': 34, '기': 35, '과': 36, '점': 37, '네': 38, '리': 39, '라': 40, '아': 41, '인': 42, '!!': 43, '....': 44, '요': 45, '하고': 46, '▁1': 47, '▁아': 48, '▁왜': 49, '▁잘': 50, '으로': 51, '▁안': 52, '▁이런': 53, '들': 54, '서': 55, '와': 56, '▁더': 57, '에서': 58, '▁그': 59, '자': 60, '해': 61, '스': 62, '▁수': 63, '▁다': 64, '▁그냥': 65, '네요': 66, '거': 67, '▁10': 68, '음': 69, '▁본': 70, '▁드라마': 71, '하는': 72, '▁평점': 73, '수': 74, '하': 75, '함': 76, '야': 77, '니': 78, '시': 79, '면': 80, '▁보고': 81, '하다': 82, '▁최고': 83, '▁ᄏᄏ': 84, '▁최고의': 85, '▁연기': 86, '이다': 87, '대': 88, '▁이거': 89, '▁내': 90, '사': 91, '지만': 92, '▁완전': 93, '▁쓰레기': 94, '▁좀': 95, '여': 96, '▁봤는데': 97, '미': 98, '▁한': 99, '진': 100, '▁없다': 101, '하게': 102, '보다': 103, '▁참': 104, 'ᄏᄏ': 105, '우': 106, '!!!': 107, '▁영화를': 108, '임': 109, '주': 110, '▁없는': 111, '냐': 112, '▁이건': 113, '드': 114, '보': 115, '▁이게': 116, '데': 117, '일': 118, '▁못': 119, '▁내가': 120, '▁2': 121, '^^': 122, '안': 123, '▁개': 124, '▁나': 125, '할': 126, '▁스토리': 127, '▁난': 128, '구': 129, '▁영화는': 130, '▁좋은': 131, '듯': 132, '성': 133, 'ᄏ': 134, '▁영화가': 135, '상': 136, '~~': 137, '정': 138, '▁다시': 139, '는데': 140, '▁평점이': 141, '던': 142, '▁이렇게': 143, '장': 144, '▁역시': 145, '▁3': 146, '▁보는': 147, '마': 148, '▁있는': 149, '적': 150, '려': 151, '까지': 152, '들이': 153, '중': 154, '트': 155, '치': 156, '▁재밌게': 157, '신': 158, '▁넘': 159, '▁재미': 160, '러': 161, '부': 162, ';;': 163, '보고': 164, '해서': 165, '질': 166, '히': 167, '전': 168, '개': 169, '▁말': 170, '1': 171, '오': 172, '▁감동': 173, '▁뭐': 174, '▁보': 175, '▁별로': 176, '▁작품': 177, '화': 178, '분': 179, '??': 180, '건': 181, '랑': 182, '때': 183, '▁볼': 184, '용': 185, '2': 186, '▁것': 187, '▁많이': 188, '세': 189, '▁ᄏᄏᄏ': 190, '▁전': 191, '원': 192, '▁하': 193, '▁아깝다': 194, '물': 195, '▁별': 196, '년': 197, '▁오': 198, '▁꼭': 199, '했다': 200, '▁지': 201, '내': 202, '비': 203, '진짜': 204, '소': 205, '▁감독': 206, '▁마지막': 207, 'ᅲᅲ': 208, '인데': 209, '그': 210, '▁명작': 211, '▁또': 212, '감': 213, '▁저': 214, '▁무': 215, ';': 216, '▁액션': 217, '▁하나': 218, '▁이야기': 219, '것': 220, 'ᄏᄏᄏ': 221, '▁시간': 222, '적인': 223, '▁ᄏ': 224, '▁기대': 225, '급': 226, '▁짱': 227, '▁ᅲᅲ': 228, '본': 229, '▁주': 230, '무': 231, '하지': 232, '▁가장': 233, '어요': 234, '습니다': 235, '디': 236, '편': 237, '▁김': 238, '영': 239, '같은': 240, '▁ᅳᅳ': 241, '▁사랑': 242, '줄': 243, '▁만든': 244, '식': 245, '▁중': 246, \"'\": 247, '너무': 248, '입니다': 249, '말': 250, '더': 251, '남': 252, '제': 253, '군': 254, '▁하는': 255, '▁생각': 256, '없는': 257, '▁좋다': 258, '▁지금': 259, '▁보면': 260, '▁무슨': 261, '▁말이': 262, '긴': 263, '좀': 264, '라고': 265, '당': 266, 'ᅲ': 267, '▁한국': 268, '▁없고': 269, '드라마': 270, '호': 271, '선': 272, '▁재밌다': 273, '란': 274, '르': 275, '동': 276, '▁사': 277, '▁미': 278, '조': 279, '▁고': 280, '작': 281, '▁아니': 282, '▁유': 283, '▁와': 284, '바': 285, '▁좋아': 286, '부터': 287, '▁할': 288, '크': 289, '▁대': 290, '걸': 291, '▁정': 292, '▁어': 293, '▁일': 294, '3': 295, '▁처음': 296, '린': 297, '정말': 298, '▁일본': 299, '된': 300, '타': 301, '▁비': 302, '두': 303, '유': 304, '▁배우': 305, ')': 306, '▁조': 307, '에게': 308, ',,': 309, '▁ᄒᄒ': 310, '울': 311, '▁그리고': 312, '심': 313, '씨': 314, '▁마': 315, '래': 316, '▁다른': 317, 'ᅳᅳ': 318, '연': 319, '▁내용': 320, '모': 321, '▁영화다': 322, '▁봤다': 323, '▁코미디': 324, '▁알': 325, '있는': 326, '▁느낌': 327, '▁끝까지': 328, '운': 329, '위': 330, '▁재미있게': 331, '노': 332, '▁최악': 333, '이나': 334, '레': 335, '▁재미없다': 336, '난': 337, '▁거': 338, '한다': 339, '준': 340, '죠': 341, '연기': 342, '▁자': 343, '루': 344, '▁돈': 345, '▁연출': 346, '▁대박': 347, '명': 348, '류': 349, '▁두': 350, '▁봐도': 351, '으면': 352, '었다': 353, '▁이걸': 354, '▁솔직히': 355, '판': 356, '▁최악의': 357, '▁굿': 358, '▁있다': 359, '저': 360, '▁때': 361, '▁구': 362, '▁아주': 363, '프': 364, '▁제': 365, '길': 366, '워': 367, '▁시': 368, '▁같은': 369, '▁반': 370, '잘': 371, '으': 372, '합니다': 373, '▁뭔가': 374, '-': 375, '살': 376, '간': 377, '▁기': 378, '때문에': 379, '▁모': 380, '▁우': 381, '▁여자': 382, '▁이영화': 383, '들의': 384, '경': 385, '라는': 386, '봤는데': 387, '▁모두': 388, '티': 389, '하나': 390, '생': 391, '없다': 392, '했던': 393, '▁신': 394, '▁해': 395, '발': 396, '실': 397, \"▁'\": 398, '단': 399, '▁후': 400, '점도': 401, '▁내용이': 402, '애': 403, '인가': 404, '▁한번': 405, '희': 406, '하네': 407, '▁추천': 408, '번': 409, '든': 410, '되는': 411, '▁스': 412, '님': 413, '날': 414, '짱': 415, '즈': 416, 'ᄒᄒ': 417, '▁남': 418, '~~~': 419, '▁4': 420, '▁애': 421, '▁전혀': 422, '▁0': 423, '▁부': 424, '재': 425, '▁공포': 426, '▁사람': 427, '박': 428, '▁하지만': 429, '▁그래도': 430, '국': 431, '▁아니다': 432, '피': 433, '볼': 434, '▁아름다운': 435, '구나': 436, '♥': 437, '하지만': 438, '▁딱': 439, '형': 440, '!!!!': 441, '▁소': 442, '▁대한': 443, '시간': 444, '되': 445, '민': 446, '▁줄': 447, '▁보기': 448, '엔': 449, '림': 450, '반': 451, '▁배우들': 452, '파': 453, '▁실망': 454, '▁7': 455, '(': 456, '▁만들어': 457, '하면': 458, '따': 459, '▁재밌어요': 460, '▁5': 461, '▁끝': 462, '▁계속': 463, '방': 464, 'ᅳ': 465, '인지': 466, '10': 467, '겠다': 468, '관': 469, 'ᄒ': 470, '▁전개': 471, '▁우리': 472, '▁봤': 473, '▁같다': 474, '터': 475, '▁스릴러': 476, '처럼': 477, '겨': 478, '점이': 479, '▁만드는': 480, '▁이제': 481, '지는': 482, '▁장': 483, '▁8': 484, '▁인생': 485, '이랑': 486, '▁제일': 487, '카': 488, '까': 489, '면서': 490, '▁보다': 491, '없이': 492, '▁내내': 493, '▁많은': 494, '▁9': 495, '다니': 496, '▁이상': 497, '▁아닌': 498, '등': 499, '▁보다가': 500, '달': 501, '▁연기가': 502, '▁되': 503, '생각': 504, '공': 505, '▁어떻게': 506, '문': 507, '차': 508, '5': 509, '▁이해': 510, '▁나오는': 511, '들은': 512, '▁박': 513, '▁아까운': 514, '▁재미도': 515, '▁OO': 516, '▁나는': 517, '▁공': 518, '▁아니라': 519, '▁조금': 520, '▁반전': 521, '▁않고': 522, '키': 523, '▁않는': 524, '년대': 525, '▁현실': 526, '▁ᄏᄏᄏᄏ': 527, '하네요': 528, '▁최고다': 529, '이라': 530, '▁않은': 531, ';;;': 532, '▁싶다': 533, '▁강': 534, '▁재밌': 535, '▁시간이': 536, '▁건': 537, '왜': 538, '▁아직도': 539, '▁음악': 540, '▁듯': 541, '▁여운이': 542, '▁내용도': 543, '▁배': 544, '▁엄청': 545, 'd': 546, '▁속': 547, '~!': 548, '지도': 549, '현': 550, '며': 551, '▁장면': 552, '망': 553, '토': 554, '▁수준': 555, '▁인': 556, '▁남는': 557, '▁재': 558, '▁연기도': 559, '못': 560, '▁애니': 561, '▁감독이': 562, '▁오랜만에': 563, '▁모든': 564, '▁영화라고': 565, '스토리': 566, '후': 567, '뿐': 568, 'ᅮᅮ': 569, '▁결말': 570, '녀': 571, '▁뻔한': 572, '▁^^': 573, 'o': 574, '코': 575, '▁주인공': 576, '▁요즘': 577, '보는': 578, '▁나름': 579, '▁기억': 580, '▁절대': 581, '4': 582, '▁피': 583, '▁불': 584, '재밌': 585, '▁바': 586, '▁근데': 587, '져': 588, '▁공포영화': 589, '▁눈': 590, '???': 591, '▁가족': 592, '속': 593, '▁노': 594, '▁연기력': 595, '태': 596, '▁욕': 597, '쳐': 598, '체': 599, '넘': 600, '▁남자': 601, '점은': 602, '▁걍': 603, '▁지루한': 604, '\"': 605, '보면': 606, '석': 607, '▁날': 608, '▁울': 609, 'ᄏᄏᄏᄏ': 610, '▁나도': 611, '▁ᅲ': 612, '배': 613, '▁성': 614, '▁좋고': 615, '것도': 616, '참': 617, '▁OOO': 618, 't': 619, '않': 620, '▁봤습니다': 621, '론': 622, '▁개봉': 623, '최고': 624, '▁영화입니다': 625, '▁한국영화': 626, '감동': 627, '이란': 628, '다가': 629, '▁때문에': 630, '인듯': 631, '▁원': 632, '▁제목': 633, '정도': 634, '▁진심': 635, '▁B': 636, '구만': 637, 'e': 638, '▁멋진': 639, '니까': 640, '▁없': 641, '역': 642, '▁좋았다': 643, '▁졸작': 644, '▁재밌는': 645, '▁지루하고': 646, '▁봤던': 647, '어서': 648, '극': 649, '▁시리즈': 650, '▁스토리가': 651, '죽': 652, '산': 653, '▁수작': 654, '▁막장': 655, '7': 656, '▁미국': 657, '한테': 658, '꺼': 659, '▁만들': 660, '▁초': 661, '▁그런': 662, '▁쓰': 663, '▁허': 664, '▁차라리': 665, '▁지루함': 666, '좋': 667, '해요': 668, '▁여': 669, '6': 670, '▁파': 671, '▁주는': 672, ',,,': 673, '/': 674, '움': 675, '없': 676, '▁제대로': 677, '▁가슴': 678, '포': 679, '8': 680, '평점': 681, '▁되는': 682, '금': 683, '▁재미가': 684, '▁심': 685, '매': 686, '했는데': 687, '▁강추': 688, '잼': 689, '던데': 690, '▁괜찮은': 691, '버': 692, '▁싶은': 693, '▁도대체': 694, '▁보세요': 695, '▁눈물': 696, '▁없음': 697, '였다': 698, '▁재밌음': 699, '▁몇': 700, '하기': 701, '▁지루하다': 702, '절': 703, '▁있': 704, '▁원작': 705, '▁진': 706, '더라': 707, '▁뭘': 708, '이라는': 709, '봄': 710, '▁감독의': 711, '봤다': 712, '▁머': 713, '▁영': 714, '▁걸': 715, '회': 716, '▁좋아요': 717, '▁나오': 718, '▁우리나라': 719, '봐': 720, '▁서': 721, '▁소재': 722, '▁알바': 723, '▁긴장감': 724, '격': 725, '▁20': 726, '▁공감': 727, '▁나온': 728, '▁발': 729, '▁죽': 730, '▁기분': 731, '▁봤어요': 732, '악': 733, '▁스토리도': 734, '▁기억에': 735, '▁좋아하는': 736, '▁않': 737, '▁후회': 738, '알': 739, '▁졸': 740, '▁영화의': 741, '려고': 742, '먹': 743, '▁아니고': 744, '▁예': 745, '배우': 746, '스트': 747, '예': 748, '이고': 749, '▁시작': 750, '이네': 751, '잡': 752, '사랑': 753, '집': 754, '▁그저': 755, '니다': 756, '는게': 757, '▁6': 758, '▁세': 759, '▁뭔': 760, '▁시나리오': 761, '▁정도': 762, '근': 763, '▁인간': 764, '▁매': 765, '▁맞': 766, '▁동': 767, '그냥': 768, '▁보면서': 769, '▁영상': 770, '탄': 771, '▁망': 772, '▁ᄒ': 773, '이야': 774, '학': 775, '난다': 776, '적으로': 777, '▁마지막에': 778, '▁억지': 779, '▁잼': 780, '▁보는내내': 781, '해도': 782, '재미': 783, '▁웃': 784, '직': 785, '강': 786, '업': 787, '▁극장에서': 788, '밖에': 789, '▁연': 790, '감독': 791, '불': 792, '사람': 793, '종': 794, '점대': 795, '작품': 796, '건지': 797, '있다': 798, '▁될': 799, 'ᅮ': 800, '리는': 801, 'a': 802, '▁코믹': 803, '▁함께': 804, '▁애니메이션': 805, '▁ᅮᅮ': 806, '대로': 807, '▁표현': 808, '는거': 809, '주는': 810, '▁존나': 811, '력': 812, '투': 813, '릴': 814, '▁캐릭터': 815, '천': 816, 's': 817, '머': 818, '▁하고': 819, '▁만화': 820, '었는데': 821, '▁대사': 822, '케': 823, '이런': 824, '창': 825, '중에': 826, '양': 827, '뭐': 828, '행': 829, '테': 830, '▁\"': 831, '▁행복': 832, '▁봐야': 833, '라도': 834, '봤': 835, '버린': 836, '▁잠': 837, '이라고': 838, '맨': 839, '▁배우들의': 840, '능': 841, '▁모르겠다': 842, '승': 843, '▁생': 844, '었던': 845, '▁막': 846, '설': 847, '교': 848, '았': 849, '▁영화에': 850, '▁걸작': 851, '▁제발': 852, '▁이해가': 853, '▁못한': 854, '김': 855, '▁캐스팅': 856, '▁필요': 857, '▁살': 858, '액션': 859, '슨': 860, '돈': 861, '증': 862, '▁노래': 863, '글': 864, '장면': 865, '▁오늘': 866, '▁호': 867, '만큼': 868, '▁된': 869, '봐도': 870, '▁좋': 871, '▁지루': 872, '+': 873, '▁더빙': 874, '환': 875, '▁토': 876, '▁큰': 877, '▁선': 878, '▁사실': 879, '▁재미없음': 880, 'i': 881, '군요': 882, '이상': 883, '▁예술': 884, '짐': 885, '▁재미있다': 886, '너': 887, '▁별점': 888, '보단': 889, '▁감': 890, '씬': 891, '▁정신': 892, '름': 893, '▁매우': 894, '했': 895, '열': 896, '레이': 897, '▁최': 898, '계': 899, '락': 900, '▁베': 901, '싶': 902, '▁유치': 903, '▁그만': 904, '▁영화로': 905, '▁감동이': 906, 'g': 907, '▁어설픈': 908, '했음': 909, '▁쓰레기영화': 910, '▁성룡': 911, '▁사람들': 912, '▁결국': 913, '끼': 914, '▁잔잔한': 915, '된다': 916, '쓰레기': 917, '통': 918, '완전': 919, '▁아이': 920, '▁감동적인': 921, '▁노잼': 922, '▁않다': 923, '▁있었': 924, '▁어떤': 925, '▁개인적으로': 926, '▁차': 927, '▁미친': 928, '▁웃기': 929, '▁들': 930, '▁영화네요': 931, '▁재밌고': 932, '평': 933, '▁타': 934, '▁꽤': 935, '▁가슴이': 936, '▁-': 937, '법': 938, '갈': 939, '▁영화중': 940, '▁몰입도': 941, '▁안되는': 942, '▁매력': 943, '이지만': 944, '권': 945, '▁마음이': 946, '▁분위기': 947, '▁화': 948, '영화는': 949, '돌': 950, '는지': 951, '을까': 952, '▁치': 953, '맞': 954, '담': 955, '별': 956, '▁뭐야': 957, '▁눈물이': 958, '▁똥': 959, '▁없이': 960, '▁간만에': 961, '이네요': 962, '쓰': 963, '▁기억이': 964, '▁재미있는': 965, '▁아무리': 966, '들을': 967, '거야': 968, '▁보지': 969, '▁위한': 970, '▁결말이': 971, '▁볼만': 972, '점을': 973, '▁상': 974, '▁너무나': 975, '기는': 976, '▁극': 977, '▁않는다': 978, '아니': 979, '수가': 980, '좋아': 981, '▁웃음': 982, '만들': 983, '▁길': 984, '▁연기는': 985, '▁명': 986, '▁준': 987, '기도': 988, '▁재미있어요': 989, '▁없었다': 990, '▁단': 991, '인줄': 992, '었': 993, '었음': 994, '▁당': 995, '▁생각보다': 996, '블': 997, '슬': 998, '색': 999, '하면서': 1000, '훈': 1001, '▁재미없': 1002, '▁허접': 1003, '느': 1004, '▁재밌네요': 1005, '른': 1006, '▁평': 1007, '▁특히': 1008, '▁너': 1009, '빠': 1010, '9': 1011, '또': 1012, '▁야': 1013, '▁내용은': 1014, '▁없어': 1015, '▁음': 1016, '▁마음': 1017, '에도': 1018, '병': 1019, '▁대체': 1020, '나요': 1021, '온': 1022, '왕': 1023, '>': 1024, '▁총': 1025, '▁있고': 1026, '▁엔딩': 1027, '▁볼만한': 1028, '순': 1029, '짜': 1030, '▁아쉽다': 1031, '▁애들': 1032, '이지': 1033, '내용': 1034, '이거': 1035, '▁잼있': 1036, '초': 1037, '▁누가': 1038, '▁따라': 1039, '침': 1040, '▁재밋': 1041, '▁갈수록': 1042, '땜에': 1043, '할수': 1044, '향': 1045, '▁자체': 1046, '이었다': 1047, '▁스릴': 1048, '▁경': 1049, '브': 1050, '▁설정': 1051, '▁백': 1052, '▁중국': 1053, '▁나왔': 1054, '▁꿀잼': 1055, '▁점수': 1056, '플': 1057, '▁천': 1058, '▁밖에': 1059, '뻔': 1060, '▁시즌': 1061, '칠': 1062, '앗': 1063, '▁훨씬': 1064, '▁출연': 1065, '▁구성': 1066, '주의': 1067, 'y': 1068, '▁로맨스': 1069, '▁하나도': 1070, 'h': 1071, '▁재미없는': 1072, '진다': 1073, '▁재미는': 1074, '년이': 1075, '▁생각이': 1076, '▁영화관에서': 1077, '▁영상미': 1078, '언': 1079, '나는': 1080, '-_-': 1081, '결': 1082, '~!!': 1083, '▁카': 1084, 'ᄋ': 1085, '존': 1086, '건가': 1087, '출': 1088, '▁올': 1089, '겠': 1090, '▁같이': 1091, '▁감동도': 1092, '▁싶': 1093, '새': 1094, '었어요': 1095, '기를': 1096, '▁먹': 1097, '났': 1098, '▁다큐': 1099, '리고': 1100, '▁문제': 1101, '입': 1102, '▁보게': 1103, '였': 1104, '▁진정한': 1105, '거지': 1106, '완': 1107, '라면': 1108, '▁사람이': 1109, '▁발연기': 1110, '했지만': 1111, '▁적': 1112, '▁찍': 1113, '막': 1114, '▁한다': 1115, '▁그나마': 1116, '짓': 1117, '▁약': 1118, '▁장난': 1119, '올': 1120, '추': 1121, '▁좋은데': 1122, '▁ᅳ': 1123, '▁그래서': 1124, '▁잡': 1125, '편이': 1126, '느낌': 1127, '0': 1128, '▁힘': 1129, '▁첨': 1130, '▁당시': 1131, '수준': 1132, '▁물': 1133, '외': 1134, '▁얼마나': 1135, '▁몰': 1136, '▁관객': 1137, '약': 1138, '▁의미': 1139, '▁그렇게': 1140, '범': 1141, '됨': 1142, '▁찾아': 1143, '친': 1144, '▁느낌이': 1145, '각': 1146, '잇': 1147, '먼': 1148, '▁약간': 1149, '▁주연': 1150, '재미있': 1151, 'D': 1152, '▁이런영화': 1153, '▁오래': 1154, '소리': 1155, '▁전쟁': 1156, '♡': 1157, '▁맘에': 1158, '았다': 1159, '슴': 1160, '백': 1161, '린다': 1162, '▁뿐': 1163, '이야기': 1164, '▁실': 1165, '_': 1166, '여자': 1167, '▁같': 1168, '복': 1169, '▁드': 1170, '▁안되': 1171, '▁배경': 1172, '기에': 1173, '술': 1174, '▁아무': 1175, '▁많': 1176, '욕': 1177, '▁뭐지': 1178, '▁외': 1179, '▁영화였다': 1180, '보니': 1181, '▁역': 1182, '하며': 1183, '▁멜로': 1184, '▁존': 1185, '이건': 1186, '덕': 1187, '찍': 1188, '▁어느': 1189, '다고': 1190, '▁간': 1191, '▁것이': 1192, '웃': 1193, '▁알고': 1194, '기대': 1195, '별로': 1196, '있': 1197, '▁들어': 1198, '베': 1199, '▁친구': 1200, '▁준다': 1201, '될': 1202, '▁봐': 1203, '처': 1204, '▁포스터': 1205, '합': 1206, '기만': 1207, '치고': 1208, 'k': 1209, '렸': 1210, '대박': 1211, '▁30': 1212, '▁보여주는': 1213, '▁위': 1214, '▁입': 1215, '▁위해': 1216, '▁생각하게': 1217, '더니': 1218, '최악': 1219, '▁메': 1220, '▁재밌는데': 1221, '허': 1222, '해라': 1223, '없음': 1224, '해야': 1225, '해지는': 1226, '빈': 1227, '▁살아': 1228, '라서': 1229, '▁분': 1230, '▁같아요': 1231, '▁전부': 1232, '였음': 1233, '▁네이버': 1234, '▁비디오': 1235, '듯한': 1236, '▁좋은영화': 1237, '▁여주인공': 1238, '▁다시봐도': 1239, '▁감성': 1240, '▁있을': 1241, '▁상당히': 1242, '퍼': 1243, '잔': 1244, '없고': 1245, '▁추': 1246, '표': 1247, '메': 1248, '▁추억': 1249, '▁절': 1250, '▁아님': 1251, '▁봤음': 1252, '어야': 1253, '▁뭐냐': 1254, '▁힘들': 1255, '익': 1256, '▁CG': 1257, '▁스토리는': 1258, 'OO': 1259, '길래': 1260, '▁헐': 1261, '갑': 1262, '▁이딴': 1263, '놈': 1264, '졌': 1265, '▁찾': 1266, '▁따': 1267, '▁있을까': 1268, '스러운': 1269, '▁감정': 1270, '▁좋네요': 1271, '▁감동을': 1272, '습': 1273, '▁중간에': 1274, '보기': 1275, '▁만들었': 1276, '▁어릴때': 1277, '했어요': 1278, '▁바로': 1279, '같': 1280, '▁영화임': 1281, '하는데': 1282, '▁따뜻한': 1283, '▁열': 1284, '▁데': 1285, '▁산': 1286, '▁옛날': 1287, '년전': 1288, '▁이것도': 1289, '▁갈': 1290, '▁TV': 1291, '만한': 1292, '영화가': 1293, '▁봐라': 1294, '▁낫다': 1295, '▁엄마': 1296, '련': 1297, '편은': 1298, '낮': 1299, '▁변': 1300, '께': 1301, '▁낮은': 1302, '커': 1303, '▁너무너무': 1304, 'b': 1305, '▁주고': 1306, '▁여기': 1307, '혜': 1308, '▁모습': 1309, '을때': 1310, '▁역사': 1311, '▁아까움': 1312, '▁크': 1313, '▁종': 1314, '엇': 1315, '▁빠져': 1316, '▁버': 1317, '▁뒤': 1318, '▁이영화를': 1319, '료': 1320, '척': 1321, '▁어디서': 1322, '▁평가': 1323, '▁악': 1324, '▁각본': 1325, '럽': 1326, '▁글': 1327, '~~~~': 1328, '▁손': 1329, '링': 1330, '▁없네': 1331, '▁존재': 1332, '월': 1333, '▁배우들이': 1334, '▁높': 1335, '▁대단한': 1336, '▁언제': 1337, '겠지': 1338, '▁더럽게': 1339, '▁아까워': 1340, '▁충격': 1341, '명작': 1342, 'f': 1343, '▁재밌었다': 1344, '▁생각을': 1345, '▁꿈': 1346, '▁요': 1347, '▁판타지': 1348, '▁지루해': 1349, '삼': 1350, '▁마음에': 1351, '▁레': 1352, '놓고': 1353, '▁비해': 1354, '재밋': 1355, '▁끝나': 1356, '▁나이': 1357, '나오': 1358, '▁아직': 1359, '▁연기를': 1360, 'ᄉ': 1361, '▁높은': 1362, '▁줄거리': 1363, '▁나올': 1364, '▁감동적이': 1365, '▁아이들': 1366, '▁한마디로': 1367, '채': 1368, '지루': 1369, '▁봐서': 1370, '치는': 1371, '광': 1372, '록': 1373, '▁포': 1374, '▁집중': 1375, '▁90': 1376, '눈': 1377, '▁시대': 1378, '^': 1379, '▁봄': 1380, '션': 1381, '써': 1382, '들어': 1383, '▁코': 1384, '▁된다': 1385, 'p': 1386, '▁재미없어': 1387, '▁몰입': 1388, '▁봤지만': 1389, '나오는': 1390, '라니': 1391, '스럽다': 1392, '▁나와서': 1393, '▁초딩': 1394, '햇': 1395, '▁흠': 1396, '▁몸': 1397, '적이': 1398, '▁게': 1399, '▁그대로': 1400, 'u': 1401, '▁ᄍᄍ': 1402, '숙': 1403, '아서': 1404, '▁숨': 1405, '추천': 1406, '▁다들': 1407, '▁비교': 1408, '영화중': 1409, '▁어디': 1410, '▁으': 1411, '▁짜증': 1412, '▁리': 1413, '▁좋음': 1414, '▁평점을': 1415, '한영화': 1416, '▁놀': 1417, '▁얘기': 1418, '▁뭐가': 1419, '▁번': 1420, '시리즈': 1421, '굿': 1422, '낸': 1423, '▁굉장히': 1424, '▁여주': 1425, '▁슬픈': 1426, '이라도': 1427, '거냐': 1428, '▁M': 1429, '▁원작을': 1430, '▁새로운': 1431, '끝': 1432, '▁여배우': 1433, '▁훌륭한': 1434, '▁영화도': 1435, '▁복': 1436, '▁영화인데': 1437, '%': 1438, '으나': 1439, '▁대해': 1440, '▁100': 1441, '▁머리': 1442, 'm': 1443, '귀': 1444, 'r': 1445, '튼': 1446, '▁딸': 1447, '▁소리': 1448, '▁그닥': 1449, '▁휴': 1450, '▁윤': 1451, 'l': 1452, '▁깨': 1453, '▁삼류': 1454, '▁그리': 1455, '▁병맛': 1456, '거리': 1457, '영화를': 1458, '▁부족': 1459, '한거': 1460, '▁세계': 1461, '▁패': 1462, '씩': 1463, '▁재미있': 1464, '런': 1465, '▁다음': 1466, '받': 1467, '▁코메디': 1468, '▁극장판': 1469, '▁했다': 1470, '▁흥행': 1471, '잖아': 1472, '▁했는데': 1473, '배우들': 1474, '▁그러': 1475, '▁얼굴': 1476, '모르': 1477, '▁거의': 1478, '▁팬': 1479, '할때': 1480, '고싶다': 1481, '▁목소리': 1482, '▁혼자': 1483, '▁첫': 1484, '▁장르': 1485, '간다': 1486, '▁빨리': 1487, '하자': 1488, '▁두번': 1489, '▁대단': 1490, '▁방': 1491, '▁재밌어': 1492, '속에': 1493, '▁어렸을때': 1494, '좋은': 1495, '품': 1496, '셨': 1497, '에는': 1498, '오빠': 1499, '찬': 1500, '틀': 1501, '▁작가': 1502, '것이': 1503, '▁않았': 1504, '듬': 1505, '청': 1506, '효': 1507, '▁처음부터': 1508, '이라니': 1509, 'w': 1510, '시대': 1511, '▁편': 1512, '▁장면이': 1513, '윤': 1514, '▁하다': 1515, '조차': 1516, '▁연출력': 1517, '재미없': 1518, '▁일본영화': 1519, '혹': 1520, '▁엄청난': 1521, '▁양': 1522, '곡': 1523, '특': 1524, '혀': 1525, '▁암': 1526, '▁재밌었어요': 1527, '▁안된다': 1528, '▁별루': 1529, '▁흥미진진': 1530, '▁감독님': 1531, '벌': 1532, '봐라': 1533, '▁작': 1534, '분들': 1535, '도없고': 1536, '하냐': 1537, '▁킬링타임용': 1538, '▁누구': 1539, '▁돌': 1540, '만으로도': 1541, '▁실화': 1542, '▁유치한': 1543, '만든': 1544, '다시': 1545, '▁어린': 1546, '▁왕': 1547, '................': 1548, '남자': 1549, '▁예상': 1550, ':': 1551, '▁맛': 1552, '▁바보': 1553, '다는': 1554, '▁먹먹': 1555, '▁제작': 1556, '▁돌아': 1557, '▁좋았어요': 1558, '딩': 1559, '▁나의': 1560, '졌다': 1561, '이에요': 1562, '독': 1563, '좋다': 1564, '▁저질': 1565, '땐': 1566, '봐서': 1567, '▁평점에': 1568, '재밌게': 1569, '▁사회': 1570, '▁태': 1571, '▁나와': 1572, '한데': 1573, '▁질': 1574, '▁삼': 1575, '건데': 1576, '▁재미있고': 1577, '▁tv': 1578, '겟': 1579, '▁생각해': 1580, '▁80': 1581, '▁제가': 1582, '▁의도': 1583, '▁느': 1584, '리가': 1585, '▁속편': 1586, '▁화면': 1587, '▁교훈': 1588, '▁것을': 1589, '▁(': 1590, '같다': 1591, '▁그러나': 1592, '억': 1593, '츠': 1594, '이게': 1595, '▁만점': 1596, '▁궁금': 1597, '▁같은데': 1598, '염': 1599, '▁충분히': 1600, '목': 1601, '▁대작': 1602, '▁현': 1603, '▁순': 1604, '▁나온다': 1605, '▁밀': 1606, '껏': 1607, '▁진실': 1608, '세요': 1609, '▁만족': 1610, '근데': 1611, '▁끌': 1612, '는건': 1613, '▁항상': 1614, '점준다': 1615, '▁-_-': 1616, '▁만들지': 1617, '▁그런지': 1618, '▁짜': 1619, '스럽': 1620, '▁망작': 1621, '▁계': 1622, '▁있어': 1623, '탈': 1624, '▁완벽한': 1625, '괴': 1626, '쉬': 1627, '야지': 1628, '▁뻔': 1629, '▁액션영화': 1630, '아깝다': 1631, '패': 1632, '▁유머': 1633, '▁이영화는': 1634, '▁이정도': 1635, '거다': 1636, '네여': 1637, '처음': 1638, '▁삶': 1639, '마지막': 1640, '했습니다': 1641, '▁허무': 1642, '▁저런': 1643, '▁스타일': 1644, '본다': 1645, '년도': 1646, '▁통': 1647, '반전': 1648, '쪽': 1649, '철': 1650, '▁책': 1651, '▁유쾌한': 1652, '▁아버지': 1653, '▁ᄒᄒᄒ': 1654, '▁힘든': 1655, '▁돈주고': 1656, '에요': 1657, '▁상황': 1658, '주세요': 1659, '곤': 1660, '같이': 1661, '이라면': 1662, '겠지만': 1663, '을듯': 1664, '그리고': 1665, '▁예전에': 1666, '렌': 1667, '▁무조건': 1668, '▁불륜': 1669, '▁자체가': 1670, '꼬': 1671, '했으면': 1672, '였는데': 1673, '으니': 1674, '이냐': 1675, '왔': 1676, '줘': 1677, '사람들': 1678, '▁프랑스': 1679, '적이고': 1680, '학교': 1681, '애들': 1682, '▁영화보다': 1683, '웃음': 1684, '▁이름': 1685, '일까': 1686, '▁재미없고': 1687, '▁전형적인': 1688, '▁알았다': 1689, '▁초반': 1690, '노잼': 1691, '▁졸라': 1692, '▁보니': 1693, '▁사람들이': 1694, '▁못하는': 1695, '▁예고편': 1696, '▁훌륭': 1697, '음악': 1698, '엉': 1699, '▁리메이크': 1700, '킹': 1701, '졸': 1702, '강추': 1703, '▁성우': 1704, '????': 1705, 'c': 1706, '에선': 1707, '▁교': 1708, '▁왜이리': 1709, '풍': 1710, '▁골': 1711, '쩌': 1712, '▁주제': 1713, '놈들': 1714, '▁달': 1715, '▁하지': 1716, '필': 1717, '▁매력적인': 1718, '지금': 1719, '▁있었다': 1720, '▁낮': 1721, '~^^': 1722, '▁화이팅': 1723, '▁디': 1724, '▁결': 1725, '▁여운': 1726, '최고의': 1727, '▁아이들이': 1728, '▁믿고': 1729, '보다는': 1730, '성이': 1731, '기가': 1732, '▁봤네요': 1733, '애니': 1734, '▁잘못': 1735, '많이': 1736, '내가': 1737, '▁나만': 1738, '▁좋겠다': 1739, 'n': 1740, '▁ᄏᄏᄏᄏᄏ': 1741, '▁대단하다': 1742, '▁시절': 1743, '한번': 1744, '▁점점': 1745, '맛': 1746, '▁바라': 1747, '▁개그': 1748, '▁돈이': 1749, '리스': 1750, '▁도저히': 1751, '▁없어서': 1752, '▁반전이': 1753, '▁자연': 1754, '▁그것': 1755, '하시': 1756, '휴': 1757, '준다': 1758, '▁액션도': 1759, '구요': 1760, '▁지금까지': 1761, '▁b': 1762, '▁관': 1763, '묘': 1764, '다면': 1765, 'x': 1766, '▁저는': 1767, '싸': 1768, '▁사람은': 1769, '꼭': 1770, '▁소설': 1771, '▁이런게': 1772, '▁귀여운': 1773, '▁없을': 1774, '▁나쁜': 1775, '▁천재': 1776, '▁내인생': 1777, '▁믿': 1778, 'ᅲᅲᅲ': 1779, '▁아오': 1780, '영화다': 1781, '▁감독은': 1782, '▁이런거': 1783, '됬': 1784, '여서': 1785, '▁자기': 1786, '들에게': 1787, '겠네': 1788, '▁것도': 1789, '▁부족한': 1790, '점짜리': 1791, '▁그래픽': 1792, '--': 1793, '전개': 1794, '변': 1795, '정도로': 1796, '그런': 1797, '▁아쉬운': 1798, '▁괜히': 1799, '▁아쉽': 1800, '웠': 1801, '▁최악이다': 1802, '▁써': 1803, '▁말도': 1804, '▁이상한': 1805, '▁명작이다': 1806, '나라': 1807, ';;;;': 1808, '팬': 1809, '▁않아': 1810, '▁터': 1811, '겁': 1812, '▁지금봐도': 1813, '많': 1814, '들도': 1815, '▁알게': 1816, '▁정도로': 1817, '얼': 1818, '▁괜찮': 1819, '실망': 1820, '잉': 1821, '▁SF': 1822, '▁청춘': 1823, '봐야': 1824, '오는': 1825, '▁극장': 1826, '▁자꾸': 1827, '것을': 1828, '나서': 1829, '▁있지만': 1830, '겹': 1831, '끔': 1832, '도록': 1833, '▁전편': 1834, '걸까': 1835, '랄': 1836, '▁알았': 1837, '였습니다': 1838, '▁작품성': 1839, '▁문': 1840, '연출': 1841, '떨어': 1842, '▁떠': 1843, '▁성장': 1844, '▁감동적이고': 1845, '▁로맨틱': 1846, '▁이런걸': 1847, '▁가는': 1848, '▁굳': 1849, '▁주인공이': 1850, '▁잘만든': 1851, '▁투': 1852, '▁좀비': 1853, '▁좋았음': 1854, '▁그래': 1855, '역시': 1856, '▁담': 1857, '놀': 1858, '재미없다': 1859, '▁자신': 1860, '▁아름답다': 1861, '▁사랑을': 1862, '▁유치하고': 1863, 'v': 1864, '어도': 1865, '밀': 1866, 'ᄂ': 1867, '▁독': 1868, '킬': 1869, '▁설': 1870, '▁모르고': 1871, '하긴': 1872, '누': 1873, 'ᅲᅲᅲᅲ': 1874, '▁상상': 1875, '시절': 1876, '▁가치': 1877, '▁볼수': 1878, '▁웃겨': 1879, '징': 1880, '옥': 1881, '▁싸': 1882, '뜨': 1883, '암': 1884, '년에': 1885, '▁되어': 1886, '▁감상': 1887, 'ᄀ': 1888, '픈': 1889, ',,,,': 1890, 'ᄅ': 1891, '▁확': 1892, 'T': 1893, '골': 1894, '▁댓글': 1895, '최': 1896, '▁일단': 1897, '▁19': 1898, '▁전작': 1899, '▁죽음': 1900, '인거': 1901, '▁없네요': 1902, '코미디': 1903, '▁상상력': 1904, '시키': 1905, '▁커': 1906, '▁이유': 1907, '▁범죄': 1908, '▁쳐': 1909, '주인공': 1910, '▁지루하지': 1911, '깔': 1912, '규': 1913, '▁갑자기': 1914, '견': 1915, '▁밑에': 1916, '▁엉성': 1917, '▁시간낭비': 1918, '▁ᄉᄇ': 1919, '▁이쁘': 1920, '▁순간': 1921, '▁긴': 1922, '답': 1923, '▁웃긴': 1924, '보다가': 1925, '▁200': 1926, '▁있어서': 1927, '▁보는데': 1928, '&': 1929, '▁아놔': 1930, '▁기대하고': 1931, '▁마무리': 1932, '빵': 1933, '▁선택': 1934, '났다': 1935, '롭': 1936, '필요': 1937, '▁중에': 1938, '▁짱짱': 1939, '▁집': 1940, '페': 1941, '//': 1942, '▁이것': 1943, '▁ost': 1944, '▁끝내': 1945, '▁허접한': 1946, '*': 1947, '쯤': 1948, '지않은': 1949, '▁우연히': 1950, '▁이리': 1951, '▁추억의': 1952, '셔': 1953, '량': 1954, 'E': 1955, '▁겁나': 1956, '▁더욱': 1957, '▁짜증나': 1958, 'ᄒᄒᄒ': 1959, '▁귀': 1960, '▁이번': 1961, '▁C': 1962, '▁완벽': 1963, '▁왠지': 1964, '▁보여주': 1965, '다운': 1966, '드는': 1967, '▁해도': 1968, '▁화려한': 1969, '▁신기': 1970, '▁재미있음': 1971, '▁니': 1972, '였어요': 1973, '▁노력': 1974, '▁대한민국': 1975, '▁느낄': 1976, '▁잘봤습니다': 1977, '▁유쾌': 1978, '▁국': 1979, '춘': 1980, '▁잼있게': 1981, '▁완성도': 1982, '▁황': 1983, '▁만드': 1984, '감이': 1985, '▁보고싶다': 1986, '깨': 1987, '딱': 1988, '아이': 1989, '▁소재는': 1990, '▁평점은': 1991, '재밌어요': 1992, '닥': 1993, '▁등': 1994, '▁관람': 1995, '▁아무것도': 1996, '▁흐': 1997, '▁영화였습니다': 1998, '▁무서운': 1999, '▁저도': 2000, '▁처음으로': 2001, '▁지금도': 2002, '하니': 2003, '▁역대': 2004, '▁느끼': 2005, '▁황당': 2006, '▁한계': 2007, '▁티': 2008, '▁미화': 2009, '▁슬프다': 2010, '갔': 2011, '짜리': 2012, '▁뭔지': 2013, '▁글쎄': 2014, '▁게임': 2015, '것같다': 2016, '▁슬': 2017, '▁해준': 2018, '되어': 2019, '▁꼬': 2020, '▁개연성': 2021, '▁훨': 2022, '▁브': 2023, '말이': 2024, '로서': 2025, '▁잔인하': 2026, '널': 2027, 'ᄆ': 2028, '쁘': 2029, '함이': 2030, 'ᄃ': 2031, '▁재밌습니다': 2032, '▁젤': 2033, '▁않을': 2034, '였던': 2035, '▁느끼게': 2036, '▁세상': 2037, '▁슬프': 2038, '앙': 2039, '▁이연걸': 2040, '잼있': 2041, '놓': 2042, '▁왜이렇게': 2043, '▁있음': 2044, '려서': 2045, '유치': 2046, '▁처': 2047, '▁재밌었음': 2048, '▁수준이': 2049, '▁새': 2050, '봉': 2051, '▁어이없': 2052, '풀': 2053, '▁안보': 2054, '▁전개가': 2055, '령': 2056, '힌': 2057, '▁액션이': 2058, '▁좋았는데': 2059, '▁흥미': 2060, '▁재미없네': 2061, '킨': 2062, '렸다': 2063, '▁배우가': 2064, '하세요': 2065, '▁연출이': 2066, '▁온': 2067, '▁읽': 2068, '결말': 2069, '만화': 2070, '함을': 2071, '되고': 2072, '내요': 2073, '보세요': 2074, '▁단순': 2075, '▁낭비': 2076, '▁신선': 2077, '없어': 2078, '▁자유': 2079, '재밌다': 2080, '▁가지고': 2081, '▁멋지다': 2082, '든다': 2083, '▁동화': 2084, '▁만나': 2085, '▁s': 2086, '타임': 2087, 'j': 2088, '▁원래': 2089, '▁영웅': 2090, '▁별로다': 2091, '줌': 2092, '▁재밌네': 2093, '엿': 2094, '스타': 2095, '홍': 2096, '▁했': 2097, '눈물': 2098, '▁영화중에': 2099, '버리': 2100, '▁재밌었는데': 2101, '▁멋있': 2102, '▁그녀': 2103, '들과': 2104, '▁그랬': 2105, '▁괴': 2106, '먹는': 2107, '보는데': 2108, '▁리얼': 2109, '▁알바들': 2110, '▁어릴적': 2111, '▁설명': 2112, '▁나를': 2113, '▁형': 2114, '▁싫다': 2115, '▁ᄃᄃ': 2116, '▁ᅮ': 2117, '▁모르는': 2118, '▁바람': 2119, '황': 2120, '▁섹시': 2121, '▁그림': 2122, '▁아깝': 2123, '▁쓴': 2124, '▁상영': 2125, '▁벌': 2126, '스런': 2127, '▁보여': 2128, '▁미치': 2129, '▁까': 2130, '▁필요없는': 2131, '멋': 2132, '일뿐': 2133, '있고': 2134, '▁보여준': 2135, '=': 2136, '▁재밌었': 2137, '하던': 2138, '탕': 2139, '점주는': 2140, '▁알았는데': 2141, '족': 2142, '▁알아': 2143, '▁맥': 2144, '▁참고': 2145, '▁생각나': 2146, '▁이후': 2147, '좋아요': 2148, '▁만들었다': 2149, '▁독특한': 2150, '마저': 2151, '▁무섭': 2152, '해주는': 2153, '싱': 2154, '벨': 2155, '▁각': 2156, '▁귀신': 2157, '▁충': 2158, '▁A': 2159, '▁시걸': 2160, '▁진부한': 2161, '▁입니다': 2162, '▁나에게': 2163, '▁그럭저럭': 2164, '▁깊은': 2165, '쇼': 2166, '쿠': 2167, '▁여전히': 2168, '▁편집': 2169, '는걸': 2170, '▁갑': 2171, '▁좋았습니다': 2172, '▁분명': 2173, '하라': 2174, '▁느껴지는': 2175, '마음': 2176, '▁클': 2177, '는것': 2178, '수록': 2179, '▁앞으로': 2180, '▁감사': 2181, '▁답답': 2182, '빨': 2183, '▁아닌가': 2184, '▁그때': 2185, '▁복수': 2186, '끄': 2187, '그래도': 2188, '책': 2189, '팔': 2190, '▁어이없는': 2191, '▁봐야할': 2192, '보게': 2193, '▁이미': 2194, '▁싫어': 2195, '▁우울': 2196, '▁필요없다': 2197, '짝': 2198, '활': 2199, '▁것은': 2200, '했고': 2201, '▁광': 2202, '▁인간의': 2203, '에겐': 2204, '▁지나': 2205, '▁성공': 2206, '가서': 2207, '▁것이다': 2208, '것이다': 2209, '▁빠지': 2210, '▁수가': 2211, '▁느껴': 2212, '▁인정': 2213, '동안': 2214, '▁받': 2215, '▁않음': 2216, '▁인상깊': 2217, '▁전체적으로': 2218, '▁눈이': 2219, '지마라': 2220, '만으로': 2221, '▁아름답고': 2222, '▁없었': 2223, '람': 2224, '없네': 2225, '▁멀': 2226, '▁보지마세요': 2227, '▁귀엽고': 2228, '▁보고나서': 2229, '하는게': 2230, '▁감사합니다': 2231, '▁살인': 2232, '떡': 2233, '▁결혼': 2234, '▁재밋게': 2235, '▁억지로': 2236, '▁않았다': 2237, '립': 2238, '▁비추': 2239, '가지': 2240, '▁여성': 2241, '십': 2242, '▁이젠': 2243, '들아': 2244, '▁음악이': 2245, '▁애들이': 2246, '었으면': 2247, '▁답': 2248, '만들어': 2249, '▁후반부': 2250, '땅': 2251, '▁이영화가': 2252, '▁가끔': 2253, '▁평론가': 2254, '▁사람들은': 2255, '▁눈을': 2256, '이면': 2257, '봤음': 2258, '▁성인': 2259, '욱': 2260, '▁재미있었다': 2261, '잊': 2262, '▁사랑이': 2263, '봣': 2264, '전에': 2265, '▁매력이': 2266, 'ᅡ': 2267, '껄': 2268, '롱': 2269, '▁아빠': 2270, '▁예쁜': 2271, '▁빠': 2272, '이제': 2273, '찌': 2274, '응': 2275, '▁듯한': 2276, '▁호러': 2277, 'O': 2278, '▁볼만함': 2279, '급영화': 2280, '▁재미있네요': 2281, '▁잊혀지지': 2282, '▁있는데': 2283, '아주': 2284, '▁늘': 2285, '▁철': 2286, '나와': 2287, '▁홍': 2288, '▁너무나도': 2289, '릭': 2290, '▁프로': 2291, '좌': 2292, '▁어찌': 2293, '▁처음이다': 2294, '▁불편': 2295, '▁이정도면': 2296, 'ᄍᄍ': 2297, '▁취향': 2298, '모습': 2299, '.......': 2300, '▁재밋다': 2301, '버려': 2302, '누나': 2303, '▁질질': 2304, '▁영화라': 2305, '▁스케일': 2306, '드라': 2307, '재밌음': 2308, '자가': 2309, '가족': 2310, '시켜': 2311, '▁창': 2312, '▁스토리에': 2313, '▁마라': 2314, '을텐데': 2315, '▁둘': 2316, '▁보시길': 2317, '▁이하': 2318, '▁비슷': 2319, '톤': 2320, '▁몸매': 2321, '인이': 2322, '언니': 2323, '▁남는다': 2324, '때마다': 2325, '예요': 2326, '........': 2327, '분이': 2328, '잃': 2329, '▁낚': 2330, '▁캐': 2331, '▁어렸을': 2332, '폰': 2333, '▁신선한': 2334, '려는': 2335, '놓은': 2336, '▁이야기를': 2337, '▁고전': 2338, '거임': 2339, 'ᄏᄏᄏᄏᄏ': 2340, '부분': 2341, '▁영화냐': 2342, '▁키': 2343, '▁지루하': 2344, '▁볼만하다': 2345, '▁회': 2346, '▁언': 2347, '룡': 2348, '▁킬링타임': 2349, '▁평생': 2350, '엄': 2351, '곳': 2352, '▁마음을': 2353, '로운': 2354, '송': 2355, '▁전달': 2356, '끼리': 2357, '클': 2358, '릿': 2359, '▁그게': 2360, '▁해주는': 2361, '세계': 2362, '▁홍콩': 2363, '▁트': 2364, '▁임': 2365, '점준': 2366, '▁그다지': 2367, '▁진행': 2368, '▁소름': 2369, '▁추천합니다': 2370, '폭': 2371, '▁S': 2372, '▁액션은': 2373, 'S': 2374, '남는': 2375, '하는거': 2376, '년전에': 2377, '▁맞는': 2378, '▁목': 2379, '▁쵝오': 2380, '▁메세지': 2381, '▁흥미롭': 2382, '▁죽는': 2383, '짜증': 2384, '▁똑같': 2385, '올라': 2386, '버렸다': 2387, '아닌': 2388, '손': 2389, '봤어요': 2390, '시간이': 2391, '▁좋았': 2392, '▁보이': 2393, '▁보는게': 2394, '있게': 2395, '득': 2396, 'ᄏᄏᄏᄏᄏᄏᄏᄏᄏ': 2397, '해준': 2398, '▁깊이': 2399, '한듯': 2400, '▁있나': 2401, '▁노출': 2402, '버렸': 2403, '▁사랑스러운': 2404, '♥♥': 2405, '▁다소': 2406, '▁떠나': 2407, '▁아니지만': 2408, '▁본다': 2409, '▁그렇고': 2410, '충': 2411, 'A': 2412, '▁그런가': 2413, '짧': 2414, '냥': 2415, '▁안나오': 2416, '새끼': 2417, '갔다': 2418, '▁싶어': 2419, '영상': 2420, '▁역시나': 2421, '▁기분이': 2422, '@': 2423, '▁볼거리': 2424, '▁기대를': 2425, '내는': 2426, '▁꺼': 2427, '▁낫': 2428, '▁순수한': 2429, '거같다': 2430, '▁짜증나는': 2431, '뒤': 2432, '▁표': 2433, '▁급': 2434, '▁미소': 2435, '무슨': 2436, '▁아저씨': 2437, '▁여자들': 2438, '▁죄': 2439, '▁섹스': 2440, '▁표절': 2441, '▁말고': 2442, '▁가볍게': 2443, '사람이': 2444, '▁같음': 2445, '▁무지': 2446, '번째': 2447, 'an': 2448, '▁어색한': 2449, 'C': 2450, '▁풀어': 2451, '▁지루해서': 2452, '▁OST': 2453, '▁없나': 2454, '하여': 2455, '나올': 2456, 'P': 2457, '턴': 2458, '▁감탄': 2459, '▁잔잔하고': 2460, '▁하면': 2461, '몰': 2462, '알바': 2463, '▁금': 2464, '▁일상': 2465, '▁15': 2466, '웃기': 2467, '뜻': 2468, '▁저예산': 2469, '한다면': 2470, '겟다': 2471, '▁슬프고': 2472, '었지만': 2473, '뿌': 2474, '마다': 2475, '▁보고싶': 2476, '▁볼만하': 2477, '▁한편': 2478, '했어': 2479, '▁몇번을': 2480, '개도': 2481, '▁보기엔': 2482, '▁독립영화': 2483, '지고': 2484, '코드': 2485, '▁후반': 2486, '▁비슷한': 2487, '율': 2488, '▁높다': 2489, '볼만': 2490, '빡': 2491, '영화의': 2492, '▁해서': 2493, '▁용서': 2494, '하다니': 2495, '▁봤었는데': 2496, '▁+': 2497, '▁벗': 2498, '▁할말이': 2499, '버리고': 2500, '나온': 2501, '쓴': 2502, '▁누': 2503, '▁무서워': 2504, '`': 2505, 'R': 2506, '▁조폭': 2507, '있었': 2508, '▁티비에서': 2509, '안되': 2510, '있어': 2511, '혼': 2512, '▁생각나는': 2513, '▁이어': 2514, '▁평범한': 2515, '▁에로': 2516, '▁짠': 2517, '드리': 2518, '▁good': 2519, '▁먼저': 2520, '지마': 2521, '▁현재': 2522, '▁등장': 2523, '했네': 2524, '▁보지마': 2525, '소재': 2526, '본영화': 2527, '되지': 2528, '▁권': 2529, '편보다': 2530, '▁돌려': 2531, '▁캐릭터들': 2532, '념': 2533, '괜찮': 2534, '▁디즈니': 2535, '인의': 2536, '▁모습이': 2537, '인간': 2538, 'ᄃᄃ': 2539, '▁관심': 2540, '▁좋았던': 2541, '보면서': 2542, '▁희망': 2543, '▁연기력이': 2544, '▁사극': 2545, '왔다': 2546, '▁같네요': 2547, '그러': 2548, '▁유치하다': 2549, '▁됐': 2550, '▁이건뭐': 2551, '이렇게': 2552, '것은': 2553, '▁찍은': 2554, '거나': 2555, '▁아닌듯': 2556, '▁슬픔': 2557, '따위': 2558, '▁빼': 2559, '▁전기세': 2560, '▁방송': 2561, '▁시사회': 2562, '▁특유의': 2563, '▁올해': 2564, '평점이': 2565, '▁재미를': 2566, '흐': 2567, '▁명작이': 2568, '▁이야기가': 2569, '▁출': 2570, '랜': 2571, '었습니다': 2572, '압': 2573, '스러움': 2574, '▁싫': 2575, '▁생애': 2576, '▁I': 2577, '▁빈': 2578, '▁과거': 2579, '▁이러': 2580, '▁당신': 2581, '온다': 2582, '했을': 2583, '▁옛날에': 2584, '아님': 2585, '던가': 2586, '▁작품이': 2587, '하구': 2588, '▁언제나': 2589, '▁세상에': 2590, '▁있다는': 2591, '▁합니다': 2592, '총': 2593, '자들': 2594, '▁끝난': 2595, '▁심심': 2596, '▁삶을': 2597, '▁실패': 2598, '웠다': 2599, '▁미래': 2600, '▁참신': 2601, '▁뮤지컬': 2602, '늘': 2603, '▁지난': 2604, '▁용': 2605, '▁했지만': 2606, '▁드는': 2607, '▁갖': 2608, '▁미드': 2609, '▁매력적': 2610, '다른': 2611, '▁시트콤': 2612, '더만': 2613, '▁모르겠': 2614, '▁아나': 2615, '으면서': 2616, '▁유치함': 2617, '▁좋습니다': 2618, '▁뒷': 2619, '면서도': 2620, '친구': 2621, '▁몰입감': 2622, '▁무섭다': 2623, '▁남주': 2624, '제목': 2625, '▁먼': 2626, '▁샤': 2627, '수도': 2628, 'er': 2629, '▁팔': 2630, '▁확실히': 2631, '봅니다': 2632, '▁살짝': 2633, '▁드럽게': 2634, '▁어이가': 2635, 'or': 2636, '▁나가': 2637, '▁썩': 2638, '▁찡': 2639, '▁어린이': 2640, '됐': 2641, '▁우와': 2642, '▁예전': 2643, '▁딴': 2644, '더군요': 2645, '▁시선': 2646, '▁청': 2647, '▁놓': 2648, '돼': 2649, '▁;;': 2650, '▁나라': 2651, 'ᄇ': 2652, '덤': 2653, '죄': 2654, '엘': 2655, '▁의리': 2656, '▁식상': 2657, '성을': 2658, '▁함': 2659, '▁그린': 2660, '▁끝나고': 2661, '▁덜': 2662, '▁멋': 2663, '▁해피엔딩': 2664, '▁돋': 2665, '▁귀엽': 2666, '▁싸이코': 2667, '스가': 2668, '나와서': 2669, '▁뜨': 2670, '육': 2671, '니깐': 2672, '▁메시지': 2673, '힘': 2674, 'M': 2675, '주고': 2676, '▁어쩔': 2677, '▁엉성한': 2678, '▁페': 2679, '▁루': 2680, '한건': 2681, '할듯': 2682, '▁있었던': 2683, '줄이야': 2684, '▁중반': 2685, '20': 2686, '▁시원': 2687, '▁이유가': 2688, 'V': 2689, '공포': 2690, '▁쓰래기': 2691, '▁춤': 2692, '▁아들': 2693, '굴': 2694, '뉴': 2695, '▁힐링': 2696, '▁기대안하고': 2697, '았던': 2698, '높': 2699, '▁볼수록': 2700, '형님': 2701, 'B': 2702, '▁믿을': 2703, '시다': 2704, '▁빛': 2705, '▁아깝지': 2706, '▁이쁜': 2707, '▁대충': 2708, '인생': 2709, '▁우정': 2710, '▁쩐다': 2711, '텔': 2712, '▁싸구려': 2713, '▁압권': 2714, '▁그의': 2715, '▁재미있었어요': 2716, '▁시시': 2717, '슈': 2718, '▁그들의': 2719, '▁중간': 2720, '▁정서': 2721, '기분': 2722, '▁현대': 2723, '▁cg': 2724, '▁되게': 2725, 'L': 2726, '▁아름다움': 2727, 'ᅵ': 2728, '▁범인': 2729, '▁어색': 2730, '▁볼때마다': 2731, '가슴': 2732, '▁나왔으면': 2733, '▁표정': 2734, '스릴러': 2735, '▁영화지만': 2736, '하면서도': 2737, '▁이때': 2738, '말고': 2739, '▁시청률': 2740, '▁난다': 2741, '▁더이상': 2742, '▁재미없어요': 2743, '▁인물': 2744, '▁좋았고': 2745, '▁인생의': 2746, '▁왜케': 2747, '▁ᅲᅲᅲ': 2748, '웅': 2749, '무비': 2750, '▁짝퉁': 2751, '일이': 2752, '▁넘어': 2753, '까진': 2754, '▁쇼': 2755, '닝': 2756, '나옴': 2757, '▁긴장': 2758, '▁외국': 2759, '▁보았': 2760, '▁극치': 2761, '▁폭': 2762, '▁보고싶은': 2763, '▁감동과': 2764, '세기': 2765, '해주': 2766, '연기가': 2767, '기억': 2768, '▁얼': 2769, '▁방금': 2770, '▁풍': 2771, '끝나': 2772, '▁와우': 2773, '▁느와르': 2774, '▁연애': 2775, '▁민': 2776, '끌': 2777, '봣는데': 2778, '▁높아': 2779, '▁실제': 2780, '▁이거보고': 2781, '▁제목이': 2782, '▁영화관': 2783, '케이': 2784, '▁꽝': 2785, '시는': 2786, '어지는': 2787, '▁틀': 2788, '▁부분': 2789, '▁여자가': 2790, '기엔': 2791, '이뻐': 2792, '받은': 2793, '봐요': 2794, '▁만들어진': 2795, '▁아닌데': 2796, '▁필': 2797, '내용이': 2798, '▁초반에': 2799, '▁하게': 2800, '는건지': 2801, '▁아니면': 2802, '▁요소': 2803, '지않는': 2804, '▁빌려': 2805, '▁웃기고': 2806, 'ᄏᄏᄏᄏᄏᄏᄏᄏᄏᄏᄏᄏᄏᄏᄏᄏ': 2807, '오히려': 2808, '▁와닿': 2809, '▁연기에': 2810, '▁보러': 2811, '▁괴물': 2812, '텐데': 2813, '▁봤다가': 2814, '헤': 2815, '한국': 2816, '▁생각없이': 2817, '취': 2818, '둘': 2819, '▁동물': 2820, '개봉': 2821, '▁취': 2822, '머리': 2823, '랬': 2824, '▁탄탄한': 2825, '▁말로': 2826, '면에서': 2827, '▁귀여워': 2828, '중의': 2829, '▁엘': 2830, '▁진심으로': 2831, '11': 2832, '▁청소년': 2833, '▁있다면': 2834, '▁ᄋ': 2835, '▁베스트': 2836, '있음': 2837, '있는데': 2838, '▁옛': 2839, '중에서': 2840, '▁오버': 2841, '▁웃김': 2842, '장난': 2843, '▁월': 2844, '캐': 2845, '▁접': 2846, '▁그런데': 2847, '▁스타': 2848, '▁영화에요': 2849, '▁분들': 2850, '▁사는': 2851, '▁12': 2852, '▁안됨': 2853, '▁감동적': 2854, '▁떨어지는': 2855, '▁굿굿': 2856, '보자': 2857, '▁어른': 2858, '▁듣': 2859, '▁드라마를': 2860, '쏘': 2861, '댄': 2862, '▁눈빛': 2863, '▁따뜻해지는': 2864, '프로': 2865, '▁뛰어난': 2866, '던지': 2867, '감동적': 2868, '▁<': 2869, '▁코난': 2870, '▁안하고': 2871, '▁이쁘다': 2872, '▁설레': 2873, '▁사이': 2874, '▁느낄수': 2875, '진심': 2876, '▁찍어': 2877, '▁친': 2878, '▁무비': 2879, '▁고생': 2880, '▁다큐멘터리': 2881, '▁열정': 2882, '▁심리': 2883, '작가': 2884, '▁화가': 2885, '오글': 2886, '▁게이': 2887, '흑': 2888, '옹': 2889, '므': 2890, '넹': 2891, '▁주성치': 2892, '속에서': 2893, '▁촬영': 2894, '▁핵': 2895, '▁종교': 2896, '▁무서웠': 2897, '▁단연': 2898, '▁영화보고': 2899, '▁뛰어': 2900, '내용도': 2901, '▁반개도': 2902, '첨': 2903, '접': 2904, '았음': 2905, '▁송': 2906, '젤': 2907, '▁관계': 2908, '▁다르': 2909, '▁헛': 2910, '▁어제': 2911, '보이': 2912, '▁아닐까': 2913, '▁음악도': 2914, '▁나중에': 2915, '▁할말': 2916, '▁꼴': 2917, '항': 2918, '힐': 2919, '었어': 2920, '▁느낀': 2921, '르는': 2922, '▁해주': 2923, '▁독특': 2924, '센스': 2925, '나고': 2926, '▁폭력': 2927, '계의': 2928, '▁짓': 2929, '▁보이는': 2930, '▁경찰': 2931, '만드는': 2932, 'ᅲᅮ': 2933, '점주': 2934, '아쉬': 2935, '▁앞': 2936, 'N': 2937, '▁부분이': 2938, '솔': 2939, '떄': 2940, '삭': 2941, '▁헐리웃': 2942, '▁좋을': 2943, '▁진리': 2944, '으론': 2945, '▁지루했다': 2946, '좋고': 2947, '▁킬링타임용으로': 2948, '님의': 2949, '생활': 2950, '슬퍼': 2951, '스터': 2952, '인가요': 2953, '콜': 2954, '▁로그인': 2955, '▁레전드': 2956, '걸로': 2957, '▁남을': 2958, '▁과연': 2959, '상을': 2960, '찾': 2961, '인것': 2962, '▁처음엔': 2963, '점수': 2964, '▁붙': 2965, '흔': 2966, '▁병': 2967, '▁푹': 2968, '북': 2969, '잠': 2970, '맘': 2971, '▁환상': 2972, '▁카메라': 2973, '▁개판': 2974, '▁그럼': 2975, '▁서로': 2976, '용으로': 2977, '▁죽여': 2978, '▁벌써': 2979, '▁에휴': 2980, '▁영화이다': 2981, '틴': 2982, '영화라고': 2983, '▁울었다': 2984, '▁울었': 2985, '▁즐겁게': 2986, '▁유쾌하고': 2987, '▁빌': 2988, '▁든다': 2989, '▁소녀': 2990, '▁그렇다': 2991, '▁a': 2992, '리를': 2993, '▁매력있': 2994, '▁나서': 2995, '▁반전도': 2996, '▁재미잇': 2997, '▁안타깝다': 2998, '▁망한': 2999, '▁주인공들': 3000, '짱짱': 3001, '표현': 3002, '▁삶의': 3003, '순간': 3004, '와서': 3005, '▁형편없': 3006, '▁맨': 3007, '▁있지': 3008, '▁마세요': 3009, '신이': 3010, '▁생생': 3011, '시간에': 3012, '▁지루할': 3013, '봤던': 3014, '!!!!!': 3015, '▁소재가': 3016, '▁봤으면': 3017, '▁케': 3018, '▁보길': 3019, '▁d': 3020, '▁여기서': 3021, '있네': 3022, '...........': 3023, '▁쫌': 3024, '▁맘': 3025, 'OOO': 3026, 'I': 3027, '▁이제야': 3028, '▁T': 3029, 're': 3030, '극장': 3031, '빼고': 3032, '▁명품': 3033, '▁스토리와': 3034, '▁꾸': 3035, '▁포장': 3036, '▁티비': 3037, '했으나': 3038, '함과': 3039, '꿀잼': 3040, '▁나은': 3041, 'ᄌ': 3042, '떠': 3043, '흥': 3044, '▁정말로': 3045, 'ᄏᄏᄏᄏᄏᄏᄏᄏᄏᄏᄏᄏᄏ': 3046, '▁흘러': 3047, '▁아는': 3048, '흡': 3049, '값': 3050, '▁70': 3051, ']': 3052, '▁007': 3053, '▁위대한': 3054, '▁헐리우드': 3055, '▁마이클': 3056, '▁인기': 3057, '▁평이': 3058, '스타일': 3059, '▁씨': 3060, '▁남아': 3061, '매력': 3062, '▁끝나는': 3063, '▁이런영화가': 3064, '..........': 3065, '계속': 3066, '되네요': 3067, '시킨': 3068, '▁합': 3069, '았습니다': 3070, '▁왜이래': 3071, '▁노답': 3072, '▁죄다': 3073, '가지고': 3074, '▁팬이': 3075, '▁인생을': 3076, '협': 3077, '▁꼽': 3078, '탁': 3079, '▁즐거운': 3080, '▁의외로': 3081, '▁힘들다': 3082, '▁멋있다': 3083, '긴한데': 3084, '친다': 3085, '▁만큼': 3086, '▁근': 3087, '▁40': 3088, '것같': 3089, '▁한데': 3090, '나게': 3091, '메이': 3092, '▁포기': 3093, '봤지만': 3094, '▁잼나': 3095, '폐': 3096, '이해': 3097, '▁마치': 3098, '명이': 3099, '깎': 3100, '▁불쾌': 3101, '▁가서': 3102, '▁레알': 3103, '▁말할': 3104, '▁재밌던데': 3105, '▁지나치': 3106, '▁프로그램': 3107, '꾸': 3108, '▁잊지': 3109, '▁부족하다': 3110, '▁헤': 3111, '▁평범': 3112, '그래': 3113, '▁운': 3114, '▁모습을': 3115, '▁쓰레기다': 3116, '▁전에': 3117, '▁장면은': 3118, '같네': 3119, '.........': 3120, '▁시대를': 3121, '멘': 3122, '▁야한': 3123, '이런영화': 3124, '▁찍었': 3125, '▁발로': 3126, '▁연속': 3127, '▁잼있다': 3128, '▁음악과': 3129, '▁다행': 3130, '▁법': 3131, '편의': 3132, '▁오랜만': 3133, '▁빨': 3134, '▁내려': 3135, '▁죽어': 3136, '▁스토리를': 3137, '▁포르노': 3138, '였어': 3139, '▁c': 3140, '▁사기': 3141, '▁능력': 3142, '▁쥐': 3143, '▁나왔다': 3144, '것만': 3145, '아니다': 3146, '하는지': 3147, '뛰': 3148, '팅': 3149, '▁마이너스': 3150, '▁뭉클': 3151, '▁되었다': 3152, '▁학교에서': 3153, '▁무섭지도': 3154, '▁군대': 3155, '했는지': 3156, '들만': 3157, '▁남기': 3158, '막장': 3159, '스의': 3160, '▁사랑과': 3161, '▁괜찮은데': 3162, '▁했던': 3163, '그렇': 3164, '▁잔': 3165, '▁신선하고': 3166, 'on': 3167, '▁있네요': 3168, '콩': 3169, '택': 3170, '▁없지만': 3171, '▁견자단': 3172, '(?)': 3173, '▁무엇보다': 3174, '▁무엇을': 3175, '▁있어요': 3176, '▁올리': 3177, '▁최강': 3178, '▁어휴': 3179, '▁공감이': 3180, '▁사람을': 3181, '▁드라마가': 3182, '▁건지': 3183, '시키는': 3184, '▁현실적인': 3185, '연기도': 3186, '소재를': 3187, '▁펑펑': 3188, '좋음': 3189, '▁뻔하고': 3190, '▁괜찮았': 3191, '▁광고': 3192, '현실': 3193, '▁나옴': 3194, '▁사랑에': 3195, '▁ᄋᄋ': 3196, '▁정치': 3197, '▁잼없': 3198, '퀴': 3199, '낼': 3200, '땡': 3201, '느라': 3202, '방송': 3203, '▁굳이': 3204, '▁앤': 3205, '▁악역': 3206, '▁특이': 3207, '▁단순한': 3208, '▁영국': 3209, '▁소재로': 3210, '자는': 3211, '▁연기와': 3212, '▁본영화': 3213, '이유': 3214, '▁ᄏᄏᄏᄏᄏᄏ': 3215, '으며': 3216, '▁이기': 3217, '▁고민': 3218, '안에': 3219, '▁산으로': 3220, '▁낮아서': 3221, '되서': 3222, '대가': 3223, '▁모든게': 3224, 'st': 3225, '▁울고': 3226, '▁퀄리티': 3227, '▁퇴': 3228, '어라': 3229, '구성': 3230, '▁솔직': 3231, '점이다': 3232, '▁어려운': 3233, '▁그려': 3234, '쓸': 3235, '▁눈물을': 3236, '답답': 3237, '스러': 3238, '▁식': 3239, '▁자막': 3240, '▁통쾌': 3241, '▁같습니다': 3242, '부족': 3243, '▁다시한번': 3244, '특히': 3245, '슬프': 3246, '▁신파': 3247, '▁동생': 3248, '▁무시': 3249, '▁만든다': 3250, '▁배우의': 3251, '▁밥': 3252, '영화임': 3253, '감을': 3254, '쁜': 3255, '티비': 3256, '▁기본': 3257, '▁살아있': 3258, '▁뇌': 3259, '▁중간중간': 3260, '정이': 3261, '▁사건': 3262, '▁이해하기': 3263, '했나': 3264, '▁이쁘고': 3265, '▁느끼는': 3266, '멸': 3267, '▁찝찝': 3268, '▁필름': 3269, '▁민망': 3270, '▁어머니': 3271, '몽': 3272, '▁역대급': 3273, '▁캬': 3274, '아요': 3275, '나온다': 3276, '끝까지': 3277, '▁곳': 3278, '영화로': 3279, '▁죽이': 3280, '▁웃음이': 3281, '▁자극': 3282, '▁몰입이': 3283, '▁이따위': 3284, '▁빵점': 3285, '▁차이': 3286, '▁논': 3287, '같음': 3288, '▁비극': 3289, '▁적당': 3290, '~!!!': 3291, '였지만': 3292, '대사': 3293, '▁둘다': 3294, '▁무협': 3295, '붕': 3296, '털': 3297, '포인트': 3298, '▁색다른': 3299, '▁흥미로운': 3300, '▁시간가는줄': 3301, '▁웃기지도': 3302, '쥐': 3303, '딸': 3304, '▁점수를': 3305, '하지마라': 3306, '▁최고입니다': 3307, '하려고': 3308, '▁출연진': 3309, '정신': 3310, '▁재밌을': 3311, '▁질리지': 3312, '들고': 3313, '▁내용을': 3314, '▁이유는': 3315, '▁안돼': 3316, '하하': 3317, '리지': 3318, '▁여러': 3319, '▁쩝': 3320, '▁달리': 3321, '▁웃기다': 3322, '000': 3323, '▁하네요': 3324, '장면이': 3325, '먹고': 3326, '얻': 3327, '?!': 3328, '▁젊은': 3329, '▁긴장감도': 3330, '▁점수가': 3331, '많은': 3332, '▁보았다': 3333, '.............': 3334, '▁홍콩영화': 3335, '▁어렵': 3336, '▁영화였어요': 3337, '▁이래': 3338, '▁나오지': 3339, '았는데': 3340, '▁안타깝': 3341, '만큼은': 3342, '에대한': 3343, '더라구요': 3344, '▁제작비': 3345, '▁결과': 3346, '노래': 3347, '수없는': 3348, '하기만': 3349, '짜증나': 3350, '▁현실성': 3351, '▁명작입니다': 3352, '감독이': 3353, '▁빼고는': 3354, '신고': 3355, '것들': 3356, '▁최근': 3357, '▁진부': 3358, '▁내가본': 3359, '로써': 3360, '녕': 3361, '왔는데': 3362, '▁오글거리': 3363, '▁핵노잼': 3364, '▁리뷰': 3365, '▁흔한': 3366, '▁충격적': 3367, '하더라': 3368, '▁물론': 3369, '▁불쌍': 3370, '력이': 3371, '셈': 3372, '샤': 3373, '▁제작진': 3374, '사이': 3375, '받고': 3376, '▁시간을': 3377, 'in': 3378, '영화라': 3379, '▁기대했는데': 3380, '▁없지': 3381, '오오': 3382, '▁미모': 3383, '님이': 3384, '사람은': 3385, '학생': 3386, '한게': 3387, '▁좋지만': 3388, '▁시리즈중': 3389, '▁못하고': 3390, '얘기': 3391, '▁쓰레기같은': 3392, '▁많다': 3393, '▁필요없': 3394, '▁봣': 3395, '▁발전': 3396, '▁콩': 3397, '벽': 3398, '틱': 3399, '몬': 3400, '▁비주얼': 3401, '▁어린시절': 3402, '▁아쉬웠': 3403, '▁변태': 3404, '▁이것이': 3405, '▁사랑이야기': 3406, '▁훈훈': 3407, '▁줌': 3408, '▁남녀': 3409, '끈': 3410, '▁홍보': 3411, '엇다': 3412, '▁올려': 3413, '▁프': 3414, '평가': 3415, '▁진정': 3416, '자나': 3417, '하려': 3418, '▁[': 3419, 'ar': 3420, '▁해야': 3421, '▁봣는데': 3422, '더라면': 3423, '▁아줌마': 3424, '험': 3425, '겠음': 3426, '▁문화': 3427, '따라': 3428, '혁': 3429, '편도': 3430, '하던데': 3431, '례': 3432, '뽕': 3433, '쥬': 3434, '▁더러운': 3435, '해주세요': 3436, '▁달라': 3437, '▁좀더': 3438, '똥': 3439, '▁섬': 3440, '▁말을': 3441, '▁늘어': 3442, '무엇': 3443, '설정': 3444, '▁50': 3445, '겨울': 3446, 'it': 3447, '▁거지': 3448, '새롭': 3449, '▁국내': 3450, '▁잼잇': 3451, '▁승': 3452, '▁못했다': 3453, '▁과정': 3454, '▁칼': 3455, '▁f': 3456, '해진다': 3457, '재미없음': 3458, '수있는': 3459, '▁한마디': 3460, '▁순수': 3461, '▁있습니다': 3462, '에서도': 3463, '▁멍청한': 3464, '▁당시에': 3465, '▁끝이': 3466, '▁혼': 3467, '▁슈퍼': 3468, '컬': 3469, '밝': 3470, 'K': 3471, '▁열심히': 3472, '▁크리스마스': 3473, '혈': 3474, '▁채널': 3475, '▁발견': 3476, '▁상처': 3477, '▁잔인한': 3478, '▁찌질': 3479, '▁행': 3480, '▁조합': 3481, '▁분노': 3482, '▁짐': 3483, '▁검': 3484, '▁야동': 3485, '공감': 3486, '▁개인': 3487, '▁좋아할': 3488, '착': 3489, '캐릭터': 3490, '▁형님': 3491, '웨': 3492, '치곤': 3493, '▁보니까': 3494, '째': 3495, '뭐야': 3496, '▁하루': 3497, '닌': 3498, '었지': 3499, '젠': 3500, '야할': 3501, '▁좋아서': 3502, '▁받아': 3503, '▁나오고': 3504, '▁가진': 3505, '▁케이블': 3506, '▁지루하게': 3507, '시고': 3508, '텐': 3509, '놨': 3510, '▁사랑은': 3511, '떼': 3512, '롤': 3513, '▁전문가': 3514, '식이': 3515, '▁주인공의': 3516, '▁같아': 3517, '▁개뿔': 3518, '▁흐름': 3519, '▁많아': 3520, '하시는': 3521, '▁달달': 3522, 'ing': 3523, '▁악당': 3524, '했네요': 3525, '집니다': 3526, '▁돌아가': 3527, '▁보인다': 3528, '▁이럴': 3529, '▁역할': 3530, '▁퍼': 3531, '몇': 3532, '▁괜찮다': 3533, '▁심장': 3534, '▁싶네요': 3535, '만의': 3536, '▁지구': 3537, '아쉽': 3538, '▁즐기': 3539, '▁죽는줄': 3540, '없는영화': 3541, '▁감동적이다': 3542, '▁손발이': 3543, '▁아이가': 3544, '▁놀라': 3545, '▁어릴': 3546, '▁꽃': 3547, '겠네요': 3548, '▁십': 3549, '▁낮다': 3550, '▁전설의': 3551, '자의': 3552, '▁보자': 3553, 'ᅥ': 3554, '칙': 3555, '팀': 3556, '▁무언가': 3557, '▁잊을수': 3558, '▁되었': 3559, '▁희생': 3560, '▁뜬금없': 3561, '▁결말은': 3562, '▁통해': 3563, '야한다': 3564, '▁북한': 3565, 'G': 3566, '멍': 3567, '하하하': 3568, '▁끝났': 3569, '즘': 3570, '할수있': 3571, '▁저렇게': 3572, '▁되지': 3573, 'is': 3574, '▁뒤로': 3575, '▁잔잔': 3576, '쩔': 3577, '이였다': 3578, '균': 3579, '뽀': 3580, '★': 3581, '▁젠장': 3582, '▁방법': 3583, '▁잊을': 3584, '▁졸리': 3585, '▁전설': 3586, '시길': 3587, '려면': 3588, '▁떠나서': 3589, '▁받았': 3590, '겠어요': 3591, '넣': 3592, '▁낮네': 3593, '한다는': 3594, '▁예쁘': 3595, '버림': 3596, '▁받을': 3597, '▁어쩌': 3598, '▁끊': 3599, '▁O': 3600, '▁좋았을': 3601, '란다': 3602, '적은': 3603, '▁한국인': 3604, '▁훈훈한': 3605, '▁잭': 3606, '▁크게': 3607, '▁있게': 3608, '▁아까울': 3609, '▁재미없게': 3610, '줍니다': 3611, '▁좋았으나': 3612, '왔습니다': 3613, '▁편견': 3614, '▁기다리': 3615, '▁봤더니': 3616, '도아니고': 3617, '▁장르가': 3618, '원작': 3619, '▁11': 3620, '▁재미있습니다': 3621, '▁빼고': 3622, '▁박수를': 3623, '▁아마': 3624, '▁그렇지': 3625, '좋아하는': 3626, '▁원작의': 3627, '▁결말도': 3628, '하지도': 3629, '축': 3630, '▁한심': 3631, '▁밑': 3632, '▁표현한': 3633, '해진': 3634, '▁한참': 3635, '▁가능': 3636, '식으로': 3637, '아무': 3638, '▁보긴': 3639, '잖': 3640, '▁사랑하는': 3641, '▁미안': 3642, '▁지루하기': 3643, '▁웬': 3644, '▁볼게': 3645, '▁친구들': 3646, '▁비디오로': 3647, '▁없어요': 3648, '▁쓸': 3649, '고싶은': 3650, '▁초등학생': 3651, '▁카리스마': 3652, '▁이제서야': 3653, '하는것': 3654, '▁보고나면': 3655, '♥♥♥': 3656, '▁보기에': 3657, '▁낚였다': 3658, '▁의미를': 3659, '▁중에서': 3660, '▁채': 3661, '▁못한다': 3662, '▁멋지': 3663, '▁드라마는': 3664, '▁인간이': 3665, '스럽고': 3666, '▁주기': 3667, '▁생각합니다': 3668, '▁나오면': 3669, '흠': 3670, '새끼들': 3671, '시즌': 3672, '▁그렇': 3673, '▁자신의': 3674, '엄마': 3675, '▁오바': 3676, '잔인': 3677, '▁간다': 3678, '이었음': 3679, '▁떨어지': 3680, '씨가': 3681, '점정도': 3682, '시작': 3683, '▁반성': 3684, '윈': 3685, '▁연예인': 3686, '▁바꿔': 3687, '▁한번쯤': 3688, '▁연결': 3689, '▁씁쓸': 3690, '▁아련': 3691, '▁일품': 3692, '▁감동의': 3693, '▁주말': 3694, '▁묻': 3695, '떨': 3696, '▁멍청': 3697, 'bb': 3698, '▁전쟁영화': 3699, '▁없었던': 3700, '▁아쉽네요': 3701, '!!!!!!!!!!!': 3702, '▁의심': 3703, '대단': 3704, '었네': 3705, '♥♥♥♥': 3706, '▁연출도': 3707, '▁왠': 3708, '확': 3709, '▁덕분에': 3710, '▁재미없었다': 3711, '▁중요한': 3712, '이자': 3713, '▁추억이': 3714, '▁최고였다': 3715, '▁영화에서': 3716, '▁엉망': 3717, '보는내내': 3718, '에서는': 3719, '▁지금은': 3720, '▁가족영화': 3721, '빙': 3722, '있나': 3723, '▁넘치는': 3724, '틈': 3725, '▁18': 3726, 'H': 3727, '긋': 3728, '무서움': 3729, '▁풍경': 3730, '▁13': 3731, '점줌': 3732, '▁몇번': 3733, '▁시도': 3734, '▁무척': 3735, '▁나쁘지': 3736, '▁누구나': 3737, '▁아니야': 3738, '감독의': 3739, '▁신경': 3740, '▁이후로': 3741, '쓰레기영화': 3742, '▁안습': 3743, '▁이런영화를': 3744, '찰': 3745, '▁폴': 3746, '▁가면': 3747, '▁학교': 3748, '▁ᄏᄏᄏᄏᄏᄏᄏ': 3749, '즐': 3750, '허접': 3751, '▁모르': 3752, '▁찌': 3753, '졸작': 3754, '쟁이': 3755, '않는': 3756, '관계': 3757, '섭': 3758, '▁관한': 3759, '▁더불어': 3760, '▁쉽게': 3761, '▁묘사': 3762, '▁맨날': 3763, '▁아픔': 3764, '▁안나': 3765, '▁진지': 3766, '지네요': 3767, '지루함': 3768, '▁양심': 3769, '▁여름': 3770, '▁우주': 3771, '▁빼면': 3772, '감독님': 3773, '▁보고싶어': 3774, '으로서': 3775, '쉽': 3776, '▁뜻': 3777, '뭔가': 3778, '이며': 3779, '이라서': 3780, '▁제로': 3781, '▁찬': 3782, '나왔': 3783, '▁색': 3784, '스러워': 3785, '지도않고': 3786, '하려는': 3787, '▁에로영화': 3788, '되면': 3789, '밥': 3790, '▁히': 3791, '▁투자': 3792, '편을': 3793, '봤어': 3794, '▁안되고': 3795, '▁갔': 3796, '▁끄': 3797, '▁남자가': 3798, '▁쿠': 3799, '베이': 3800, '껴': 3801, '럭': 3802, '▁본거': 3803, '▁싶지': 3804, '▁영화라는': 3805, '제발': 3806, '지않고': 3807, '하기도': 3808, '▁외모': 3809, '았어요': 3810, '속의': 3811, '▁있으': 3812, '▁영화인듯': 3813, '▁허세': 3814, '▁않게': 3815, '보구': 3816, '▁공부': 3817, '▁낮지': 3818, '사는': 3819, '브라': 3820, 'ᄋᄋ': 3821, '하지마': 3822, '없어서': 3823, '덜': 3824, '▁이유를': 3825, '몰입': 3826, '보고싶': 3827, '연기력': 3828, '▁또한': 3829, '드립니다': 3830, '▁조잡': 3831, '▁남자의': 3832, '▁보게되': 3833, '농': 3834, '셀': 3835, '뮤': 3836, '렁': 3837, '▁소소한': 3838, '▁아직까지': 3839, '▁히어로': 3840, '▁감흥': 3841, '▁그저그런': 3842, '자체가': 3843, '▁시각': 3844, '▁있구나': 3845, '▁이래서': 3846, '▁낚시': 3847, '있냐': 3848, '▁필요한': 3849, '▁영어': 3850, '▁먹고': 3851, 'es': 3852, '▁아픈': 3853, '편에': 3854, '▁작은': 3855, '▁보지마라': 3856, '▁그녀의': 3857, '놔': 3858, '▁최고임': 3859, '한것': 3860, '머니': 3861, '아깝': 3862, '▁사랑의': 3863, '▁많았': 3864, '▁행복한': 3865, 'me': 3866, '▁공포물': 3867, '후회': 3868, '님들': 3869, '재밌어': 3870, '뭔': 3871, '헌': 3872, '컷': 3873, '렷': 3874, 'z': 3875, '▁어처구니': 3876, '▁김기덕': 3877, '▁모험': 3878, '빨리': 3879, '▁못하다': 3880, '아니라': 3881, '▁하는데': 3882, '대는': 3883, '었나': 3884, '▁색감': 3885, '공포영화': 3886, '로는': 3887, '▁볼수있': 3888, '▁착': 3889, '▁집에서': 3890, '▁아쉬움': 3891, '▁몰라도': 3892, '보여': 3893, '▁희': 3894, '▁멍': 3895, '..^^': 3896, '렉': 3897, '▁현실적이': 3898, '그리': 3899, '▁탈': 3900, '▁이해할': 3901, 'F': 3902, '▁망치': 3903, '▁낮아': 3904, '웃김': 3905, '적이다': 3906, '▁놈': 3907, '▁풀': 3908, 'ᄒᄒᄒᄒ': 3909, '냈': 3910, '워서': 3911, '챙': 3912, '톱': 3913, '▁아름다웠': 3914, '▁the': 3915, '▁극장가서': 3916, '안됨': 3917, '겠습니다': 3918, '▁최초': 3919, '▁다룬': 3920, '일본': 3921, '가능한': 3922, '했을까': 3923, '▁봐도봐도': 3924, '▁진부하고': 3925, '▁ᄀ': 3926, '▁기대이상': 3927, '아까운': 3928, '▁있으면': 3929, '▁훌륭하다': 3930, '▁재미도없고': 3931, '▁명화': 3932, '▁착한': 3933, '▁비하면': 3934, 'en': 3935, '▁잼나게': 3936, '▁배우들도': 3937, '버리는': 3938, '년도에': 3939, '져서': 3940, '▁딱히': 3941, '▁불쌍하다': 3942, '▁재미와': 3943, '할까': 3944, '▁안보고': 3945, '▁척': 3946, '돋': 3947, '▁애기': 3948, '▁안맞': 3949, '▁식상한': 3950, '▁즐겁': 3951, '검': 3952, '▁진수': 3953, '▁잘만들었': 3954, '▁못해': 3955, '▁인간들': 3956, '륜': 3957, '찮': 3958, '둔': 3959, '▁에피소드': 3960, '▁특수효과': 3961, '▁왠만하면': 3962, '▁외계인': 3963, '▁떨어진다': 3964, '▁아까웠다': 3965, '▁알수': 3966, '까지는': 3967, '▁상업': 3968, '▁봤을까': 3969, '▁용기': 3970, '▁잼있어요': 3971, '자를': 3972, '▁에이': 3973, '▁최소': 3974, '▁:': 3975, '▁보여준다': 3976, '▁생각한다': 3977, '▁죽을': 3978, '고싶어': 3979, '기위해': 3980, '▁부르': 3981, '▁가지': 3982, '▁여행': 3983, '보고싶다': 3984, '▁한심한': 3985, '▁조작': 3986, '..;;': 3987, '▁신비': 3988, '스럽게': 3989, '▁않지만': 3990, '▁작품이다': 3991, '지말고': 3992, '▁판': 3993, '▁만들고': 3994, '▁야구': 3995, '▁싶은데': 3996, '보셈': 3997, '▁우리가': 3998, '낀': 3999, '꾼': 4000, '핑': 4001, '헬': 4002, '▁불구하고': 4003, '100': 4004, '▁좋아하는데': 4005, '▁바꾸': 4006, '▁D': 4007, '▁가슴을': 4008, '▁전율': 4009, '▁반담': 4010, '했었': 4011, '▁기억나는': 4012, '▁^': 4013, '보소': 4014, '▁잘봤어요': 4015, '적이지': 4016, '▁재밋어요': 4017, '▁장면에서': 4018, '▁느낌을': 4019, '▁감히': 4020, '사회': 4021, '살아': 4022, '▁없는데': 4023, '▁되고': 4024, '▁노래가': 4025, '버릴': 4026, '▁재미있었': 4027, '▁밋밋': 4028, '▁아침': 4029, '▁다만': 4030, '센': 4031, '만이': 4032, '빌': 4033, '빛': 4034, '▁보지말': 4035, '▁재미있어': 4036, '닮': 4037, '는구나': 4038, '섹': 4039, '▁블랙': 4040, '괜': 4041, '컨': 4042, '닷': 4043, '▁고양이': 4044, '봤네요': 4045, '▁말아먹': 4046, '뻔한': 4047, '배경': 4048, '▁것들': 4049, '실력': 4050, '▁재밌다고': 4051, '▁만남': 4052, '▁설마': 4053, '지를': 4054, '랄까': 4055, '▁답답한': 4056, '▁ᄌ': 4057, '▁보통': 4058, '▁조카': 4059, '▁못할': 4060, '▁엄': 4061, '▁그립다': 4062, '했지': 4063, '▁G': 4064, '-_-;': 4065, '▁포스': 4066, '▁뭐라': 4067, '▁정말이지': 4068, '▁소름이': 4069, '▁맹': 4070, '<': 4071, '큰': 4072, '▁워': 4073, '▁기독교': 4074, '델': 4075, '핀': 4076, '▁후속작': 4077, '▁이런건': 4078, '▁니콜': 4079, '▁아역': 4080, '년만에': 4081, '▁영원히': 4082, '▁행동': 4083, '▁아이돌': 4084, '▁오래된': 4085, '▁탑': 4086, '▁의문': 4087, '때매': 4088, '▁만든거': 4089, '▁고통': 4090, '▁떨': 4091, '▁악마': 4092, '▁지나도': 4093, '▁전체': 4094, '▁삶에': 4095, '베리': 4096, '▁시청': 4097, '하군': 4098, '▁뭘까': 4099, '자체': 4100, '레스': 4101, '점대는': 4102, '줘야': 4103, '간의': 4104, '▁심하게': 4105, '▁아름답': 4106, '▁하는지': 4107, '▁남자들': 4108, '▁조화': 4109, '내고': 4110, '씨의': 4111, '▁보시': 4112, '▁좀비영화': 4113, '▁가져': 4114, '▁유명': 4115, '우리': 4116, '▁만든영화': 4117, '▁눈에': 4118, '절대': 4119, '앤': 4120, '개그': 4121, '엑': 4122, '▁DVD': 4123, '^-^': 4124, '닉': 4125, '쿨': 4126, '▁로봇': 4127, '▁기다려': 4128, '관람': 4129, '웃겨': 4130, '▁특별한': 4131, '▁힘이': 4132, '세상': 4133, '▁귀엽다': 4134, '▁끌어': 4135, '▁좋았지만': 4136, '▁케이블에서': 4137, '무섭': 4138, '억지': 4139, '전쟁': 4140, '▁넣': 4141, '것인가': 4142, '▁오락': 4143, '▁자살': 4144, '기에는': 4145, 'ᄋᄋᄋ': 4146, '▁노래도': 4147, '▁잼있음': 4148, '▁잤다': 4149, '씬은': 4150, '▁가득': 4151, '▁볼수있는': 4152, '▁같아서': 4153, '버전': 4154, '▁말하는': 4155, '▁가슴에': 4156, '보니까': 4157, '잇는': 4158, '스키': 4159, '럼': 4160, '우스': 4161, '만듬': 4162, '배우가': 4163, '옴': 4164, '▁봤네': 4165, '▁참신한': 4166, '와는': 4167, '▁로버트': 4168, '▁심형래': 4169, '▁패러디': 4170, '▁제이슨': 4171, '▁느껴진다': 4172, '빠지': 4173, '더빙': 4174, '▁지켜': 4175, '▁크리스': 4176, '▁넌': 4177, '▁나에겐': 4178, '▁이미지': 4179, '▁됨': 4180, '▁조절': 4181, '▁클레멘타인': 4182, '▁괜찮음': 4183, '건만': 4184, '▁최고의영화': 4185, '▁내용인지': 4186, '▁동안': 4187, '▁맞아': 4188, '▁코미디영화': 4189, '하는영화': 4190, '▁빠진': 4191, '▁말하고': 4192, '▁싶어요': 4193, '저리': 4194, '▁꿈을': 4195, '▁재미없어서': 4196, '영화인데': 4197, '▁살려': 4198, '▁완전히': 4199, '▁철학': 4200, '▁니들': 4201, '명의': 4202, '년작': 4203, '▁괜찮았다': 4204, '해야지': 4205, 'ᄏᄏᄏᄏᄏᄏᄏᄏᄏᄏᄏᄏ': 4206, '▁있다니': 4207, '주고싶': 4208, 'ᄎ': 4209, '▁왤케': 4210, '탓': 4211, '▁교과서': 4212, '▁아류작': 4213, '꼴': 4214, '▁만들면': 4215, '▁겨우': 4216, '겁니다': 4217, '▁짜증난다': 4218, '보지': 4219, '▁열연': 4220, '굳굳': 4221, '아까워': 4222, '으려': 4223, '▁헤어': 4224, '같은영화': 4225, '▁분위기가': 4226, '▁새벽에': 4227, '▁삼류영화': 4228, '영화입니다': 4229, '리아': 4230, '▁할까': 4231, '▁주기도': 4232, '▁보다니': 4233, '거라': 4234, '하신': 4235, 'ᅮᅮᅮ': 4236, '었을': 4237, '▁m': 4238, '거리는': 4239, '▁예쁘고': 4240, '어디': 4241, '했다는': 4242, '하고싶은': 4243, '른다': 4244, '▁자식': 4245, '▁라는': 4246, '▁이런영화는': 4247, '오래': 4248, '액': 4249, '▁안타까운': 4250, '곰': 4251, '찐': 4252, '▁인내심': 4253, '▁내생에': 4254, '어여': 4255, '촌': 4256, '밤': 4257, '▁두번째': 4258, '▁엔딩이': 4259, '▁정의': 4260, '▁따뜻하고': 4261, '^^*': 4262, '▁이딴걸': 4263, '▁기술': 4264, '후에': 4265, '그래서': 4266, '▁웃고': 4267, '▁사람의': 4268, '하는건': 4269, '▁별로임': 4270, '올리': 4271, '엔딩': 4272, '▁소장': 4273, '▁본듯': 4274, '좋은영화': 4275, '▁도전': 4276, '▁나오네': 4277, '▁중요': 4278, '▁가치가': 4279, '▁뛰어나': 4280, '믿': 4281, '▁구성이': 4282, '▁잇': 4283, '▁캐릭터가': 4284, '▁여러분': 4285, '하기엔': 4286, '▁최대': 4287, '글자': 4288, 'as': 4289, '칸': 4290, 'J': 4291, '룩': 4292, '▁피해자': 4293, '▁어째': 4294, '주기': 4295, '냈다': 4296, '▁전투': 4297, '아저씨': 4298, '차라리': 4299, '키드': 4300, '▁강력': 4301, '봣다': 4302, '▁신선하': 4303, '▁그당시': 4304, '▁최근에': 4305, '▁겉': 4306, '▁톰': 4307, '▁드립니다': 4308, '▁돼': 4309, '햇다': 4310, '▁들었': 4311, '▁초딩때': 4312, '하겠다': 4313, '▁느꼈': 4314, '▁시간아깝다': 4315, '나가는': 4316, '▁풍자': 4317, '져요': 4318, '됐다': 4319, '▁본다면': 4320, '▁쩔어': 4321, '▁재밌어서': 4322, '▁속에': 4323, 'al': 4324, '▁예쁘다': 4325, '▁맞지': 4326, '▁대사가': 4327, '▁다르다': 4328, '자리': 4329, '늦': 4330, '▁러닝타임': 4331, '▁박중훈': 4332, '싼': 4333, '▁아이디어': 4334, '▁어설프고': 4335, '았지만': 4336, '▁놀라운': 4337, '▁쩔': 4338, '▁국민': 4339, '▁디워': 4340, '쓰는': 4341, '▁방영': 4342, '이걸': 4343, '▁선생님': 4344, '▁여운을': 4345, '▁운명': 4346, '▁아까운영화': 4347, '▁많은걸': 4348, '▁ᄏᄏᄏᄏᄏᄏᄏᄏ': 4349, '멜로': 4350, '얘': 4351, '▁보내': 4352, '▁뿐이다': 4353, '▁못함': 4354, '▁다운': 4355, '▁죽이는': 4356, '버스': 4357, '▁밤': 4358, '▁인상': 4359, '▁포스터가': 4360, '긴하지만': 4361, '▁푸': 4362, '▁이상하게': 4363, '▁생각하는': 4364, '▁좋아해서': 4365, '▁즐': 4366, '▁눈물나': 4367, '▁관객을': 4368, '▁누군가': 4369, '~~!!': 4370, '굳': 4371, '▁잤': 4372, '▁원작에': 4373, '▁장면들': 4374, '▁평점보고': 4375, '묵': 4376, '뚱': 4377, '딜': 4378, '랭': 4379, '▁제니퍼': 4380, '▁깔끔하': 4381, '▁개봉한': 4382, '▁달콤': 4383, '▁잠깐': 4384, '▁잔혹': 4385, '▁거짓말': 4386, '▁좋겠어요': 4387, '▁화려하': 4388, '▁사진': 4389, '맹': 4390, '춤': 4391, '비디오': 4392, '헐': 4393, '▁몰입해서': 4394, '▁정도의': 4395, '멋있': 4396, '쩐다': 4397, '낫': 4398, '▁영상이': 4399, '▁끼': 4400, '▁응': 4401, '▁으리': 4402, '▁이상의': 4403, 'ut': 4404, '했었는데': 4405, '아까': 4406, '▁슈': 4407, '인건': 4408, '▁단편': 4409, '▁쉬': 4410, '~~~~~~~': 4411, '▁W': 4412, '나올때': 4413, '▁살다살다': 4414, '▁주윤발': 4415, '부끄럽': 4416, '▁끔찍': 4417, '▁즐거웠': 4418, '손가락': 4419, '▁바뀌': 4420, '▁4.44': 4421, '▁검색': 4422, '▁할머니': 4423, '▁이런류': 4424, '▁만들었는지': 4425, '▁세상을': 4426, '▁재밌지': 4427, '▁만한': 4428, '▁우리는': 4429, '배우들의': 4430, '▁다시는': 4431, '지말자': 4432, '▁개노잼': 4433, '꽃': 4434, '화이팅': 4435, '아직도': 4436, '얼굴': 4437, '▁볼만했다': 4438, '▁만들다니': 4439, '주면': 4440, '▁F': 4441, '치고는': 4442, '▁그럴': 4443, '재미있어요': 4444, '소설': 4445, '▁본지': 4446, '▁촌스럽': 4447, '었는지': 4448, '99': 4449, '트리': 4450, '!!!!!!!!!!!!!!!!': 4451, '흘': 4452, 'ᄏᄏᄏᄏᄏᄏᄏ': 4453, '문화': 4454, '어이없': 4455, '▁가볍': 4456, '점부터': 4457, '▁술': 4458, '▁우리의': 4459, '▁개성': 4460, '▁단지': 4461, '쩜': 4462, '30': 4463, '▁어렵다': 4464, '▁시리즈는': 4465, '▁제목만': 4466, '으니까': 4467, '랫': 4468, 'U': 4469, '욤': 4470, '▁가벼운': 4471, '쭉': 4472, '▁무엇인지': 4473, '▁잔뜩': 4474, '▁1,2': 4475, '▁해라': 4476, '▁비현실적': 4477, '▁sf': 4478, '▁생각하고': 4479, '▁다섯': 4480, '▁믿고보는': 4481, '▁=': 4482, '▁안맞는': 4483, '▁들어가': 4484, '▁하늘': 4485, '▁고마': 4486, '같아': 4487, '▁무술': 4488, '▁아쉽지만': 4489, '▁있어야': 4490, '▁매력을': 4491, '▁p': 4492, '갈수록': 4493, '▁없습니다': 4494, '▁먼가': 4495, '나오네': 4496, '▁돋보이는': 4497, '아까웠': 4498, '▁여전': 4499, '▁한국에서': 4500, '잡고': 4501, '었고': 4502, '▁명작을': 4503, '▁조연': 4504, '▁평론가들': 4505, '럴': 4506, '씀': 4507, '는거야': 4508, '모두': 4509, '14': 4510, '아까움': 4511, '못해': 4512, '바닥': 4513, '▁끈': 4514, '▁하는거': 4515, '▁만들기': 4516, '▁내면': 4517, '왓': 4518, '콘': 4519, '▁따로': 4520, '숭': 4521, '롯': 4522, '▁dvd': 4523, '쪼': 4524, '층': 4525, '특별': 4526, '▁귀여움': 4527, '▁교육': 4528, '▁흑인': 4529, '▁하나하나': 4530, '▁있네': 4531, 'ᄏᄏᄏᄏᄏᄏᄏᄏ': 4532, '▁응원': 4533, '▁영상과': 4534, '앞': 4535, '것같은': 4536, '만하다': 4537, '▁남네요': 4538, '▁개막장': 4539, '▁작가가': 4540, '▁연극': 4541, '▁나름대로': 4542, '재미있게': 4543, '▁울리는': 4544, '▁21': 4545, '▁꼬마': 4546, '▁ᄍᄍᄍ': 4547, '▁엿': 4548, '▁재미로': 4549, '▁영화라니': 4550, '갓': 4551, '▁모르게': 4552, '덕에': 4553, '관객': 4554, '포스터': 4555, '추억': 4556, '▁어디에': 4557, '▁엉성하고': 4558, '▁영원한': 4559, '하길': 4560, '좋았다': 4561, '▁망했': 4562, '드려': 4563, '▁사랑해요': 4564, '▁안본': 4565, '▁나랑': 4566, '보시길': 4567, '▁주연배우': 4568, '▁만들수': 4569, '▁군': 4570, '▁재밋음': 4571, '라곤': 4572, '웨이': 4573, '▁재미있는데': 4574, '씬이': 4575, '▁발상': 4576, '무시': 4577, '제로': 4578, '켜': 4579, '부분이': 4580, '▁작품을': 4581, '보이는': 4582, 'ad': 4583, '본사람': 4584, '▁답이': 4585, '▁그자체': 4586, '▁남아있': 4587, '재미없어': 4588, '장애': 4589, 'ᅮᅲ': 4590, '▁작품은': 4591, '▁오락영화': 4592, '문제': 4593, '▁라이': 4594, '놈이': 4595, '▁흥': 4596, '략': 4597, '높은': 4598, '읍': 4599, '▁짜임새': 4600, '▁장국영': 4601, '▁허술한': 4602, '▁뭥미': 4603, '▁유일하게': 4604, '▁이따구': 4605, '▁탄생': 4606, '▁허술하': 4607, '기까지': 4608, '▁은근히': 4609, '▁결코': 4610, '▁낙': 4611, '▁봤을때': 4612, '▁대표': 4613, '다큐': 4614, '바라': 4615, '▁욕망': 4616, '▁하품': 4617, '▁인물들': 4618, '▁ᄒᄒᄒᄒ': 4619, '▁소년': 4620, '▁않을까': 4621, '▁동심': 4622, '▁부모': 4623, '▁재밌었던': 4624, '▁수준의': 4625, '▁부실': 4626, '번은': 4627, '었네요': 4628, '▁테러': 4629, '▁반전은': 4630, '걍': 4631, '코믹': 4632, '▁나쁘': 4633, '어린': 4634, '낚': 4635, '▁유치해': 4636, '▁커플': 4637, '▁긴장감이': 4638, '▁매미': 4639, '▁편안': 4640, '▁망친': 4641, '▁어른들': 4642, '▁아이들과': 4643, '▁형사': 4644, '여주': 4645, '더라도': 4646, '게하는': 4647, '마지막에': 4648, 'X': 4649, '▁연출과': 4650, '딘': 4651, '▁스포츠': 4652, '뗄': 4653, '싹': 4654, '▁숨겨진': 4655, '▁내생애': 4656, '▁제임스': 4657, '▁즐겨': 4658, '▁때문': 4659, '▁멋졌': 4660, '▁담배': 4661, '▁갈등': 4662, '▁단어': 4663, '▁반복': 4664, '▁오랫만에': 4665, '▁돈을': 4666, '▁좋게': 4667, '▁울면서': 4668, '▁최고봉': 4669, '▁남겨': 4670, '안되는': 4671, '▁궁금하다': 4672, '읽': 4673, '▁강한': 4674, '려나': 4675, '휘': 4676, '논': 4677, '▁한편의': 4678, '▁놀랍다': 4679, '이름': 4680, '지않아': 4681, '▁넘게': 4682, '었을까': 4683, '지루해': 4684, '▁뽑': 4685, '▁수작이다': 4686, '▁자랑': 4687, '소름돋': 4688, '▁읽어': 4689, '점이상': 4690, 'ᄍ': 4691, '▁재미없을': 4692, '▁줘야': 4693, '▁거장': 4694, '▁느낌의': 4695, '▁난해하': 4696, '▁아깝고': 4697, '낭': 4698, '▁자주': 4699, '부작': 4700, '출연': 4701, '▁궁': 4702, '▁조아': 4703, '엠': 4704, 'ᅢ': 4705, '▁동성애': 4706, '▁유일한': 4707, '거같은데': 4708, '그만': 4709, '▁언제봐도': 4710, '▁만들었을까': 4711, '큐': 4712, '▁따뜻해': 4713, '▁인상적': 4714, '▁재미있었음': 4715, '▁축구': 4716, '▁멋있는': 4717, '▁잠이': 4718, '▁알려': 4719, '기전에': 4720, '▁막장드라마': 4721, '삶': 4722, '보는게': 4723, '▁썼': 4724, '▁괜찮네요': 4725, '~~^^': 4726, '잼씀': 4727, '푸': 4728, '쩝': 4729, '듣': 4730, '긴장감': 4731, '▁사랑합니다': 4732, '것만으로도': 4733, '▁생각함': 4734, '여운이': 4735, '갑니다': 4736, '▁있었지만': 4737, '▁잔잔하면서': 4738, '▁기대했': 4739, '▁봐야하는': 4740, '▁조용': 4741, '신분들': 4742, '▁틀어': 4743, '▁영화보면서': 4744, '류영화': 4745, '▁전편보다': 4746, '▁높게': 4747, '▁견': 4748, '▁원작이': 4749, '▁순수함': 4750, '▁돌리': 4751, '렵': 4752, '닿': 4753, '냄새': 4754, '삐': 4755, '▁러시아': 4756, '▁빵빵': 4757, '▁뭐하자는': 4758, '▁여러가지': 4759, '▁ᄃᄃᄃ': 4760, '▁내게': 4761, '▁재개봉': 4762, '▁남자주인공': 4763, '▁출연한': 4764, '▁인생에': 4765, '▁집에': 4766, '▁한명': 4767, '▁모르겠지만': 4768, '▁한개도': 4769, '▁허무한': 4770, '▁모르겠음': 4771, '내내': 4772, '▁199': 4773, '▁버리': 4774, '▁기대이하': 4775, '빠진': 4776, '맥': 4777, '▁영환데': 4778, '뇌': 4779, '▁생각나서': 4780, '▁찰': 4781, '▁못보겠다': 4782, '몸': 4783, '▁싶을': 4784, '▁지겹다': 4785, '▁알수있': 4786, '▁촌': 4787, '->': 4788, '구리': 4789, '▁영화인가': 4790, '노답': 4791, '나이': 4792, '존나': 4793, '줘도': 4794, '▁살린': 4795, '▁낮게': 4796, '▁휘': 4797, '▁죽은': 4798, '▁안봐도': 4799, '깝': 4800, '같지': 4801, '거면': 4802, '▁폐': 4803, '려다가': 4804, '▁보라': 4805, '쾌': 4806, '▁마이': 4807, '할뿐': 4808, '▁안볼': 4809, '뷰': 4810, '폼': 4811, '▁북': 4812, '땀': 4813, '▁조니뎁': 4814, '젖': 4815, '▁스스로': 4816, '▁폭풍': 4817, '▁경험': 4818, '▁깜': 4819, '▁돈아까워': 4820, '▁최고로': 4821, '보임': 4822, '사건': 4823, '▁일어나': 4824, '▁감각': 4825, '▁존경': 4826, '▁속았다': 4827, '▁탄탄': 4828, '빠져': 4829, '▁영혼': 4830, '후반': 4831, '줘서': 4832, '이딴': 4833, '▁봐야지': 4834, '▁마지막장면': 4835, '▁모든걸': 4836, '▁연기력도': 4837, '▁강렬한': 4838, '보여주': 4839, '▁영화인지': 4840, '▁없나요': 4841, '게임': 4842, '▁한국판': 4843, '없나': 4844, '벤': 4845, '벗': 4846, '▁수입': 4847, '최고다': 4848, '▁없냐': 4849, '▁남편': 4850, '▁정도면': 4851, '▁유명한': 4852, '▁제외': 4853, '▁않네요': 4854, '▁대화': 4855, '▁요리': 4856, '다는게': 4857, '하하하하': 4858, '▁이상해': 4859, '▁아니지': 4860, '거같아요': 4861, '▁뭐니': 4862, '▁모를': 4863, '▁주제가': 4864, '있어서': 4865, '같지만': 4866, '하진': 4867, '이후': 4868, '▁살고': 4869, '▁사랑해': 4870, '▁러브': 4871, '▁스티븐': 4872, '곱': 4873, '켄': 4874, '탱': 4875, '▁우려먹': 4876, '▁울컥': 4877, '보느니': 4878, '▁이뻐서': 4879, '▁싶었': 4880, '▁억지스러운': 4881, '▁남은': 4882, '▁살면서': 4883, '▁볼만합니다': 4884, '로드': 4885, '▁졸았': 4886, '▁속에서': 4887, '한다고': 4888, '▁들었다': 4889, '▁홀': 4890, '▁기회': 4891, '부러': 4892, '있습니다': 4893, '너무너무': 4894, '▁죽이고': 4895, '해야할': 4896, '어색': 4897, '▁본건데': 4898, '▁두고': 4899, '감정': 4900, '▁장난치': 4901, '▁축': 4902, '▁감동적이네요': 4903, '물을': 4904, '되었다': 4905, '▁못보겠': 4906, '▁많고': 4907, '▁벤': 4908, '귀엽': 4909, 'th': 4910, '▁갑니다': 4911, '▁열받': 4912, '▁:)': 4913, '극장에서': 4914, '외엔': 4915, '00': 4916, '조아': 4917, '조금': 4918, '닐': 4919, '▁얼마': 4920, '▁몽': 4921, '▁볼때': 4922, '▁아냐': 4923, 'ᅩ': 4924, '▁포스터만': 4925, '부터가': 4926, '팍': 4927, '▁블록버스터': 4928, '벼': 4929, '▁나레이션': 4930, '▁빨갱이': 4931, '▁우뢰매': 4932, '쟈': 4933, '▁이소룡': 4934, '▁스트레스': 4935, '▁다양한': 4936, '납니다': 4937, '▁작위적': 4938, '▁아우': 4939, '▁짧은': 4940, '▁손색': 4941, '▁여주인공이': 4942, '▁로코': 4943, '▁그지같': 4944, '▁대중': 4945, '▁길게': 4946, '▁하나로': 4947, '있었다': 4948, '90': 4949, '▁재능': 4950, '장면은': 4951, '▁소설을': 4952, '▁해석': 4953, '▁생각난다': 4954, '▁잘하고': 4955, '할수가': 4956, '▁보려고': 4957, '▁맛이': 4958, '▁난잡': 4959, '주연': 4960, '▁액션씬': 4961, '▁조선': 4962, '▁충분': 4963, '▁관객들': 4964, '▁영화보는': 4965, '어떻게': 4966, '둥이': 4967, '엄청': 4968, '커플': 4969, '재밋다': 4970, 'ᄏᄏᄏᄏᄏᄏ': 4971, '했더니': 4972, '때부터': 4973, '▁감정을': 4974, '▁생각하면': 4975, '▁당신은': 4976, '▁강렬': 4977, '▁불쌍한': 4978, '▁옥': 4979, '번을': 4980, '▁느껴졌': 4981, '▁그거': 4982, '80': 4983, '말이필요없': 4984, '엽': 4985, '칭': 4986, '▁명불허전': 4987, '앵': 4988, '▁웰메이드': 4989, '▁짜집기': 4990, '▁직접': 4991, '▁익숙': 4992, '▁암튼': 4993, '▁장난하냐': 4994, '▁감동적이에요': 4995, '▁감동은': 4996, '▁다신': 4997, '답니다': 4998, '▁여자주인공': 4999, '구석': 5000, '▁조낸': 5001, '▁보았습니다': 5002, '▁재밌게봤': 5003, '▁하아': 5004, '받는': 5005, '▁보다는': 5006, '것같아요': 5007, '▁무섭지': 5008, '▁내돈': 5009, '▁끝날': 5010, '다시보고싶': 5011, '▁알겠다': 5012, '▁알았네': 5013, '오브': 5014, '▁탐': 5015, '▁교훈을': 5016, '▁키스': 5017, '▁배우를': 5018, '▁기자': 5019, '재미도': 5020, '기억이': 5021, '▁멋지고': 5022, '으로써': 5023, '▁웃을': 5024, '▁나머지': 5025, '광구': 5026, '▁손에': 5027, '▁마리': 5028, '없었': 5029, '잤': 5030, '붙': 5031, '불쌍': 5032, '▁줄수': 5033, '▁열라': 5034, '▁풋풋': 5035, '딴': 5036, '도좋고': 5037, '그랬': 5038, '▁지겹': 5039, '▁어른이': 5040, '▁황당한': 5041, '스토리도': 5042, '▁슬픈영화': 5043, '같아서': 5044, '▁보기에는': 5045, '봤으면': 5046, '▁쩌는': 5047, '▁몰랐다': 5048, '▁뱀파이어': 5049, '곽': 5050, '똘': 5051, '▁you': 5052, '▁아놀드': 5053, '▁닥치고': 5054, '▁반드시': 5055, '▁동시에': 5056, '▁아프다': 5057, '▁알겠는데': 5058, '▁웃으면서': 5059, '▁적어도': 5060, '▁근래': 5061, '▁내용전개': 5062, '▁비밀': 5063, '▁괜찮았는데': 5064, '▁잔잔하게': 5065, '▁좋겠네요': 5066, '쳐서': 5067, '▁당연': 5068, '▁중독': 5069, '였으면': 5070, '▁변화': 5071, '▁별로고': 5072, '요소': 5073, '▁떠오르': 5074, '역사': 5075, '▁원조': 5076, '만족': 5077, '▁옷': 5078, '▁절정': 5079, '쟁': 5080, '받아': 5081, '주기도': 5082, '할것': 5083, '▁불러': 5084, '▁샘': 5085, '▁아깝네': 5086, '▁소재도': 5087, '▁프랑스영화': 5088, '▁새로': 5089, '같고': 5090, '겐': 5091, '있을': 5092, '뭘': 5093, '▁반전을': 5094, '▁갓': 5095, '▁주제를': 5096, '▁둘이': 5097, '아빠': 5098, '▁사상': 5099, '늙': 5100, '▁한국영화의': 5101, '▁영환': 5102, '▁만드네': 5103, '재미있다': 5104, '있어요': 5105, '볼수있': 5106, '▁않나': 5107, '▁없으면': 5108, '!!!!!!': 5109, '▁망쳐': 5110, '획': 5111, '윌': 5112, '앨': 5113, '옵': 5114, 'ᄁ': 5115, '▁홍상수': 5116, '▁역겨운': 5117, '▁평균': 5118, '▁말도안되는': 5119, '▁빼곤': 5120, '▁불편한': 5121, '▁그야말로': 5122, '학년': 5123, '▁집중해서': 5124, '분은': 5125, '요즘': 5126, '야겠다': 5127, '▁앞으로도': 5128, '▁머리가': 5129, '▁인상적이': 5130, '▁책을': 5131, '▁답답하고': 5132, '지마세요': 5133, '▁잠들': 5134, '▁싸움': 5135, '엇는데': 5136, '둥': 5137, '▁시간만': 5138, '겠어': 5139, '▁짜증이': 5140, '▁별하나': 5141, '하기에': 5142, '▁부부': 5143, '▁냉': 5144, '아버지': 5145, '▁대부분': 5146, '▁위해서': 5147, '▁쌍': 5148, '▁장진': 5149, '▁소재와': 5150, '보지마': 5151, '나오고': 5152, '▁잼있는': 5153, '▁어울리는': 5154, '▁포스터에': 5155, '▁생각으로': 5156, '갔는데': 5157, '이었습니다': 5158, '테러': 5159, '▁괜찮고': 5160, '벅': 5161, '밍': 5162, '띄': 5163, '▁아무생각없이': 5164, '▁짐캐리': 5165, '츄': 5166, '▁화장실': 5167, '컴': 5168, '쯧쯧': 5169, '▁희대의': 5170, '▁향연': 5171, '▁블랙코미디': 5172, '▁스텝': 5173, '못한': 5174, '▁집착': 5175, '갠적으로': 5176, '▁실험': 5177, '▁명대사': 5178, '▁오래전에': 5179, '▁만화책': 5180, '▁흔들': 5181, '▁60': 5182, '▁어쩜': 5183, '▁태어나서': 5184, '▁안본다': 5185, '▁대단하': 5186, '▁부모님': 5187, '▁암울': 5188, '▁아만다': 5189, '여행': 5190, '▁깍': 5191, '▁스릴도': 5192, '▁유럽': 5193, '▁개념': 5194, '거같음': 5195, '▁아름답게': 5196, '▁따뜻': 5197, '▁재난영화': 5198, '▁적당한': 5199, '▁재미있을': 5200, '셔서': 5201, '달아': 5202, '▁없었음': 5203, '▁프리': 5204, '지않다': 5205, '▁유치해서': 5206, '▁보며': 5207, '▁안간다': 5208, '▁다시보고': 5209, '▁뭐임': 5210, '▁점수는': 5211, '▁실제로': 5212, '▁그렇다고': 5213, '물로': 5214, '▁잘만들': 5215, '▁오브': 5216, '▁최고최고': 5217, '▁모르겠고': 5218, '썼': 5219, '찡': 5220, '분위기': 5221, '까요': 5222, '싸움': 5223, '느껴': 5224, '이었던': 5225, '▁믿기지': 5226, '▁필요한가': 5227, '▁명배우': 5228, '▁영화예요': 5229, '▁개연성이': 5230, '언제': 5231, '▁형제': 5232, '▁드라마중': 5233, '이러니': 5234, '장르': 5235, '측': 5236, '앉': 5237, '▁이병헌': 5238, '▁스크린': 5239, '▁사운드': 5240, '▁스타뎀': 5241, '▁소중한': 5242, '▁X': 5243, '▁배꼽': 5244, '▁어디가': 5245, '모든': 5246, '분만에': 5247, '았으면': 5248, '▁꼭보세요': 5249, '▁미안하다': 5250, '▁꿀': 5251, '▁공감할': 5252, '뭐냐': 5253, '▁추리': 5254, '▁말하고자': 5255, '▁성격': 5256, '▁괜찮았음': 5257, '▁하길래': 5258, '▁마니': 5259, '▁이해할수': 5260, '▁위트': 5261, '점만점에': 5262, '▁세번': 5263, 'le': 5264, '▁기대없이': 5265, '일듯': 5266, '▁책으로': 5267, '수밖에': 5268, '입장': 5269, '▁넘치': 5270, '▁어울리': 5271, '▁모르겟': 5272, '▁선물': 5273, '멋잇': 5274, '▁않은데': 5275, '▁놀랍': 5276, '▁그립': 5277, '▁전쟁의': 5278, '할만한': 5279, '▁웃었다': 5280, '19': 5281, '▁똑같은': 5282, '▁좋네': 5283, '왔어요': 5284, '젊': 5285, '꼈': 5286, '넬': 5287, '숀': 5288, '헉': 5289, '▁점수준것들': 5290, '깃': 5291, '▁디테일': 5292, '▁깡패': 5293, '▁브루스': 5294, '▁오글거려': 5295, '▁깜짝': 5296, 'ᅲᅲᅲᅲᅲᅲᅲᅲ': 5297, '▁보지마셈': 5298, '▁낭만': 5299, '▁모른다': 5300, '▁그림체': 5301, '▁첫사랑': 5302, '▁상영관': 5303, '▁데리고': 5304, '▁재미있었습니다': 5305, '지루하다': 5306, '▁적당히': 5307, '▁또다른': 5308, '▁절망': 5309, '▁깨닫게': 5310, '▁무리': 5311, '싫어': 5312, '나왓': 5313, '▁억지감동': 5314, '▁하나같이': 5315, '▁다행이다': 5316, '그러나': 5317, '▁결정': 5318, '▁순수하고': 5319, '않음': 5320, '▁귀여워요': 5321, '▁높아서': 5322, '▁정신병자': 5323, '▁몰라': 5324, '▁반전에': 5325, '▁우연': 5326, '▁쉽지': 5327, '스릴': 5328, '▁만들었나': 5329, '▁ᄡ': 5330, '▁비판': 5331, '▁명장면': 5332, '▁넘넘': 5333, '▁보게된': 5334, '선생': 5335, '▁인생영화': 5336, '▁재밋엇': 5337, '▁느꼈다': 5338, '12': 5339, '받아서': 5340, '차원': 5341, '숨': 5342, '▁그럴듯': 5343, '▁감동입니다': 5344, '홀': 5345, '섬': 5346, '때문': 5347, '나름': 5348, '당시': 5349, '▁때려': 5350, '방식': 5351, '안돼': 5352, '이랄까': 5353, '▁당신이': 5354, '▁관점': 5355, '소녀': 5356, '상태': 5357, '하고싶다': 5358, '덩': 5359, '밴': 5360, '▁네티즌': 5361, '▁해리포터': 5362, '껀': 5363, '둡': 5364, '▁도데체': 5365, '▁임창정': 5366, '▁제시카': 5367, '▁Good': 5368, '▁정우성': 5369, '줄알았': 5370, '▁어설프다': 5371, '▁할리우드': 5372, '였나': 5373, '▁케빈': 5374, '▁2000': 5375, '▁여러번': 5376, '▁이루어': 5377, '▁폭발': 5378, '▁추격': 5379, '▁멋져': 5380, '▁부럽': 5381, '▁내용과': 5382, '▁하지원': 5383, '▁어색하': 5384, '▁대해서': 5385, '꺼야': 5386, 'am': 5387, '▁산만하고': 5388, '▁감동받': 5389, '▁실감': 5390, '▁이딴영화': 5391, '▁막판에': 5392, '▁영화였음': 5393, '짜릿': 5394, '간만에': 5395, '▁말자': 5396, '▁갖고': 5397, '500': 5398, '▁받는': 5399, '사람들이': 5400, '맞는': 5401, '만큼이나': 5402, '▁만들어라': 5403, '▁실망스럽': 5404, '▁괜찮게': 5405, '▁대본': 5406, '▁웃기는': 5407, '보인다': 5408, '▁마음으로': 5409, '▁아들이': 5410, '▁본방사수': 5411, '▁효과': 5412, '▁의미가': 5413, '▁기적': 5414, '▁아래': 5415, '▁시청률이': 5416, '▁시도는': 5417, '렬': 5418, '▁최악의영화': 5419, '멜': 5420, '▁어디로': 5421, '임에도': 5422, '탑': 5423, '▁잘한다': 5424, '▁멋있어': 5425, '▁김치': 5426, 'll': 5427, '초반': 5428, '춰': 5429, '▁본인': 5430, '뢰': 5431, '▁아닙니다': 5432, '튜': 5433, '핫': 5434, '▁유덕화': 5435, '▁양아치': 5436, '▁드디어': 5437, '▁플롯': 5438, '▁호기심': 5439, '▁좋겠': 5440, '▁이름이': 5441, '▁2014': 5442, '▁기가': 5443, '▁다운받아': 5444, '▁즐길': 5445, '▁로빈': 5446, '▁사라지': 5447, '▁은근': 5448, '▁여자친구': 5449, '▁에효': 5450, '▁거북': 5451, '▁저평가': 5452, '좋은데': 5453, '▁로망': 5454, 'ᄀᄀ': 5455, '봣어요': 5456, '있지': 5457, '▁이만한': 5458, '▁연기자들': 5459, '봤습니다': 5460, '▁많아서': 5461, '▁답답하다': 5462, '▁독일': 5463, '▁유발': 5464, '▁바다': 5465, '▁인형': 5466, '▁삶이': 5467, '▁연인': 5468, '▁기대하지': 5469, '▁어이없다': 5470, '▁폐지': 5471, '▁기준': 5472, '소름': 5473, '▁돋보인': 5474, '▁진한': 5475, '▁충격적인': 5476, '▁낮네요': 5477, '없구': 5478, '▁잠시': 5479, '▁인생은': 5480, '▁멋진영화': 5481, '좋네요': 5482, '▁방식': 5483, '내용은': 5484, '▁음식': 5485, '▁잘만들었다': 5486, '상영': 5487, '▁얼굴이': 5488, '▁액션과': 5489, '신분': 5490, '▁희망을': 5491, '갖': 5492, '꿀': 5493, '▁앞에': 5494, '시나리오': 5495, '목소리': 5496, '▁그걸': 5497, '▁박수': 5498, '▁예술영화': 5499, '▁제작비가': 5500, '▁자극적': 5501, '주제': 5502, '닫': 5503, '▁킬링': 5504, '▁깔끔한': 5505, '▁임팩트': 5506, '▁타란티노': 5507, '▁터미네이터': 5508, '뱀': 5509, '▁배트맨': 5510, '▁오글오글': 5511, '▁감명깊게': 5512, '▁ᄌᄂ': 5513, '▁늦게': 5514, '▁흐르는': 5515, '▁착각': 5516, '▁꿈꾸': 5517, '▁당연히': 5518, '▁애들은': 5519, '혼자': 5520, '▁거품': 5521, '분동안': 5522, '▁엄마가': 5523, '▁멋져요': 5524, '▁짜증남': 5525, '▁재밋는': 5526, '▁해결': 5527, '▁있던': 5528, '▁씹': 5529, '▁신선함': 5530, '▁보았는데': 5531, '아닌가': 5532, '이예요': 5533, '동생': 5534, '▁매니아': 5535, '만들었냐': 5536, '먹은': 5537, '영환': 5538, '인물': 5539, '▁알았음': 5540, '▁말밖에': 5541, '▁좋아하지만': 5542, '지루하고': 5543, '▁남긴': 5544, '▁않아서': 5545, '▁죽었': 5546, '싫다': 5547, '▁매일': 5548, '뻔했다': 5549, '▁잼있네요': 5550, '▁괜찮아': 5551, '▁잊혀': 5552, '줄알았다': 5553, '옆': 5554, '구먼': 5555, '었구나': 5556, '갈때': 5557, '봐야지': 5558, '있으면': 5559, '▁약간의': 5560, '▁개봉했': 5561, '▁캐리': 5562, '▁보던': 5563, '▁아내': 5564, '보고있어요': 5565, '나왔으면': 5566, '못하는': 5567, '쯔': 5568, '갱': 5569, '밧': 5570, '▁아름다워': 5571, '▁어정쩡': 5572, '눌': 5573, '뭣': 5574, '▁2.22': 5575, '▁소중함을': 5576, '▁명성에': 5577, '▁겉멋': 5578, '▁말이필요없다': 5579, '▁아무런': 5580, '▁보여주고': 5581, '줄알았는데': 5582, '▁매력에': 5583, '▁따름': 5584, '놨네': 5585, 'ᄃᄃᄃ': 5586, '▁애잔': 5587, '▁개꿀잼': 5588, '오늘': 5589, '▁배역': 5590, '▁도망': 5591, '▁아니잖아': 5592, '▁말고는': 5593, '▁치유': 5594, '▁평화': 5595, '▁서울': 5596, '▁좋을듯': 5597, '맞추기': 5598, '▁이름을': 5599, '▁만점에': 5600, '▁아무도': 5601, '▁최고에요': 5602, '▁가고': 5603, '▁짜증나서': 5604, '사람들은': 5605, '▁시작해서': 5606, '▁풋풋한': 5607, '발연기': 5608, '▁한번더': 5609, '▁영구': 5610, '▁무섭게': 5611, '에대해': 5612, '▁뭐하나': 5613, '▁다운받': 5614, '▁간지': 5615, '▁심하다': 5616, '낫다': 5617, '작이라': 5618, '▁작품입니다': 5619, '거죠': 5620, '▁잡아': 5621, '▁작품이라': 5622, '▁재미없네요': 5623, '▁뻔하': 5624, '▁짜증만': 5625, '핵': 5626, '캐스팅': 5627, '도대체': 5628, '건가요': 5629, '빗': 5630, '덴': 5631, '퀄': 5632, 'ᄊ': 5633, '▁설득력': 5634, '▁스타워즈': 5635, '맴': 5636, '뻥': 5637, '찔': 5638, '▁이토록': 5639, '덩어리': 5640, '▁흑백': 5641, '▁박진감': 5642, '▁이해불가': 5643, '▁하정우': 5644, '▁도무지': 5645, '▁수면제': 5646, '▁무엇인가': 5647, '▁100%': 5648, '▁당황': 5649, '▁돈내고': 5650, '▁라스트': 5651, '▁좋으나': 5652, '▁위로': 5653, '편까지': 5654, '될듯': 5655, '▁빅': 5656, '겠죠': 5657, '▁여친': 5658, '누님': 5659, '▁대놓고': 5660, '▁사랑스럽다': 5661, '▁울었어요': 5662, '행복': 5663, '▁무료': 5664, '▁어우': 5665, '▁안보는게': 5666, '▁봤다면': 5667, '▁애매': 5668, '▁소름돋는': 5669, '긴했지만': 5670, '재밋음': 5671, '▁만들다': 5672, '▁전설이': 5673, '▁컸': 5674, '레기': 5675, '▁아니었다': 5676, '선수': 5677, '▁왜곡': 5678, '찾아': 5679, '것보다': 5680, '▁보겠다': 5681, '▁끝나서': 5682, '▁귀여': 5683, '▁가득한': 5684, '아까운영화': 5685, '▁없게': 5686, '▁소름끼치는': 5687, '▁짜증나게': 5688, 'un': 5689, '▁돼지': 5690, '▁싶었다': 5691, '▁잘생겼': 5692, '▁시청자': 5693, '▁장난아니': 5694, '▁답답해': 5695, '▁가정': 5696, '▁무섭고': 5697, '▁좋더라': 5698, '▁실망이다': 5699, '스틴': 5700, '▁코믹영화': 5701, '▁영원': 5702, '▁안될': 5703, '픽': 5704, '랍': 5705, '▁다시보니': 5706, '▁재난': 5707, '▁ᄒᄃᄃ': 5708, '빼곤': 5709, '꿈': 5710, '코메디': 5711, '뭉': 5712, '맑': 5713, '퉤': 5714, 'ᄐ': 5715, '쉐': 5716, '▁괜찬': 5717, '▁적절한': 5718, '▁하이틴': 5719, '▁기발한': 5720, '▁파리': 5721, '▁엽기': 5722, '▁불쌍해': 5723, '▁탈출': 5724, '▁로맨틱코미디': 5725, '▁몇몇': 5726, '▁흘리': 5727, '▁멋짐': 5728, '▁빛나는': 5729, '병맛': 5730, '▁내일': 5731, '▁자아': 5732, '▁개콘': 5733, '▁태국': 5734, '▁담은': 5735, '▁장난하나': 5736, '분짜리': 5737, '▁혹시나': 5738, '▁과장': 5739, '재밋어요': 5740, '당시엔': 5741, '허무': 5742, '▁재밌게봤어요': 5743, '▁처음에는': 5744, '자들의': 5745, '▁찾아볼': 5746, '▁친구랑': 5747, 'ck': 5748, '▁살아가는': 5749, '더군': 5750, '▁만화영화': 5751, '▁미녀': 5752, '▁꼭봐야': 5753, '였지': 5754, '▁손발': 5755, '▁첨이다': 5756, '▁조잡한': 5757, '너무좋아': 5758, '▁밤에': 5759, '~~~~~': 5760, '▁의지': 5761, '▁뭐여': 5762, '놈들은': 5763, '▁재밋어': 5764, '▁자세': 5765, '▁-_-;;': 5766, '되네': 5767, '▁여인': 5768, '줘야지': 5769, '▁실화를': 5770, '▁이것보다': 5771, '보긴': 5772, '▁터지': 5773, '해주고': 5774, '▁알파치노': 5775, '▁유치찬란': 5776, '▁컴퓨터': 5777, '랴': 5778, '뻑': 5779, '▁명복을': 5780, '▁떨어짐': 5781, '궁': 5782, '▁라이언': 5783, '▁바랍니다': 5784, '왠': 5785, '▁할아버지': 5786, '받았다': 5787, '▁판단': 5788, '▁모든것이': 5789, '▁빠르': 5790, '▁충분하다': 5791, '▁감동이다': 5792, '▁동양': 5793, '▁첨엔': 5794, '▁모욕': 5795, '▁주변': 5796, '라는걸': 5797, '▁기억난다': 5798, '▁부담': 5799, '▁마약': 5800, '▁역작': 5801, '했다면': 5802, '▁보고싶은데': 5803, '▁강추합니다': 5804, '전혀': 5805, '▁안나온다': 5806, '▁모르겠네': 5807, '지않는다': 5808, '▁독특하고': 5809, '▁보는거': 5810, '▁묻어': 5811, '▁귀여웠': 5812, '▁세상이': 5813, '▁시대의': 5814, '▁이거보다': 5815, '!!!!!!!!': 5816, '▁확인': 5817, '▁곧': 5818, '▁실수': 5819, '.,.,': 5820, '께요': 5821, '게만드는': 5822, '였고': 5823, 'ch': 5824, '▁머야': 5825, '▁또보고싶': 5826, '▁어쩔수': 5827, '미국': 5828, 'ᄃᄃᄃᄃ': 5829, '▁뻔뻔': 5830, '더스': 5831, '▁남는게': 5832, '겠는데': 5833, '무섭다': 5834, '▁아예': 5835, '기도하고': 5836, '객': 5837, '밋': 5838, '갠': 5839, '콤': 5840, '쿵': 5841, '▁웃겼다': 5842, '▁케릭터': 5843, '겻': 5844, '뜸': 5845, '븐': 5846, '캡': 5847, '▁놀랐다': 5848, '▁흡입력': 5849, '▁말그대로': 5850, '▁완젼': 5851, '▁완죤': 5852, '▁박보영': 5853, '▁드니로': 5854, '▁of': 5855, '▁혁명': 5856, '▁스파이': 5857, '흑흑': 5858, '▁상큼': 5859, '▁앞뒤': 5860, '▁배경음악': 5861, '▁담담': 5862, '▁부탁': 5863, '낭비': 5864, '▁마시길': 5865, '꼽': 5866, '▁대박이다': 5867, '솔직히': 5868, '▁담긴': 5869, '초딩': 5870, '예뻐': 5871, '▁잼없다': 5872, '▁사랑한다': 5873, '예술': 5874, '▁생각할': 5875, '▁거지같은': 5876, '▁어거지': 5877, '▁주온': 5878, '▁개연성도': 5879, '▁느껴지': 5880, '였구나': 5881, '~~~~~~': 5882, '▁망할': 5883, '▁생각했는데': 5884, '광고': 5885, '▁미스': 5886, '▁별로였다': 5887, '▁찾을': 5888, '표정': 5889, '▁배신': 5890, '▁멋있었': 5891, '▁세월이': 5892, '▁명연기': 5893, '▁찍는': 5894, '외에는': 5895, '비추': 5896, 'ce': 5897, '하는구나': 5898, '있네요': 5899, '할수있는': 5900, '▁빛을': 5901, '하시길': 5902, '▁막판': 5903, '▁멋있고': 5904, '웠던': 5905, '▁맞나': 5906, '▁답답함': 5907, '▁둘째치고': 5908, '됫': 5909, '렐': 5910, '셋': 5911, '▁신하균': 5912, '▁쓸데없이': 5913, '▁오프닝': 5914, '▁왕조현': 5915, '▁짬뽕': 5916, '겪': 5917, '▁자동차': 5918, '로버츠': 5919, '▁강동원': 5920, '▁비호감': 5921, '▁무거운': 5922, '▁첩보': 5923, '▁죄송': 5924, '▁이렇': 5925, '▁이것보단': 5926, '▁높지': 5927, '▁괜찮았던': 5928, '에비해': 5929, '평론가': 5930, '무서워': 5931, '▁무겁': 5932, '퇴': 5933, '!!!!!!!': 5934, '▁우왕': 5935, '▁게다가': 5936, 'ᅲᅲᅲᅲᅲ': 5937, '▁웃었': 5938, '▁생긴': 5939, '잭슨': 5940, '▁어이없음': 5941, '▁욕심': 5942, '▁싸우는': 5943, '드립': 5944, '알아': 5945, '보지마라': 5946, '▁약하다': 5947, '번이나': 5948, '▁이거보단': 5949, '▁그렇지만': 5950, '▁떨어지고': 5951, '터짐': 5952, '▁아쉬움이': 5953, '▁높네': 5954, '▁생명': 5955, '▁어색하고': 5956, '싶어서': 5957, '▁표현할': 5958, '▁듣고': 5959, '순수': 5960, '▁화끈': 5961, '삼류': 5962, '▁분들은': 5963, '빼': 5964, '시간동안': 5965, '▁짜증나고': 5966, '▁중국영화': 5967, '뚝': 5968, '앜': 5969, '켰': 5970, '▁언젠가': 5971, '▁원주율': 5972, '▁니콜라스': 5973, '점준것중': 5974, '▁몽환적': 5975, '▁컬트': 5976, '▁목숨': 5977, '▁택시': 5978, '▁좋지': 5979, '▁더러워': 5980, '▁예측': 5981, '밖엔': 5982, '▁먹칠': 5983, '▁말아야': 5984, '▁감동적입니다': 5985, '▁아닐': 5986, '▁개똥': 5987, '▁꽤나': 5988, '▁재미있었는데': 5989, '셨어요': 5990, '▁재밌었습니다': 5991, '▁감동적임': 5992, '밑': 5993, '▁일본인': 5994, '▁뭐라고': 5995, '▁스토리전개': 5996, '▁있었으면': 5997, '▁처음이네': 5998, '햇는데': 5999, '느끼': 6000, '미친': 6001, '없네요': 6002, '상황': 6003, '▁환상적인': 6004, '▁아깝네요': 6005, '순위': 6006, '하나하나가': 6007, '▁재미없었': 6008, '유발': 6009, '▁짱이다': 6010, '▁토니': 6011, '조연': 6012, '▁등장인물들': 6013, '▁살리': 6014, '▁살리지': 6015, '▁본격': 6016, '▁인상적인': 6017, '▁후하게': 6018, '유쾌하게': 6019, '▁한방': 6020, '▁정상': 6021, '▁빠졌': 6022, '▁역사를': 6023, '멈': 6024, '▁EBS': 6025, '^_^': 6026, '▁됩니다': 6027, '짤': 6028, '▁결론은': 6029, '▁공짜로': 6030, '▁베드신': 6031, '▁피아노': 6032, '▁미스캐스팅': 6033, '▁격투': 6034, '파이팅': 6035, '▁볼것': 6036, '▁극혐': 6037, '▁민폐': 6038, '▁에라이': 6039, '▁맞춰': 6040, '▁레옹': 6041, '▁생각해보게': 6042, '▁엄청나게': 6043, '▁재앙': 6044, '▁파괴': 6045, '▁되야': 6046, '▁중학생': 6047, '▁부활': 6048, '▁만들어낸': 6049, '▁흥분': 6050, '▁예능': 6051, '^^;': 6052, '▁살인마': 6053, '립니다': 6054, '브리': 6055, '▁화나': 6056, '랜드': 6057, '▁웃긴다': 6058, '정보': 6059, '▁대결': 6060, '비슷': 6061, '▁만났': 6062, '▁필요없음': 6063, '▁보았던': 6064, 'TV': 6065, '▁안보면': 6066, '▁생기': 6067, '▁역사상': 6068, '제일': 6069, '▁아파': 6070, '▁엉망이': 6071, '▁호구': 6072, '같아요': 6073, '볼까': 6074, '이후로': 6075, '답다': 6076, '▁찾아서': 6077, '▁철학적': 6078, '귀신': 6079, '는뎅': 6080, '밖': 6081, '아이들': 6082, '능력': 6083, '됐는데': 6084, '▁그만큼': 6085, '▁새벽': 6086, '▁싶다면': 6087, '좀비': 6088, '▁읽고': 6089, '하실': 6090, '▁갖다': 6091, '▁십점': 6092, '렀': 6093, '맺': 6094, '▁대통령': 6095, '▁빕니다': 6096, '▁애니매이션': 6097, '▁오그라드는': 6098, '램': 6099, '템': 6100, '▁즐거움': 6101, '젝': 6102, '▁섬뜩': 6103, '▁사투리': 6104, '▁킬러': 6105, '▁전성기': 6106, '▁말인가': 6107, '▁보아도': 6108, '▁소장하고': 6109, '▁낫겠다': 6110, '▁전체적인': 6111, '▁묘한': 6112, '▁말하려는': 6113, '▁진지하게': 6114, '▁재미나게': 6115, '▁드림': 6116, '여배우': 6117, '▁이은주': 6118, '▁중년': 6119, '▁않았던': 6120, '▁이상하고': 6121, '▁저급': 6122, '▁나을듯': 6123, '▁미국식': 6124, '▁최고라고': 6125, '▁해피': 6126, '▁잼나요': 6127, '하지말고': 6128, '각본': 6129, '▁go': 6130, '▁지루하네': 6131, '도있고': 6132, '▁기대했던': 6133, '▁나머지는': 6134, '▁재밋네요': 6135, '극히': 6136, '▁열자': 6137, '▁신화': 6138, 'ou': 6139, '▁충분한': 6140, 'ho': 6141, '▁많은데': 6142, '▁안나오는': 6143, '형제': 6144, '▁낚인': 6145, '▁진지한': 6146, '▁한시간': 6147, '▁벗어': 6148, '으려고': 6149, '봤네': 6150, '셔야': 6151, '!!!!!!!!!': 6152, '▁흉내': 6153, '▁야하지도': 6154, '엇음': 6155, '납': 6156, 'Y': 6157, '▁movie': 6158, '▁시종일관': 6159, '▁엉망진창': 6160, '몫': 6161, '썬': 6162, '캠': 6163, '퀸': 6164, '▁류승범': 6165, '밨': 6166, '▁아마추어': 6167, '▁박평식': 6168, '▁여러모로': 6169, '▁김희선': 6170, '▁섬세한': 6171, '▁평점조절': 6172, '▁김수현': 6173, '▁잊지못할': 6174, '점주기도': 6175, '▁돋보였': 6176, '땜시': 6177, '▁기획': 6178, '▁국산': 6179, '▁요새': 6180, '습니까': 6181, '것같은데': 6182, '▁잘못된': 6183, '▁재밌기만': 6184, '▁옛날영화': 6185, '▁보시면': 6186, '▁다운받아서': 6187, '▁보라고': 6188, '▁한심하다': 6189, '▁무엇이': 6190, '굿굿': 6191, '▁믿어': 6192, '▁수많은': 6193, '▁가수': 6194, '돌려': 6195, '▁언제까지': 6196, '▁그리워': 6197, '▁어쩌다': 6198, '▁또봐도': 6199, '로맨스': 6200, '범죄': 6201, '▁여배우들': 6202, '▁액션신': 6203, '예쁘': 6204, '그럼': 6205, '당신': 6206, 'us': 6207, '▁대학': 6208, '내놔': 6209, '▁볼만한데': 6210, '잖아요': 6211, '하니까': 6212, '▁밋밋한': 6213, '▁안봐서': 6214, '별루': 6215, '멋진': 6216, '못함': 6217, '50': 6218, '제작': 6219, '제대로': 6220, '▁머냐': 6221, '▁가히': 6222, '▁이딴거': 6223, '▁싫어하는': 6224, 'ed': 6225, '123': 6226, '▁상어': 6227, '재미있음': 6228, '았어': 6229, '부분은': 6230, '▁불가능': 6231, '신선': 6232, '그저': 6233, '부분에서': 6234, '▁이딴게': 6235, '거에요': 6236, '충격': 6237, '18': 6238, '▁재미있네': 6239, '▁마지막까지': 6240, '뎀': 6241, '훌': 6242, '풋': 6243, '쩡': 6244, '뚫': 6245, '렛': 6246, '뻣': 6247, '왈': 6248, '켓': 6249, '▁영웅본색': 6250, '▁포켓몬': 6251, '걷': 6252, '훗': 6253, '▁가까운': 6254, '▁그냥저냥': 6255, '▁데이빗': 6256, '▁전반적으로': 6257, '▁최민수': 6258, '▁감정이입': 6259, '▁한효주': 6260, '▁혐오': 6261, '▁비행기': 6262, '▁상관없': 6263, '▁그려낸': 6264, '><': 6265, '40': 6266, '하는건지': 6267, '▁잔인함': 6268, '▁난해한': 6269, '▁이도저도': 6270, '▁람보': 6271, '▁마지막엔': 6272, '점도아깝다': 6273, '▁대사들': 6274, '▁남성': 6275, '▁완벽하다': 6276, '낚였': 6277, '▁모방': 6278, '▁없군': 6279, '▁공유': 6280, '▁좋아하네요': 6281, '▁시작부터': 6282, '스탈': 6283, '애니메이션': 6284, '오랜만에': 6285, '▁다르게': 6286, '▁공간': 6287, '다시봐도': 6288, '쓰렉': 6289, '▁티비로': 6290, '▁만세': 6291, '좋겠다': 6292, '있던': 6293, '▁정작': 6294, '▁잔잔함': 6295, '몰라': 6296, 'ri': 6297, 'ne': 6298, '믿고': 6299, '앞에서': 6300, 'ma': 6301, '▁뻔하다': 6302, '▁현실감': 6303, '▁상대': 6304, '▁잊고': 6305, '같았': 6306, '효과': 6307, '보일': 6308, '▁정체': 6309, '▁의사': 6310, '동화': 6311, '감명깊': 6312, '돈아깝': 6313, '닭': 6314, '뚜': 6315, '깁': 6316, '▁뒤죽박죽': 6317, '▁디카프리오': 6318, '▁비쥬얼': 6319, '▁송강호': 6320, '▁오랫동안': 6321, '랩': 6322, '▁리얼리티': 6323, '▁엉뚱': 6324, '▁늑대': 6325, '▁농담': 6326, '▁왕가위': 6327, '▁후속편': 6328, '▁흥미로웠': 6329, '마누라': 6330, '▁장애인': 6331, '▁잃은': 6332, '▁살렸다': 6333, 'vs': 6334, '▁내취향': 6335, '▁사랑스럽고': 6336, '▁사람이라면': 6337, '▁탄탄하고': 6338, '▁목적': 6339, '▁마블': 6340, '▁불쌍해서': 6341, '▁no': 6342, '▁가족애': 6343, '▁못하네': 6344, '▁연기잘하': 6345, '▁미학': 6346, '▁준비': 6347, '▁에로물': 6348, '▁영화라지만': 6349, '▁않았지만': 6350, '▁오직': 6351, '있지만': 6352, '▁웃겨서': 6353, '곳이': 6354, '였다면': 6355, '귀여워': 6356, '아름다운': 6357, '줘요': 6358, '잘봤습니다': 6359, 'he': 6360, '▁아이유': 6361, '▁아련한': 6362, '▁to': 6363, '▁광기': 6364, '▁여자애': 6365, '여주인공': 6366, '답게': 6367, '▁우울한': 6368, '▁보고나니': 6369, '▁동감': 6370, '▁스릴러물': 6371, '▁OOOO': 6372, 'el': 6373, '▁자극적인': 6374, '♡♡♡': 6375, '중국': 6376, '보게되': 6377, 'il': 6378, '떤': 6379, '줍': 6380, '쿡': 6381, '륭': 6382, '▁인터넷': 6383, '및': 6384, '팽': 6385, '▁아기자기': 6386, '짙': 6387, '▁키아누': 6388, '▁두고두고': 6389, '▁나루토': 6390, '▁데뷔작': 6391, '▁빠순이': 6392, '▁다세포소녀': 6393, '▁이끌어': 6394, '▁쏘우': 6395, '▁위험': 6396, '▁좋았을텐데': 6397, '어수선': 6398, '▁슈퍼맨': 6399, '창있네': 6400, '▁호흡': 6401, '▁러브스토리': 6402, '▁관련': 6403, '▁돌아보게': 6404, '▁역쉬': 6405, '▁동영상': 6406, '▁고뇌': 6407, '▁시간아까워': 6408, '▁닮았': 6409, '▁마틴': 6410, '-.-': 6411, '▁담겨': 6412, '▁무협영화': 6413, '나보네': 6414, '▁채우': 6415, '▁나와야': 6416, '합시다': 6417, '▁서양': 6418, '▁웃다가': 6419, '▁어쩔수없': 6420, '▁지옥': 6421, '▁궁금해서': 6422, '▁울림': 6423, '▁앞서': 6424, '▁유행': 6425, '▁보고싶네요': 6426, '살때': 6427, '▁맛있': 6428, '▁나올까': 6429, '였네요': 6430, '▁슬프네요': 6431, '▁화끈한': 6432, '▁빈약한': 6433, '▁마지막회': 6434, '▁전라도': 6435, '▁재밌당': 6436, '15': 6437, '해지고': 6438, '▁벗어나': 6439, '옛날': 6440, '▁보여줘': 6441, ':)': 6442, '하잖아': 6443, '▁소화': 6444, '구역': 6445, '망작': 6446, '영활': 6447, '돈주고': 6448, '그렇게': 6449, '▁여신': 6450, '▁빈약': 6451, '렇': 6452, '걸작': 6453, '▁도시': 6454, '높아': 6455, '▁개잼': 6456, '끝내': 6457, '▁두시간': 6458, '▁액션물': 6459, '▁존스': 6460, '천원': 6461, '▁굿굿굿': 6462, '어설프': 6463, '뜬': 6464, '랙': 6465, '랏': 6466, '↓': 6467, '▁군더더기': 6468, '꽉': 6469, '뿜': 6470, '삘': 6471, '줫': 6472, '혔': 6473, '홈': 6474, '▁차승원': 6475, '▁차태현': 6476, '▁팝콘': 6477, '▁한석규': 6478, '스파이더맨': 6479, '▁흑역사': 6480, '▁말았어야': 6481, '▁멈추': 6482, '▁뛰어넘는': 6483, '▁원피스': 6484, '▁원숭이': 6485, '▁엠마': 6486, '▁록키': 6487, '▁허허': 6488, '▁환경': 6489, '나머진': 6490, '▁강아지': 6491, '▁도둑': 6492, '▁늙은': 6493, '▁왠만한': 6494, '▁찬양': 6495, '▁꺼져': 6496, '조심': 6497, '▁극복': 6498, '▁아쉬워요': 6499, '▁부족함': 6500, '자마자': 6501, '▁진부하다': 6502, '▁첨부터': 6503, '▁매력적이다': 6504, '▁음모': 6505, '▁반개': 6506, '▁느껴지지': 6507, '▁정석': 6508, '▁멋지게': 6509, '맥스': 6510, '▁모르겠네요': 6511, '▁잃었': 6512, '멀': 6513, '왜이래': 6514, '판타지': 6515, '0000': 6516, '부르': 6517, '못할': 6518, '바람': 6519, '▁다시보고싶은': 6520, '▁불안': 6521, '보니깐': 6522, '웃긴': 6523, '▁가야': 6524, '▁선정': 6525, '▁만난': 6526, 'ic': 6527, '-_': 6528, '▁의상': 6529, '졌음': 6530, '시리즈중': 6531, '▁스릴감': 6532, '자꾸': 6533, '▁짜증났': 6534, '첩': 6535, '쉴': 6536, '윽': 6537, '▁테이큰': 6538, '긔': 6539, '릇': 6540, '밉': 6541, '▁뒤늦게': 6542, '▁어설퍼': 6543, '뜯': 6544, '▁어두운': 6545, '랍니다': 6546, '▁배급사': 6547, '▁다니엘': 6548, '▁무간도': 6549, '▁무의미': 6550, '▁환장': 6551, '▁2012': 6552, '▁확실하': 6553, '▁환상적': 6554, '▁알려주는': 6555, '▁개그맨': 6556, '지못한': 6557, '특집': 6558, '▁피곤': 6559, '▁존잼': 6560, '▁아깝습니다': 6561, '▁최후': 6562, '▁싶었던': 6563, '▁감동적이었다': 6564, '▁재미없었음': 6565, '▁보는동안': 6566, '▁고독': 6567, '▁식상하다': 6568, '것같네요': 6569, '▁알바생': 6570, '▁제대로된': 6571, '겨운': 6572, '▁안나옴': 6573, 'ter': 6574, '▁인류': 6575, '▁놀란': 6576, '▁못하겠다': 6577, '▁있긴': 6578, '▁등장인물': 6579, '▁훈훈하고': 6580, '▁천사': 6581, '칼': 6582, '▁필요하다': 6583, '주려고': 6584, '▁욕먹': 6585, '죽을뻔': 6586, '보지마세요': 6587, '모르겠다': 6588, '버그': 6589, '▁so': 6590, '▁달려': 6591, '▁돋보이': 6592, '재미잇': 6593, '거같아': 6594, 'ro': 6595, '안된다': 6596, '▁정신병': 6597, '▁싸우': 6598, '룬': 6599, '▁보기싫': 6600, '▁다시보기': 6601, '낄': 6602, '흉': 6603, '킴': 6604, '펜': 6605, '▁스필버그': 6606, '▁슬펐다': 6607, '▁재발견': 6608, '▁트랜스포머': 6609, '덮': 6610, '▁사무라이': 6611, '잣': 6612, '▁다이하드': 6613, '▁김태희': 6614, '▁클래식': 6615, '툭': 6616, '▁스페인': 6617, '▁칭찬': 6618, '▁드래곤볼': 6619, '▁찬사를': 6620, '▁아바타': 6621, '▁일주일': 6622, '▁봐줄만': 6623, '▁깜놀': 6624, '▁크리스찬': 6625, '▁모자라': 6626, '▁첫번째': 6627, '▁새삼': 6628, '▁역량': 6629, '▁끼워': 6630, '페이스': 6631, '▁줄리아': 6632, 'se': 6633, '점만점': 6634, '▁원표': 6635, '▁또라이': 6636, '▁모독': 6637, '▁늙어': 6638, '▁무슨말이': 6639, '▁실사': 6640, '▁돈아깝다': 6641, '▁모르지만': 6642, '▁어쩌면': 6643, '▁흉내내': 6644, '▁의미있는': 6645, '▁소통': 6646, '학년때': 6647, '▁기존': 6648, '▁주고싶다': 6649, '▁아이들에게': 6650, '입니까': 6651, '▁마법': 6652, '▁감명': 6653, '▁작가님': 6654, '할수없는': 6655, '▁네이버평점': 6656, '▁미스터리': 6657, '▁지금보면': 6658, '▁낚이지': 6659, '▁소유': 6660, '▁재밋는데': 6661, '▁군인': 6662, '▁옆에': 6663, '폴': 6664, '덕분에': 6665, '쫌': 6666, '꽝': 6667, '무서운': 6668, '경찰': 6669, '▁개봉당시': 6670, '▁기억남': 6671, '▁진부함': 6672, '해야하나': 6673, '그자체': 6674, '▁거기에': 6675, '할정도로': 6676, '가는줄': 6677, '▁미스터': 6678, '▁산만하': 6679, '하거나': 6680, '뜬금': 6681, '▁선동': 6682, '혐': 6683, '솜': 6684, '엮': 6685, '옳': 6686, '턱': 6687, '▁구혜선': 6688, '▁박찬욱': 6689, '▁소피마르소': 6690, '▁송승헌': 6691, '궈': 6692, '믄': 6693, '▁설경구': 6694, '습니당': 6695, '▁징그러': 6696, '▁묵직': 6697, '▁빠져들게': 6698, '▁지겨워': 6699, '스러웠다': 6700, '▁안성기': 6701, '▁존경합니다': 6702, '▁잔잔하지만': 6703, '▁대표작': 6704, '▁억지스런': 6705, '▁시험': 6706, '▁씨발': 6707, '▁같았다': 6708, '▁제작자': 6709, 'la': 6710, '▁심각하게': 6711, '▁8.5': 6712, '▁동화같은': 6713, '▁볼만해요': 6714, '▁가짜': 6715, '▁늙었': 6716, '▁없구나': 6717, '▁재방': 6718, '▁부산': 6719, '자연스럽게': 6720, '▁잼없음': 6721, '▁기대된다': 6722, '▁강간': 6723, '▁좋아해요': 6724, '▁사람들에게': 6725, '▁그동안': 6726, '▁봤었다': 6727, '▁공연': 6728, '▁망쳐놓': 6729, '눈물흘': 6730, '▁가슴아프': 6731, '많은것을': 6732, '▁따뜻함': 6733, '▁알게되': 6734, '▁명작이네요': 6735, '▁재미있었던': 6736, '▁세상에서': 6737, '샘': 6738, '했을때': 6739, '선택': 6740, '넘치는': 6741, '앞으로': 6742, '아닌데': 6743, 'ᄍᄍᄍ': 6744, '▁초반부': 6745, '하겠습니다': 6746, '부분도': 6747, '▁혹시': 6748, '좋아하는데': 6749, '--;': 6750, '▁빠른': 6751, '뱅': 6752, '훼': 6753, '▁새록새록': 6754, '▁엑스맨': 6755, '☆': 6756, '셧': 6757, '숲': 6758, '썻': 6759, '쏴': 6760, '얀': 6761, '웩': 6762, '▁세련된': 6763, '▁양동근': 6764, '▁엄정화': 6765, '늬': 6766, '▁미스테리': 6767, '▁손예진': 6768, '▁한쿡영화': 6769, '▁직업': 6770, '▁7.5': 6771, '▁말이필요없는': 6772, '▁픽사': 6773, '▁이나영': 6774, '▁낮추': 6775, '▁과학': 6776, '▁돌려줘': 6777, '▁영광': 6778, '▁노튼': 6779, '줄알고': 6780, '▁한숨만': 6781, '▁향기': 6782, '▁없을까': 6783, '▁한동안': 6784, '말도안되': 6785, '▁레오': 6786, '▁말았다': 6787, '▁시체': 6788, '▁재미있어서': 6789, '▁두명': 6790, '보고나서': 6791, '▁편하게': 6792, '▁피식': 6793, '▁짧아': 6794, '탁월한': 6795, '▁안가는': 6796, 'very': 6797, '해줘서': 6798, '▁어색함': 6799, '아아아': 6800, '▁세월': 6801, '묻': 6802, '그래픽': 6803, 'CG': 6804, 'ᄉᄇ': 6805, '▁비극적': 6806, '▁팬들': 6807, '힘든': 6808, '▁훈훈하': 6809, '겠군': 6810, '결국': 6811, '싫': 6812, '▁않으': 6813, '자신을': 6814, '▁짝이': 6815, '아아아아': 6816, '▁한숨': 6817, '것처럼': 6818, '야말로': 6819, '봇': 6820, '띠': 6821, '▁과대평가': 6822, '▁드림웍스': 6823, '▁윌리엄': 6824, '쉣': 6825, '어쨌든': 6826, '캔': 6827, '▁레이첼': 6828, '▁오우삼': 6829, '▁되돌아': 6830, '▁클라스': 6831, '▁심오한': 6832, 'ᅩᅩ': 6833, '잘생김': 6834, '▁심지어': 6835, '▁간첩': 6836, '귀요미': 6837, '▁증말': 6838, '▁2015': 6839, '▁찢어': 6840, 'ᄂᄂ': 6841, '▁파격적': 6842, '▁기다렸': 6843, '▁일부러': 6844, '▁떨어져': 6845, '▁사이코': 6846, '▁복수극': 6847, '▁재탕': 6848, '▁좋겠습니다': 6849, '▁흘러가는': 6850, '▁지나친': 6851, '▁실패작': 6852, '▁남자라면': 6853, '▁백배': 6854, '▁보여줄': 6855, '보기엔': 6856, '▁지났': 6857, '▁처음본다': 6858, '▁힘들었다': 6859, '알바들': 6860, '▁나오다니': 6861, '▁미술': 6862, '▁마초': 6863, '▁모양': 6864, '오르는': 6865, '▁향수': 6866, '▁존내': 6867, '▁재밌게봤음': 6868, '▁드물': 6869, '않았다': 6870, '▁선동영화': 6871, '▁있어보이': 6872, '▁낚였네': 6873, '봣던': 6874, '큼': 6875, '만들엇': 6876, '제국': 6877, '▁승리': 6878, '▁좋구': 6879, '지루하지않': 6880, '어울리는': 6881, '첫': 6882, '닼ᄏᄏ': 6883, '얼마나': 6884, 'tv': 6885, '영웅': 6886, '성룡': 6887, '▁불쌍하': 6888, '겠는가': 6889, '▁놓치': 6890, '▁남자배우': 6891, '▁받아야': 6892, 'ost': 6893, '쎄': 6894, '핳': 6895, 'zzz': 6896, 'ᅦ': 6897, '▁기대됩니다': 6898, '▁팀버튼': 6899, '좆': 6900, '팩': 6901, '▁바탕으로': 6902, '▁권상우': 6903, '▁불면증': 6904, '▁떡밥': 6905, '▁윌리스': 6906, '▁흠잡을': 6907, '▁best': 6908, '▁전지현': 6909, '▁총체적': 6910, '▁젊음': 6911, '▁그럴싸': 6912, '▁슬퍼요': 6913, '▁별한개도': 6914, '▁미안해': 6915, '▁복잡하': 6916, '되었습니다': 6917, '▁놀라울': 6918, '▁발랄': 6919, '▁괜찮던데': 6920, '▁ᄅᄋ': 6921, '▁허탈': 6922, '센트': 6923, '▁들어간': 6924, '▁지루했음': 6925, '셨으면': 6926, '영환줄': 6927, '▁만날': 6928, '▁거짓': 6929, '▁히트': 6930, '▁애초': 6931, '▁적당하다': 6932, '▁유치하지만': 6933, '▁학생들': 6934, '▁서극': 6935, '▁2010': 6936, '▁실화라는': 6937, '▁무리수': 6938, '▁로마': 6939, '클럽': 6940, '심각': 6941, '낮아서': 6942, '▁넣어': 6943, '싶은데': 6944, '닼': 6945, '깐': 6946, '▁않으면': 6947, '옷': 6948, '마무리': 6949, '실패': 6950, '폭력': 6951, '것같음': 6952, '봣습니다': 6953, '▁없으니': 6954, '▁맞추': 6955, '▁오랜': 6956, '쯧': 6957, '쵝': 6958, '릅': 6959, '썰': 6960, '▁ocn': 6961, '▁KBS': 6962, '▁신데렐라': 6963, '▁안타까움': 6964, '▁오그라들': 6965, '▁파워레인저': 6966, '▁펭귄': 6967, '人': 6968, '끓': 6969, '넼': 6970, '뎁': 6971, '듦': 6972, '렘': 6973, '룰': 6974, '룸': 6975, '헨': 6976, '▁어우러진': 6977, '▁이탈리아': 6978, '겄': 6979, '펠': 6980, '▁여태까지': 6981, '▁김혜수': 6982, '▁캐릭': 6983, '▁스피드': 6984, '▁침묵': 6985, '▁큐브': 6986, '▁엉엉': 6987, '▁상당한': 6988, '▁누군지': 6989, '생겨서': 6990, '▁그들만의': 6991, '▁아까웠던': 6992, '▁예뻐서': 6993, '▁거부감': 6994, '▁슈렉': 6995, '▁사라져': 6996, '▁어설프게': 6997, '▁치밀하': 6998, '▁민족': 6999, '▁극단적': 7000, '▁풀어낸': 7001, '▁돈낭비': 7002, '▁등록': 7003, '▁패션': 7004, '십니다': 7005, '▁지브리': 7006, '▁독립': 7007, '▁지루했어요': 7008, '▁기념': 7009, '헤헤': 7010, '사람마다': 7011, '▁적극': 7012, '▁대실망': 7013, '▁법정': 7014, '쩔어': 7015, '▁비록': 7016, '▁경계': 7017, '▁연관': 7018, '죽는줄': 7019, '▁소소하': 7020, '▁실화라니': 7021, '▁어린이용': 7022, '원주고': 7023, '완벽하게': 7024, '뎅': 7025, '흥미를': 7026, '▁못하겠': 7027, '▁진정성': 7028, '재밋게봣': 7029, '200': 7030, '하려면': 7031, '취향': 7032, '탐': 7033, '좋았음': 7034, '▁초딩들': 7035, 'ol': 7036, '▁시간아깝': 7037, '▁알게된': 7038, '것일까': 7039, '▁인상적이었': 7040, '실화라': 7041, '둑': 7042, '▁빵터': 7043, '렴': 7044, '▁에드워드': 7045, '▁웃겼음': 7046, '▁일깨워주는': 7047, '▁호불호가': 7048, '▁홧팅': 7049, '▁흐지부지': 7050, '꽁': 7051, '덧': 7052, '엌': 7053, '웰': 7054, '졋': 7055, '훔': 7056, '▁못생겼': 7057, '▁쓸데없는': 7058, '▁소지섭': 7059, '배속으로': 7060, '▁임청하': 7061, '▁밝혀': 7062, '▁페이크': 7063, '▁의외의': 7064, '▁무서울': 7065, '▁성유리': 7066, '▁케이트': 7067, '▁블루': 7068, '▁0.5': 7069, '▁괴롭': 7070, '될까': 7071, '▁죽기전에': 7072, '▁중학교': 7073, '▁욕나온다': 7074, '▁각색': 7075, '점드림': 7076, 'gt': 7077, '▁대략': 7078, '▁상징': 7079, 'wo': 7080, '▁시간아까움': 7081, '▁197': 7082, '▁조용히': 7083, '▁말씀': 7084, '▁빠져들었': 7085, '▁반응': 7086, '▁재미있던데': 7087, '▁커피': 7088, '▁볼만했음': 7089, '▁간직': 7090, '▁초반엔': 7091, '되길': 7092, '▁소품': 7093, '▁얘들': 7094, '재미가없': 7095, '라이브': 7096, '▁더욱더': 7097, '▁인간적으로': 7098, '▁고인의': 7099, '▁신나는': 7100, 'ill': 7101, '작렬': 7102, '했어야': 7103, '재밌게봤습니다': 7104, '▁비교하면': 7105, '♡♡': 7106, '▁조연들': 7107, '▁형식': 7108, '▁가능성': 7109, '시청률': 7110, '썩': 7111, '킬링타임용': 7112, '시간낭비': 7113, '좋았어요': 7114, '제작비': 7115, '영환데': 7116, '밌': 7117, '졌으면': 7118, '삽': 7119, '취급': 7120, '킥': 7121, '뷔': 7122, '팝': 7123, '▁도라에몽': 7124, '꺄': 7125, '▁내러티브': 7126, '▁런닝타임': 7127, '▁엔딩크레딧': 7128, '▁용두사미': 7129, '▁파라노말': 7130, '▁프레디': 7131, '힛': 7132, '▁김민종': 7133, '▁힘내세요': 7134, '쇄': 7135, '▁주상욱': 7136, '▁흘렀': 7137, '▁가슴아픈': 7138, '▁깨달음': 7139, '▁외로움': 7140, '▁장동건': 7141, '▁지저분': 7142, '▁ᄇᄉ': 7143, '▁뉴욕': 7144, '▁엽문': 7145, '▁모자란': 7146, '▁예뻐요': 7147, '▁농구': 7148, '▁사라진': 7149, '▁미치도록': 7150, '▁흘렸': 7151, '▁방황': 7152, '▁미안하지만': 7153, '▁지났지만': 7154, '▁신나게': 7155, '있을까': 7156, '▁뭐랄까': 7157, '▁알려준': 7158, '▁넘어선': 7159, '▁물씬': 7160, '▁음향': 7161, '▁총알': 7162, '▁2003': 7163, '▁유령': 7164, '▁실망스러운': 7165, '▁못따라': 7166, '▁얻어': 7167, '▁울었습니다': 7168, '▁냉정': 7169, '더라고요': 7170, '▁다음편': 7171, '돋는다': 7172, '잼잇': 7173, '▁정체성': 7174, '▁소름끼치': 7175, '투성이': 7176, '▁정확': 7177, '만드네': 7178, '돈아까움': 7179, '나오는거': 7180, '명성을': 7181, '중간에': 7182, '매니아': 7183, '톰': 7184, '프로그램': 7185, '개인적으로': 7186, '우리나라': 7187, '왜이리': 7188, '철학': 7189, 'lt': 7190, '봤었는데': 7191, '젼': 7192, '▁300': 7193, 'q': 7194, '깡': 7195, '빤': 7196, '뼈': 7197, 'Z': 7198, '▁ebs': 7199, '▁리즈시절': 7200, '▁오글거림': 7201, '▁일베충': 7202, '쉰': 7203, '욬': 7204, '횽': 7205, '▁졸업작품': 7206, '▁맙시다': 7207, '▁양조위': 7208, '▁납득': 7209, '▁어차피': 7210, '▁웬만하면': 7211, '▁최민식': 7212, '▁정주행': 7213, '-0-': 7214, '▁멘탈': 7215, '끝날때까지': 7216, '▁보낸다': 7217, '▁유오성': 7218, '▁솔까': 7219, '▁불후의': 7220, '▁일반인': 7221, '▁도움이': 7222, '기승전': 7223, '▁거기서': 7224, '^.^': 7225, '▁사기꾼': 7226, 'bbbb': 7227, '▁서부영화': 7228, '▁재수없': 7229, '▁에로틱': 7230, '▁귀찮': 7231, '▁경의를': 7232, '▁어려웠': 7233, '▁색채': 7234, '▁내인생최고의': 7235, '▁언제쯤': 7236, '▁빠져드는': 7237, '▁성찰': 7238, '▁권력': 7239, '▁적나라': 7240, '▁만약': 7241, '????????': 7242, '싶었는데': 7243, '▁웃어야': 7244, '▁채워': 7245, '▁뻔하지만': 7246, '▁향한': 7247, '▁사나이': 7248, '2005': 7249, '현실적': 7250, '특유의': 7251, '▁주고싶은': 7252, '▁잼났': 7253, '평점이낮': 7254, '냄': 7255, '▁다세포': 7256, '드래곤': 7257, '꿨': 7258, '▁고맙습니다': 7259, '▁굉장한': 7260, '▁심리묘사': 7261, '▁아이언맨': 7262, '▁엉터리': 7263, '▁초등학교때': 7264, '▁크레딧': 7265, '닦': 7266, '댐': 7267, '빚': 7268, '뺏': 7269, '옮': 7270, '췄': 7271, '텅': 7272, '헝': 7273, '흰': 7274, '#': 7275, '▁끝판왕': 7276, '쇠': 7277, '▁마찬가지': 7278, '▁스티브': 7279, '▁황정민': 7280, '▁감성팔이': 7281, '▁색다르': 7282, '하셨습니다': 7283, '▁콤비': 7284, '▁이순신': 7285, '▁틀림없': 7286, '▁챙겨보': 7287, '▁온몸': 7288, '▁잔잔하니': 7289, '▁경쾌': 7290, '▁꺼버렸다': 7291, '▁용가리': 7292, '▁광팬': 7293, '▁감동적이었습니다': 7294, 'XX': 7295, '▁때우기': 7296, '▁열광': 7297, '▁재방송': 7298, '▁장혁': 7299, '▁아무튼': 7300, '▁지겨운': 7301, '▁쉬운': 7302, '▁제정신': 7303, '▁be': 7304, '▁어쩌라고': 7305, '▁2004': 7306, '▁혼란': 7307, '▁출발': 7308, '▁어쩌라는': 7309, '▁wa': 7310, '▁도통': 7311, '▁도중에': 7312, '▁기억될': 7313, '지말라': 7314, '이건뭐': 7315, '▁볼게없': 7316, '영화자체는': 7317, '질질끄': 7318, '▁커버': 7319, '영화관에서': 7320, '본것중': 7321, '씹': 7322, '캬': 7323, '느와르': 7324, '그나마': 7325, '댓글': 7326, '궁금': 7327, '유쾌': 7328, '뻐': 7329, '장르를': 7330, '▁기분좋은': 7331, '낌': 7332, '쏠': 7333, '쩍': 7334, '·': 7335, '▁MBC': 7336, '잎': 7337, '▁미야자키': 7338, '▁원맨쇼': 7339, '▁유치뽕짝': 7340, '▁잃어버린': 7341, '▁임권택': 7342, '됌': 7343, '▁컨셉': 7344, '▁송지효': 7345, '▁스타일리쉬': 7346, '켈': 7347, '▁팍팍': 7348, '▁한예슬': 7349, '▁충무로': 7350, '위원회': 7351, '▁떨어뜨': 7352, '▁뛰쳐': 7353, '▁닥터': 7354, '▁이정재': 7355, '▁스킵': 7356, '▁가까이': 7357, '▁황홀': 7358, '▁증명': 7359, '▁압도적': 7360, '선생님': 7361, '▁질질끌': 7362, '@@': 7363, '▁갖춘': 7364, '▁악몽': 7365, '▁억지스럽고': 7366, '▁과장된': 7367, '▁스릴있고': 7368, 'ᄉᄉ': 7369, '▁바랬': 7370, '▁휴먼': 7371, '▁빨간': 7372, '▁따분하': 7373, '▁추락': 7374, '별한개': 7375, '버젼': 7376, '▁중학교때': 7377, '흐흐': 7378, '▁어린아이': 7379, '힘들었': 7380, '팬이라': 7381, '▁걸렸': 7382, '페이지': 7383, '▁질리지않': 7384, '깍': 7385, '넌': 7386, '꽤': 7387, '뿔': 7388, '끗': 7389, 'ᆞ': 7390, '탠': 7391, 'ᅭ': 7392, '갇': 7393, '샌': 7394, '쏙': 7395, '엣': 7396, '됴': 7397, '멕': 7398, '얌': 7399, '펀': 7400, '빅': 7401, '낙': 7402, '잭': 7403, '섯': 7404, '즌': 7405, '믹': 7406, '댓': 7407, '펑': 7408, '뎌': 7409, '맷': 7410, '욜': 7411, '젬': 7412, '쬐': 7413, '펄': 7414, 'ᄑ': 7415, '쌓': 7416, '쑤': 7417, '찜': 7418, '톨': 7419, '픔': 7420, '깜': 7421, '긍': 7422, '。': 7423, '껍': 7424, '듀': 7425, '슐': 7426, '넷': 7427, '륙': 7428, '뀌': 7429, '꿔': 7430, '셉': 7431, '뉘': 7432, '곁': 7433, '녁': 7434, '럿': 7435, '즉': 7436, '쨩': 7437, '툰': 7438, '꼇': 7439, '댕': 7440, '둬': 7441, '륵': 7442, '뻘': 7443, '쿄': 7444, '흙': 7445, '밸': 7446, '뜩': 7447, '퉁': 7448, '겸': 7449, '꾹': 7450, '댈': 7451, '벙': 7452, '쌩': 7453, '썅': 7454, '쫙': 7455, '찝': 7456, '칩': 7457, '햄': 7458, '딕': 7459, '샷': 7460, '욧': 7461, 'W': 7462, '甲': 7463, '캅': 7464, '넋': 7465, '돕': 7466, '뒀': 7467, '쌈': 7468, '귓': 7469, '띵': 7470, '샹': 7471, '숫': 7472, '펴': 7473, '칫': 7474, '닙': 7475, '쪄': 7476, '乃': 7477, '췌': 7478, '콕': 7479, '텀': 7480, '핏': 7481, '릉': 7482, '묶': 7483, '짠': 7484, '률': 7485, '죤': 7486, '톡': 7487, '無': 7488, '뇨': 7489, '떳': 7490, '룹': 7491, '셜': 7492, '셰': 7493, '쌀': 7494, '엎': 7495, '젓': 7496, '핡': 7497, '쌔': 7498, '엥': 7499, '훨': 7500, '웬': 7501, '뭥': 7502, '쌤': 7503, '쵸': 7504, '헷': 7505, '힝': 7506, '꺅': 7507, '앳': 7508, '웁': 7509, '괘': 7510, '꼼': 7511, 'ᅣ': 7512, '찢': 7513, '맙': 7514, '○': 7515, '갤': 7516, '굵': 7517, '냅': 7518, '뤽': 7519, '솟': 7520, '쑈': 7521, '얕': 7522, '쟝': 7523, '홉': 7524, '꾀': 7525, '햐': 7526, '겜': 7527, '꽂': 7528, '붐': 7529, '셸': 7530, '갸': 7531, '놉': 7532, '뷁': 7533, '싯': 7534, '쪙': 7535, '킷': 7536, '팡': 7537, '깽': 7538, '눠': 7539, '퍽': 7540, '쌍': 7541, '둠': 7542, '텝': 7543, 'Q': 7544, '\\\\': 7545, '♬': 7546, '굼': 7547, '됀': 7548, '뺀': 7549, '뺐': 7550, '섰': 7551, '썽': 7552, '좁': 7553, '짚': 7554, '쳇': 7555, '촉': 7556, 'ᅧ': 7557, '돠': 7558, '냉': 7559, '끊': 7560, '뎈': 7561, '욯': 7562, '쨔': 7563, '롬': 7564, '밭': 7565, '웡': 7566, '윗': 7567, '윙': 7568, '짖': 7569, '짭': 7570, '킁': 7571, '딧': 7572, '읎': 7573, '탔': 7574, '휼': 7575, '볍': 7576, '뱃': 7577, '겅': 7578, '낱': 7579, '→': 7580, '늠': 7581, '덥': 7582, '뿅': 7583, '짬': 7584, '쳣': 7585, '괸': 7586, '뜰': 7587, '붓': 7588, '곸': 7589, '몹': 7590, '뽑': 7591, '[': 7592, '늑': 7593, '뭇': 7594, '$': 7595, '얔': 7596, '밈': 7597, '꺾': 7598, '넴': 7599, '빔': 7600, '빽': 7601, '씌': 7602, '얍': 7603, '퀼': 7604, '퉷': 7605, '댜': 7606, '슥': 7607, '푹': 7608, '헛': 7609, '걱': 7610, '첼': 7611, '퀘': 7612, '뛴': 7613, '샴': 7614, '욘': 7615, '큭': 7616, '’': 7617, '딥': 7618, '씽': 7619, '잰': 7620, '칵': 7621, '쿤': 7622, '쩐': 7623, '쨌': 7624, '힙': 7625, '헿': 7626, '뇬': 7627, '잴': 7628, '쫑': 7629, '횡': 7630, '눅': 7631, '룻': 7632, '좃': 7633, '텨': 7634, '풉': 7635, '훅': 7636, '겔': 7637, '촬': 7638, '붉': 7639, '쒸': 7640, '웹': 7641, '|': 7642, '핥': 7643, 'ᆪ': 7644, '“': 7645, '”': 7646, '떴': 7647, '멧': 7648, '뭍': 7649, '쏜': 7650, '욥': 7651, '챔': 7652, '퐁': 7653, '훤': 7654, '맬': 7655, '쒯': 7656, '끽': 7657, '잌': 7658, '곧': 7659, '첸': 7660, '곀': 7661, '꼐': 7662, '댔': 7663, '뵈': 7664, '뻗': 7665, '뿡': 7666, '숴': 7667, '툴': 7668, '팟': 7669, '♪': 7670, '꽈': 7671, '믓': 7672, '빰': 7673, '졷': 7674, '캣': 7675, '쿼': 7676, '팜': 7677, '융': 7678, '컹': 7679, '폄': 7680, '넝': 7681, '읭': 7682, '女': 7683, '뀨': 7684, '넉': 7685, '됏': 7686, '팰': 7687, '걔': 7688, '넥': 7689, '닛': 7690, '뿍': 7691, '웽': 7692, 'ᄈ': 7693, '死': 7694, '냠': 7695, '썹': 7696, '죵': 7697, '쨰': 7698, '콱': 7699, '쾅': 7700, '텍': 7701, '흣': 7702, '꿰': 7703, 'ᄡ': 7704, '밓': 7705, '짘': 7706, '찼': 7707, '뒈': 7708, '뤠': 7709, '멱': 7710, '作': 7711, '굽': 7712, '냔': 7713, '돔': 7714, '랖': 7715, '먀': 7716, '앰': 7717, '촤': 7718, '컸': 7719, '땜': 7720, '캉': 7721, '퀀': 7722, '꿍': 7723, '넛': 7724, '뤼': 7725, '벳': 7726, '샵': 7727, '왁': 7728, '졉': 7729, '찟': 7730, '챦': 7731, '펭': 7732, '}': 7733, '↑': 7734, '⌒': 7735, '盧': 7736, '넨': 7737, '볶': 7738, '뵙': 7739, '떵': 7740, '촐': 7741, '롸': 7742, '뽐': 7743, '뒷': 7744, '흫': 7745, '쿰': 7746, '혓': 7747, '갚': 7748, '렜': 7749, '륨': 7750, '뭄': 7751, '뮈': 7752, '샛': 7753, '옌': 7754, '캄': 7755, '컵': 7756, '햅': 7757, '휙': 7758, '{': 7759, '깅': 7760, '깟': 7761, '꺠': 7762, '놧': 7763, '뎃': 7764, '벵': 7765, '숑': 7766, '앟': 7767, '햏': 7768, '낍': 7769, '띨': 7770, '섀': 7771, '챈': 7772, '챠': 7773, '랗': 7774, '갘': 7775, '멌': 7776, '렙': 7777, '떙': 7778, '샨': 7779, '☞': 7780, '귯': 7781, '됄': 7782, '뒹': 7783, '딛': 7784, '셍': 7785, '숱': 7786, '쉿': 7787, '쎼': 7788, '읏': 7789, '잏': 7790, '졍': 7791, '쨉': 7792, '쭝': 7793, '킈': 7794, '팥': 7795, 'ᄄ': 7796, '有': 7797, '궤': 7798, '댁': 7799, '쎈': 7800, '쥴': 7801, '찹': 7802, '갉': 7803, '옄': 7804, '옼': 7805, '쫘': 7806, '굶': 7807, '뫼': 7808, '챘': 7809, '、': 7810, '옛': 7811, '겉': 7812, '킵': 7813, '봅': 7814, '컥': 7815, '랔': 7816, '끅': 7817, '뇽': 7818, '둣': 7819, '븅': 7820, '뺑': 7821, '윅': 7822, '쥰': 7823, '갯': 7824, '끙': 7825, '늪': 7826, '돗': 7827, '땃': 7828, '떔': 7829, '룽': 7830, '맄': 7831, '숏': 7832, '얗': 7833, '쩖': 7834, '쯩': 7835, '켁': 7836, '─': 7837, '갬': 7838, '好': 7839, '잦': 7840, '읔': 7841, 'し': 7842, 'ン': 7843, '슷': 7844, '킼': 7845, '퀵': 7846, '츈': 7847, '챤': 7848, '좇': 7849, '믈': 7850, '몆': 7851, '롹': 7852, '떽': 7853, '뉜': 7854, '꿇': 7855, '꼰': 7856, '껌': 7857, '텼': 7858, '촛': 7859, '쫀': 7860, '욀': 7861, '왘': 7862, '옅': 7863, '엊': 7864, '썪': 7865, '쌌': 7866, '쌉': 7867, '쉼': 7868, '숟': 7869, '냨': 7870, '故': 7871, '헥': 7872, '짴': 7873, '빴': 7874, '괭': 7875, '홥': 7876, '죨': 7877, '딪': 7878, '덱': 7879, '횟': 7880, '햌': 7881, '쮸': 7882, '줏': 7883, '앍': 7884, '뀜': 7885, '깼': 7886, '̄': 7887, '훑': 7888, '큽': 7889, '콥': 7890, '땟': 7891, '닠': 7892, '뀔': 7893, '휠': 7894, '츤': 7895, '쟤': 7896, '샐': 7897, '‘': 7898, '춥': 7899, '촘': 7900, '쁩': 7901, '뤘': 7902, '휩': 7903, '헠': 7904, '좔': 7905, '쁠': 7906, '뚤': 7907, '땔': 7908, '큘': 7909, '멎': 7910, '낰': 7911, '껑': 7912, '꺽': 7913, '긁': 7914, '헴': 7915, '쥔': 7916, '괞': 7917, '옜': 7918, '릎': 7919, '꿉': 7920, '픕': 7921, '얹': 7922, '쉘': 7923, '벡': 7924, '뮬': 7925, '꿋': 7926, '꽥': 7927, '낡': 7928, '핍': 7929, '탭': 7930, '쥑': 7931, '슌': 7932, '씻': 7933, '뺴': 7934, '녔': 7935, '깬': 7936, '펏': 7937, '켠': 7938, '얽': 7939, '쨋': 7940, '왼': 7941, '뱉': 7942, '뀐': 7943, '닳': 7944, '쫒': 7945, '뺨': 7946, '딨': 7947, '밟': 7948, '넓': 7949, '탤': 7950, '뭡': 7951, '앓': 7952, '샬': 7953, '샀': 7954, '쫓': 7955, '땠': 7956, '멤': 7957, '뤄': 7958, '썸': 7959, '푼': 7960, '쭈': 7961, '홧': 7962, '웍': 7963, '귄': 7964, '핸': 7965, '빕': 7966, '틋': 7967, '쫄': 7968, '웟': 7969, '팠': 7970, '펼': 7971, '낯': 7972, '얄': 7973, '콧': 7974, '쏟': 7975, '틸': 7976, '듭': 7977, '맡': 7978, '펙': 7979, '껐': 7980, '섞': 7981, '뻤': 7982, '왤': 7983, '튀': 7984, '퓨': 7985, '녹': 7986, '낳': 7987, '펐': 7988, '됩': 7989, '쁨': 7990, '씁': 7991, '굉': 7992, '쳤': 7993, '똑': 7994, '줬': 7995, '겼': 7996, '랐': 7997, '떻': 7998, '깊': 7999}\n"
     ]
    }
   ],
   "source": [
    "# sp_tokenize(s, corpus) 사용 예제\n",
    "\n",
    "s = spm.SentencePieceProcessor()\n",
    "s.Load('kor_spm_bpe_16k.model')  \n",
    "\n",
    "\n",
    "my_corpus = ['나는 밥을 먹었습니다.', '그러나 여전히 ㅠㅠ 배가 고픕니다...']\n",
    "tensor, word_index, index_word = sp_tokenize(s, my_corpus, 'kor_spm_bpe_16k')           \n",
    "print(tensor)\n",
    "print(word_index)\n",
    "print(index_word)"
   ]
  },
  {
   "cell_type": "markdown",
   "id": "1c304ba7",
   "metadata": {},
   "source": [
    "## 모델 학습"
   ]
  },
  {
   "cell_type": "code",
   "execution_count": 33,
   "id": "de8727ef",
   "metadata": {},
   "outputs": [],
   "source": [
    "tensor, word_index, index_word = sp_tokenize(s, train_data['document'], 'kor_spm_bpe_16k')"
   ]
  },
  {
   "cell_type": "code",
   "execution_count": 34,
   "id": "73905fd5",
   "metadata": {},
   "outputs": [],
   "source": [
    "from sklearn.model_selection import train_test_split\n",
    "\n",
    "filtered_label = np.array(train_data['label'])\n",
    "x_train, x_val, y_train, y_val = train_test_split(tensor, filtered_label,test_size =0.2 )\n",
    "x_train, x_test, y_train, y_test = train_test_split(x_train, y_train, test_size=0.2)"
   ]
  },
  {
   "cell_type": "code",
   "execution_count": 35,
   "id": "3afa548a",
   "metadata": {},
   "outputs": [
    {
     "name": "stdout",
     "output_type": "stream",
     "text": [
      "106496 26624 33281\n",
      "106496 26624 33281\n"
     ]
    }
   ],
   "source": [
    "print(len(x_train), len(x_test), len(x_val))\n",
    "print(len(y_train), len(y_test), len(y_val))"
   ]
  },
  {
   "cell_type": "code",
   "execution_count": 36,
   "id": "6cd21782",
   "metadata": {},
   "outputs": [
    {
     "name": "stdout",
     "output_type": "stream",
     "text": [
      "Model: \"sequential\"\n",
      "_________________________________________________________________\n",
      "Layer (type)                 Output Shape              Param #   \n",
      "=================================================================\n",
      "embedding (Embedding)        (None, None, 300)         2400000   \n",
      "_________________________________________________________________\n",
      "lstm (LSTM)                  (None, 128)               219648    \n",
      "_________________________________________________________________\n",
      "dense (Dense)                (None, 1)                 129       \n",
      "=================================================================\n",
      "Total params: 2,619,777\n",
      "Trainable params: 2,619,777\n",
      "Non-trainable params: 0\n",
      "_________________________________________________________________\n"
     ]
    }
   ],
   "source": [
    "import tensorflow as tf\n",
    "from tensorflow import keras\n",
    "from tensorflow.keras.initializers import Constant\n",
    "\n",
    "vocab_size = vocab_size\n",
    "word_vector_dim = 300  #얼만큼의 특징을 잡아서 분산표현을 할 것인지에 대한 고려\n",
    "\n",
    "model_LSTM = keras.Sequential()\n",
    "model_LSTM.add(keras.layers.Embedding(vocab_size, \n",
    "                                 word_vector_dim,\n",
    "                                    ))\n",
    "            \n",
    "model_LSTM.add(keras.layers.LSTM(128))\n",
    "# model_LSTM.add(keras.layers.Dense(128, activation='relu'))  \n",
    "model_LSTM.add(keras.layers.Dense(1, activation='sigmoid'))  # 최종 출력은 긍정/부정을 나타내는 1dim 입니다.\n",
    "\n",
    "model_LSTM.summary()"
   ]
  },
  {
   "cell_type": "code",
   "execution_count": 37,
   "id": "1a8b020f",
   "metadata": {},
   "outputs": [],
   "source": [
    "es = keras.callbacks.EarlyStopping(monitor='val_loss', mode='min', verbose=1, patience=4)\n",
    "mc = keras.callbacks.ModelCheckpoint('best_model.h5', monitor='val_acc', mode='max', verbose=1, save_best_only=True)"
   ]
  },
  {
   "cell_type": "code",
   "execution_count": 38,
   "id": "318b148e",
   "metadata": {
    "scrolled": true
   },
   "outputs": [
    {
     "name": "stdout",
     "output_type": "stream",
     "text": [
      "Epoch 1/20\n",
      "1664/1664 [==============================] - 420s 251ms/step - loss: 0.3879 - accuracy: 0.8229 - val_loss: 0.3352 - val_accuracy: 0.8502\n",
      "Epoch 2/20\n",
      "1664/1664 [==============================] - 415s 250ms/step - loss: 0.2954 - accuracy: 0.8720 - val_loss: 0.3287 - val_accuracy: 0.8575\n",
      "Epoch 3/20\n",
      "1664/1664 [==============================] - 411s 247ms/step - loss: 0.2489 - accuracy: 0.8931 - val_loss: 0.3405 - val_accuracy: 0.8552\n",
      "Epoch 4/20\n",
      "1664/1664 [==============================] - 412s 248ms/step - loss: 0.2013 - accuracy: 0.9159 - val_loss: 0.3815 - val_accuracy: 0.8493\n",
      "Epoch 5/20\n",
      "1664/1664 [==============================] - 410s 247ms/step - loss: 0.1516 - accuracy: 0.9387 - val_loss: 0.4430 - val_accuracy: 0.8452\n",
      "Epoch 6/20\n",
      "1664/1664 [==============================] - 410s 246ms/step - loss: 0.1043 - accuracy: 0.9597 - val_loss: 0.5802 - val_accuracy: 0.8381\n",
      "Epoch 00006: early stopping\n"
     ]
    }
   ],
   "source": [
    "model_LSTM.compile(optimizer='adam',\n",
    "              loss='binary_crossentropy',\n",
    "              metrics=['accuracy'])\n",
    "              \n",
    "epochs=20\n",
    "batch_size=64\n",
    "\n",
    "history_LSTM = model_LSTM.fit(x_train,\n",
    "                    y_train,\n",
    "                    epochs=epochs,\n",
    "                    batch_size=batch_size,\n",
    "                    validation_data=(x_val,y_val),\n",
    "                    callbacks=es,\n",
    "                    verbose=1)"
   ]
  },
  {
   "cell_type": "markdown",
   "id": "ac35a7b4",
   "metadata": {},
   "source": [
    "## 모델 평가"
   ]
  },
  {
   "cell_type": "code",
   "execution_count": 39,
   "id": "799f047d",
   "metadata": {},
   "outputs": [],
   "source": [
    "def performance_test_spm(spm_model, vocab_size, word_vector_dim):\n",
    "    s = spm.SentencePieceProcessor()\n",
    "    s.Load(\"{}.model\".format(spm_model)) \n",
    "    \n",
    "    tensor, word_index, index_word = sp_tokenize(s, train_data['document'], spm_model)\n",
    "    \n",
    "    x_train, x_val, y_train, y_val = train_test_split(tensor, filtered_label, test_size=0.2)\n",
    "    x_train, x_test, y_train, y_test = train_test_split(x_train, y_train, test_size=0.2)\n",
    "    \n",
    "\n",
    "    model_LSTM = keras.Sequential()\n",
    "    model_LSTM.add(keras.layers.Embedding(vocab_size, \n",
    "                                     word_vector_dim,\n",
    "                                        ))\n",
    "\n",
    "    model_LSTM.add(keras.layers.LSTM(128))\n",
    "    model_LSTM.add(keras.layers.Dense(1, activation='sigmoid'))  # 최종 출력은 긍정/부정을 나타내는 1dim 입니다.\n",
    "\n",
    "    model_LSTM.summary()\n",
    "    \n",
    "    model_LSTM.compile(optimizer='adam',\n",
    "              loss='binary_crossentropy',\n",
    "              metrics=['accuracy'])\n",
    "              \n",
    "    epochs=10\n",
    "    batch_size=64\n",
    "\n",
    "    \n",
    "    history_LSTM = model_LSTM.fit(x_train,\n",
    "                        y_train,\n",
    "                        epochs=epochs,\n",
    "                        batch_size=batch_size,\n",
    "                        validation_data=(x_val,y_val),\n",
    "                        callbacks=[es],\n",
    "                        verbose=1)\n",
    "    \n",
    "    results = model_LSTM.evaluate(x_test,  y_test, verbose=2)\n",
    "    print(results)\n",
    "    \n",
    "    return history_LSTM"
   ]
  },
  {
   "cell_type": "code",
   "execution_count": 40,
   "id": "f4549e51",
   "metadata": {},
   "outputs": [
    {
     "name": "stdout",
     "output_type": "stream",
     "text": [
      "Model: \"sequential_1\"\n",
      "_________________________________________________________________\n",
      "Layer (type)                 Output Shape              Param #   \n",
      "=================================================================\n",
      "embedding_1 (Embedding)      (None, None, 8)           64000     \n",
      "_________________________________________________________________\n",
      "lstm_1 (LSTM)                (None, 128)               70144     \n",
      "_________________________________________________________________\n",
      "dense_1 (Dense)              (None, 1)                 129       \n",
      "=================================================================\n",
      "Total params: 134,273\n",
      "Trainable params: 134,273\n",
      "Non-trainable params: 0\n",
      "_________________________________________________________________\n",
      "Epoch 1/10\n",
      "1664/1664 [==============================] - 197s 118ms/step - loss: 0.4209 - accuracy: 0.8028 - val_loss: 0.3617 - val_accuracy: 0.8412\n",
      "Epoch 2/10\n",
      "1664/1664 [==============================] - 196s 118ms/step - loss: 0.3312 - accuracy: 0.8569 - val_loss: 0.3527 - val_accuracy: 0.8451\n",
      "Epoch 3/10\n",
      "1664/1664 [==============================] - 197s 119ms/step - loss: 0.3080 - accuracy: 0.8676 - val_loss: 0.3469 - val_accuracy: 0.8471\n",
      "Epoch 4/10\n",
      "1664/1664 [==============================] - 197s 118ms/step - loss: 0.2831 - accuracy: 0.8794 - val_loss: 0.3543 - val_accuracy: 0.8498\n",
      "Epoch 5/10\n",
      "1664/1664 [==============================] - 197s 118ms/step - loss: 0.2596 - accuracy: 0.8907 - val_loss: 0.3576 - val_accuracy: 0.8486\n",
      "Epoch 6/10\n",
      "1664/1664 [==============================] - 197s 119ms/step - loss: 0.2387 - accuracy: 0.8993 - val_loss: 0.3574 - val_accuracy: 0.8474\n",
      "Epoch 7/10\n",
      "1664/1664 [==============================] - 196s 118ms/step - loss: 0.2176 - accuracy: 0.9096 - val_loss: 0.3736 - val_accuracy: 0.8398\n",
      "Epoch 00007: early stopping\n",
      "832/832 - 23s - loss: 0.3773 - accuracy: 0.8381\n",
      "[0.37733572721481323, 0.8381159901618958]\n",
      "Model: \"sequential_2\"\n",
      "_________________________________________________________________\n",
      "Layer (type)                 Output Shape              Param #   \n",
      "=================================================================\n",
      "embedding_2 (Embedding)      (None, None, 64)          512000    \n",
      "_________________________________________________________________\n",
      "lstm_2 (LSTM)                (None, 128)               98816     \n",
      "_________________________________________________________________\n",
      "dense_2 (Dense)              (None, 1)                 129       \n",
      "=================================================================\n",
      "Total params: 610,945\n",
      "Trainable params: 610,945\n",
      "Non-trainable params: 0\n",
      "_________________________________________________________________\n",
      "Epoch 1/10\n",
      "1664/1664 [==============================] - 249s 149ms/step - loss: 0.3976 - accuracy: 0.8183 - val_loss: 0.3483 - val_accuracy: 0.8468\n",
      "Epoch 2/10\n",
      "1664/1664 [==============================] - 247s 148ms/step - loss: 0.3120 - accuracy: 0.8645 - val_loss: 0.3309 - val_accuracy: 0.8525\n",
      "Epoch 3/10\n",
      "1664/1664 [==============================] - 245s 147ms/step - loss: 0.2743 - accuracy: 0.8816 - val_loss: 0.3379 - val_accuracy: 0.8516\n",
      "Epoch 4/10\n",
      "1664/1664 [==============================] - 247s 149ms/step - loss: 0.2409 - accuracy: 0.8973 - val_loss: 0.3607 - val_accuracy: 0.8517\n",
      "Epoch 5/10\n",
      "1664/1664 [==============================] - 246s 148ms/step - loss: 0.2087 - accuracy: 0.9119 - val_loss: 0.3857 - val_accuracy: 0.8436\n",
      "Epoch 6/10\n",
      "1664/1664 [==============================] - 247s 149ms/step - loss: 0.1755 - accuracy: 0.9276 - val_loss: 0.4290 - val_accuracy: 0.8426\n",
      "Epoch 00006: early stopping\n",
      "832/832 - 25s - loss: 0.4420 - accuracy: 0.8401\n",
      "[0.44198229908943176, 0.8400691151618958]\n"
     ]
    }
   ],
   "source": [
    "history_kor_spm_bpe_16k_dim_8 = performance_test_spm('kor_spm_bpe_16k', vocab_size, word_vector_dim=8)\n",
    "history_kor_spm_bpe_16k_dim_64 = performance_test_spm('kor_spm_bpe_16k', vocab_size, word_vector_dim=64)"
   ]
  },
  {
   "cell_type": "markdown",
   "id": "3d0182c1",
   "metadata": {},
   "source": [
    "## Report\n",
    "\n",
    "1) Embedding layer - word_Vector parameter 조정\n",
    "\n",
    "- 임베딩레이어에서 word_vector차원을  8차원, 64차원, 300차원을 임의로 지정하여 표현해봄. \n",
    "\n",
    "- 결과적으로 아래의 결과를 얻게 되어 300차원으로 워드벡터를 입력했을 때 파라미터가 늘어나도 정확도가 더 커져있음을 확인함.\n",
    " \n",
    " 8차원 - loss: 0.2176 - accuracy: 0.9096 (parameter 64000)\n",
    " 64차원 -  loss: 0.1755 - accuracy: 0.9276(parameter 512000)\n",
    " 300차원 - loss: 0.1043 - accuracy: 0.9597 (parameter 2400000)\n",
    "\n",
    "- sentencepiece를 사용하는 방법을 익힘. unigram 모델과 bpe를 사용해보았을 때 bpe이 좀 더 잘 인식한다고 판단하여 사용함.(kor_spm_bpe_16k)\n",
    "\n",
    "\n",
    "2) Setencepiece unigram 모델과 bpe모델 비교\n",
    "\n",
    "- \"오전에 아버지가 편찮으셔서 비오는 날에 약국에 갔어\"라는 문장에서 unigram_8k와 bpe 16k 그나마 원하는 결과에 가깝게 표현됨.\n",
    "\n",
    "kor_spm_unigram_8k\n",
    "[198, 2265, 1653, 9, 1512, 3958, 372, 5201, 302, 1825, 608, 16, 1118, 431, 16, 3796, 34, 4]\n",
    "['▁오', '전에', '▁아버지', '가', '▁편', '찮', '으', '셔서', '▁비', '오는', '▁날', '에', '▁약', '국', '에', '▁갔', '어', '..']\n",
    "\n",
    "\n",
    "kor_spm_bpe_8k\n",
    "[74, 630, 6043, 990, 608, 6539, 6312, 4035, 121, 1973, 754, 6257, 561, 6388, 6257, 2088, 6262, 6244]\n",
    "['▁오', '전에', '▁아버', '지가', '▁편', '찮', '으', '셔서', '▁비', '오는', '▁날', '에', '▁약', '국', '에', '▁갔', '어', '..']\n",
    "\n",
    "kor_spm_bpe_16k\n",
    "[198, 2265, 1653, 9, 1512, 3958, 372, 5201, 302, 1825, 608, 16, 1118, 431, 16, 3796, 34, 4]\n",
    "['▁오', '전에', '▁아버지', '가', '▁편', '찮', '으', '셔서', '▁비', '오는', '▁날', '에', '▁약', '국', '에', '▁갔', '어', '..']\n",
    "\n",
    "\n",
    "\n",
    "- \"영화 존잼 한번더 볼꺼임\"라는 문장에서는 kor_spm_bpe_8k 모델이 원하는 결과에 가깝게 표현함.\n",
    "\n",
    "kor_spm_unigram_8k\n",
    "[6, 6560, 5609, 184, 659, 109, 5]\n",
    "['▁영화', '▁존잼', '▁한번더', '▁볼', '꺼', '임', '..']\n",
    "\n",
    "kor_spm_bpe_8k\n",
    "[5, 337, 6421, 5428, 88, 6718, 6401, 3]\n",
    "['▁영화', '▁존', '잼', '▁한번더', '▁볼', '꺼', '임', '..']\n",
    "\n",
    "kor_spm_bpe_16k\n",
    "[6, 6560, 5609, 184, 659, 109, 5]\n",
    "['▁영화', '▁존잼', '▁한번더', '▁볼', '꺼', '임', '..']\n",
    "\n",
    "\n"
   ]
  },
  {
   "cell_type": "markdown",
   "id": "84ebeeff",
   "metadata": {},
   "source": [
    "## References\n",
    "\n",
    "- https://lsjsj92.tistory.com/600\n",
    "- https://paul-hyun.github.io/vocab-with-sentencepiece/\n",
    "- https://github.com/miinkang/AI_Project_AIFFEL/blob/main/%5BGD-02%5DSentencePiece.ipynb"
   ]
  }
 ],
 "metadata": {
  "kernelspec": {
   "display_name": "Python 3 (ipykernel)",
   "language": "python",
   "name": "python3"
  },
  "language_info": {
   "codemirror_mode": {
    "name": "ipython",
    "version": 3
   },
   "file_extension": ".py",
   "mimetype": "text/x-python",
   "name": "python",
   "nbconvert_exporter": "python",
   "pygments_lexer": "ipython3",
   "version": "3.9.7"
  }
 },
 "nbformat": 4,
 "nbformat_minor": 5
}
